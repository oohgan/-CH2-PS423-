{
  "nbformat": 4,
  "nbformat_minor": 0,
  "metadata": {
    "colab": {
      "provenance": [],
      "gpuType": "T4"
    },
    "kernelspec": {
      "name": "python3",
      "display_name": "Python 3"
    },
    "language_info": {
      "name": "python"
    },
    "accelerator": "GPU"
  },
  "cells": [
    {
      "cell_type": "code",
      "execution_count": 1,
      "metadata": {
        "id": "9UoNwXjMtJ15"
      },
      "outputs": [],
      "source": [
        "import json\n",
        "import string\n",
        "import random\n",
        "import numpy as np\n",
        "import pandas as pd\n",
        "import tensorflow as tf\n",
        "import matplotlib.pyplot as plt"
      ]
    },
    {
      "cell_type": "code",
      "source": [
        "from tensorflow.keras.models import Model\n",
        "from tensorflow.keras.utils import plot_model\n",
        "from sklearn.preprocessing import LabelEncoder\n",
        "from tensorflow.keras.preprocessing.text import Tokenizer\n",
        "from tensorflow.keras.preprocessing.sequence import pad_sequences"
      ],
      "metadata": {
        "id": "0gSyTq6fBs0v"
      },
      "execution_count": 2,
      "outputs": []
    },
    {
      "cell_type": "code",
      "source": [
        "with open('/content/Mental Health Conversational.json', 'r') as content:\n",
        "  chatbot = json.load(content)\n",
        "data = pd.DataFrame(chatbot['intents'])"
      ],
      "metadata": {
        "id": "2mHdDoN2zhiK"
      },
      "execution_count": 3,
      "outputs": []
    },
    {
      "cell_type": "code",
      "source": [
        "dictionary = {\"tag\":[], \"patterns\":[], \"responses\":[]}\n",
        "for i in range (len(data)):\n",
        "  pattern = data[data.index==i]['patterns'].values[0]\n",
        "  response = data[data.index==i]['responses'].values[0]\n",
        "  tag = data[data.index==i]['tag'].values[0]\n",
        "  for j in range (len(pattern)):\n",
        "    dictionary['tag'].append(tag)\n",
        "    dictionary['patterns'].append(pattern[j])\n",
        "    dictionary['responses'].append(response)\n",
        "data = pd.DataFrame.from_dict(dictionary)\n",
        "data"
      ],
      "metadata": {
        "id": "DePlw14BxZ55",
        "colab": {
          "base_uri": "https://localhost:8080/",
          "height": 423
        },
        "outputId": "55c07105-f803-4ea4-d02c-e61388097f5a"
      },
      "execution_count": 4,
      "outputs": [
        {
          "output_type": "execute_result",
          "data": {
            "text/plain": [
              "          tag                                           patterns  \\\n",
              "0    greeting                                                Hai   \n",
              "1    greeting                                               Halo   \n",
              "2    greeting                                     Hai apa kabar?   \n",
              "3    greeting                                  Hai, yang di sana   \n",
              "4    greeting                                               Halo   \n",
              "..        ...                                                ...   \n",
              "226   fact_29        Bagaimana saya tahu kalau saya tidak sehat?   \n",
              "227   fact_30  Bagaimana saya bisa menjaga hubungan sosial? B...   \n",
              "228   fact_31          Apa perbedaan antara kecemasan dan stres?   \n",
              "229   fact_32        Apa perbedaan antara kesedihan dan depresi?   \n",
              "230   fact_32             Perbedaan antara kesedihan dan depresi   \n",
              "\n",
              "                                             responses  \n",
              "0    [Halo! Selamat bertemu denganmu. Bagaimana kab...  \n",
              "1    [Halo! Selamat bertemu denganmu. Bagaimana kab...  \n",
              "2    [Halo! Selamat bertemu denganmu. Bagaimana kab...  \n",
              "3    [Halo! Selamat bertemu denganmu. Bagaimana kab...  \n",
              "4    [Halo! Selamat bertemu denganmu. Bagaimana kab...  \n",
              "..                                                 ...  \n",
              "226  [Jika keyakinan, pikiran, perasaan, atau peril...  \n",
              "227  [Banyak orang yang sendirian saat ini, tapi ki...  \n",
              "228  [Stres dan kecemasan sering digunakan secara b...  \n",
              "229  [Kesedihan merupakan reaksi normal terhadap ke...  \n",
              "230  [Kesedihan merupakan reaksi normal terhadap ke...  \n",
              "\n",
              "[231 rows x 3 columns]"
            ],
            "text/html": [
              "\n",
              "  <div id=\"df-2d97281f-8ce3-4bcd-bcef-e3c727b3697a\" class=\"colab-df-container\">\n",
              "    <div>\n",
              "<style scoped>\n",
              "    .dataframe tbody tr th:only-of-type {\n",
              "        vertical-align: middle;\n",
              "    }\n",
              "\n",
              "    .dataframe tbody tr th {\n",
              "        vertical-align: top;\n",
              "    }\n",
              "\n",
              "    .dataframe thead th {\n",
              "        text-align: right;\n",
              "    }\n",
              "</style>\n",
              "<table border=\"1\" class=\"dataframe\">\n",
              "  <thead>\n",
              "    <tr style=\"text-align: right;\">\n",
              "      <th></th>\n",
              "      <th>tag</th>\n",
              "      <th>patterns</th>\n",
              "      <th>responses</th>\n",
              "    </tr>\n",
              "  </thead>\n",
              "  <tbody>\n",
              "    <tr>\n",
              "      <th>0</th>\n",
              "      <td>greeting</td>\n",
              "      <td>Hai</td>\n",
              "      <td>[Halo! Selamat bertemu denganmu. Bagaimana kab...</td>\n",
              "    </tr>\n",
              "    <tr>\n",
              "      <th>1</th>\n",
              "      <td>greeting</td>\n",
              "      <td>Halo</td>\n",
              "      <td>[Halo! Selamat bertemu denganmu. Bagaimana kab...</td>\n",
              "    </tr>\n",
              "    <tr>\n",
              "      <th>2</th>\n",
              "      <td>greeting</td>\n",
              "      <td>Hai apa kabar?</td>\n",
              "      <td>[Halo! Selamat bertemu denganmu. Bagaimana kab...</td>\n",
              "    </tr>\n",
              "    <tr>\n",
              "      <th>3</th>\n",
              "      <td>greeting</td>\n",
              "      <td>Hai, yang di sana</td>\n",
              "      <td>[Halo! Selamat bertemu denganmu. Bagaimana kab...</td>\n",
              "    </tr>\n",
              "    <tr>\n",
              "      <th>4</th>\n",
              "      <td>greeting</td>\n",
              "      <td>Halo</td>\n",
              "      <td>[Halo! Selamat bertemu denganmu. Bagaimana kab...</td>\n",
              "    </tr>\n",
              "    <tr>\n",
              "      <th>...</th>\n",
              "      <td>...</td>\n",
              "      <td>...</td>\n",
              "      <td>...</td>\n",
              "    </tr>\n",
              "    <tr>\n",
              "      <th>226</th>\n",
              "      <td>fact_29</td>\n",
              "      <td>Bagaimana saya tahu kalau saya tidak sehat?</td>\n",
              "      <td>[Jika keyakinan, pikiran, perasaan, atau peril...</td>\n",
              "    </tr>\n",
              "    <tr>\n",
              "      <th>227</th>\n",
              "      <td>fact_30</td>\n",
              "      <td>Bagaimana saya bisa menjaga hubungan sosial? B...</td>\n",
              "      <td>[Banyak orang yang sendirian saat ini, tapi ki...</td>\n",
              "    </tr>\n",
              "    <tr>\n",
              "      <th>228</th>\n",
              "      <td>fact_31</td>\n",
              "      <td>Apa perbedaan antara kecemasan dan stres?</td>\n",
              "      <td>[Stres dan kecemasan sering digunakan secara b...</td>\n",
              "    </tr>\n",
              "    <tr>\n",
              "      <th>229</th>\n",
              "      <td>fact_32</td>\n",
              "      <td>Apa perbedaan antara kesedihan dan depresi?</td>\n",
              "      <td>[Kesedihan merupakan reaksi normal terhadap ke...</td>\n",
              "    </tr>\n",
              "    <tr>\n",
              "      <th>230</th>\n",
              "      <td>fact_32</td>\n",
              "      <td>Perbedaan antara kesedihan dan depresi</td>\n",
              "      <td>[Kesedihan merupakan reaksi normal terhadap ke...</td>\n",
              "    </tr>\n",
              "  </tbody>\n",
              "</table>\n",
              "<p>231 rows × 3 columns</p>\n",
              "</div>\n",
              "    <div class=\"colab-df-buttons\">\n",
              "\n",
              "  <div class=\"colab-df-container\">\n",
              "    <button class=\"colab-df-convert\" onclick=\"convertToInteractive('df-2d97281f-8ce3-4bcd-bcef-e3c727b3697a')\"\n",
              "            title=\"Convert this dataframe to an interactive table.\"\n",
              "            style=\"display:none;\">\n",
              "\n",
              "  <svg xmlns=\"http://www.w3.org/2000/svg\" height=\"24px\" viewBox=\"0 -960 960 960\">\n",
              "    <path d=\"M120-120v-720h720v720H120Zm60-500h600v-160H180v160Zm220 220h160v-160H400v160Zm0 220h160v-160H400v160ZM180-400h160v-160H180v160Zm440 0h160v-160H620v160ZM180-180h160v-160H180v160Zm440 0h160v-160H620v160Z\"/>\n",
              "  </svg>\n",
              "    </button>\n",
              "\n",
              "  <style>\n",
              "    .colab-df-container {\n",
              "      display:flex;\n",
              "      gap: 12px;\n",
              "    }\n",
              "\n",
              "    .colab-df-convert {\n",
              "      background-color: #E8F0FE;\n",
              "      border: none;\n",
              "      border-radius: 50%;\n",
              "      cursor: pointer;\n",
              "      display: none;\n",
              "      fill: #1967D2;\n",
              "      height: 32px;\n",
              "      padding: 0 0 0 0;\n",
              "      width: 32px;\n",
              "    }\n",
              "\n",
              "    .colab-df-convert:hover {\n",
              "      background-color: #E2EBFA;\n",
              "      box-shadow: 0px 1px 2px rgba(60, 64, 67, 0.3), 0px 1px 3px 1px rgba(60, 64, 67, 0.15);\n",
              "      fill: #174EA6;\n",
              "    }\n",
              "\n",
              "    .colab-df-buttons div {\n",
              "      margin-bottom: 4px;\n",
              "    }\n",
              "\n",
              "    [theme=dark] .colab-df-convert {\n",
              "      background-color: #3B4455;\n",
              "      fill: #D2E3FC;\n",
              "    }\n",
              "\n",
              "    [theme=dark] .colab-df-convert:hover {\n",
              "      background-color: #434B5C;\n",
              "      box-shadow: 0px 1px 3px 1px rgba(0, 0, 0, 0.15);\n",
              "      filter: drop-shadow(0px 1px 2px rgba(0, 0, 0, 0.3));\n",
              "      fill: #FFFFFF;\n",
              "    }\n",
              "  </style>\n",
              "\n",
              "    <script>\n",
              "      const buttonEl =\n",
              "        document.querySelector('#df-2d97281f-8ce3-4bcd-bcef-e3c727b3697a button.colab-df-convert');\n",
              "      buttonEl.style.display =\n",
              "        google.colab.kernel.accessAllowed ? 'block' : 'none';\n",
              "\n",
              "      async function convertToInteractive(key) {\n",
              "        const element = document.querySelector('#df-2d97281f-8ce3-4bcd-bcef-e3c727b3697a');\n",
              "        const dataTable =\n",
              "          await google.colab.kernel.invokeFunction('convertToInteractive',\n",
              "                                                    [key], {});\n",
              "        if (!dataTable) return;\n",
              "\n",
              "        const docLinkHtml = 'Like what you see? Visit the ' +\n",
              "          '<a target=\"_blank\" href=https://colab.research.google.com/notebooks/data_table.ipynb>data table notebook</a>'\n",
              "          + ' to learn more about interactive tables.';\n",
              "        element.innerHTML = '';\n",
              "        dataTable['output_type'] = 'display_data';\n",
              "        await google.colab.output.renderOutput(dataTable, element);\n",
              "        const docLink = document.createElement('div');\n",
              "        docLink.innerHTML = docLinkHtml;\n",
              "        element.appendChild(docLink);\n",
              "      }\n",
              "    </script>\n",
              "  </div>\n",
              "\n",
              "\n",
              "<div id=\"df-f3c3b067-8a62-4e06-831a-8120fa9e75d1\">\n",
              "  <button class=\"colab-df-quickchart\" onclick=\"quickchart('df-f3c3b067-8a62-4e06-831a-8120fa9e75d1')\"\n",
              "            title=\"Suggest charts\"\n",
              "            style=\"display:none;\">\n",
              "\n",
              "<svg xmlns=\"http://www.w3.org/2000/svg\" height=\"24px\"viewBox=\"0 0 24 24\"\n",
              "     width=\"24px\">\n",
              "    <g>\n",
              "        <path d=\"M19 3H5c-1.1 0-2 .9-2 2v14c0 1.1.9 2 2 2h14c1.1 0 2-.9 2-2V5c0-1.1-.9-2-2-2zM9 17H7v-7h2v7zm4 0h-2V7h2v10zm4 0h-2v-4h2v4z\"/>\n",
              "    </g>\n",
              "</svg>\n",
              "  </button>\n",
              "\n",
              "<style>\n",
              "  .colab-df-quickchart {\n",
              "      --bg-color: #E8F0FE;\n",
              "      --fill-color: #1967D2;\n",
              "      --hover-bg-color: #E2EBFA;\n",
              "      --hover-fill-color: #174EA6;\n",
              "      --disabled-fill-color: #AAA;\n",
              "      --disabled-bg-color: #DDD;\n",
              "  }\n",
              "\n",
              "  [theme=dark] .colab-df-quickchart {\n",
              "      --bg-color: #3B4455;\n",
              "      --fill-color: #D2E3FC;\n",
              "      --hover-bg-color: #434B5C;\n",
              "      --hover-fill-color: #FFFFFF;\n",
              "      --disabled-bg-color: #3B4455;\n",
              "      --disabled-fill-color: #666;\n",
              "  }\n",
              "\n",
              "  .colab-df-quickchart {\n",
              "    background-color: var(--bg-color);\n",
              "    border: none;\n",
              "    border-radius: 50%;\n",
              "    cursor: pointer;\n",
              "    display: none;\n",
              "    fill: var(--fill-color);\n",
              "    height: 32px;\n",
              "    padding: 0;\n",
              "    width: 32px;\n",
              "  }\n",
              "\n",
              "  .colab-df-quickchart:hover {\n",
              "    background-color: var(--hover-bg-color);\n",
              "    box-shadow: 0 1px 2px rgba(60, 64, 67, 0.3), 0 1px 3px 1px rgba(60, 64, 67, 0.15);\n",
              "    fill: var(--button-hover-fill-color);\n",
              "  }\n",
              "\n",
              "  .colab-df-quickchart-complete:disabled,\n",
              "  .colab-df-quickchart-complete:disabled:hover {\n",
              "    background-color: var(--disabled-bg-color);\n",
              "    fill: var(--disabled-fill-color);\n",
              "    box-shadow: none;\n",
              "  }\n",
              "\n",
              "  .colab-df-spinner {\n",
              "    border: 2px solid var(--fill-color);\n",
              "    border-color: transparent;\n",
              "    border-bottom-color: var(--fill-color);\n",
              "    animation:\n",
              "      spin 1s steps(1) infinite;\n",
              "  }\n",
              "\n",
              "  @keyframes spin {\n",
              "    0% {\n",
              "      border-color: transparent;\n",
              "      border-bottom-color: var(--fill-color);\n",
              "      border-left-color: var(--fill-color);\n",
              "    }\n",
              "    20% {\n",
              "      border-color: transparent;\n",
              "      border-left-color: var(--fill-color);\n",
              "      border-top-color: var(--fill-color);\n",
              "    }\n",
              "    30% {\n",
              "      border-color: transparent;\n",
              "      border-left-color: var(--fill-color);\n",
              "      border-top-color: var(--fill-color);\n",
              "      border-right-color: var(--fill-color);\n",
              "    }\n",
              "    40% {\n",
              "      border-color: transparent;\n",
              "      border-right-color: var(--fill-color);\n",
              "      border-top-color: var(--fill-color);\n",
              "    }\n",
              "    60% {\n",
              "      border-color: transparent;\n",
              "      border-right-color: var(--fill-color);\n",
              "    }\n",
              "    80% {\n",
              "      border-color: transparent;\n",
              "      border-right-color: var(--fill-color);\n",
              "      border-bottom-color: var(--fill-color);\n",
              "    }\n",
              "    90% {\n",
              "      border-color: transparent;\n",
              "      border-bottom-color: var(--fill-color);\n",
              "    }\n",
              "  }\n",
              "</style>\n",
              "\n",
              "  <script>\n",
              "    async function quickchart(key) {\n",
              "      const quickchartButtonEl =\n",
              "        document.querySelector('#' + key + ' button');\n",
              "      quickchartButtonEl.disabled = true;  // To prevent multiple clicks.\n",
              "      quickchartButtonEl.classList.add('colab-df-spinner');\n",
              "      try {\n",
              "        const charts = await google.colab.kernel.invokeFunction(\n",
              "            'suggestCharts', [key], {});\n",
              "      } catch (error) {\n",
              "        console.error('Error during call to suggestCharts:', error);\n",
              "      }\n",
              "      quickchartButtonEl.classList.remove('colab-df-spinner');\n",
              "      quickchartButtonEl.classList.add('colab-df-quickchart-complete');\n",
              "    }\n",
              "    (() => {\n",
              "      let quickchartButtonEl =\n",
              "        document.querySelector('#df-f3c3b067-8a62-4e06-831a-8120fa9e75d1 button');\n",
              "      quickchartButtonEl.style.display =\n",
              "        google.colab.kernel.accessAllowed ? 'block' : 'none';\n",
              "    })();\n",
              "  </script>\n",
              "</div>\n",
              "    </div>\n",
              "  </div>\n"
            ]
          },
          "metadata": {},
          "execution_count": 4
        }
      ]
    },
    {
      "cell_type": "code",
      "source": [
        "data['tag'].unique()"
      ],
      "metadata": {
        "colab": {
          "base_uri": "https://localhost:8080/"
        },
        "id": "gf3hpV5HIU_I",
        "outputId": "c1651ca0-2e02-4de4-881b-322466be3e41"
      },
      "execution_count": 5,
      "outputs": [
        {
          "output_type": "execute_result",
          "data": {
            "text/plain": [
              "array(['greeting', 'morning', 'afternoon', 'evening', 'night', 'goodbye',\n",
              "       'thanks', 'about', 'skill', 'creation', 'help', 'sad', 'stressed',\n",
              "       'worthless', 'depressed', 'happy', 'casual', 'anxious',\n",
              "       'not-talking', 'sleep', 'scared', 'death', 'understand', 'done',\n",
              "       'suicide', 'hate-you', 'hate-me', 'default', 'jokes', 'repeat',\n",
              "       'wrong', 'stupid', 'location', 'something-else', 'ask', 'problem',\n",
              "       'no-approach', 'learn-more', 'user-agree', 'meditation',\n",
              "       'user_meditation', 'hugu_useful', 'user-advice',\n",
              "       'learn_mental_health', 'mental_health_fact', 'fact_1', 'fact_2',\n",
              "       'fact_3', 'fact_4', 'fact_5', 'fact_6', 'fact_7', 'fact_8',\n",
              "       'fact_9', 'fact_10', 'fact_11', 'fact_12', 'fact_13', 'fact_14',\n",
              "       'fact_15', 'fact_16', 'fact_17', 'fact_18', 'fact_19', 'fact_20',\n",
              "       'fact_21', 'fact_22', 'fact_23', 'fact_24', 'fact_25', 'fact_26',\n",
              "       'fact_27', 'fact_28', 'fact_29', 'fact_30', 'fact_31', 'fact_32'],\n",
              "      dtype=object)"
            ]
          },
          "metadata": {},
          "execution_count": 5
        }
      ]
    },
    {
      "cell_type": "code",
      "source": [
        "tokenizer = Tokenizer(lower=True, split=' ', oov_token='<OOV>')\n",
        "tokenizer.fit_on_texts(data['patterns'])\n",
        "tokenizer.get_config()\n",
        "\n",
        "vocab = len(tokenizer.word_index)\n",
        "print(\"Unique word : \",vocab)\n",
        "\n",
        "pattern_train = tokenizer.texts_to_sequences(data['patterns'])\n",
        "x_train = pad_sequences(pattern_train, padding=\"post\")\n",
        "print(\"Input shape : \", x_train.shape)\n",
        "\n",
        "print()\n",
        "label_encode = LabelEncoder()\n",
        "y_train = label_encode.fit_transform(data['tag'])\n",
        "print(\"Label shape : \", y_train.shape)\n",
        "print(\"Output length : \", len(np.unique(y_train)))"
      ],
      "metadata": {
        "colab": {
          "base_uri": "https://localhost:8080/"
        },
        "id": "G5gXiaR4bQGH",
        "outputId": "055e156f-9779-4932-ce1e-f6d07fe8d7bf"
      },
      "execution_count": 6,
      "outputs": [
        {
          "output_type": "stream",
          "name": "stdout",
          "text": [
            "Unique word :  289\n",
            "Input shape :  (231, 18)\n",
            "\n",
            "Label shape :  (231,)\n",
            "Output length :  77\n"
          ]
        }
      ]
    },
    {
      "cell_type": "code",
      "source": [
        "!wget https://nlp.stanford.edu/data/glove.6B.zip\n",
        "!unzip glove.6B.zip"
      ],
      "metadata": {
        "colab": {
          "base_uri": "https://localhost:8080/"
        },
        "id": "s1aw9H3BOYD4",
        "outputId": "bc59501d-c36d-418e-ae61-a5b3a7dfc9bf"
      },
      "execution_count": 7,
      "outputs": [
        {
          "output_type": "stream",
          "name": "stdout",
          "text": [
            "--2023-12-07 08:38:41--  https://nlp.stanford.edu/data/glove.6B.zip\n",
            "Resolving nlp.stanford.edu (nlp.stanford.edu)... 171.64.67.140\n",
            "Connecting to nlp.stanford.edu (nlp.stanford.edu)|171.64.67.140|:443... connected.\n",
            "HTTP request sent, awaiting response... 301 Moved Permanently\n",
            "Location: https://downloads.cs.stanford.edu/nlp/data/glove.6B.zip [following]\n",
            "--2023-12-07 08:38:42--  https://downloads.cs.stanford.edu/nlp/data/glove.6B.zip\n",
            "Resolving downloads.cs.stanford.edu (downloads.cs.stanford.edu)... 171.64.64.22\n",
            "Connecting to downloads.cs.stanford.edu (downloads.cs.stanford.edu)|171.64.64.22|:443... connected.\n",
            "HTTP request sent, awaiting response... 200 OK\n",
            "Length: 862182613 (822M) [application/zip]\n",
            "Saving to: ‘glove.6B.zip.1’\n",
            "\n",
            "glove.6B.zip.1       55%[==========>         ] 452.32M  4.91MB/s    eta 73s    ^C\n",
            "Archive:  glove.6B.zip\n",
            "replace glove.6B.50d.txt? [y]es, [n]o, [A]ll, [N]one, [r]ename: "
          ]
        }
      ]
    },
    {
      "cell_type": "code",
      "source": [
        "glove_dir = \"/content/glove.6B.100d.txt\"\n",
        "embeddings_index = {}\n",
        "file_ = open(glove_dir, encoding='utf8')\n",
        "for line in file_:\n",
        "  arr = line.split()\n",
        "  single_word = arr[0]\n",
        "  w = np.asarray(arr[1:],dtype='float32')\n",
        "  embeddings_index[single_word] = w\n",
        "file_.close()\n",
        "print(len(embeddings_index))"
      ],
      "metadata": {
        "colab": {
          "base_uri": "https://localhost:8080/"
        },
        "id": "ultUUZnCTiB9",
        "outputId": "103218a8-28d3-43d8-ccba-eaec51b1256a"
      },
      "execution_count": 8,
      "outputs": [
        {
          "output_type": "stream",
          "name": "stdout",
          "text": [
            "400000\n"
          ]
        }
      ]
    },
    {
      "cell_type": "code",
      "source": [
        "max = vocab + 1\n",
        "word_index =tokenizer.word_index\n",
        "embedding_mat = np.zeros((max, 100)).astype(object)\n",
        "for word, i in word_index.items():\n",
        "  embedding_vector = embeddings_index.get(word)\n",
        "  if embedding_vector is not None:\n",
        "    embedding_mat[i] = embedding_vector"
      ],
      "metadata": {
        "id": "QCKdsTHpVQLB"
      },
      "execution_count": 9,
      "outputs": []
    },
    {
      "cell_type": "code",
      "source": [
        "model = tf.keras.Sequential([\n",
        "    tf.keras.layers.Embedding(input_length=x_train.shape[1], input_dim=vocab+1, output_dim = 100, mask_zero=True),\n",
        "    tf.keras.layers.Bidirectional(tf.keras.layers.LSTM(64, return_sequences=True)),\n",
        "    tf.keras.layers.LayerNormalization(),\n",
        "    tf.keras.layers.Bidirectional(tf.keras.layers.LSTM(64, return_sequences=True)),\n",
        "    tf.keras.layers.LayerNormalization(),\n",
        "    tf.keras.layers.Bidirectional(tf.keras.layers.LSTM(64)),\n",
        "    tf.keras.layers.LayerNormalization(),\n",
        "    tf.keras.layers.Dense(256, activation='relu'),\n",
        "    tf.keras.layers.LayerNormalization(),\n",
        "    tf.keras.layers.Dropout(0.5),\n",
        "    tf.keras.layers.Dense(128, activation='relu'),\n",
        "    tf.keras.layers.LayerNormalization(),\n",
        "    tf.keras.layers.Dense(len(np.unique(y_train)), activation='softmax')\n",
        "])\n",
        "\n",
        "model.summary()\n",
        "model.layers[0].set_weights([embedding_mat])\n",
        "model.layers[0].trainable = False\n",
        "model.compile(loss='sparse_categorical_crossentropy',optimizer='adam',metrics=['accuracy'])\n"
      ],
      "metadata": {
        "id": "dFbuz9mcIrc4",
        "colab": {
          "base_uri": "https://localhost:8080/"
        },
        "outputId": "e7306ddc-d6d3-441e-92e6-e9c83cb80aa4"
      },
      "execution_count": 34,
      "outputs": [
        {
          "output_type": "stream",
          "name": "stdout",
          "text": [
            "Model: \"sequential_5\"\n",
            "_________________________________________________________________\n",
            " Layer (type)                Output Shape              Param #   \n",
            "=================================================================\n",
            " embedding_5 (Embedding)     (None, 18, 100)           29000     \n",
            "                                                                 \n",
            " bidirectional_15 (Bidirect  (None, 18, 128)           84480     \n",
            " ional)                                                          \n",
            "                                                                 \n",
            " layer_normalization_25 (La  (None, 18, 128)           256       \n",
            " yerNormalization)                                               \n",
            "                                                                 \n",
            " bidirectional_16 (Bidirect  (None, 18, 128)           98816     \n",
            " ional)                                                          \n",
            "                                                                 \n",
            " layer_normalization_26 (La  (None, 18, 128)           256       \n",
            " yerNormalization)                                               \n",
            "                                                                 \n",
            " bidirectional_17 (Bidirect  (None, 128)               98816     \n",
            " ional)                                                          \n",
            "                                                                 \n",
            " layer_normalization_27 (La  (None, 128)               256       \n",
            " yerNormalization)                                               \n",
            "                                                                 \n",
            " dense_15 (Dense)            (None, 256)               33024     \n",
            "                                                                 \n",
            " layer_normalization_28 (La  (None, 256)               512       \n",
            " yerNormalization)                                               \n",
            "                                                                 \n",
            " dropout_5 (Dropout)         (None, 256)               0         \n",
            "                                                                 \n",
            " dense_16 (Dense)            (None, 128)               32896     \n",
            "                                                                 \n",
            " layer_normalization_29 (La  (None, 128)               256       \n",
            " yerNormalization)                                               \n",
            "                                                                 \n",
            " dense_17 (Dense)            (None, 77)                9933      \n",
            "                                                                 \n",
            "=================================================================\n",
            "Total params: 388501 (1.48 MB)\n",
            "Trainable params: 388501 (1.48 MB)\n",
            "Non-trainable params: 0 (0.00 Byte)\n",
            "_________________________________________________________________\n"
          ]
        }
      ]
    },
    {
      "cell_type": "code",
      "source": [
        "history = model.fit(x_train, y_train,\n",
        "                    batch_size=10, epochs=30)"
      ],
      "metadata": {
        "id": "rwJXZ4ExI3-g",
        "colab": {
          "base_uri": "https://localhost:8080/"
        },
        "outputId": "9e3a37f0-6d00-4c4a-8bdb-dcd9d5aa537d"
      },
      "execution_count": 35,
      "outputs": [
        {
          "output_type": "stream",
          "name": "stdout",
          "text": [
            "Epoch 1/30\n",
            "24/24 [==============================] - 28s 29ms/step - loss: 4.7960 - accuracy: 0.0346\n",
            "Epoch 2/30\n",
            "24/24 [==============================] - 1s 29ms/step - loss: 3.6159 - accuracy: 0.1255\n",
            "Epoch 3/30\n",
            "24/24 [==============================] - 1s 28ms/step - loss: 2.8727 - accuracy: 0.3160\n",
            "Epoch 4/30\n",
            "24/24 [==============================] - 1s 30ms/step - loss: 2.5605 - accuracy: 0.3939\n",
            "Epoch 5/30\n",
            "24/24 [==============================] - 1s 30ms/step - loss: 2.2619 - accuracy: 0.4978\n",
            "Epoch 6/30\n",
            "24/24 [==============================] - 1s 31ms/step - loss: 1.8833 - accuracy: 0.5455\n",
            "Epoch 7/30\n",
            "24/24 [==============================] - 1s 52ms/step - loss: 1.6378 - accuracy: 0.5974\n",
            "Epoch 8/30\n",
            "24/24 [==============================] - 1s 54ms/step - loss: 1.4191 - accuracy: 0.6407\n",
            "Epoch 9/30\n",
            "24/24 [==============================] - 1s 53ms/step - loss: 1.2808 - accuracy: 0.6797\n",
            "Epoch 10/30\n",
            "24/24 [==============================] - 1s 31ms/step - loss: 1.1204 - accuracy: 0.7403\n",
            "Epoch 11/30\n",
            "24/24 [==============================] - 1s 29ms/step - loss: 1.1043 - accuracy: 0.7143\n",
            "Epoch 12/30\n",
            "24/24 [==============================] - 1s 28ms/step - loss: 1.0491 - accuracy: 0.7273\n",
            "Epoch 13/30\n",
            "24/24 [==============================] - 1s 29ms/step - loss: 0.8581 - accuracy: 0.7446\n",
            "Epoch 14/30\n",
            "24/24 [==============================] - 1s 29ms/step - loss: 0.8479 - accuracy: 0.7403\n",
            "Epoch 15/30\n",
            "24/24 [==============================] - 1s 30ms/step - loss: 0.7975 - accuracy: 0.7576\n",
            "Epoch 16/30\n",
            "24/24 [==============================] - 1s 30ms/step - loss: 0.7452 - accuracy: 0.7792\n",
            "Epoch 17/30\n",
            "24/24 [==============================] - 1s 30ms/step - loss: 0.7509 - accuracy: 0.7835\n",
            "Epoch 18/30\n",
            "24/24 [==============================] - 1s 30ms/step - loss: 0.7103 - accuracy: 0.8052\n",
            "Epoch 19/30\n",
            "24/24 [==============================] - 1s 28ms/step - loss: 0.6840 - accuracy: 0.7965\n",
            "Epoch 20/30\n",
            "24/24 [==============================] - 1s 30ms/step - loss: 0.6547 - accuracy: 0.8009\n",
            "Epoch 21/30\n",
            "24/24 [==============================] - 1s 29ms/step - loss: 0.6248 - accuracy: 0.7965\n",
            "Epoch 22/30\n",
            "24/24 [==============================] - 1s 29ms/step - loss: 0.5750 - accuracy: 0.7835\n",
            "Epoch 23/30\n",
            "24/24 [==============================] - 1s 30ms/step - loss: 0.5758 - accuracy: 0.8052\n",
            "Epoch 24/30\n",
            "24/24 [==============================] - 1s 54ms/step - loss: 0.5982 - accuracy: 0.8182\n",
            "Epoch 25/30\n",
            "24/24 [==============================] - 1s 53ms/step - loss: 0.5698 - accuracy: 0.7965\n",
            "Epoch 26/30\n",
            "24/24 [==============================] - 1s 47ms/step - loss: 0.6069 - accuracy: 0.8009\n",
            "Epoch 27/30\n",
            "24/24 [==============================] - 1s 29ms/step - loss: 0.6365 - accuracy: 0.7922\n",
            "Epoch 28/30\n",
            "24/24 [==============================] - 1s 30ms/step - loss: 0.5929 - accuracy: 0.8182\n",
            "Epoch 29/30\n",
            "24/24 [==============================] - 1s 30ms/step - loss: 0.6128 - accuracy: 0.7965\n",
            "Epoch 30/30\n",
            "24/24 [==============================] - 1s 29ms/step - loss: 0.5686 - accuracy: 0.8139\n"
          ]
        }
      ]
    },
    {
      "cell_type": "code",
      "source": [
        "# LSTM\n",
        "plt.subplot(1, 2, 1)\n",
        "plt.plot(history.history['accuracy'], label='Train Accuracy', color ='blue')\n",
        "plt.legend(loc='lower right')\n",
        "plt.title('Accuracy')\n",
        "\n",
        "plt.subplot(1, 2, 2)\n",
        "plt.plot(history.history['loss'], label='loss', color='orange')\n",
        "plt.legend(loc='upper right')\n",
        "plt.title('Accuracy')\n",
        "plt.show()"
      ],
      "metadata": {
        "colab": {
          "base_uri": "https://localhost:8080/",
          "height": 452
        },
        "id": "wgkwpT0uhvY1",
        "outputId": "44873b28-a749-4485-842e-bdad04cfb1a6"
      },
      "execution_count": 36,
      "outputs": [
        {
          "output_type": "display_data",
          "data": {
            "text/plain": [
              "<Figure size 640x480 with 2 Axes>"
            ],
            "image/png": "[encoded data removed]"
          },
          "metadata": {}
        }
      ]
    },
    {
      "cell_type": "code",
      "source": [
        "# GRU\n",
        "plt.subplot(1, 2, 1)\n",
        "plt.plot(history.history['accuracy'], label='Train Accuracy', color ='blue')\n",
        "plt.legend(loc='lower right')\n",
        "plt.title('Accuracy')\n",
        "\n",
        "plt.subplot(1, 2, 2)\n",
        "plt.plot(history.history['loss'], label='loss', color='orange')\n",
        "plt.legend(loc='upper right')\n",
        "plt.title('Accuracy')\n",
        "plt.show()"
      ],
      "metadata": {
        "colab": {
          "base_uri": "https://localhost:8080/",
          "height": 452
        },
        "id": "1hUfUj8MDiA5",
        "outputId": "cf29945f-b54e-4337-fcc2-5139ccf91943"
      },
      "execution_count": 30,
      "outputs": [
        {
          "output_type": "display_data",
          "data": {
            "text/plain": [
              "<Figure size 640x480 with 2 Axes>"
            ],
            "image/png": "[encoded data removed]"
          },
          "metadata": {}
        }
      ]
    },
    {
      "cell_type": "code",
      "source": [
        "def chatbot_test():\n",
        "  while True:\n",
        "    user_input = input(\"User: \")\n",
        "\n",
        "    pattern_test = tokenizer.texts_to_sequences([user_input])\n",
        "    x_test = pad_sequences(pattern_test, padding=\"post\")\n",
        "\n",
        "    prediction = model.predict(x_test)[0]\n",
        "    label = label_encode.inverse_transform([np.argmax(prediction)])[0]\n",
        "    response = data[data['tag'] == label]['responses'].values[0]\n",
        "\n",
        "    print(\"Chatbot: \", format(random.choice(response)))\n",
        "    if label=='goodbye' or label=='thanks':\n",
        "      break\n"
      ],
      "metadata": {
        "id": "Zi8I7m0qLeCM"
      },
      "execution_count": 37,
      "outputs": []
    },
    {
      "cell_type": "code",
      "source": [
        "chatbot_test()"
      ],
      "metadata": {
        "colab": {
          "base_uri": "https://localhost:8080/",
          "height": 1000
        },
        "id": "Kvv78DsqjDH6",
        "outputId": "2801698a-a127-4200-b9cd-af49e9d4ca0a"
      },
      "execution_count": 38,
      "outputs": [
        {
          "name": "stdout",
          "output_type": "stream",
          "text": [
            "User: halo\n",
            "1/1 [==============================] - 8s 8s/step\n",
            "Chatbot:  Halo! Senang bertemu denganmu. Apa yang bisa saya bantu?\n",
            "User: apa kamu dapat menjelaskan apa itu kesehatan mental?\n"
          ]
        },
        {
          "output_type": "stream",
          "name": "stderr",
          "text": [
            "WARNING:tensorflow:5 out of the last 15 calls to <function Model.make_predict_function.<locals>.predict_function at 0x7f6dd176d630> triggered tf.function retracing. Tracing is expensive and the excessive number of tracings could be due to (1) creating @tf.function repeatedly in a loop, (2) passing tensors with different shapes, (3) passing Python objects instead of tensors. For (1), please define your @tf.function outside of the loop. For (2), @tf.function has reduce_retracing=True option that can avoid unnecessary retracing. For (3), please refer to https://www.tensorflow.org/guide/function#controlling_retracing and https://www.tensorflow.org/api_docs/python/tf/function for  more details.\n"
          ]
        },
        {
          "output_type": "stream",
          "name": "stdout",
          "text": [
            "1/1 [==============================] - 8s 8s/step\n",
            "Chatbot:  Penyakit mental (mental disorder), disebut juga dengan gangguan mental atau jiwa, adalah kondisi kesehatan yang memengaruhi pemikiran, perasaan, perilaku, suasana hati, atau kombinasi diantaranya.\n",
            "User: siapa kamu\n",
            "1/1 [==============================] - 0s 30ms/step\n",
            "Chatbot:  Saya Hugu. Saya adalah agen percakapan yang dirancang untuk meniru seorang terapis. Jadi, bagaimana perasaan Anda hari ini?\n",
            "User: apa yang dapat kamu lakukan\n",
            "1/1 [==============================] - 0s 42ms/step\n",
            "Chatbot:  Saya sangat minta maaf. Mari kita coba lagi.\n",
            "User: Apa yang dapatanda lakukan\n",
            "1/1 [==============================] - 0s 28ms/step\n",
            "Chatbot:  Psikolog secara umum adalah seorang ahli psikologi, bidang ilmu pengetahuan yang mempelajari tingkah laku dan proses mental.\n",
            "User: Apa yang dapat anda lakukan\n",
            "1/1 [==============================] - 0s 36ms/step\n",
            "Chatbot:  Saya dapat memberikan nasihat umum mengenai kecemasan dan depresi, menjawab pertanyaan terkait kesehatan mental, dan melakukan percakapan sehari-hari. Perlu diingat bahwa saya bukan sebagai pengganti ahli kesehatan mental.\n",
            "User: siapa yang membuatmu\n",
            "1/1 [==============================] - 0s 30ms/step\n",
            "Chatbot:  Saya dilatih tentang kumpulan data teks menggunakan Deep Learning & Natural Language Processing techniques\n",
            "User: Bisakah kamu membantu aku?\n",
            "1/1 [==============================] - 0s 30ms/step\n",
            "Chatbot:  Ceritakan masalahmu agar saya bisa membantumu\n",
            "User: Saya kesepian\n",
            "1/1 [==============================] - 0s 26ms/step\n",
            "Chatbot:  Senang mendengarnya. Saya senang kamu merasa seperti ini.\n",
            "User: saya merasa kesepian\n",
            "1/1 [==============================] - 0s 44ms/step\n",
            "Chatbot:  Saya di sini untukmu. Bisakah kamu memberitahuku kenapa kamu merasa seperti ini?\n",
            "User: Tetanggaku meninggal\n",
            "1/1 [==============================] - 0s 26ms/step\n",
            "Chatbot:  Saya turut berbela sungkawa. Saya di sini jika Anda perlu bicara.\n",
            "User: apa itu depresi\n",
            "1/1 [==============================] - 0s 25ms/step\n",
            "Chatbot:  Gangguan kesehatan mental yang ditandai dengan suasana hati yang tertekan atau kehilangan minat dalam kegiatan, menyebabkan gangguan yang signifikan dalam kehidupan sehari -hari.\n",
            "User: Menurutmu siapa saja yang dapat terkena depresi\n",
            "1/1 [==============================] - 0s 31ms/step\n",
            "Chatbot:  Berdasarkan Indonesia National Adolescent Mental Health Survey (I-NAMHS), survei kesehatan mental nasional pertama yang mengukur angka kejadian gangguan mental pada remaja 10 - 17 tahun di Indonesia, menunjukkan bahwa satu dari tiga remaja Indonesia memiliki masalah kesehatan mental sementara satu dari dua puluh remaja Indonesia memiliki gangguan mental dalam 12 bulan terakhir. Angka ini setara dengan 15,5 juta dan 2,45 juta remaja. Remaja dalam kelompok ini adalah remaja yang terdiagnosis dengan gangguan mental sesuai dengan panduan Diagnostic and Statistical Manual of Mental Disorders Edisi Kelima (DSM-5) yang menjadi panduan penegakan diagnosis gangguan mental di Indonesia.\n",
            "User: apkah orang dapat sembuh dari penyakit mental\n",
            "1/1 [==============================] - 0s 42ms/step\n",
            "Chatbot:  Diperkirakan penyakit mental mempengaruhi 1 dari 5 orang dewasa di Amerika, dan 1 dari 24 orang dewasa mempunyai penyakit mental yang serius. Penyakit mental tidak membeda-bedakan; penyakit ini dapat menyerang siapa saja, tanpa memandang jenis kelamin, usia, pendapatan, status sosial, etnis, agama, orientasi seksual, atau latar belakang. Meskipun penyakit mental dapat menyerang siapa saja, kondisi tertentu mungkin lebih umum terjadi pada populasi yang berbeda. Misalnya, gangguan makan cenderung lebih sering terjadi pada wanita, sedangkan gangguan seperti gangguan pemusatan perhatian/hiperaktivitas lebih banyak terjadi pada anak-anak. Selain itu, semua usia rentan, namun kelompok muda dan tua merupakan kelompok yang paling rentan. Penyakit mental biasanya menyerang individu pada usia puncak, dengan 75 persen kondisi kesehatan mental berkembang pada usia 24 tahun. Hal ini membuat identifikasi dan pengobatan gangguan mental menjadi sangat sulit, karena perubahan kepribadian dan perilaku normal pada masa remaja mungkin menutupi gejala penyakit mental. suatu kondisi kesehatan mental. Orang tua dan pengasuh harus menyadari fakta ini, dan memperhatikan perubahan suasana hati, kepribadian, kebiasaan pribadi, dan penarikan diri dari pergaulan anak mereka. Jika hal ini terjadi pada anak di bawah 18 tahun, hal ini disebut sebagai gangguan emosional serius (GED).\n",
            "User: fakta mengenai kesehatan mental\n",
            "1/1 [==============================] - 0s 28ms/step\n",
            "Chatbot:  Riset Kesehatan Dasar (Riskesdas) 2018, menunjukkan lebih dari 19 juta penduduk berusia lebih dari 15 tahun mengalami gangguan mental emosional, dan lebih dari 12 juta penduduk berusia lebih dari 15 tahun mengalami depresi.\n",
            "User: mengapa hal itu penting\n",
            "1/1 [==============================] - 0s 25ms/step\n",
            "Chatbot:  Psikolog adalah seorang ahli dalam bidang psikologi yang mempelajari tingkah laku dan kondisi kesehatan mental manusia berdasarkan faktor sosial, budaya, serta pengaruh lingkungan.\n",
            "User: apakah saya depresi\n",
            "1/1 [==============================] - 0s 25ms/step\n",
            "Chatbot:  Untuk diagnosis depresi, seseorang perlu mengalami suasana hati yang rendah atau kehilangan minat atau kesenangan dalam hidup setidaknya selama 2 minggu. Juga, mereka akan mengalami gejala-gejala berikut: perasaan sedih, putus asa, atau mudah tersinggung hampir setiap hari setiap hari.\n"
          ]
        },
        {
          "output_type": "error",
          "ename": "KeyboardInterrupt",
          "evalue": "ignored",
          "traceback": [
            "\u001b[0;31m---------------------------------------------------------------------------\u001b[0m",
            "\u001b[0;31mKeyboardInterrupt\u001b[0m                         Traceback (most recent call last)",
            "\u001b[0;32m<ipython-input-38-3e6790a7fdc9>\u001b[0m in \u001b[0;36m<cell line: 1>\u001b[0;34m()\u001b[0m\n\u001b[0;32m----> 1\u001b[0;31m \u001b[0mchatbot_test\u001b[0m\u001b[0;34m(\u001b[0m\u001b[0;34m)\u001b[0m\u001b[0;34m\u001b[0m\u001b[0;34m\u001b[0m\u001b[0m\n\u001b[0m",
            "\u001b[0;32m<ipython-input-37-f1bee0b9ff64>\u001b[0m in \u001b[0;36mchatbot_test\u001b[0;34m()\u001b[0m\n\u001b[1;32m      1\u001b[0m \u001b[0;32mdef\u001b[0m \u001b[0mchatbot_test\u001b[0m\u001b[0;34m(\u001b[0m\u001b[0;34m)\u001b[0m\u001b[0;34m:\u001b[0m\u001b[0;34m\u001b[0m\u001b[0;34m\u001b[0m\u001b[0m\n\u001b[1;32m      2\u001b[0m   \u001b[0;32mwhile\u001b[0m \u001b[0;32mTrue\u001b[0m\u001b[0;34m:\u001b[0m\u001b[0;34m\u001b[0m\u001b[0;34m\u001b[0m\u001b[0m\n\u001b[0;32m----> 3\u001b[0;31m     \u001b[0muser_input\u001b[0m \u001b[0;34m=\u001b[0m \u001b[0minput\u001b[0m\u001b[0;34m(\u001b[0m\u001b[0;34m\"User: \"\u001b[0m\u001b[0;34m)\u001b[0m\u001b[0;34m\u001b[0m\u001b[0;34m\u001b[0m\u001b[0m\n\u001b[0m\u001b[1;32m      4\u001b[0m \u001b[0;34m\u001b[0m\u001b[0m\n\u001b[1;32m      5\u001b[0m     \u001b[0mpattern_test\u001b[0m \u001b[0;34m=\u001b[0m \u001b[0mtokenizer\u001b[0m\u001b[0;34m.\u001b[0m\u001b[0mtexts_to_sequences\u001b[0m\u001b[0;34m(\u001b[0m\u001b[0;34m[\u001b[0m\u001b[0muser_input\u001b[0m\u001b[0;34m]\u001b[0m\u001b[0;34m)\u001b[0m\u001b[0;34m\u001b[0m\u001b[0;34m\u001b[0m\u001b[0m\n",
            "\u001b[0;32m/usr/local/lib/python3.10/dist-packages/ipykernel/kernelbase.py\u001b[0m in \u001b[0;36mraw_input\u001b[0;34m(self, prompt)\u001b[0m\n\u001b[1;32m    849\u001b[0m                 \u001b[0;34m\"raw_input was called, but this frontend does not support input requests.\"\u001b[0m\u001b[0;34m\u001b[0m\u001b[0;34m\u001b[0m\u001b[0m\n\u001b[1;32m    850\u001b[0m             )\n\u001b[0;32m--> 851\u001b[0;31m         return self._input_request(str(prompt),\n\u001b[0m\u001b[1;32m    852\u001b[0m             \u001b[0mself\u001b[0m\u001b[0;34m.\u001b[0m\u001b[0m_parent_ident\u001b[0m\u001b[0;34m,\u001b[0m\u001b[0;34m\u001b[0m\u001b[0;34m\u001b[0m\u001b[0m\n\u001b[1;32m    853\u001b[0m             \u001b[0mself\u001b[0m\u001b[0;34m.\u001b[0m\u001b[0m_parent_header\u001b[0m\u001b[0;34m,\u001b[0m\u001b[0;34m\u001b[0m\u001b[0;34m\u001b[0m\u001b[0m\n",
            "\u001b[0;32m/usr/local/lib/python3.10/dist-packages/ipykernel/kernelbase.py\u001b[0m in \u001b[0;36m_input_request\u001b[0;34m(self, prompt, ident, parent, password)\u001b[0m\n\u001b[1;32m    893\u001b[0m             \u001b[0;32mexcept\u001b[0m \u001b[0mKeyboardInterrupt\u001b[0m\u001b[0;34m:\u001b[0m\u001b[0;34m\u001b[0m\u001b[0;34m\u001b[0m\u001b[0m\n\u001b[1;32m    894\u001b[0m                 \u001b[0;31m# re-raise KeyboardInterrupt, to truncate traceback\u001b[0m\u001b[0;34m\u001b[0m\u001b[0;34m\u001b[0m\u001b[0m\n\u001b[0;32m--> 895\u001b[0;31m                 \u001b[0;32mraise\u001b[0m \u001b[0mKeyboardInterrupt\u001b[0m\u001b[0;34m(\u001b[0m\u001b[0;34m\"Interrupted by user\"\u001b[0m\u001b[0;34m)\u001b[0m \u001b[0;32mfrom\u001b[0m \u001b[0;32mNone\u001b[0m\u001b[0;34m\u001b[0m\u001b[0;34m\u001b[0m\u001b[0m\n\u001b[0m\u001b[1;32m    896\u001b[0m             \u001b[0;32mexcept\u001b[0m \u001b[0mException\u001b[0m \u001b[0;32mas\u001b[0m \u001b[0me\u001b[0m\u001b[0;34m:\u001b[0m\u001b[0;34m\u001b[0m\u001b[0;34m\u001b[0m\u001b[0m\n\u001b[1;32m    897\u001b[0m                 \u001b[0mself\u001b[0m\u001b[0;34m.\u001b[0m\u001b[0mlog\u001b[0m\u001b[0;34m.\u001b[0m\u001b[0mwarning\u001b[0m\u001b[0;34m(\u001b[0m\u001b[0;34m\"Invalid Message:\"\u001b[0m\u001b[0;34m,\u001b[0m \u001b[0mexc_info\u001b[0m\u001b[0;34m=\u001b[0m\u001b[0;32mTrue\u001b[0m\u001b[0;34m)\u001b[0m\u001b[0;34m\u001b[0m\u001b[0;34m\u001b[0m\u001b[0m\n",
            "\u001b[0;31mKeyboardInterrupt\u001b[0m: Interrupted by user"
          ]
        }
      ]
    },
    {
      "cell_type": "code",
      "source": [
        "model.save(\"model_chatbot.h5\")"
      ],
      "metadata": {
        "id": "zRxdqmFEijn0"
      },
      "execution_count": 40,
      "outputs": []
    },
    {
      "cell_type": "code",
      "source": [],
      "metadata": {
        "id": "VOP9RPvwMbSh"
      },
      "execution_count": null,
      "outputs": []
    }
  ]
}