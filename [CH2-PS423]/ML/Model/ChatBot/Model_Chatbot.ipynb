{
  "nbformat": 4,
  "nbformat_minor": 0,
  "metadata": {
    "colab": {
      "provenance": [],
      "gpuType": "T4"
    },
    "kernelspec": {
      "name": "python3",
      "display_name": "Python 3"
    },
    "language_info": {
      "name": "python"
    },
    "accelerator": "GPU"
  },
  "cells": [
    {
      "cell_type": "code",
      "execution_count": 1,
      "metadata": {
        "id": "9UoNwXjMtJ15"
      },
      "outputs": [],
      "source": [
        "import json\n",
        "import string\n",
        "import pickle\n",
        "import numpy as np\n",
        "import pandas as pd\n",
        "import tensorflow as tf\n",
        "import matplotlib.pyplot as plt"
      ]
    },
    {
      "cell_type": "code",
      "source": [
        "from tensorflow.keras.models import Model, Sequential\n",
        "from tensorflow.keras.utils import plot_model\n",
        "from sklearn.preprocessing import LabelEncoder\n",
        "from tensorflow.keras.preprocessing.text import Tokenizer\n",
        "from tensorflow.keras.preprocessing.sequence import pad_sequences\n",
        "from tensorflow.keras.layers import Input, Embedding, LSTM, Flatten, Dense, LayerNormalization, Dropout"
      ],
      "metadata": {
        "id": "0gSyTq6fBs0v"
      },
      "execution_count": 2,
      "outputs": []
    },
    {
      "cell_type": "code",
      "source": [
        "with open('/content/Mental Health Conversational.json', 'r') as content:\n",
        "  chatbot = json.load(content)\n",
        "data = pd.DataFrame(chatbot['intents'])"
      ],
      "metadata": {
        "id": "DePlw14BxZ55"
      },
      "execution_count": 3,
      "outputs": []
    },
    {
      "cell_type": "code",
      "source": [
        "# tags = []\n",
        "# patterns = []\n",
        "# responses = {}\n",
        "# words = []\n",
        "# classes = []\n",
        "# documents = []\n",
        "# ignore_words = ['', '?', '!']\n",
        "\n",
        "# for intent in chatbot['intents']:\n",
        "#   responses[intent['tag']] = intent['responses']\n",
        "#   for lines in intent['patterns']:\n",
        "#     patterns.append(lines)\n",
        "#     tags.append(intent['tag'])\n",
        "#     for pattern in intent['patterns']:\n",
        "#       w = nltk.word_tokenize(pattern)\n",
        "#       words.extend(w)\n",
        "#       documents.append((w, intent['tag']))\n",
        "\n",
        "#       if intent['tag'] not in classes:\n",
        "#         classes.append(intent['tag'])\n",
        "\n",
        "# chatbot = pd.DataFrame({\"patterns\":patterns, \"tags\":tags})\n",
        "\n",
        "dictionary = {\"tag\":[], \"patterns\":[], \"responses\":[]}\n",
        "for i in range (len(data)):\n",
        "  pattern = data[data.index==i]['patterns'].values[0]\n",
        "  response = data[data.index==i]['responses'].values[0]\n",
        "  tag = data[data.index==i]['tag'].values[0]\n",
        "  for j in range (len(pattern)):\n",
        "    dictionary['tag'].append(tag)\n",
        "    dictionary['patterns'].append(pattern[j])\n",
        "    dictionary['responses'].append(response)\n",
        "data = pd.DataFrame.from_dict(dictionary)\n",
        "data"
      ],
      "metadata": {
        "id": "kVtvTDWUvxt2",
        "colab": {
          "base_uri": "https://localhost:8080/",
          "height": 245
        },
        "outputId": "507f1571-9dde-49e2-c336-8c1a2a581a53"
      },
      "execution_count": 18,
      "outputs": [
        {
          "output_type": "error",
          "ename": "TypeError",
          "evalue": "ignored",
          "traceback": [
            "\u001b[0;31m---------------------------------------------------------------------------\u001b[0m",
            "\u001b[0;31mTypeError\u001b[0m                                 Traceback (most recent call last)",
            "\u001b[0;32m<ipython-input-18-99d5b839c3dd>\u001b[0m in \u001b[0;36m<cell line: 25>\u001b[0;34m()\u001b[0m\n\u001b[1;32m     30\u001b[0m     \u001b[0mdictionary\u001b[0m\u001b[0;34m[\u001b[0m\u001b[0;34m'tag'\u001b[0m\u001b[0;34m]\u001b[0m\u001b[0;34m.\u001b[0m\u001b[0mappend\u001b[0m\u001b[0;34m(\u001b[0m\u001b[0mtag\u001b[0m\u001b[0;34m)\u001b[0m\u001b[0;34m\u001b[0m\u001b[0;34m\u001b[0m\u001b[0m\n\u001b[1;32m     31\u001b[0m     \u001b[0mdictionary\u001b[0m\u001b[0;34m[\u001b[0m\u001b[0;34m'patterns'\u001b[0m\u001b[0;34m]\u001b[0m\u001b[0;34m.\u001b[0m\u001b[0mappend\u001b[0m\u001b[0;34m(\u001b[0m\u001b[0mpattern\u001b[0m\u001b[0;34m[\u001b[0m\u001b[0mj\u001b[0m\u001b[0;34m]\u001b[0m\u001b[0;34m)\u001b[0m\u001b[0;34m\u001b[0m\u001b[0;34m\u001b[0m\u001b[0m\n\u001b[0;32m---> 32\u001b[0;31m     \u001b[0mdictionary\u001b[0m\u001b[0;34m[\u001b[0m\u001b[0;34m'responses'\u001b[0m\u001b[0;34m]\u001b[0m\u001b[0;34m.\u001b[0m\u001b[0mappend\u001b[0m\u001b[0;34m(\u001b[0m\u001b[0mresponse\u001b[0m\u001b[0;34m,\u001b[0m \u001b[0;34m','\u001b[0m\u001b[0;34m)\u001b[0m\u001b[0;34m\u001b[0m\u001b[0;34m\u001b[0m\u001b[0m\n\u001b[0m\u001b[1;32m     33\u001b[0m \u001b[0mdata\u001b[0m \u001b[0;34m=\u001b[0m \u001b[0mpd\u001b[0m\u001b[0;34m.\u001b[0m\u001b[0mDataFrame\u001b[0m\u001b[0;34m.\u001b[0m\u001b[0mfrom_dict\u001b[0m\u001b[0;34m(\u001b[0m\u001b[0mdictionary\u001b[0m\u001b[0;34m)\u001b[0m\u001b[0;34m\u001b[0m\u001b[0;34m\u001b[0m\u001b[0m\n\u001b[1;32m     34\u001b[0m \u001b[0mdata\u001b[0m\u001b[0;34m\u001b[0m\u001b[0;34m\u001b[0m\u001b[0m\n",
            "\u001b[0;31mTypeError\u001b[0m: list.append() takes exactly one argument (2 given)"
          ]
        }
      ]
    },
    {
      "cell_type": "code",
      "source": [
        "data['tag'].unique()"
      ],
      "metadata": {
        "colab": {
          "base_uri": "https://localhost:8080/"
        },
        "id": "UY3TH1lxjbOi",
        "outputId": "954dfca3-75b9-49b9-9277-f04b08f1373f"
      },
      "execution_count": 5,
      "outputs": [
        {
          "output_type": "execute_result",
          "data": {
            "text/plain": [
              "array(['greeting', 'morning', 'afternoon', 'evening', 'night', 'goodbye',\n",
              "       'thanks', 'about', 'skill', 'creation', 'help', 'sad', 'stressed',\n",
              "       'worthless', 'depressed', 'happy', 'casual', 'anxious',\n",
              "       'not-talking', 'sleep', 'scared', 'death', 'understand', 'done',\n",
              "       'suicide', 'hate-you', 'hate-me', 'default', 'jokes', 'repeat',\n",
              "       'wrong', 'stupid', 'location', 'something-else', 'ask', 'problem',\n",
              "       'no-approach', 'learn-more', 'user-agree', 'meditation',\n",
              "       'user_meditation', 'hugu_useful', 'user-advice',\n",
              "       'learn_mental_health', 'mental_health_fact', 'fact_1', 'fact_2',\n",
              "       'fact_3', 'fact_4', 'fact_5', 'fact_6', 'fact_7', 'fact_8',\n",
              "       'fact_9', 'fact_10', 'fact_11', 'fact_12', 'fact_13', 'fact_14',\n",
              "       'fact_15', 'fact_16', 'fact_17', 'fact_18', 'fact_19', 'fact_20',\n",
              "       'fact_21', 'fact_22', 'fact_23', 'fact_24', 'fact_25', 'fact_26',\n",
              "       'fact_27', 'fact_28', 'fact_29', 'fact_30', 'fact_31', 'fact_32',\n",
              "       'panic_disorder', 'panic_feels', 'anxiety_panic',\n",
              "       'panic_prediction', 'panic_solution', 'panic_prevention',\n",
              "       'self_harm', 'self_harm_symptom', 'self_harm_prevention',\n",
              "       'self_harm_reason', 'self_harm_type'], dtype=object)"
            ]
          },
          "metadata": {},
          "execution_count": 5
        }
      ]
    },
    {
      "cell_type": "code",
      "source": [
        "tokenizer = Tokenizer(lower=True, split=' ')\n",
        "tokenizer.fit_on_texts(data['patterns'])\n",
        "tokenizer.get_config()\n",
        "\n",
        "vocab = len(tokenizer.word_index)\n",
        "print(\"Unique word : \",vocab)\n",
        "\n",
        "pattern_train = tokenizer.texts_to_sequences(data['patterns'])\n",
        "x_train = pad_sequences(pattern_train, padding=\"post\")\n",
        "print(\"Input shape : \", x_train.shape)\n",
        "\n",
        "print()\n",
        "label_encode = LabelEncoder()\n",
        "y_train = label_encode.fit_transform(data['tag'])\n",
        "print(\"Label shape : \", y_train.shape)\n",
        "print(\"Output length : \", len(np.unique(y_train)))\n",
        "\n"
      ],
      "metadata": {
        "colab": {
          "base_uri": "https://localhost:8080/"
        },
        "id": "Zi8I7m0qLeCM",
        "outputId": "81a343e9-bc4f-44f2-fa50-5e1df7daf18d"
      },
      "execution_count": 6,
      "outputs": [
        {
          "output_type": "stream",
          "name": "stdout",
          "text": [
            "Unique word :  314\n",
            "Input shape :  (253, 18)\n",
            "\n",
            "Label shape :  (253,)\n",
            "Output length :  88\n"
          ]
        }
      ]
    },
    {
      "cell_type": "code",
      "source": [
        "# input_shape = x_train.shape[1]\n",
        "# output_len = len(np.unique(y_train))\n",
        "model = tf.keras.Sequential([\n",
        "    tf.keras.layers.Input(shape=(x_train.shape[1])),\n",
        "    tf.keras.layers.Embedding(input_dim=vocab+1, output_dim = 100, mask_zero=True),\n",
        "    tf.keras.layers.LSTM(32, return_sequences=True),\n",
        "    tf.keras.layers.LayerNormalization(),\n",
        "    tf.keras.layers.LSTM(32, return_sequences=True),\n",
        "    tf.keras.layers.LayerNormalization(),\n",
        "    tf.keras.layers.LSTM(32),\n",
        "    tf.keras.layers.LayerNormalization(),\n",
        "    tf.keras.layers.Dense(128, activation='relu'),\n",
        "    tf.keras.layers.LayerNormalization(),\n",
        "    tf.keras.layers.Dropout(0.5),\n",
        "    tf.keras.layers.Dense(128, activation='relu'),\n",
        "    tf.keras.layers.LayerNormalization(),\n",
        "    tf.keras.layers.Dense(len(np.unique(y_train)), activation='softmax')\n",
        "])\n",
        "\n",
        "\n",
        "model.compile(loss='sparse_categorical_crossentropy',optimizer='adam',metrics=['accuracy'])\n",
        "\n",
        "model.summary()"
      ],
      "metadata": {
        "colab": {
          "base_uri": "https://localhost:8080/"
        },
        "id": "BY3tLk-wOhZ_",
        "outputId": "513a2c75-530c-4983-dd00-dbc6ffec44a7"
      },
      "execution_count": 7,
      "outputs": [
        {
          "output_type": "stream",
          "name": "stdout",
          "text": [
            "Model: \"sequential\"\n",
            "_________________________________________________________________\n",
            " Layer (type)                Output Shape              Param #   \n",
            "=================================================================\n",
            " embedding (Embedding)       (None, 18, 100)           31500     \n",
            "                                                                 \n",
            " lstm (LSTM)                 (None, 18, 32)            17024     \n",
            "                                                                 \n",
            " layer_normalization (Layer  (None, 18, 32)            64        \n",
            " Normalization)                                                  \n",
            "                                                                 \n",
            " lstm_1 (LSTM)               (None, 18, 32)            8320      \n",
            "                                                                 \n",
            " layer_normalization_1 (Lay  (None, 18, 32)            64        \n",
            " erNormalization)                                                \n",
            "                                                                 \n",
            " lstm_2 (LSTM)               (None, 32)                8320      \n",
            "                                                                 \n",
            " layer_normalization_2 (Lay  (None, 32)                64        \n",
            " erNormalization)                                                \n",
            "                                                                 \n",
            " dense (Dense)               (None, 128)               4224      \n",
            "                                                                 \n",
            " layer_normalization_3 (Lay  (None, 128)               256       \n",
            " erNormalization)                                                \n",
            "                                                                 \n",
            " dropout (Dropout)           (None, 128)               0         \n",
            "                                                                 \n",
            " dense_1 (Dense)             (None, 128)               16512     \n",
            "                                                                 \n",
            " layer_normalization_4 (Lay  (None, 128)               256       \n",
            " erNormalization)                                                \n",
            "                                                                 \n",
            " dense_2 (Dense)             (None, 88)                11352     \n",
            "                                                                 \n",
            "=================================================================\n",
            "Total params: 97956 (382.64 KB)\n",
            "Trainable params: 97956 (382.64 KB)\n",
            "Non-trainable params: 0 (0.00 Byte)\n",
            "_________________________________________________________________\n"
          ]
        }
      ]
    },
    {
      "cell_type": "code",
      "source": [
        "history = model.fit(x_train, y_train,\n",
        "                    batch_size=10, epochs=75,\n",
        "                    )"
      ],
      "metadata": {
        "colab": {
          "base_uri": "https://localhost:8080/"
        },
        "id": "9skzeh2XQUIb",
        "outputId": "0f8addeb-1eb7-44a2-becb-6a92bcce5021"
      },
      "execution_count": 8,
      "outputs": [
        {
          "output_type": "stream",
          "name": "stdout",
          "text": [
            "Epoch 1/75\n",
            "26/26 [==============================] - 34s 224ms/step - loss: 4.7534 - accuracy: 0.0277\n",
            "Epoch 2/75\n",
            "26/26 [==============================] - 1s 42ms/step - loss: 4.0597 - accuracy: 0.0870\n",
            "Epoch 3/75\n",
            "26/26 [==============================] - 1s 30ms/step - loss: 3.5934 - accuracy: 0.1542\n",
            "Epoch 4/75\n",
            "26/26 [==============================] - 1s 30ms/step - loss: 3.0691 - accuracy: 0.2925\n",
            "Epoch 5/75\n",
            "26/26 [==============================] - 1s 18ms/step - loss: 2.6517 - accuracy: 0.4111\n",
            "Epoch 6/75\n",
            "26/26 [==============================] - 1s 41ms/step - loss: 2.2499 - accuracy: 0.4466\n",
            "Epoch 7/75\n",
            "26/26 [==============================] - 2s 62ms/step - loss: 2.1030 - accuracy: 0.4625\n",
            "Epoch 8/75\n",
            "26/26 [==============================] - 1s 42ms/step - loss: 1.7844 - accuracy: 0.5771\n",
            "Epoch 9/75\n",
            "26/26 [==============================] - 1s 24ms/step - loss: 1.4646 - accuracy: 0.6957\n",
            "Epoch 10/75\n",
            "26/26 [==============================] - 0s 19ms/step - loss: 1.2367 - accuracy: 0.7273\n",
            "Epoch 11/75\n",
            "26/26 [==============================] - 0s 19ms/step - loss: 1.0732 - accuracy: 0.7866\n",
            "Epoch 12/75\n",
            "26/26 [==============================] - 1s 24ms/step - loss: 1.0070 - accuracy: 0.7826\n",
            "Epoch 13/75\n",
            "26/26 [==============================] - 1s 23ms/step - loss: 0.8687 - accuracy: 0.7866\n",
            "Epoch 14/75\n",
            "26/26 [==============================] - 1s 30ms/step - loss: 0.7540 - accuracy: 0.8379\n",
            "Epoch 15/75\n",
            "26/26 [==============================] - 0s 19ms/step - loss: 0.6462 - accuracy: 0.9091\n",
            "Epoch 16/75\n",
            "26/26 [==============================] - 1s 25ms/step - loss: 0.5643 - accuracy: 0.8854\n",
            "Epoch 17/75\n",
            "26/26 [==============================] - 1s 25ms/step - loss: 0.4597 - accuracy: 0.9328\n",
            "Epoch 18/75\n",
            "26/26 [==============================] - 1s 25ms/step - loss: 0.4009 - accuracy: 0.9526\n",
            "Epoch 19/75\n",
            "26/26 [==============================] - 1s 23ms/step - loss: 0.4237 - accuracy: 0.9091\n",
            "Epoch 20/75\n",
            "26/26 [==============================] - 0s 18ms/step - loss: 0.3388 - accuracy: 0.9486\n",
            "Epoch 21/75\n",
            "26/26 [==============================] - 0s 18ms/step - loss: 0.3184 - accuracy: 0.9644\n",
            "Epoch 22/75\n",
            "26/26 [==============================] - 1s 25ms/step - loss: 0.3172 - accuracy: 0.9447\n",
            "Epoch 23/75\n",
            "26/26 [==============================] - 1s 24ms/step - loss: 0.2453 - accuracy: 0.9565\n",
            "Epoch 24/75\n",
            "26/26 [==============================] - 1s 24ms/step - loss: 0.2061 - accuracy: 0.9802\n",
            "Epoch 25/75\n",
            "26/26 [==============================] - 0s 18ms/step - loss: 0.2131 - accuracy: 0.9723\n",
            "Epoch 26/75\n",
            "26/26 [==============================] - 1s 34ms/step - loss: 0.1925 - accuracy: 0.9723\n",
            "Epoch 27/75\n",
            "26/26 [==============================] - 1s 43ms/step - loss: 0.1727 - accuracy: 0.9684\n",
            "Epoch 28/75\n",
            "26/26 [==============================] - 1s 44ms/step - loss: 0.1448 - accuracy: 0.9723\n",
            "Epoch 29/75\n",
            "26/26 [==============================] - 1s 35ms/step - loss: 0.1300 - accuracy: 0.9842\n",
            "Epoch 30/75\n",
            "26/26 [==============================] - 1s 20ms/step - loss: 0.1266 - accuracy: 0.9842\n",
            "Epoch 31/75\n",
            "26/26 [==============================] - 1s 30ms/step - loss: 0.1287 - accuracy: 0.9763\n",
            "Epoch 32/75\n",
            "26/26 [==============================] - 0s 18ms/step - loss: 0.1075 - accuracy: 0.9802\n",
            "Epoch 33/75\n",
            "26/26 [==============================] - 0s 18ms/step - loss: 0.1086 - accuracy: 0.9802\n",
            "Epoch 34/75\n",
            "26/26 [==============================] - 0s 19ms/step - loss: 0.1124 - accuracy: 0.9723\n",
            "Epoch 35/75\n",
            "26/26 [==============================] - 0s 18ms/step - loss: 0.1078 - accuracy: 0.9723\n",
            "Epoch 36/75\n",
            "26/26 [==============================] - 1s 19ms/step - loss: 0.0781 - accuracy: 0.9960\n",
            "Epoch 37/75\n",
            "26/26 [==============================] - 1s 24ms/step - loss: 0.0848 - accuracy: 0.9842\n",
            "Epoch 38/75\n",
            "26/26 [==============================] - 0s 19ms/step - loss: 0.0898 - accuracy: 0.9842\n",
            "Epoch 39/75\n",
            "26/26 [==============================] - 0s 18ms/step - loss: 0.0720 - accuracy: 0.9842\n",
            "Epoch 40/75\n",
            "26/26 [==============================] - 0s 18ms/step - loss: 0.0780 - accuracy: 0.9881\n",
            "Epoch 41/75\n",
            "26/26 [==============================] - 0s 17ms/step - loss: 0.0625 - accuracy: 0.9921\n",
            "Epoch 42/75\n",
            "26/26 [==============================] - 1s 24ms/step - loss: 0.0716 - accuracy: 0.9802\n",
            "Epoch 43/75\n",
            "26/26 [==============================] - 0s 18ms/step - loss: 0.0820 - accuracy: 0.9842\n",
            "Epoch 44/75\n",
            "26/26 [==============================] - 0s 18ms/step - loss: 0.0580 - accuracy: 0.9881\n",
            "Epoch 45/75\n",
            "26/26 [==============================] - 0s 18ms/step - loss: 0.0632 - accuracy: 0.9881\n",
            "Epoch 46/75\n",
            "26/26 [==============================] - 0s 18ms/step - loss: 0.0557 - accuracy: 0.9921\n",
            "Epoch 47/75\n",
            "26/26 [==============================] - 0s 17ms/step - loss: 0.0473 - accuracy: 0.9881\n",
            "Epoch 48/75\n",
            "26/26 [==============================] - 0s 19ms/step - loss: 0.0475 - accuracy: 0.9921\n",
            "Epoch 49/75\n",
            "26/26 [==============================] - 1s 22ms/step - loss: 0.0682 - accuracy: 0.9802\n",
            "Epoch 50/75\n",
            "26/26 [==============================] - 1s 34ms/step - loss: 0.1015 - accuracy: 0.9802\n",
            "Epoch 51/75\n",
            "26/26 [==============================] - 1s 34ms/step - loss: 0.0933 - accuracy: 0.9802\n",
            "Epoch 52/75\n",
            "26/26 [==============================] - 1s 35ms/step - loss: 0.0947 - accuracy: 0.9723\n",
            "Epoch 53/75\n",
            "26/26 [==============================] - 1s 34ms/step - loss: 0.0703 - accuracy: 0.9881\n",
            "Epoch 54/75\n",
            "26/26 [==============================] - 0s 18ms/step - loss: 0.0552 - accuracy: 0.9960\n",
            "Epoch 55/75\n",
            "26/26 [==============================] - 0s 18ms/step - loss: 0.0659 - accuracy: 0.9763\n",
            "Epoch 56/75\n",
            "26/26 [==============================] - 0s 18ms/step - loss: 0.0559 - accuracy: 0.9842\n",
            "Epoch 57/75\n",
            "26/26 [==============================] - 0s 18ms/step - loss: 0.0503 - accuracy: 0.9881\n",
            "Epoch 58/75\n",
            "26/26 [==============================] - 0s 17ms/step - loss: 0.0561 - accuracy: 0.9842\n",
            "Epoch 59/75\n",
            "26/26 [==============================] - 0s 18ms/step - loss: 0.0523 - accuracy: 0.9763\n",
            "Epoch 60/75\n",
            "26/26 [==============================] - 0s 18ms/step - loss: 0.0576 - accuracy: 0.9802\n",
            "Epoch 61/75\n",
            "26/26 [==============================] - 0s 19ms/step - loss: 0.0415 - accuracy: 0.9842\n",
            "Epoch 62/75\n",
            "26/26 [==============================] - 0s 19ms/step - loss: 0.0319 - accuracy: 0.9921\n",
            "Epoch 63/75\n",
            "26/26 [==============================] - 0s 18ms/step - loss: 0.0415 - accuracy: 0.9881\n",
            "Epoch 64/75\n",
            "26/26 [==============================] - 0s 19ms/step - loss: 0.0386 - accuracy: 0.9881\n",
            "Epoch 65/75\n",
            "26/26 [==============================] - 0s 19ms/step - loss: 0.0355 - accuracy: 0.9842\n",
            "Epoch 66/75\n",
            "26/26 [==============================] - 1s 19ms/step - loss: 0.0334 - accuracy: 0.9842\n",
            "Epoch 67/75\n",
            "26/26 [==============================] - 0s 18ms/step - loss: 0.0519 - accuracy: 0.9842\n",
            "Epoch 68/75\n",
            "26/26 [==============================] - 1s 20ms/step - loss: 0.0411 - accuracy: 0.9842\n",
            "Epoch 69/75\n",
            "26/26 [==============================] - 0s 18ms/step - loss: 0.0489 - accuracy: 0.9802\n",
            "Epoch 70/75\n",
            "26/26 [==============================] - 0s 19ms/step - loss: 0.0382 - accuracy: 0.9842\n",
            "Epoch 71/75\n",
            "26/26 [==============================] - 0s 17ms/step - loss: 0.0317 - accuracy: 0.9921\n",
            "Epoch 72/75\n",
            "26/26 [==============================] - 0s 18ms/step - loss: 0.0393 - accuracy: 0.9842\n",
            "Epoch 73/75\n",
            "26/26 [==============================] - 1s 24ms/step - loss: 0.0541 - accuracy: 0.9802\n",
            "Epoch 74/75\n",
            "26/26 [==============================] - 1s 31ms/step - loss: 0.0480 - accuracy: 0.9842\n",
            "Epoch 75/75\n",
            "26/26 [==============================] - 1s 34ms/step - loss: 0.1262 - accuracy: 0.9684\n"
          ]
        }
      ]
    },
    {
      "cell_type": "code",
      "source": [
        "plt.subplot(1, 2, 1)\n",
        "plt.plot(history.history['accuracy'], label='Train Accuracy', color ='blue')\n",
        "plt.legend(loc='lower right')\n",
        "plt.title('Accuracy')\n",
        "plt.show()\n",
        "\n",
        "plt.subplot(1, 2, 2)\n",
        "plt.plot(history.history['loss'], label='loss', color='orange')\n",
        "plt.legend(loc='upper right')\n",
        "plt.title('Accuracy')\n",
        "plt.show()"
      ],
      "metadata": {
        "colab": {
          "base_uri": "https://localhost:8080/",
          "height": 887
        },
        "id": "q3fuYm2xi0MR",
        "outputId": "a78bbef5-4893-4945-a72f-791ec79c9a85"
      },
      "execution_count": 9,
      "outputs": [
        {
          "output_type": "display_data",
          "data": {
            "text/plain": [
              "<Figure size 640x480 with 1 Axes>"
            ],
            "image/png": "[encoded data removed]"
          },
          "metadata": {}
        },
        {
          "output_type": "display_data",
          "data": {
            "text/plain": [
              "<Figure size 640x480 with 1 Axes>"
            ],
            "image/png": "[encoded data removed]"
          },
          "metadata": {}
        }
      ]
    },
    {
      "cell_type": "code",
      "source": [
        "import random\n",
        "def chatbot_test():\n",
        "  while True:\n",
        "    user_input = input(\"User: \")\n",
        "    pattern_test = tokenizer.texts_to_sequences([user_input])\n",
        "    x_test = pad_sequences(pattern_test, padding=\"post\")\n",
        "\n",
        "    prediction = model.predict(x_test)[0]\n",
        "    label = label_encode.inverse_transform([np.argmax(prediction)])[0]\n",
        "    response = data[data['tag'] == label]['responses'].values[0]\n",
        "\n",
        "    print(\"Chatbot: \", format(random.choice(response)))\n",
        "    if data[data['tag']] == 'goodbye':\n",
        "      break\n",
        "chatbot_test()"
      ],
      "metadata": {
        "id": "kLovSIhVipIQ",
        "colab": {
          "base_uri": "https://localhost:8080/",
          "height": 1000
        },
        "outputId": "01a0305c-5f69-44ff-90b4-50f3bfe6d6d7"
      },
      "execution_count": 22,
      "outputs": [
        {
          "output_type": "stream",
          "name": "stdout",
          "text": [
            "User: senang\n",
            "1/1 [==============================] - 0s 25ms/step\n",
            "Chatbot:  Apakah terjadi sesuatu yang membuatmu merasa seperti ini?\n",
            "User: oke\n",
            "1/1 [==============================] - 0s 23ms/step\n",
            "Chatbot:  Ceritakan lebih banyak lagi\n",
            "User: aku merasa sangat cemas\n",
            "1/1 [==============================] - 0s 25ms/step\n",
            "Chatbot:  Jangan keras pada dirimu sendiri. Kenapa kamu merasa sangat cemas?\n",
            "User: aku tidak ingin membicarakannya\n",
            "1/1 [==============================] - 0s 23ms/step\n",
            "Chatbot:  Saya ingin membantumu. Sungguh. Tapi agar saya bisa membantumu, kamu harus bicara denganku.\n",
            "User: aku menderita insomnia\n",
            "1/1 [==============================] - 0s 22ms/step\n",
            "Chatbot:  Menurutmu apa alasan di balik ini?\n",
            "User: Seseorang di keluargaku meninggal\n",
            "1/1 [==============================] - 0s 24ms/step\n",
            "Chatbot:  Saya sungguh sedih mendengarnya. Saya di sini untuk membantu Anda mengatasi kesedihan, kecemasan, dan hal lain yang mungkin Anda rasakan saat ini.\n",
            "User: berikan aku sebuah lelucon\n",
            "1/1 [==============================] - 0s 24ms/step\n",
            "Chatbot:  Kesehatan mental bukanlah sebuah lelucon.\n",
            "User: dimana kamu tinggal\n",
            "1/1 [==============================] - 0s 25ms/step\n",
            "Chatbot:  Sampai ketemu lagi.\n",
            "User: sampai jumpa\n",
            "1/1 [==============================] - 0s 31ms/step\n",
            "Chatbot:  Sampai jumpa lagi.\n",
            "User: fakta kesehatan mental\n",
            "1/1 [==============================] - 0s 23ms/step\n",
            "Chatbot:  Ada banyak jenis profesional kesehatan mental. Menemukan yang tepat untuk Anda mungkin memerlukan riset.\n",
            "User: mengapa kesehatan mental penting\n",
            "1/1 [==============================] - 0s 47ms/step\n",
            "Chatbot:  Ketika Anda memiliki kesehatan mental yang baik, Anda lebih mungkin untuk menjalin hubungan yang positif dan bermakna dengan orang lain. Anda juga lebih mungkin untuk membangun hubungan yang saling mendukung dan penuh kasih sayang.\n",
            "User: apa itu depresi\n",
            "1/1 [==============================] - 0s 23ms/step\n",
            "Chatbot:  Menurut UNICEF, depresi adalah kondisi kesehatan mental yang ditandai dengan perasaan sedih, putus asa, dan kehilangan minat pada kegiatan yang biasa dinikmati. Depresi dapat menyebabkan gangguan pada fungsi sehari-hari, seperti kesulitan tidur, gangguan nafsu makan, dan kesulitan berkonsentrasi.\n",
            "User: Apakah saya depresi\n",
            "1/1 [==============================] - 0s 23ms/step\n",
            "Chatbot:  Untuk diagnosis depresi, seseorang perlu mengalami suasana hati yang rendah atau kehilangan minat atau kesenangan dalam hidup setidaknya selama 2 minggu. Juga, mereka akan mengalami gejala-gejala berikut: perasaan sedih, putus asa, atau mudah tersinggung hampir setiap hari setiap hari.\n",
            "User: Apa itu gangguan kecemasan\n",
            "1/1 [==============================] - 0s 26ms/step\n",
            "Chatbot:  Gangguan kecemasan adalah gangguan mental yang menyebabkan rasa cemas dan takut berlebih.\n",
            "User: Bagaimana saya tahu jika saya mengalami gangguan kecemasan\n",
            "1/1 [==============================] - 0s 24ms/step\n",
            "Chatbot:  Gangguan kecemasan dapat ditandai oleh berbagai gejala, termasuk rasa cemas yang berlebihan, ketegangan otot, sulit berkonsentrasi, gelisah, dan gangguan tidur. Jika Anda merasa bahwa gejala-gejala ini mengganggu kehidupan sehari-hari Anda, penting untuk mencari bantuan profesional. Konsultasikan dengan dokter atau ahli kesehatan mental untuk evaluasi lebih lanjut dan rekomendasi perawatan.\n"
          ]
        },
        {
          "output_type": "error",
          "ename": "KeyboardInterrupt",
          "evalue": "ignored",
          "traceback": [
            "\u001b[0;31m---------------------------------------------------------------------------\u001b[0m",
            "\u001b[0;31mKeyboardInterrupt\u001b[0m                         Traceback (most recent call last)",
            "\u001b[0;32m<ipython-input-22-8c1f850afa40>\u001b[0m in \u001b[0;36m<cell line: 15>\u001b[0;34m()\u001b[0m\n\u001b[1;32m     13\u001b[0m     \u001b[0;32mif\u001b[0m \u001b[0mresponse\u001b[0m \u001b[0;34m==\u001b[0m \u001b[0;34m'goodbye'\u001b[0m\u001b[0;34m:\u001b[0m\u001b[0;34m\u001b[0m\u001b[0;34m\u001b[0m\u001b[0m\n\u001b[1;32m     14\u001b[0m       \u001b[0;32mbreak\u001b[0m\u001b[0;34m\u001b[0m\u001b[0;34m\u001b[0m\u001b[0m\n\u001b[0;32m---> 15\u001b[0;31m \u001b[0mchatbot_test\u001b[0m\u001b[0;34m(\u001b[0m\u001b[0;34m)\u001b[0m\u001b[0;34m\u001b[0m\u001b[0;34m\u001b[0m\u001b[0m\n\u001b[0m",
            "\u001b[0;32m<ipython-input-22-8c1f850afa40>\u001b[0m in \u001b[0;36mchatbot_test\u001b[0;34m()\u001b[0m\n\u001b[1;32m      2\u001b[0m \u001b[0;32mdef\u001b[0m \u001b[0mchatbot_test\u001b[0m\u001b[0;34m(\u001b[0m\u001b[0;34m)\u001b[0m\u001b[0;34m:\u001b[0m\u001b[0;34m\u001b[0m\u001b[0;34m\u001b[0m\u001b[0m\n\u001b[1;32m      3\u001b[0m   \u001b[0;32mwhile\u001b[0m \u001b[0;32mTrue\u001b[0m\u001b[0;34m:\u001b[0m\u001b[0;34m\u001b[0m\u001b[0;34m\u001b[0m\u001b[0m\n\u001b[0;32m----> 4\u001b[0;31m     \u001b[0muser_input\u001b[0m \u001b[0;34m=\u001b[0m \u001b[0minput\u001b[0m\u001b[0;34m(\u001b[0m\u001b[0;34m\"User: \"\u001b[0m\u001b[0;34m)\u001b[0m\u001b[0;34m\u001b[0m\u001b[0;34m\u001b[0m\u001b[0m\n\u001b[0m\u001b[1;32m      5\u001b[0m     \u001b[0mpattern_test\u001b[0m \u001b[0;34m=\u001b[0m \u001b[0mtokenizer\u001b[0m\u001b[0;34m.\u001b[0m\u001b[0mtexts_to_sequences\u001b[0m\u001b[0;34m(\u001b[0m\u001b[0;34m[\u001b[0m\u001b[0muser_input\u001b[0m\u001b[0;34m]\u001b[0m\u001b[0;34m)\u001b[0m\u001b[0;34m\u001b[0m\u001b[0;34m\u001b[0m\u001b[0m\n\u001b[1;32m      6\u001b[0m     \u001b[0mx_test\u001b[0m \u001b[0;34m=\u001b[0m \u001b[0mpad_sequences\u001b[0m\u001b[0;34m(\u001b[0m\u001b[0mpattern_test\u001b[0m\u001b[0;34m,\u001b[0m \u001b[0mpadding\u001b[0m\u001b[0;34m=\u001b[0m\u001b[0;34m\"post\"\u001b[0m\u001b[0;34m)\u001b[0m\u001b[0;34m\u001b[0m\u001b[0;34m\u001b[0m\u001b[0m\n",
            "\u001b[0;32m/usr/local/lib/python3.10/dist-packages/ipykernel/kernelbase.py\u001b[0m in \u001b[0;36mraw_input\u001b[0;34m(self, prompt)\u001b[0m\n\u001b[1;32m    849\u001b[0m                 \u001b[0;34m\"raw_input was called, but this frontend does not support input requests.\"\u001b[0m\u001b[0;34m\u001b[0m\u001b[0;34m\u001b[0m\u001b[0m\n\u001b[1;32m    850\u001b[0m             )\n\u001b[0;32m--> 851\u001b[0;31m         return self._input_request(str(prompt),\n\u001b[0m\u001b[1;32m    852\u001b[0m             \u001b[0mself\u001b[0m\u001b[0;34m.\u001b[0m\u001b[0m_parent_ident\u001b[0m\u001b[0;34m,\u001b[0m\u001b[0;34m\u001b[0m\u001b[0;34m\u001b[0m\u001b[0m\n\u001b[1;32m    853\u001b[0m             \u001b[0mself\u001b[0m\u001b[0;34m.\u001b[0m\u001b[0m_parent_header\u001b[0m\u001b[0;34m,\u001b[0m\u001b[0;34m\u001b[0m\u001b[0;34m\u001b[0m\u001b[0m\n",
            "\u001b[0;32m/usr/local/lib/python3.10/dist-packages/ipykernel/kernelbase.py\u001b[0m in \u001b[0;36m_input_request\u001b[0;34m(self, prompt, ident, parent, password)\u001b[0m\n\u001b[1;32m    893\u001b[0m             \u001b[0;32mexcept\u001b[0m \u001b[0mKeyboardInterrupt\u001b[0m\u001b[0;34m:\u001b[0m\u001b[0;34m\u001b[0m\u001b[0;34m\u001b[0m\u001b[0m\n\u001b[1;32m    894\u001b[0m                 \u001b[0;31m# re-raise KeyboardInterrupt, to truncate traceback\u001b[0m\u001b[0;34m\u001b[0m\u001b[0;34m\u001b[0m\u001b[0m\n\u001b[0;32m--> 895\u001b[0;31m                 \u001b[0;32mraise\u001b[0m \u001b[0mKeyboardInterrupt\u001b[0m\u001b[0;34m(\u001b[0m\u001b[0;34m\"Interrupted by user\"\u001b[0m\u001b[0;34m)\u001b[0m \u001b[0;32mfrom\u001b[0m \u001b[0;32mNone\u001b[0m\u001b[0;34m\u001b[0m\u001b[0;34m\u001b[0m\u001b[0m\n\u001b[0m\u001b[1;32m    896\u001b[0m             \u001b[0;32mexcept\u001b[0m \u001b[0mException\u001b[0m \u001b[0;32mas\u001b[0m \u001b[0me\u001b[0m\u001b[0;34m:\u001b[0m\u001b[0;34m\u001b[0m\u001b[0;34m\u001b[0m\u001b[0m\n\u001b[1;32m    897\u001b[0m                 \u001b[0mself\u001b[0m\u001b[0;34m.\u001b[0m\u001b[0mlog\u001b[0m\u001b[0;34m.\u001b[0m\u001b[0mwarning\u001b[0m\u001b[0;34m(\u001b[0m\u001b[0;34m\"Invalid Message:\"\u001b[0m\u001b[0;34m,\u001b[0m \u001b[0mexc_info\u001b[0m\u001b[0;34m=\u001b[0m\u001b[0;32mTrue\u001b[0m\u001b[0;34m)\u001b[0m\u001b[0;34m\u001b[0m\u001b[0;34m\u001b[0m\u001b[0m\n",
            "\u001b[0;31mKeyboardInterrupt\u001b[0m: Interrupted by user"
          ]
        }
      ]
    },
    {
      "cell_type": "code",
      "source": [],
      "metadata": {
        "id": "8h5q6FLmp3TW"
      },
      "execution_count": null,
      "outputs": []
    }
  ]
}