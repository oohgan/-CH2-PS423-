{
  "nbformat": 4,
  "nbformat_minor": 0,
  "metadata": {
    "colab": {
      "provenance": [],
      "gpuType": "T4"
    },
    "kernelspec": {
      "name": "python3",
      "display_name": "Python 3"
    },
    "language_info": {
      "name": "python"
    },
    "accelerator": "GPU"
  },
  "cells": [
    {
      "cell_type": "code",
      "execution_count": 1,
      "metadata": {
        "id": "9UoNwXjMtJ15"
      },
      "outputs": [],
      "source": [
        "import json\n",
        "import string\n",
        "import random\n",
        "import pathlib\n",
        "import numpy as np\n",
        "import pandas as pd\n",
        "import tensorflow as tf\n",
        "import matplotlib.pyplot as plt"
      ]
    },
    {
      "cell_type": "code",
      "source": [
        "from tensorflow.keras.models import Model\n",
        "from tensorflow.keras.utils import plot_model\n",
        "from sklearn.preprocessing import LabelEncoder\n",
        "from tensorflow.keras.preprocessing.text import Tokenizer\n",
        "from tensorflow.keras.preprocessing.sequence import pad_sequences"
      ],
      "metadata": {
        "id": "0gSyTq6fBs0v"
      },
      "execution_count": 2,
      "outputs": []
    },
    {
      "cell_type": "code",
      "source": [
        "with open('/content/Mental Health Conversational.json', 'r') as content:\n",
        "  chatbot = json.load(content)\n",
        "data = pd.DataFrame(chatbot['intents'])"
      ],
      "metadata": {
        "id": "2mHdDoN2zhiK"
      },
      "execution_count": 3,
      "outputs": []
    },
    {
      "cell_type": "code",
      "source": [
        "dictionary = {\"tag\":[], \"patterns\":[], \"responses\":[]}\n",
        "for i in range (len(data)):\n",
        "  pattern = data[data.index==i]['patterns'].values[0]\n",
        "  response = data[data.index==i]['responses'].values[0]\n",
        "  tag = data[data.index==i]['tag'].values[0]\n",
        "  for j in range (len(pattern)):\n",
        "    dictionary['tag'].append(tag)\n",
        "    dictionary['patterns'].append(pattern[j])\n",
        "    dictionary['responses'].append(response)\n",
        "data = pd.DataFrame.from_dict(dictionary)\n",
        "data"
      ],
      "metadata": {
        "id": "DePlw14BxZ55",
        "colab": {
          "base_uri": "https://localhost:8080/",
          "height": 597
        },
        "outputId": "0fefc1f3-b074-45d1-b92d-e30df1d5eeea"
      },
      "execution_count": 4,
      "outputs": [
        {
          "output_type": "execute_result",
          "data": {
            "text/plain": [
              "          tag                                           patterns  \\\n",
              "0    greeting                                                Hai   \n",
              "1    greeting                                               Halo   \n",
              "2    greeting                                     Hai apa kabar?   \n",
              "3    greeting                                  Hai, yang di sana   \n",
              "4     morning                                       Selamat pagi   \n",
              "..        ...                                                ...   \n",
              "224   fact_28  Apa yang harus saya lakukan jika saya khawatir...   \n",
              "225   fact_29        Bagaimana saya tahu kalau saya tidak sehat?   \n",
              "226   fact_30  Bagaimana saya bisa menjaga hubungan sosial? B...   \n",
              "227   fact_31          Apa perbedaan antara kecemasan dan stres?   \n",
              "228   fact_32        Apa perbedaan antara kesedihan dan depresi?   \n",
              "\n",
              "                                             responses  \n",
              "0    [Halo! Selamat bertemu denganmu. Bagaimana kab...  \n",
              "1    [Halo! Selamat bertemu denganmu. Bagaimana kab...  \n",
              "2    [Halo! Selamat bertemu denganmu. Bagaimana kab...  \n",
              "3    [Halo! Selamat bertemu denganmu. Bagaimana kab...  \n",
              "4    [Selamat pagi. Saya harap Anda tidur nyenyak. ...  \n",
              "..                                                 ...  \n",
              "224  [Yang paling penting adalah berbicara dengan s...  \n",
              "225  [Jika keyakinan, pikiran, perasaan, atau peril...  \n",
              "226  [Banyak orang yang sendirian saat ini, tapi ki...  \n",
              "227  [Stres dan kecemasan sering digunakan secara b...  \n",
              "228  [Kesedihan merupakan reaksi normal terhadap ke...  \n",
              "\n",
              "[229 rows x 3 columns]"
            ],
            "text/html": [
              "\n",
              "  <div id=\"df-a62fef2e-9a8d-408f-a1a8-f672e1598433\" class=\"colab-df-container\">\n",
              "    <div>\n",
              "<style scoped>\n",
              "    .dataframe tbody tr th:only-of-type {\n",
              "        vertical-align: middle;\n",
              "    }\n",
              "\n",
              "    .dataframe tbody tr th {\n",
              "        vertical-align: top;\n",
              "    }\n",
              "\n",
              "    .dataframe thead th {\n",
              "        text-align: right;\n",
              "    }\n",
              "</style>\n",
              "<table border=\"1\" class=\"dataframe\">\n",
              "  <thead>\n",
              "    <tr style=\"text-align: right;\">\n",
              "      <th></th>\n",
              "      <th>tag</th>\n",
              "      <th>patterns</th>\n",
              "      <th>responses</th>\n",
              "    </tr>\n",
              "  </thead>\n",
              "  <tbody>\n",
              "    <tr>\n",
              "      <th>0</th>\n",
              "      <td>greeting</td>\n",
              "      <td>Hai</td>\n",
              "      <td>[Halo! Selamat bertemu denganmu. Bagaimana kab...</td>\n",
              "    </tr>\n",
              "    <tr>\n",
              "      <th>1</th>\n",
              "      <td>greeting</td>\n",
              "      <td>Halo</td>\n",
              "      <td>[Halo! Selamat bertemu denganmu. Bagaimana kab...</td>\n",
              "    </tr>\n",
              "    <tr>\n",
              "      <th>2</th>\n",
              "      <td>greeting</td>\n",
              "      <td>Hai apa kabar?</td>\n",
              "      <td>[Halo! Selamat bertemu denganmu. Bagaimana kab...</td>\n",
              "    </tr>\n",
              "    <tr>\n",
              "      <th>3</th>\n",
              "      <td>greeting</td>\n",
              "      <td>Hai, yang di sana</td>\n",
              "      <td>[Halo! Selamat bertemu denganmu. Bagaimana kab...</td>\n",
              "    </tr>\n",
              "    <tr>\n",
              "      <th>4</th>\n",
              "      <td>morning</td>\n",
              "      <td>Selamat pagi</td>\n",
              "      <td>[Selamat pagi. Saya harap Anda tidur nyenyak. ...</td>\n",
              "    </tr>\n",
              "    <tr>\n",
              "      <th>...</th>\n",
              "      <td>...</td>\n",
              "      <td>...</td>\n",
              "      <td>...</td>\n",
              "    </tr>\n",
              "    <tr>\n",
              "      <th>224</th>\n",
              "      <td>fact_28</td>\n",
              "      <td>Apa yang harus saya lakukan jika saya khawatir...</td>\n",
              "      <td>[Yang paling penting adalah berbicara dengan s...</td>\n",
              "    </tr>\n",
              "    <tr>\n",
              "      <th>225</th>\n",
              "      <td>fact_29</td>\n",
              "      <td>Bagaimana saya tahu kalau saya tidak sehat?</td>\n",
              "      <td>[Jika keyakinan, pikiran, perasaan, atau peril...</td>\n",
              "    </tr>\n",
              "    <tr>\n",
              "      <th>226</th>\n",
              "      <td>fact_30</td>\n",
              "      <td>Bagaimana saya bisa menjaga hubungan sosial? B...</td>\n",
              "      <td>[Banyak orang yang sendirian saat ini, tapi ki...</td>\n",
              "    </tr>\n",
              "    <tr>\n",
              "      <th>227</th>\n",
              "      <td>fact_31</td>\n",
              "      <td>Apa perbedaan antara kecemasan dan stres?</td>\n",
              "      <td>[Stres dan kecemasan sering digunakan secara b...</td>\n",
              "    </tr>\n",
              "    <tr>\n",
              "      <th>228</th>\n",
              "      <td>fact_32</td>\n",
              "      <td>Apa perbedaan antara kesedihan dan depresi?</td>\n",
              "      <td>[Kesedihan merupakan reaksi normal terhadap ke...</td>\n",
              "    </tr>\n",
              "  </tbody>\n",
              "</table>\n",
              "<p>229 rows × 3 columns</p>\n",
              "</div>\n",
              "    <div class=\"colab-df-buttons\">\n",
              "\n",
              "  <div class=\"colab-df-container\">\n",
              "    <button class=\"colab-df-convert\" onclick=\"convertToInteractive('df-a62fef2e-9a8d-408f-a1a8-f672e1598433')\"\n",
              "            title=\"Convert this dataframe to an interactive table.\"\n",
              "            style=\"display:none;\">\n",
              "\n",
              "  <svg xmlns=\"http://www.w3.org/2000/svg\" height=\"24px\" viewBox=\"0 -960 960 960\">\n",
              "    <path d=\"M120-120v-720h720v720H120Zm60-500h600v-160H180v160Zm220 220h160v-160H400v160Zm0 220h160v-160H400v160ZM180-400h160v-160H180v160Zm440 0h160v-160H620v160ZM180-180h160v-160H180v160Zm440 0h160v-160H620v160Z\"/>\n",
              "  </svg>\n",
              "    </button>\n",
              "\n",
              "  <style>\n",
              "    .colab-df-container {\n",
              "      display:flex;\n",
              "      gap: 12px;\n",
              "    }\n",
              "\n",
              "    .colab-df-convert {\n",
              "      background-color: #E8F0FE;\n",
              "      border: none;\n",
              "      border-radius: 50%;\n",
              "      cursor: pointer;\n",
              "      display: none;\n",
              "      fill: #1967D2;\n",
              "      height: 32px;\n",
              "      padding: 0 0 0 0;\n",
              "      width: 32px;\n",
              "    }\n",
              "\n",
              "    .colab-df-convert:hover {\n",
              "      background-color: #E2EBFA;\n",
              "      box-shadow: 0px 1px 2px rgba(60, 64, 67, 0.3), 0px 1px 3px 1px rgba(60, 64, 67, 0.15);\n",
              "      fill: #174EA6;\n",
              "    }\n",
              "\n",
              "    .colab-df-buttons div {\n",
              "      margin-bottom: 4px;\n",
              "    }\n",
              "\n",
              "    [theme=dark] .colab-df-convert {\n",
              "      background-color: #3B4455;\n",
              "      fill: #D2E3FC;\n",
              "    }\n",
              "\n",
              "    [theme=dark] .colab-df-convert:hover {\n",
              "      background-color: #434B5C;\n",
              "      box-shadow: 0px 1px 3px 1px rgba(0, 0, 0, 0.15);\n",
              "      filter: drop-shadow(0px 1px 2px rgba(0, 0, 0, 0.3));\n",
              "      fill: #FFFFFF;\n",
              "    }\n",
              "  </style>\n",
              "\n",
              "    <script>\n",
              "      const buttonEl =\n",
              "        document.querySelector('#df-a62fef2e-9a8d-408f-a1a8-f672e1598433 button.colab-df-convert');\n",
              "      buttonEl.style.display =\n",
              "        google.colab.kernel.accessAllowed ? 'block' : 'none';\n",
              "\n",
              "      async function convertToInteractive(key) {\n",
              "        const element = document.querySelector('#df-a62fef2e-9a8d-408f-a1a8-f672e1598433');\n",
              "        const dataTable =\n",
              "          await google.colab.kernel.invokeFunction('convertToInteractive',\n",
              "                                                    [key], {});\n",
              "        if (!dataTable) return;\n",
              "\n",
              "        const docLinkHtml = 'Like what you see? Visit the ' +\n",
              "          '<a target=\"_blank\" href=https://colab.research.google.com/notebooks/data_table.ipynb>data table notebook</a>'\n",
              "          + ' to learn more about interactive tables.';\n",
              "        element.innerHTML = '';\n",
              "        dataTable['output_type'] = 'display_data';\n",
              "        await google.colab.output.renderOutput(dataTable, element);\n",
              "        const docLink = document.createElement('div');\n",
              "        docLink.innerHTML = docLinkHtml;\n",
              "        element.appendChild(docLink);\n",
              "      }\n",
              "    </script>\n",
              "  </div>\n",
              "\n",
              "\n",
              "<div id=\"df-18ecce11-da4e-4a19-8528-6cfed218771d\">\n",
              "  <button class=\"colab-df-quickchart\" onclick=\"quickchart('df-18ecce11-da4e-4a19-8528-6cfed218771d')\"\n",
              "            title=\"Suggest charts\"\n",
              "            style=\"display:none;\">\n",
              "\n",
              "<svg xmlns=\"http://www.w3.org/2000/svg\" height=\"24px\"viewBox=\"0 0 24 24\"\n",
              "     width=\"24px\">\n",
              "    <g>\n",
              "        <path d=\"M19 3H5c-1.1 0-2 .9-2 2v14c0 1.1.9 2 2 2h14c1.1 0 2-.9 2-2V5c0-1.1-.9-2-2-2zM9 17H7v-7h2v7zm4 0h-2V7h2v10zm4 0h-2v-4h2v4z\"/>\n",
              "    </g>\n",
              "</svg>\n",
              "  </button>\n",
              "\n",
              "<style>\n",
              "  .colab-df-quickchart {\n",
              "      --bg-color: #E8F0FE;\n",
              "      --fill-color: #1967D2;\n",
              "      --hover-bg-color: #E2EBFA;\n",
              "      --hover-fill-color: #174EA6;\n",
              "      --disabled-fill-color: #AAA;\n",
              "      --disabled-bg-color: #DDD;\n",
              "  }\n",
              "\n",
              "  [theme=dark] .colab-df-quickchart {\n",
              "      --bg-color: #3B4455;\n",
              "      --fill-color: #D2E3FC;\n",
              "      --hover-bg-color: #434B5C;\n",
              "      --hover-fill-color: #FFFFFF;\n",
              "      --disabled-bg-color: #3B4455;\n",
              "      --disabled-fill-color: #666;\n",
              "  }\n",
              "\n",
              "  .colab-df-quickchart {\n",
              "    background-color: var(--bg-color);\n",
              "    border: none;\n",
              "    border-radius: 50%;\n",
              "    cursor: pointer;\n",
              "    display: none;\n",
              "    fill: var(--fill-color);\n",
              "    height: 32px;\n",
              "    padding: 0;\n",
              "    width: 32px;\n",
              "  }\n",
              "\n",
              "  .colab-df-quickchart:hover {\n",
              "    background-color: var(--hover-bg-color);\n",
              "    box-shadow: 0 1px 2px rgba(60, 64, 67, 0.3), 0 1px 3px 1px rgba(60, 64, 67, 0.15);\n",
              "    fill: var(--button-hover-fill-color);\n",
              "  }\n",
              "\n",
              "  .colab-df-quickchart-complete:disabled,\n",
              "  .colab-df-quickchart-complete:disabled:hover {\n",
              "    background-color: var(--disabled-bg-color);\n",
              "    fill: var(--disabled-fill-color);\n",
              "    box-shadow: none;\n",
              "  }\n",
              "\n",
              "  .colab-df-spinner {\n",
              "    border: 2px solid var(--fill-color);\n",
              "    border-color: transparent;\n",
              "    border-bottom-color: var(--fill-color);\n",
              "    animation:\n",
              "      spin 1s steps(1) infinite;\n",
              "  }\n",
              "\n",
              "  @keyframes spin {\n",
              "    0% {\n",
              "      border-color: transparent;\n",
              "      border-bottom-color: var(--fill-color);\n",
              "      border-left-color: var(--fill-color);\n",
              "    }\n",
              "    20% {\n",
              "      border-color: transparent;\n",
              "      border-left-color: var(--fill-color);\n",
              "      border-top-color: var(--fill-color);\n",
              "    }\n",
              "    30% {\n",
              "      border-color: transparent;\n",
              "      border-left-color: var(--fill-color);\n",
              "      border-top-color: var(--fill-color);\n",
              "      border-right-color: var(--fill-color);\n",
              "    }\n",
              "    40% {\n",
              "      border-color: transparent;\n",
              "      border-right-color: var(--fill-color);\n",
              "      border-top-color: var(--fill-color);\n",
              "    }\n",
              "    60% {\n",
              "      border-color: transparent;\n",
              "      border-right-color: var(--fill-color);\n",
              "    }\n",
              "    80% {\n",
              "      border-color: transparent;\n",
              "      border-right-color: var(--fill-color);\n",
              "      border-bottom-color: var(--fill-color);\n",
              "    }\n",
              "    90% {\n",
              "      border-color: transparent;\n",
              "      border-bottom-color: var(--fill-color);\n",
              "    }\n",
              "  }\n",
              "</style>\n",
              "\n",
              "  <script>\n",
              "    async function quickchart(key) {\n",
              "      const quickchartButtonEl =\n",
              "        document.querySelector('#' + key + ' button');\n",
              "      quickchartButtonEl.disabled = true;  // To prevent multiple clicks.\n",
              "      quickchartButtonEl.classList.add('colab-df-spinner');\n",
              "      try {\n",
              "        const charts = await google.colab.kernel.invokeFunction(\n",
              "            'suggestCharts', [key], {});\n",
              "      } catch (error) {\n",
              "        console.error('Error during call to suggestCharts:', error);\n",
              "      }\n",
              "      quickchartButtonEl.classList.remove('colab-df-spinner');\n",
              "      quickchartButtonEl.classList.add('colab-df-quickchart-complete');\n",
              "    }\n",
              "    (() => {\n",
              "      let quickchartButtonEl =\n",
              "        document.querySelector('#df-18ecce11-da4e-4a19-8528-6cfed218771d button');\n",
              "      quickchartButtonEl.style.display =\n",
              "        google.colab.kernel.accessAllowed ? 'block' : 'none';\n",
              "    })();\n",
              "  </script>\n",
              "</div>\n",
              "    </div>\n",
              "  </div>\n"
            ]
          },
          "metadata": {},
          "execution_count": 4
        }
      ]
    },
    {
      "cell_type": "code",
      "source": [
        "data['tag'].unique()"
      ],
      "metadata": {
        "colab": {
          "base_uri": "https://localhost:8080/"
        },
        "id": "gf3hpV5HIU_I",
        "outputId": "bcfb2810-2a47-4cf4-f9e5-9ee6a2ff8d11"
      },
      "execution_count": 5,
      "outputs": [
        {
          "output_type": "execute_result",
          "data": {
            "text/plain": [
              "array(['greeting', 'morning', 'afternoon', 'evening', 'night', 'goodbye',\n",
              "       'thanks', 'about', 'skill', 'creation', 'help', 'sad', 'stressed',\n",
              "       'worthless', 'depressed', 'happy', 'casual', 'anxious',\n",
              "       'not-talking', 'sleep', 'scared', 'death', 'understand', 'done',\n",
              "       'suicide', 'hate-you', 'hate-me', 'default', 'jokes', 'repeat',\n",
              "       'wrong', 'stupid', 'location', 'something-else', 'ask', 'problem',\n",
              "       'no-approach', 'learn-more', 'user-agree', 'meditation',\n",
              "       'user_meditation', 'hugu_useful', 'user-advice',\n",
              "       'learn_mental_health', 'mental_health_fact', 'fact_1', 'fact_2',\n",
              "       'fact_3', 'fact_4', 'fact_5', 'fact_6', 'fact_7', 'fact_8',\n",
              "       'fact_9', 'fact_10', 'fact_11', 'fact_12', 'fact_13', 'fact_14',\n",
              "       'fact_15', 'fact_16', 'fact_17', 'fact_18', 'fact_19', 'fact_20',\n",
              "       'fact_21', 'fact_22', 'fact_23', 'fact_24', 'fact_25', 'fact_26',\n",
              "       'fact_27', 'fact_28', 'fact_29', 'fact_30', 'fact_31', 'fact_32'],\n",
              "      dtype=object)"
            ]
          },
          "metadata": {},
          "execution_count": 5
        }
      ]
    },
    {
      "cell_type": "code",
      "source": [
        "with open('/content/word_dictionary.json', 'r') as f:\n",
        "  json_dict = json.load(f)\n",
        "tokenizer_json=json_dict.keys()\n",
        "\n",
        "tokenizer = Tokenizer(lower=True, split=' ', oov_token='<OOV>')\n",
        "combined = list(data['patterns']) + list(tokenizer_json)\n",
        "tokenizer.fit_on_texts(combined)\n",
        "word_index = tokenizer.word_index\n",
        "\n",
        "tokenizer.get_config()\n",
        "print(len(word_index))"
      ],
      "metadata": {
        "id": "iILLZIyF2HRB",
        "colab": {
          "base_uri": "https://localhost:8080/"
        },
        "outputId": "71390f24-001c-4b9f-86d6-03f8c2a86bf1"
      },
      "execution_count": 6,
      "outputs": [
        {
          "output_type": "stream",
          "name": "stdout",
          "text": [
            "88183\n"
          ]
        }
      ]
    },
    {
      "cell_type": "code",
      "source": [
        "label_encode = LabelEncoder()\n",
        "tokenizer.fit_on_texts(data['patterns'])\n",
        "\n",
        "pattern_train = tokenizer.texts_to_sequences(data['patterns'])\n",
        "x_train = pad_sequences(pattern_train, padding=\"post\")\n",
        "print(\"Input shape : \", x_train.shape)\n",
        "print(len(x_train[0]))"
      ],
      "metadata": {
        "colab": {
          "base_uri": "https://localhost:8080/"
        },
        "id": "4s9JCHXDC4fy",
        "outputId": "a6b22e5e-0669-465f-9bb8-65fa52cac909"
      },
      "execution_count": 7,
      "outputs": [
        {
          "output_type": "stream",
          "name": "stdout",
          "text": [
            "Input shape :  (229, 18)\n",
            "18\n"
          ]
        }
      ]
    },
    {
      "cell_type": "code",
      "source": [
        "vocabulary = len(tokenizer.word_index)\n",
        "print(\"Number unique word : \",vocabulary)\n",
        "\n",
        "print()\n",
        "x_label = label_encode.fit_transform(data['tag'])\n",
        "print(\"Label shape : \", x_label.shape)\n",
        "print(\"Output length : \", len(np.unique(x_label)))"
      ],
      "metadata": {
        "colab": {
          "base_uri": "https://localhost:8080/"
        },
        "id": "G5gXiaR4bQGH",
        "outputId": "502e4250-7bfd-4cce-ef6d-90abc61d1343"
      },
      "execution_count": 8,
      "outputs": [
        {
          "output_type": "stream",
          "name": "stdout",
          "text": [
            "Number unique word :  88183\n",
            "\n",
            "Label shape :  (229,)\n",
            "Output length :  77\n"
          ]
        }
      ]
    },
    {
      "cell_type": "code",
      "source": [
        "# !rm -f glove.6B.zip\n",
        "!wget https://nlp.stanford.edu/data/glove.6B.zip\n",
        "!unzip glove.6B.zip"
      ],
      "metadata": {
        "id": "s1aw9H3BOYD4",
        "colab": {
          "base_uri": "https://localhost:8080/"
        },
        "outputId": "09a571b8-268e-4d60-88d4-13bc5b331126"
      },
      "execution_count": 16,
      "outputs": [
        {
          "output_type": "stream",
          "name": "stdout",
          "text": [
            "--2023-12-11 07:56:57--  https://nlp.stanford.edu/data/glove.6B.zip\n",
            "Resolving nlp.stanford.edu (nlp.stanford.edu)... 171.64.67.140\n",
            "Connecting to nlp.stanford.edu (nlp.stanford.edu)|171.64.67.140|:443... connected.\n",
            "HTTP request sent, awaiting response... 301 Moved Permanently\n",
            "Location: https://downloads.cs.stanford.edu/nlp/data/glove.6B.zip [following]\n",
            "--2023-12-11 07:56:57--  https://downloads.cs.stanford.edu/nlp/data/glove.6B.zip\n",
            "Resolving downloads.cs.stanford.edu (downloads.cs.stanford.edu)... 171.64.64.22\n",
            "Connecting to downloads.cs.stanford.edu (downloads.cs.stanford.edu)|171.64.64.22|:443... connected.\n",
            "HTTP request sent, awaiting response... 200 OK\n",
            "Length: 862182613 (822M) [application/zip]\n",
            "Saving to: ‘glove.6B.zip’\n",
            "\n",
            "glove.6B.zip        100%[===================>] 822.24M  5.01MB/s    in 2m 39s  \n",
            "\n",
            "2023-12-11 07:59:37 (5.16 MB/s) - ‘glove.6B.zip’ saved [862182613/862182613]\n",
            "\n",
            "Archive:  glove.6B.zip\n",
            "  inflating: glove.6B.50d.txt        \n",
            "  inflating: glove.6B.100d.txt       \n",
            "  inflating: glove.6B.200d.txt       \n",
            "  inflating: glove.6B.300d.txt       \n"
          ]
        }
      ]
    },
    {
      "cell_type": "code",
      "source": [
        "glove_dir = \"/content/glove.6B.100d.txt\"\n",
        "embeddings_index = {}\n",
        "file_ = open(glove_dir, encoding='utf8')\n",
        "for line in file_:\n",
        "  arr = line.split()\n",
        "  single_word = arr[0]\n",
        "  w = np.asarray(arr[1:],dtype='float32')\n",
        "  embeddings_index[single_word] = w\n",
        "file_.close()\n",
        "print(len(embeddings_index))"
      ],
      "metadata": {
        "colab": {
          "base_uri": "https://localhost:8080/"
        },
        "id": "ultUUZnCTiB9",
        "outputId": "97ea136c-5a1a-400d-89b4-74ea97766b41"
      },
      "execution_count": 17,
      "outputs": [
        {
          "output_type": "stream",
          "name": "stdout",
          "text": [
            "400000\n"
          ]
        }
      ]
    },
    {
      "cell_type": "code",
      "source": [
        "max = vocabulary + 1\n",
        "word_index =tokenizer.word_index\n",
        "embedding_mat = np.zeros((max, 100)).astype(object)\n",
        "for word, i in word_index.items():\n",
        "  embedding_vector = embeddings_index.get(word)\n",
        "  if embedding_vector is not None:\n",
        "    embedding_mat[i] = embedding_vector"
      ],
      "metadata": {
        "id": "QCKdsTHpVQLB"
      },
      "execution_count": 18,
      "outputs": []
    },
    {
      "cell_type": "code",
      "source": [
        "model = tf.keras.Sequential([\n",
        "    tf.keras.layers.Embedding(input_length=x_train.shape[1], input_dim=vocabulary+1, output_dim = 100, mask_zero=True,\n",
        "                              weights=[embedding_mat], trainable=False),\n",
        "    tf.keras.layers.Bidirectional(tf.keras.layers.LSTM(128, return_sequences=True)),\n",
        "    tf.keras.layers.LayerNormalization(),\n",
        "    tf.keras.layers.Bidirectional(tf.keras.layers.LSTM(128, return_sequences=True)),\n",
        "    tf.keras.layers.LayerNormalization(),\n",
        "    tf.keras.layers.Bidirectional(tf.keras.layers.LSTM(128, return_sequences=False)),\n",
        "    tf.keras.layers.LayerNormalization(),\n",
        "    tf.keras.layers.Dense(256, activation='relu'),\n",
        "    tf.keras.layers.LayerNormalization(),\n",
        "    tf.keras.layers.Dropout(0.4),\n",
        "    # tf.keras.layers.Dense(128, activation='relu'),\n",
        "    tf.keras.layers.LayerNormalization(),\n",
        "    tf.keras.layers.Dense(len(np.unique(x_label)), activation='softmax')\n",
        "])\n",
        "\n",
        "model.summary()\n",
        "# model.layers[0].set_weights([embedding_mat])\n",
        "# model.layers[0].trainable = False\n",
        "model.compile(loss='sparse_categorical_crossentropy',optimizer='adam',metrics=['accuracy'])\n"
      ],
      "metadata": {
        "id": "dFbuz9mcIrc4",
        "colab": {
          "base_uri": "https://localhost:8080/"
        },
        "outputId": "ac558e0d-8406-465d-f72e-e8343d1ff2cb"
      },
      "execution_count": 19,
      "outputs": [
        {
          "output_type": "stream",
          "name": "stdout",
          "text": [
            "Model: \"sequential\"\n",
            "_________________________________________________________________\n",
            " Layer (type)                Output Shape              Param #   \n",
            "=================================================================\n",
            " embedding (Embedding)       (None, 18, 100)           8818400   \n",
            "                                                                 \n",
            " bidirectional (Bidirection  (None, 18, 256)           234496    \n",
            " al)                                                             \n",
            "                                                                 \n",
            " layer_normalization (Layer  (None, 18, 256)           512       \n",
            " Normalization)                                                  \n",
            "                                                                 \n",
            " bidirectional_1 (Bidirecti  (None, 18, 256)           394240    \n",
            " onal)                                                           \n",
            "                                                                 \n",
            " layer_normalization_1 (Lay  (None, 18, 256)           512       \n",
            " erNormalization)                                                \n",
            "                                                                 \n",
            " bidirectional_2 (Bidirecti  (None, 256)               394240    \n",
            " onal)                                                           \n",
            "                                                                 \n",
            " layer_normalization_2 (Lay  (None, 256)               512       \n",
            " erNormalization)                                                \n",
            "                                                                 \n",
            " dense (Dense)               (None, 256)               65792     \n",
            "                                                                 \n",
            " layer_normalization_3 (Lay  (None, 256)               512       \n",
            " erNormalization)                                                \n",
            "                                                                 \n",
            " dropout (Dropout)           (None, 256)               0         \n",
            "                                                                 \n",
            " layer_normalization_4 (Lay  (None, 256)               512       \n",
            " erNormalization)                                                \n",
            "                                                                 \n",
            " dense_1 (Dense)             (None, 77)                19789     \n",
            "                                                                 \n",
            "=================================================================\n",
            "Total params: 9929517 (37.88 MB)\n",
            "Trainable params: 1111117 (4.24 MB)\n",
            "Non-trainable params: 8818400 (33.64 MB)\n",
            "_________________________________________________________________\n"
          ]
        }
      ]
    },
    {
      "cell_type": "code",
      "source": [
        "class MyCallback(tf.keras.callbacks.Callback):\n",
        "  def on_epoch_end(self, epoch, logs={}):\n",
        "    if logs.get('accuracy') > 0.82:\n",
        "      self.model.stop_training = True\n",
        "\n",
        "callback=MyCallback()\n",
        "history = model.fit(x_train, x_label,\n",
        "                    batch_size=10, epochs=100, callbacks=callback)\n",
        "#\n",
        "# [tf.keras.callbacks.EarlyStopping(monitor='accuracy', patience=5)]"
      ],
      "metadata": {
        "id": "rwJXZ4ExI3-g",
        "colab": {
          "base_uri": "https://localhost:8080/"
        },
        "outputId": "7f21fc52-d6af-4e2f-a0ca-279c0ad50919"
      },
      "execution_count": 20,
      "outputs": [
        {
          "output_type": "stream",
          "name": "stdout",
          "text": [
            "Epoch 1/100\n",
            "23/23 [==============================] - 39s 28ms/step - loss: 4.7293 - accuracy: 0.0437\n",
            "Epoch 2/100\n",
            "23/23 [==============================] - 1s 25ms/step - loss: 3.0532 - accuracy: 0.2489\n",
            "Epoch 3/100\n",
            "23/23 [==============================] - 1s 26ms/step - loss: 2.2448 - accuracy: 0.4323\n",
            "Epoch 4/100\n",
            "23/23 [==============================] - 1s 26ms/step - loss: 1.7512 - accuracy: 0.5590\n",
            "Epoch 5/100\n",
            "23/23 [==============================] - 1s 27ms/step - loss: 1.4123 - accuracy: 0.6376\n",
            "Epoch 6/100\n",
            "23/23 [==============================] - 1s 25ms/step - loss: 1.1396 - accuracy: 0.6943\n",
            "Epoch 7/100\n",
            "23/23 [==============================] - 1s 26ms/step - loss: 1.0673 - accuracy: 0.6900\n",
            "Epoch 8/100\n",
            "23/23 [==============================] - 1s 26ms/step - loss: 0.8926 - accuracy: 0.7424\n",
            "Epoch 9/100\n",
            "23/23 [==============================] - 1s 25ms/step - loss: 0.8199 - accuracy: 0.7598\n",
            "Epoch 10/100\n",
            "23/23 [==============================] - 1s 25ms/step - loss: 0.7075 - accuracy: 0.7860\n",
            "Epoch 11/100\n",
            "23/23 [==============================] - 1s 26ms/step - loss: 0.6769 - accuracy: 0.7555\n",
            "Epoch 12/100\n",
            "23/23 [==============================] - 1s 47ms/step - loss: 0.6783 - accuracy: 0.7598\n",
            "Epoch 13/100\n",
            "23/23 [==============================] - 1s 48ms/step - loss: 0.6323 - accuracy: 0.7598\n",
            "Epoch 14/100\n",
            "23/23 [==============================] - 1s 48ms/step - loss: 0.6674 - accuracy: 0.7686\n",
            "Epoch 15/100\n",
            "23/23 [==============================] - 1s 27ms/step - loss: 0.6338 - accuracy: 0.7904\n",
            "Epoch 16/100\n",
            "23/23 [==============================] - 1s 26ms/step - loss: 0.6356 - accuracy: 0.7642\n",
            "Epoch 17/100\n",
            "23/23 [==============================] - 1s 25ms/step - loss: 0.6214 - accuracy: 0.7686\n",
            "Epoch 18/100\n",
            "23/23 [==============================] - 1s 26ms/step - loss: 0.6442 - accuracy: 0.7904\n",
            "Epoch 19/100\n",
            "23/23 [==============================] - 1s 27ms/step - loss: 0.6038 - accuracy: 0.7729\n",
            "Epoch 20/100\n",
            "23/23 [==============================] - 1s 26ms/step - loss: 0.5345 - accuracy: 0.8079\n",
            "Epoch 21/100\n",
            "23/23 [==============================] - 1s 26ms/step - loss: 0.5241 - accuracy: 0.7904\n",
            "Epoch 22/100\n",
            "23/23 [==============================] - 1s 26ms/step - loss: 0.5349 - accuracy: 0.7991\n",
            "Epoch 23/100\n",
            "23/23 [==============================] - 1s 26ms/step - loss: 0.5142 - accuracy: 0.8166\n",
            "Epoch 24/100\n",
            "23/23 [==============================] - 1s 27ms/step - loss: 0.5161 - accuracy: 0.8166\n",
            "Epoch 25/100\n",
            "23/23 [==============================] - 1s 26ms/step - loss: 0.5266 - accuracy: 0.8035\n",
            "Epoch 26/100\n",
            "23/23 [==============================] - 1s 26ms/step - loss: 0.5060 - accuracy: 0.8079\n",
            "Epoch 27/100\n",
            "23/23 [==============================] - 1s 25ms/step - loss: 0.5263 - accuracy: 0.8035\n",
            "Epoch 28/100\n",
            "23/23 [==============================] - 1s 27ms/step - loss: 0.4949 - accuracy: 0.7904\n",
            "Epoch 29/100\n",
            "23/23 [==============================] - 1s 26ms/step - loss: 0.4783 - accuracy: 0.8122\n",
            "Epoch 30/100\n",
            "23/23 [==============================] - 1s 26ms/step - loss: 0.4944 - accuracy: 0.7991\n",
            "Epoch 31/100\n",
            "23/23 [==============================] - 1s 35ms/step - loss: 0.4843 - accuracy: 0.7948\n",
            "Epoch 32/100\n",
            "23/23 [==============================] - 1s 48ms/step - loss: 0.5208 - accuracy: 0.7948\n",
            "Epoch 33/100\n",
            "23/23 [==============================] - 1s 50ms/step - loss: 0.4695 - accuracy: 0.8166\n",
            "Epoch 34/100\n",
            "23/23 [==============================] - 1s 44ms/step - loss: 0.4718 - accuracy: 0.8166\n",
            "Epoch 35/100\n",
            "23/23 [==============================] - 1s 26ms/step - loss: 0.4457 - accuracy: 0.8166\n",
            "Epoch 36/100\n",
            "23/23 [==============================] - 1s 25ms/step - loss: 0.4474 - accuracy: 0.8035\n",
            "Epoch 37/100\n",
            "23/23 [==============================] - 1s 26ms/step - loss: 0.4083 - accuracy: 0.8384\n"
          ]
        }
      ]
    },
    {
      "cell_type": "code",
      "source": [
        "plt.subplot(1, 2, 1)\n",
        "plt.plot(history.history['accuracy'], label='Train Accuracy', color ='blue')\n",
        "plt.legend(loc='lower right')\n",
        "plt.title('Accuracy')\n",
        "plt.ylim(0, 1.0)\n",
        "plt.subplot(1, 2, 2)\n",
        "plt.plot(history.history['loss'], label='loss', color='orange')\n",
        "plt.legend(loc='upper right')\n",
        "plt.title('Accuracy')\n",
        "plt.ylim(0, 1.0)\n",
        "plt.show()"
      ],
      "metadata": {
        "id": "wgkwpT0uhvY1",
        "colab": {
          "base_uri": "https://localhost:8080/",
          "height": 452
        },
        "outputId": "b0aba5cd-8e29-4e63-ce19-58ed6a09e800"
      },
      "execution_count": 21,
      "outputs": [
        {
          "output_type": "display_data",
          "data": {
            "text/plain": [
              "<Figure size 640x480 with 2 Axes>"
            ],
            "image/png": "[encoded data removed]"
          },
          "metadata": {}
        }
      ]
    },
    {
      "cell_type": "code",
      "source": [
        "def chatbot_test():\n",
        "  while True:\n",
        "    user_input = input(\"User: \")\n",
        "\n",
        "    pattern_test = tokenizer.texts_to_sequences([user_input])\n",
        "    x_test = pad_sequences(pattern_test, padding=\"post\")\n",
        "\n",
        "    prediction = model.predict(x_test)[0]\n",
        "    label = label_encode.inverse_transform([np.argmax(prediction)])[0]\n",
        "    response = data[data['tag'] == label]['responses'].values[0]\n",
        "\n",
        "    print(\"Chatbot: \", format(random.choice(response)))\n",
        "    if label=='goodbye' or label=='thanks':\n",
        "      break\n",
        "chatbot_test()"
      ],
      "metadata": {
        "id": "Zi8I7m0qLeCM"
      },
      "execution_count": 16,
      "outputs": []
    },
    {
      "cell_type": "code",
      "source": [
        "tf.saved_model.save(model,'/content/TFLite/')\n",
        "# model.save(\"model_chatbot.h5\")"
      ],
      "metadata": {
        "id": "zRxdqmFEijn0"
      },
      "execution_count": 22,
      "outputs": []
    },
    {
      "cell_type": "code",
      "source": [
        "# converter = tf.lite.TFLiteConverter.from_saved_model('/content/TFLite')\n",
        "# tflite_model = converter.convert()\n",
        "# tflite_model_file = pathlib.Path('chatbot_model.tflite')\n",
        "# tflite_model_file.write_bytes(tflite_model)\n",
        "saved_model_path = '/content/TFLite/'\n",
        "\n",
        "\n",
        "loaded_model = tf.saved_model.load(saved_model_path)\n",
        "\n",
        "converter = tf.lite.TFLiteConverter.from_saved_model(saved_model_path)\n",
        "converter.target_spec.supported_ops = [tf.lite.OpsSet.TFLITE_BUILTINS, tf.lite.OpsSet.SELECT_TF_OPS]\n",
        "converter._experimental_lower_tensor_list_ops = False\n",
        "\n",
        "tflite_model = converter.convert()\n",
        "\n",
        "tflite_model_file = pathlib.Path('chatbot_model.tflite')\n",
        "tflite_model_file.write_bytes(tflite_model)"
      ],
      "metadata": {
        "colab": {
          "base_uri": "https://localhost:8080/"
        },
        "id": "yCoeB4X8VApw",
        "outputId": "7bdbbd13-5877-4747-9067-d22d5db79b9e"
      },
      "execution_count": 25,
      "outputs": [
        {
          "output_type": "execute_result",
          "data": {
            "text/plain": [
              "39800440"
            ]
          },
          "metadata": {},
          "execution_count": 25
        }
      ]
    },
    {
      "cell_type": "code",
      "source": [
        "from google.colab import files\n",
        "\n",
        "# Assuming you are in the same directory where 'chatbot_model.tflite' is saved\n",
        "files.download('chatbot_model.tflite')"
      ],
      "metadata": {
        "colab": {
          "base_uri": "https://localhost:8080/",
          "height": 17
        },
        "id": "ayLSv0IDlwLh",
        "outputId": "22aa9c2b-f2e4-4690-daf0-0a1826a4ea6a"
      },
      "execution_count": 26,
      "outputs": [
        {
          "output_type": "display_data",
          "data": {
            "text/plain": [
              "<IPython.core.display.Javascript object>"
            ],
            "application/javascript": [
              "\n",
              "    async function download(id, filename, size) {\n",
              "      if (!google.colab.kernel.accessAllowed) {\n",
              "        return;\n",
              "      }\n",
              "      const div = document.createElement('div');\n",
              "      const label = document.createElement('label');\n",
              "      label.textContent = `Downloading \"${filename}\": `;\n",
              "      div.appendChild(label);\n",
              "      const progress = document.createElement('progress');\n",
              "      progress.max = size;\n",
              "      div.appendChild(progress);\n",
              "      document.body.appendChild(div);\n",
              "\n",
              "      const buffers = [];\n",
              "      let downloaded = 0;\n",
              "\n",
              "      const channel = await google.colab.kernel.comms.open(id);\n",
              "      // Send a message to notify the kernel that we're ready.\n",
              "      channel.send({})\n",
              "\n",
              "      for await (const message of channel.messages) {\n",
              "        // Send a message to notify the kernel that we're ready.\n",
              "        channel.send({})\n",
              "        if (message.buffers) {\n",
              "          for (const buffer of message.buffers) {\n",
              "            buffers.push(buffer);\n",
              "            downloaded += buffer.byteLength;\n",
              "            progress.value = downloaded;\n",
              "          }\n",
              "        }\n",
              "      }\n",
              "      const blob = new Blob(buffers, {type: 'application/binary'});\n",
              "      const a = document.createElement('a');\n",
              "      a.href = window.URL.createObjectURL(blob);\n",
              "      a.download = filename;\n",
              "      div.appendChild(a);\n",
              "      a.click();\n",
              "      div.remove();\n",
              "    }\n",
              "  "
            ]
          },
          "metadata": {}
        },
        {
          "output_type": "display_data",
          "data": {
            "text/plain": [
              "<IPython.core.display.Javascript object>"
            ],
            "application/javascript": [
              "download(\"download_0819feba-a3b9-476d-93a4-2e3b5f86fb5b\", \"chatbot_model.tflite\", 39800440)"
            ]
          },
          "metadata": {}
        }
      ]
    }
  ]
}