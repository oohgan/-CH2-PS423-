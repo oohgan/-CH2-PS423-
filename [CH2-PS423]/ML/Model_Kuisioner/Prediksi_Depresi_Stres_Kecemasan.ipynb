{
  "cells": [
    {
      "cell_type": "code",
      "execution_count": 99,
      "metadata": {
        "id": "EsWyzvWaX3Yb"
      },
      "outputs": [],
      "source": [
        "import pandas as pd\n",
        "import numpy as np\n",
        "import tensorflow as tf\n",
        "import matplotlib.pyplot as plt\n",
        "import seaborn as sns\n",
        "import csv\n",
        "import keras\n",
        "\n",
        "from sklearn.model_selection import train_test_split\n",
        "from sklearn.metrics import classification_report, accuracy_score\n",
        "from tensorflow.keras.models import Sequential\n",
        "from tensorflow.keras.layers import Dense, Flatten\n",
        "from tensorflow.keras.optimizers import Adam\n",
        "from tensorflow.keras.utils import plot_model"
      ]
    },
    {
      "cell_type": "markdown",
      "source": [
        "# Model"
      ],
      "metadata": {
        "id": "eSRn5NGMPIms"
      }
    },
    {
      "cell_type": "code",
      "execution_count": 100,
      "metadata": {
        "colab": {
          "base_uri": "https://localhost:8080/"
        },
        "id": "n8BrOLvkYVKb",
        "outputId": "d01741bc-568c-4f3e-8794-77bc3638f446"
      },
      "outputs": [
        {
          "output_type": "stream",
          "name": "stdout",
          "text": [
            "      Q3  Q5  Q10  Q13  Q16  Q17  Q21  Q24  Q26  Q31  Q34  Q37  Q38  Q42  \\\n",
            "0      1   3    0    3    3    2    0    3    3    3    2    0    1    3   \n",
            "1      1   3    1    3    2    3    1    1    2    1    1    3    1    1   \n",
            "2      3   3    3    3    3    3    3    3    0    3    3    3    3    3   \n",
            "3      1   2    2    0    1    2    0    0    1    2    3    1    0    1   \n",
            "4      2   3    2    3    2    3    2    1    3    2    3    2    2    2   \n",
            "...   ..  ..  ...  ...  ...  ...  ...  ...  ...  ...  ...  ...  ...  ...   \n",
            "6704   2   2    3    3    2    3    1    1    2    1    3    3    2    2   \n",
            "6705   2   3    1    2    3    3    3    1    1    1    3    2    3    3   \n",
            "6706   2   1    3    3    2    3    3    1    1    0    2    3    3    2   \n",
            "6707   1   3    2    3    2    2    3    1    3    1    2    2    2    3   \n",
            "6708   1   1    1    2    2    3    2    2    0    1    2    2    1    0   \n",
            "\n",
            "      Label  \n",
            "0         3  \n",
            "1         3  \n",
            "2         4  \n",
            "3         2  \n",
            "4         4  \n",
            "...     ...  \n",
            "6704      4  \n",
            "6705      4  \n",
            "6706      4  \n",
            "6707      4  \n",
            "6708      2  \n",
            "\n",
            "[6709 rows x 15 columns]\n"
          ]
        }
      ],
      "source": [
        "depression_dataset = '/content/sample_data/new_depression_dataset.csv'\n",
        "\n",
        "# Read the CSV file into a Pandas DataFrame\n",
        "data = pd.read_csv(depression_dataset)\n",
        "\n",
        "print(data)"
      ]
    },
    {
      "cell_type": "code",
      "execution_count": 101,
      "metadata": {
        "id": "d5dgQYRegaxb",
        "colab": {
          "base_uri": "https://localhost:8080/",
          "height": 206
        },
        "outputId": "46d04508-85ad-450c-c6bd-534f6d6672f0"
      },
      "outputs": [
        {
          "output_type": "execute_result",
          "data": {
            "text/plain": [
              "   Q3  Q5  Q10  Q13  Q16  Q17  Q21  Q24  Q26  Q31  Q34  Q37  Q38  Q42  Label\n",
              "0   1   3    0    3    3    2    0    3    3    3    2    0    1    3      3\n",
              "1   1   3    1    3    2    3    1    1    2    1    1    3    1    1      3\n",
              "2   3   3    3    3    3    3    3    3    0    3    3    3    3    3      4\n",
              "3   1   2    2    0    1    2    0    0    1    2    3    1    0    1      2\n",
              "4   2   3    2    3    2    3    2    1    3    2    3    2    2    2      4"
            ],
            "text/html": [
              "\n",
              "  <div id=\"df-f2889e78-d114-498b-9247-9b25f01c23d4\" class=\"colab-df-container\">\n",
              "    <div>\n",
              "<style scoped>\n",
              "    .dataframe tbody tr th:only-of-type {\n",
              "        vertical-align: middle;\n",
              "    }\n",
              "\n",
              "    .dataframe tbody tr th {\n",
              "        vertical-align: top;\n",
              "    }\n",
              "\n",
              "    .dataframe thead th {\n",
              "        text-align: right;\n",
              "    }\n",
              "</style>\n",
              "<table border=\"1\" class=\"dataframe\">\n",
              "  <thead>\n",
              "    <tr style=\"text-align: right;\">\n",
              "      <th></th>\n",
              "      <th>Q3</th>\n",
              "      <th>Q5</th>\n",
              "      <th>Q10</th>\n",
              "      <th>Q13</th>\n",
              "      <th>Q16</th>\n",
              "      <th>Q17</th>\n",
              "      <th>Q21</th>\n",
              "      <th>Q24</th>\n",
              "      <th>Q26</th>\n",
              "      <th>Q31</th>\n",
              "      <th>Q34</th>\n",
              "      <th>Q37</th>\n",
              "      <th>Q38</th>\n",
              "      <th>Q42</th>\n",
              "      <th>Label</th>\n",
              "    </tr>\n",
              "  </thead>\n",
              "  <tbody>\n",
              "    <tr>\n",
              "      <th>0</th>\n",
              "      <td>1</td>\n",
              "      <td>3</td>\n",
              "      <td>0</td>\n",
              "      <td>3</td>\n",
              "      <td>3</td>\n",
              "      <td>2</td>\n",
              "      <td>0</td>\n",
              "      <td>3</td>\n",
              "      <td>3</td>\n",
              "      <td>3</td>\n",
              "      <td>2</td>\n",
              "      <td>0</td>\n",
              "      <td>1</td>\n",
              "      <td>3</td>\n",
              "      <td>3</td>\n",
              "    </tr>\n",
              "    <tr>\n",
              "      <th>1</th>\n",
              "      <td>1</td>\n",
              "      <td>3</td>\n",
              "      <td>1</td>\n",
              "      <td>3</td>\n",
              "      <td>2</td>\n",
              "      <td>3</td>\n",
              "      <td>1</td>\n",
              "      <td>1</td>\n",
              "      <td>2</td>\n",
              "      <td>1</td>\n",
              "      <td>1</td>\n",
              "      <td>3</td>\n",
              "      <td>1</td>\n",
              "      <td>1</td>\n",
              "      <td>3</td>\n",
              "    </tr>\n",
              "    <tr>\n",
              "      <th>2</th>\n",
              "      <td>3</td>\n",
              "      <td>3</td>\n",
              "      <td>3</td>\n",
              "      <td>3</td>\n",
              "      <td>3</td>\n",
              "      <td>3</td>\n",
              "      <td>3</td>\n",
              "      <td>3</td>\n",
              "      <td>0</td>\n",
              "      <td>3</td>\n",
              "      <td>3</td>\n",
              "      <td>3</td>\n",
              "      <td>3</td>\n",
              "      <td>3</td>\n",
              "      <td>4</td>\n",
              "    </tr>\n",
              "    <tr>\n",
              "      <th>3</th>\n",
              "      <td>1</td>\n",
              "      <td>2</td>\n",
              "      <td>2</td>\n",
              "      <td>0</td>\n",
              "      <td>1</td>\n",
              "      <td>2</td>\n",
              "      <td>0</td>\n",
              "      <td>0</td>\n",
              "      <td>1</td>\n",
              "      <td>2</td>\n",
              "      <td>3</td>\n",
              "      <td>1</td>\n",
              "      <td>0</td>\n",
              "      <td>1</td>\n",
              "      <td>2</td>\n",
              "    </tr>\n",
              "    <tr>\n",
              "      <th>4</th>\n",
              "      <td>2</td>\n",
              "      <td>3</td>\n",
              "      <td>2</td>\n",
              "      <td>3</td>\n",
              "      <td>2</td>\n",
              "      <td>3</td>\n",
              "      <td>2</td>\n",
              "      <td>1</td>\n",
              "      <td>3</td>\n",
              "      <td>2</td>\n",
              "      <td>3</td>\n",
              "      <td>2</td>\n",
              "      <td>2</td>\n",
              "      <td>2</td>\n",
              "      <td>4</td>\n",
              "    </tr>\n",
              "  </tbody>\n",
              "</table>\n",
              "</div>\n",
              "    <div class=\"colab-df-buttons\">\n",
              "\n",
              "  <div class=\"colab-df-container\">\n",
              "    <button class=\"colab-df-convert\" onclick=\"convertToInteractive('df-f2889e78-d114-498b-9247-9b25f01c23d4')\"\n",
              "            title=\"Convert this dataframe to an interactive table.\"\n",
              "            style=\"display:none;\">\n",
              "\n",
              "  <svg xmlns=\"http://www.w3.org/2000/svg\" height=\"24px\" viewBox=\"0 -960 960 960\">\n",
              "    <path d=\"M120-120v-720h720v720H120Zm60-500h600v-160H180v160Zm220 220h160v-160H400v160Zm0 220h160v-160H400v160ZM180-400h160v-160H180v160Zm440 0h160v-160H620v160ZM180-180h160v-160H180v160Zm440 0h160v-160H620v160Z\"/>\n",
              "  </svg>\n",
              "    </button>\n",
              "\n",
              "  <style>\n",
              "    .colab-df-container {\n",
              "      display:flex;\n",
              "      gap: 12px;\n",
              "    }\n",
              "\n",
              "    .colab-df-convert {\n",
              "      background-color: #E8F0FE;\n",
              "      border: none;\n",
              "      border-radius: 50%;\n",
              "      cursor: pointer;\n",
              "      display: none;\n",
              "      fill: #1967D2;\n",
              "      height: 32px;\n",
              "      padding: 0 0 0 0;\n",
              "      width: 32px;\n",
              "    }\n",
              "\n",
              "    .colab-df-convert:hover {\n",
              "      background-color: #E2EBFA;\n",
              "      box-shadow: 0px 1px 2px rgba(60, 64, 67, 0.3), 0px 1px 3px 1px rgba(60, 64, 67, 0.15);\n",
              "      fill: #174EA6;\n",
              "    }\n",
              "\n",
              "    .colab-df-buttons div {\n",
              "      margin-bottom: 4px;\n",
              "    }\n",
              "\n",
              "    [theme=dark] .colab-df-convert {\n",
              "      background-color: #3B4455;\n",
              "      fill: #D2E3FC;\n",
              "    }\n",
              "\n",
              "    [theme=dark] .colab-df-convert:hover {\n",
              "      background-color: #434B5C;\n",
              "      box-shadow: 0px 1px 3px 1px rgba(0, 0, 0, 0.15);\n",
              "      filter: drop-shadow(0px 1px 2px rgba(0, 0, 0, 0.3));\n",
              "      fill: #FFFFFF;\n",
              "    }\n",
              "  </style>\n",
              "\n",
              "    <script>\n",
              "      const buttonEl =\n",
              "        document.querySelector('#df-f2889e78-d114-498b-9247-9b25f01c23d4 button.colab-df-convert');\n",
              "      buttonEl.style.display =\n",
              "        google.colab.kernel.accessAllowed ? 'block' : 'none';\n",
              "\n",
              "      async function convertToInteractive(key) {\n",
              "        const element = document.querySelector('#df-f2889e78-d114-498b-9247-9b25f01c23d4');\n",
              "        const dataTable =\n",
              "          await google.colab.kernel.invokeFunction('convertToInteractive',\n",
              "                                                    [key], {});\n",
              "        if (!dataTable) return;\n",
              "\n",
              "        const docLinkHtml = 'Like what you see? Visit the ' +\n",
              "          '<a target=\"_blank\" href=https://colab.research.google.com/notebooks/data_table.ipynb>data table notebook</a>'\n",
              "          + ' to learn more about interactive tables.';\n",
              "        element.innerHTML = '';\n",
              "        dataTable['output_type'] = 'display_data';\n",
              "        await google.colab.output.renderOutput(dataTable, element);\n",
              "        const docLink = document.createElement('div');\n",
              "        docLink.innerHTML = docLinkHtml;\n",
              "        element.appendChild(docLink);\n",
              "      }\n",
              "    </script>\n",
              "  </div>\n",
              "\n",
              "\n",
              "<div id=\"df-eeed22aa-c162-4205-9b10-555c0135f27d\">\n",
              "  <button class=\"colab-df-quickchart\" onclick=\"quickchart('df-eeed22aa-c162-4205-9b10-555c0135f27d')\"\n",
              "            title=\"Suggest charts\"\n",
              "            style=\"display:none;\">\n",
              "\n",
              "<svg xmlns=\"http://www.w3.org/2000/svg\" height=\"24px\"viewBox=\"0 0 24 24\"\n",
              "     width=\"24px\">\n",
              "    <g>\n",
              "        <path d=\"M19 3H5c-1.1 0-2 .9-2 2v14c0 1.1.9 2 2 2h14c1.1 0 2-.9 2-2V5c0-1.1-.9-2-2-2zM9 17H7v-7h2v7zm4 0h-2V7h2v10zm4 0h-2v-4h2v4z\"/>\n",
              "    </g>\n",
              "</svg>\n",
              "  </button>\n",
              "\n",
              "<style>\n",
              "  .colab-df-quickchart {\n",
              "      --bg-color: #E8F0FE;\n",
              "      --fill-color: #1967D2;\n",
              "      --hover-bg-color: #E2EBFA;\n",
              "      --hover-fill-color: #174EA6;\n",
              "      --disabled-fill-color: #AAA;\n",
              "      --disabled-bg-color: #DDD;\n",
              "  }\n",
              "\n",
              "  [theme=dark] .colab-df-quickchart {\n",
              "      --bg-color: #3B4455;\n",
              "      --fill-color: #D2E3FC;\n",
              "      --hover-bg-color: #434B5C;\n",
              "      --hover-fill-color: #FFFFFF;\n",
              "      --disabled-bg-color: #3B4455;\n",
              "      --disabled-fill-color: #666;\n",
              "  }\n",
              "\n",
              "  .colab-df-quickchart {\n",
              "    background-color: var(--bg-color);\n",
              "    border: none;\n",
              "    border-radius: 50%;\n",
              "    cursor: pointer;\n",
              "    display: none;\n",
              "    fill: var(--fill-color);\n",
              "    height: 32px;\n",
              "    padding: 0;\n",
              "    width: 32px;\n",
              "  }\n",
              "\n",
              "  .colab-df-quickchart:hover {\n",
              "    background-color: var(--hover-bg-color);\n",
              "    box-shadow: 0 1px 2px rgba(60, 64, 67, 0.3), 0 1px 3px 1px rgba(60, 64, 67, 0.15);\n",
              "    fill: var(--button-hover-fill-color);\n",
              "  }\n",
              "\n",
              "  .colab-df-quickchart-complete:disabled,\n",
              "  .colab-df-quickchart-complete:disabled:hover {\n",
              "    background-color: var(--disabled-bg-color);\n",
              "    fill: var(--disabled-fill-color);\n",
              "    box-shadow: none;\n",
              "  }\n",
              "\n",
              "  .colab-df-spinner {\n",
              "    border: 2px solid var(--fill-color);\n",
              "    border-color: transparent;\n",
              "    border-bottom-color: var(--fill-color);\n",
              "    animation:\n",
              "      spin 1s steps(1) infinite;\n",
              "  }\n",
              "\n",
              "  @keyframes spin {\n",
              "    0% {\n",
              "      border-color: transparent;\n",
              "      border-bottom-color: var(--fill-color);\n",
              "      border-left-color: var(--fill-color);\n",
              "    }\n",
              "    20% {\n",
              "      border-color: transparent;\n",
              "      border-left-color: var(--fill-color);\n",
              "      border-top-color: var(--fill-color);\n",
              "    }\n",
              "    30% {\n",
              "      border-color: transparent;\n",
              "      border-left-color: var(--fill-color);\n",
              "      border-top-color: var(--fill-color);\n",
              "      border-right-color: var(--fill-color);\n",
              "    }\n",
              "    40% {\n",
              "      border-color: transparent;\n",
              "      border-right-color: var(--fill-color);\n",
              "      border-top-color: var(--fill-color);\n",
              "    }\n",
              "    60% {\n",
              "      border-color: transparent;\n",
              "      border-right-color: var(--fill-color);\n",
              "    }\n",
              "    80% {\n",
              "      border-color: transparent;\n",
              "      border-right-color: var(--fill-color);\n",
              "      border-bottom-color: var(--fill-color);\n",
              "    }\n",
              "    90% {\n",
              "      border-color: transparent;\n",
              "      border-bottom-color: var(--fill-color);\n",
              "    }\n",
              "  }\n",
              "</style>\n",
              "\n",
              "  <script>\n",
              "    async function quickchart(key) {\n",
              "      const quickchartButtonEl =\n",
              "        document.querySelector('#' + key + ' button');\n",
              "      quickchartButtonEl.disabled = true;  // To prevent multiple clicks.\n",
              "      quickchartButtonEl.classList.add('colab-df-spinner');\n",
              "      try {\n",
              "        const charts = await google.colab.kernel.invokeFunction(\n",
              "            'suggestCharts', [key], {});\n",
              "      } catch (error) {\n",
              "        console.error('Error during call to suggestCharts:', error);\n",
              "      }\n",
              "      quickchartButtonEl.classList.remove('colab-df-spinner');\n",
              "      quickchartButtonEl.classList.add('colab-df-quickchart-complete');\n",
              "    }\n",
              "    (() => {\n",
              "      let quickchartButtonEl =\n",
              "        document.querySelector('#df-eeed22aa-c162-4205-9b10-555c0135f27d button');\n",
              "      quickchartButtonEl.style.display =\n",
              "        google.colab.kernel.accessAllowed ? 'block' : 'none';\n",
              "    })();\n",
              "  </script>\n",
              "</div>\n",
              "    </div>\n",
              "  </div>\n"
            ]
          },
          "metadata": {},
          "execution_count": 101
        }
      ],
      "source": [
        "#menampilkan baris-baris awal dari sebuah DataFrame\n",
        "data.head()"
      ]
    },
    {
      "cell_type": "code",
      "execution_count": 102,
      "metadata": {
        "colab": {
          "base_uri": "https://localhost:8080/"
        },
        "id": "cOM3lgdqglNe",
        "outputId": "710c10cb-4344-43c1-b554-6d1e895d7648"
      },
      "outputs": [
        {
          "output_type": "stream",
          "name": "stdout",
          "text": [
            "Shape of DataFrame: (6709, 15)\n",
            "Q3       1\n",
            "Q5       3\n",
            "Q10      0\n",
            "Q13      3\n",
            "Q16      3\n",
            "Q17      2\n",
            "Q21      0\n",
            "Q24      3\n",
            "Q26      3\n",
            "Q31      3\n",
            "Q34      2\n",
            "Q37      0\n",
            "Q38      1\n",
            "Q42      3\n",
            "Label    3\n",
            "Name: 0, dtype: int64\n"
          ]
        }
      ],
      "source": [
        "#membaca dan memanipulasi data dalam bentuk DataFrame\n",
        "print('Shape of DataFrame: {}'.format(data.shape))\n",
        "print(data.loc[0])"
      ]
    },
    {
      "cell_type": "code",
      "execution_count": 103,
      "metadata": {
        "colab": {
          "base_uri": "https://localhost:8080/",
          "height": 394
        },
        "id": "ZaNkQoN7iAr5",
        "outputId": "ddfd71e1-b402-4bdc-c38b-020da0c858b2"
      },
      "outputs": [
        {
          "output_type": "execute_result",
          "data": {
            "text/plain": [
              "    Q3  Q5  Q10  Q13  Q16  Q17  Q21  Q24  Q26  Q31  Q34  Q37  Q38  Q42  Label\n",
              "0    1   3    0    3    3    2    0    3    3    3    2    0    1    3      3\n",
              "1    1   3    1    3    2    3    1    1    2    1    1    3    1    1      3\n",
              "2    3   3    3    3    3    3    3    3    0    3    3    3    3    3      4\n",
              "3    1   2    2    0    1    2    0    0    1    2    3    1    0    1      2\n",
              "4    2   3    2    3    2    3    2    1    3    2    3    2    2    2      4\n",
              "5    1   2    1    0    3    1    0    1    0    1    0    1    1    1      1\n",
              "6    1   3    3    1    3    1    3    2    1    3    2    3    3    2      4\n",
              "7    0   2    0    0    0    0    0    0    1    0    0    0    0    1      0\n",
              "8    2   2    2    3    3    2    2    2    3    3    3    3    2    3      4\n",
              "9    3   3    3    3    3    3    3    3    3    3    3    3    3    3      4\n",
              "10   1   2    0    1    2    1    0    2    0    2    1    0    1    1      2"
            ],
            "text/html": [
              "\n",
              "  <div id=\"df-cac751eb-3c54-426f-81b6-80f16a829f2f\" class=\"colab-df-container\">\n",
              "    <div>\n",
              "<style scoped>\n",
              "    .dataframe tbody tr th:only-of-type {\n",
              "        vertical-align: middle;\n",
              "    }\n",
              "\n",
              "    .dataframe tbody tr th {\n",
              "        vertical-align: top;\n",
              "    }\n",
              "\n",
              "    .dataframe thead th {\n",
              "        text-align: right;\n",
              "    }\n",
              "</style>\n",
              "<table border=\"1\" class=\"dataframe\">\n",
              "  <thead>\n",
              "    <tr style=\"text-align: right;\">\n",
              "      <th></th>\n",
              "      <th>Q3</th>\n",
              "      <th>Q5</th>\n",
              "      <th>Q10</th>\n",
              "      <th>Q13</th>\n",
              "      <th>Q16</th>\n",
              "      <th>Q17</th>\n",
              "      <th>Q21</th>\n",
              "      <th>Q24</th>\n",
              "      <th>Q26</th>\n",
              "      <th>Q31</th>\n",
              "      <th>Q34</th>\n",
              "      <th>Q37</th>\n",
              "      <th>Q38</th>\n",
              "      <th>Q42</th>\n",
              "      <th>Label</th>\n",
              "    </tr>\n",
              "  </thead>\n",
              "  <tbody>\n",
              "    <tr>\n",
              "      <th>0</th>\n",
              "      <td>1</td>\n",
              "      <td>3</td>\n",
              "      <td>0</td>\n",
              "      <td>3</td>\n",
              "      <td>3</td>\n",
              "      <td>2</td>\n",
              "      <td>0</td>\n",
              "      <td>3</td>\n",
              "      <td>3</td>\n",
              "      <td>3</td>\n",
              "      <td>2</td>\n",
              "      <td>0</td>\n",
              "      <td>1</td>\n",
              "      <td>3</td>\n",
              "      <td>3</td>\n",
              "    </tr>\n",
              "    <tr>\n",
              "      <th>1</th>\n",
              "      <td>1</td>\n",
              "      <td>3</td>\n",
              "      <td>1</td>\n",
              "      <td>3</td>\n",
              "      <td>2</td>\n",
              "      <td>3</td>\n",
              "      <td>1</td>\n",
              "      <td>1</td>\n",
              "      <td>2</td>\n",
              "      <td>1</td>\n",
              "      <td>1</td>\n",
              "      <td>3</td>\n",
              "      <td>1</td>\n",
              "      <td>1</td>\n",
              "      <td>3</td>\n",
              "    </tr>\n",
              "    <tr>\n",
              "      <th>2</th>\n",
              "      <td>3</td>\n",
              "      <td>3</td>\n",
              "      <td>3</td>\n",
              "      <td>3</td>\n",
              "      <td>3</td>\n",
              "      <td>3</td>\n",
              "      <td>3</td>\n",
              "      <td>3</td>\n",
              "      <td>0</td>\n",
              "      <td>3</td>\n",
              "      <td>3</td>\n",
              "      <td>3</td>\n",
              "      <td>3</td>\n",
              "      <td>3</td>\n",
              "      <td>4</td>\n",
              "    </tr>\n",
              "    <tr>\n",
              "      <th>3</th>\n",
              "      <td>1</td>\n",
              "      <td>2</td>\n",
              "      <td>2</td>\n",
              "      <td>0</td>\n",
              "      <td>1</td>\n",
              "      <td>2</td>\n",
              "      <td>0</td>\n",
              "      <td>0</td>\n",
              "      <td>1</td>\n",
              "      <td>2</td>\n",
              "      <td>3</td>\n",
              "      <td>1</td>\n",
              "      <td>0</td>\n",
              "      <td>1</td>\n",
              "      <td>2</td>\n",
              "    </tr>\n",
              "    <tr>\n",
              "      <th>4</th>\n",
              "      <td>2</td>\n",
              "      <td>3</td>\n",
              "      <td>2</td>\n",
              "      <td>3</td>\n",
              "      <td>2</td>\n",
              "      <td>3</td>\n",
              "      <td>2</td>\n",
              "      <td>1</td>\n",
              "      <td>3</td>\n",
              "      <td>2</td>\n",
              "      <td>3</td>\n",
              "      <td>2</td>\n",
              "      <td>2</td>\n",
              "      <td>2</td>\n",
              "      <td>4</td>\n",
              "    </tr>\n",
              "    <tr>\n",
              "      <th>5</th>\n",
              "      <td>1</td>\n",
              "      <td>2</td>\n",
              "      <td>1</td>\n",
              "      <td>0</td>\n",
              "      <td>3</td>\n",
              "      <td>1</td>\n",
              "      <td>0</td>\n",
              "      <td>1</td>\n",
              "      <td>0</td>\n",
              "      <td>1</td>\n",
              "      <td>0</td>\n",
              "      <td>1</td>\n",
              "      <td>1</td>\n",
              "      <td>1</td>\n",
              "      <td>1</td>\n",
              "    </tr>\n",
              "    <tr>\n",
              "      <th>6</th>\n",
              "      <td>1</td>\n",
              "      <td>3</td>\n",
              "      <td>3</td>\n",
              "      <td>1</td>\n",
              "      <td>3</td>\n",
              "      <td>1</td>\n",
              "      <td>3</td>\n",
              "      <td>2</td>\n",
              "      <td>1</td>\n",
              "      <td>3</td>\n",
              "      <td>2</td>\n",
              "      <td>3</td>\n",
              "      <td>3</td>\n",
              "      <td>2</td>\n",
              "      <td>4</td>\n",
              "    </tr>\n",
              "    <tr>\n",
              "      <th>7</th>\n",
              "      <td>0</td>\n",
              "      <td>2</td>\n",
              "      <td>0</td>\n",
              "      <td>0</td>\n",
              "      <td>0</td>\n",
              "      <td>0</td>\n",
              "      <td>0</td>\n",
              "      <td>0</td>\n",
              "      <td>1</td>\n",
              "      <td>0</td>\n",
              "      <td>0</td>\n",
              "      <td>0</td>\n",
              "      <td>0</td>\n",
              "      <td>1</td>\n",
              "      <td>0</td>\n",
              "    </tr>\n",
              "    <tr>\n",
              "      <th>8</th>\n",
              "      <td>2</td>\n",
              "      <td>2</td>\n",
              "      <td>2</td>\n",
              "      <td>3</td>\n",
              "      <td>3</td>\n",
              "      <td>2</td>\n",
              "      <td>2</td>\n",
              "      <td>2</td>\n",
              "      <td>3</td>\n",
              "      <td>3</td>\n",
              "      <td>3</td>\n",
              "      <td>3</td>\n",
              "      <td>2</td>\n",
              "      <td>3</td>\n",
              "      <td>4</td>\n",
              "    </tr>\n",
              "    <tr>\n",
              "      <th>9</th>\n",
              "      <td>3</td>\n",
              "      <td>3</td>\n",
              "      <td>3</td>\n",
              "      <td>3</td>\n",
              "      <td>3</td>\n",
              "      <td>3</td>\n",
              "      <td>3</td>\n",
              "      <td>3</td>\n",
              "      <td>3</td>\n",
              "      <td>3</td>\n",
              "      <td>3</td>\n",
              "      <td>3</td>\n",
              "      <td>3</td>\n",
              "      <td>3</td>\n",
              "      <td>4</td>\n",
              "    </tr>\n",
              "    <tr>\n",
              "      <th>10</th>\n",
              "      <td>1</td>\n",
              "      <td>2</td>\n",
              "      <td>0</td>\n",
              "      <td>1</td>\n",
              "      <td>2</td>\n",
              "      <td>1</td>\n",
              "      <td>0</td>\n",
              "      <td>2</td>\n",
              "      <td>0</td>\n",
              "      <td>2</td>\n",
              "      <td>1</td>\n",
              "      <td>0</td>\n",
              "      <td>1</td>\n",
              "      <td>1</td>\n",
              "      <td>2</td>\n",
              "    </tr>\n",
              "  </tbody>\n",
              "</table>\n",
              "</div>\n",
              "    <div class=\"colab-df-buttons\">\n",
              "\n",
              "  <div class=\"colab-df-container\">\n",
              "    <button class=\"colab-df-convert\" onclick=\"convertToInteractive('df-cac751eb-3c54-426f-81b6-80f16a829f2f')\"\n",
              "            title=\"Convert this dataframe to an interactive table.\"\n",
              "            style=\"display:none;\">\n",
              "\n",
              "  <svg xmlns=\"http://www.w3.org/2000/svg\" height=\"24px\" viewBox=\"0 -960 960 960\">\n",
              "    <path d=\"M120-120v-720h720v720H120Zm60-500h600v-160H180v160Zm220 220h160v-160H400v160Zm0 220h160v-160H400v160ZM180-400h160v-160H180v160Zm440 0h160v-160H620v160ZM180-180h160v-160H180v160Zm440 0h160v-160H620v160Z\"/>\n",
              "  </svg>\n",
              "    </button>\n",
              "\n",
              "  <style>\n",
              "    .colab-df-container {\n",
              "      display:flex;\n",
              "      gap: 12px;\n",
              "    }\n",
              "\n",
              "    .colab-df-convert {\n",
              "      background-color: #E8F0FE;\n",
              "      border: none;\n",
              "      border-radius: 50%;\n",
              "      cursor: pointer;\n",
              "      display: none;\n",
              "      fill: #1967D2;\n",
              "      height: 32px;\n",
              "      padding: 0 0 0 0;\n",
              "      width: 32px;\n",
              "    }\n",
              "\n",
              "    .colab-df-convert:hover {\n",
              "      background-color: #E2EBFA;\n",
              "      box-shadow: 0px 1px 2px rgba(60, 64, 67, 0.3), 0px 1px 3px 1px rgba(60, 64, 67, 0.15);\n",
              "      fill: #174EA6;\n",
              "    }\n",
              "\n",
              "    .colab-df-buttons div {\n",
              "      margin-bottom: 4px;\n",
              "    }\n",
              "\n",
              "    [theme=dark] .colab-df-convert {\n",
              "      background-color: #3B4455;\n",
              "      fill: #D2E3FC;\n",
              "    }\n",
              "\n",
              "    [theme=dark] .colab-df-convert:hover {\n",
              "      background-color: #434B5C;\n",
              "      box-shadow: 0px 1px 3px 1px rgba(0, 0, 0, 0.15);\n",
              "      filter: drop-shadow(0px 1px 2px rgba(0, 0, 0, 0.3));\n",
              "      fill: #FFFFFF;\n",
              "    }\n",
              "  </style>\n",
              "\n",
              "    <script>\n",
              "      const buttonEl =\n",
              "        document.querySelector('#df-cac751eb-3c54-426f-81b6-80f16a829f2f button.colab-df-convert');\n",
              "      buttonEl.style.display =\n",
              "        google.colab.kernel.accessAllowed ? 'block' : 'none';\n",
              "\n",
              "      async function convertToInteractive(key) {\n",
              "        const element = document.querySelector('#df-cac751eb-3c54-426f-81b6-80f16a829f2f');\n",
              "        const dataTable =\n",
              "          await google.colab.kernel.invokeFunction('convertToInteractive',\n",
              "                                                    [key], {});\n",
              "        if (!dataTable) return;\n",
              "\n",
              "        const docLinkHtml = 'Like what you see? Visit the ' +\n",
              "          '<a target=\"_blank\" href=https://colab.research.google.com/notebooks/data_table.ipynb>data table notebook</a>'\n",
              "          + ' to learn more about interactive tables.';\n",
              "        element.innerHTML = '';\n",
              "        dataTable['output_type'] = 'display_data';\n",
              "        await google.colab.output.renderOutput(dataTable, element);\n",
              "        const docLink = document.createElement('div');\n",
              "        docLink.innerHTML = docLinkHtml;\n",
              "        element.appendChild(docLink);\n",
              "      }\n",
              "    </script>\n",
              "  </div>\n",
              "\n",
              "\n",
              "<div id=\"df-709175c3-4786-414a-a01b-fc98e8261912\">\n",
              "  <button class=\"colab-df-quickchart\" onclick=\"quickchart('df-709175c3-4786-414a-a01b-fc98e8261912')\"\n",
              "            title=\"Suggest charts\"\n",
              "            style=\"display:none;\">\n",
              "\n",
              "<svg xmlns=\"http://www.w3.org/2000/svg\" height=\"24px\"viewBox=\"0 0 24 24\"\n",
              "     width=\"24px\">\n",
              "    <g>\n",
              "        <path d=\"M19 3H5c-1.1 0-2 .9-2 2v14c0 1.1.9 2 2 2h14c1.1 0 2-.9 2-2V5c0-1.1-.9-2-2-2zM9 17H7v-7h2v7zm4 0h-2V7h2v10zm4 0h-2v-4h2v4z\"/>\n",
              "    </g>\n",
              "</svg>\n",
              "  </button>\n",
              "\n",
              "<style>\n",
              "  .colab-df-quickchart {\n",
              "      --bg-color: #E8F0FE;\n",
              "      --fill-color: #1967D2;\n",
              "      --hover-bg-color: #E2EBFA;\n",
              "      --hover-fill-color: #174EA6;\n",
              "      --disabled-fill-color: #AAA;\n",
              "      --disabled-bg-color: #DDD;\n",
              "  }\n",
              "\n",
              "  [theme=dark] .colab-df-quickchart {\n",
              "      --bg-color: #3B4455;\n",
              "      --fill-color: #D2E3FC;\n",
              "      --hover-bg-color: #434B5C;\n",
              "      --hover-fill-color: #FFFFFF;\n",
              "      --disabled-bg-color: #3B4455;\n",
              "      --disabled-fill-color: #666;\n",
              "  }\n",
              "\n",
              "  .colab-df-quickchart {\n",
              "    background-color: var(--bg-color);\n",
              "    border: none;\n",
              "    border-radius: 50%;\n",
              "    cursor: pointer;\n",
              "    display: none;\n",
              "    fill: var(--fill-color);\n",
              "    height: 32px;\n",
              "    padding: 0;\n",
              "    width: 32px;\n",
              "  }\n",
              "\n",
              "  .colab-df-quickchart:hover {\n",
              "    background-color: var(--hover-bg-color);\n",
              "    box-shadow: 0 1px 2px rgba(60, 64, 67, 0.3), 0 1px 3px 1px rgba(60, 64, 67, 0.15);\n",
              "    fill: var(--button-hover-fill-color);\n",
              "  }\n",
              "\n",
              "  .colab-df-quickchart-complete:disabled,\n",
              "  .colab-df-quickchart-complete:disabled:hover {\n",
              "    background-color: var(--disabled-bg-color);\n",
              "    fill: var(--disabled-fill-color);\n",
              "    box-shadow: none;\n",
              "  }\n",
              "\n",
              "  .colab-df-spinner {\n",
              "    border: 2px solid var(--fill-color);\n",
              "    border-color: transparent;\n",
              "    border-bottom-color: var(--fill-color);\n",
              "    animation:\n",
              "      spin 1s steps(1) infinite;\n",
              "  }\n",
              "\n",
              "  @keyframes spin {\n",
              "    0% {\n",
              "      border-color: transparent;\n",
              "      border-bottom-color: var(--fill-color);\n",
              "      border-left-color: var(--fill-color);\n",
              "    }\n",
              "    20% {\n",
              "      border-color: transparent;\n",
              "      border-left-color: var(--fill-color);\n",
              "      border-top-color: var(--fill-color);\n",
              "    }\n",
              "    30% {\n",
              "      border-color: transparent;\n",
              "      border-left-color: var(--fill-color);\n",
              "      border-top-color: var(--fill-color);\n",
              "      border-right-color: var(--fill-color);\n",
              "    }\n",
              "    40% {\n",
              "      border-color: transparent;\n",
              "      border-right-color: var(--fill-color);\n",
              "      border-top-color: var(--fill-color);\n",
              "    }\n",
              "    60% {\n",
              "      border-color: transparent;\n",
              "      border-right-color: var(--fill-color);\n",
              "    }\n",
              "    80% {\n",
              "      border-color: transparent;\n",
              "      border-right-color: var(--fill-color);\n",
              "      border-bottom-color: var(--fill-color);\n",
              "    }\n",
              "    90% {\n",
              "      border-color: transparent;\n",
              "      border-bottom-color: var(--fill-color);\n",
              "    }\n",
              "  }\n",
              "</style>\n",
              "\n",
              "  <script>\n",
              "    async function quickchart(key) {\n",
              "      const quickchartButtonEl =\n",
              "        document.querySelector('#' + key + ' button');\n",
              "      quickchartButtonEl.disabled = true;  // To prevent multiple clicks.\n",
              "      quickchartButtonEl.classList.add('colab-df-spinner');\n",
              "      try {\n",
              "        const charts = await google.colab.kernel.invokeFunction(\n",
              "            'suggestCharts', [key], {});\n",
              "      } catch (error) {\n",
              "        console.error('Error during call to suggestCharts:', error);\n",
              "      }\n",
              "      quickchartButtonEl.classList.remove('colab-df-spinner');\n",
              "      quickchartButtonEl.classList.add('colab-df-quickchart-complete');\n",
              "    }\n",
              "    (() => {\n",
              "      let quickchartButtonEl =\n",
              "        document.querySelector('#df-709175c3-4786-414a-a01b-fc98e8261912 button');\n",
              "      quickchartButtonEl.style.display =\n",
              "        google.colab.kernel.accessAllowed ? 'block' : 'none';\n",
              "    })();\n",
              "  </script>\n",
              "</div>\n",
              "    </div>\n",
              "  </div>\n"
            ]
          },
          "metadata": {},
          "execution_count": 103
        }
      ],
      "source": [
        "#Menampilkan sepuluh baris pertama dari DataFrame df\n",
        "data.loc[:10]"
      ]
    },
    {
      "cell_type": "code",
      "execution_count": 104,
      "metadata": {
        "colab": {
          "base_uri": "https://localhost:8080/",
          "height": 320
        },
        "id": "0c27kab2i4IW",
        "outputId": "b9322421-f4c9-4a5b-9bf5-4398da9957ad"
      },
      "outputs": [
        {
          "output_type": "execute_result",
          "data": {
            "text/plain": [
              "                Q3           Q5          Q10          Q13          Q16  \\\n",
              "count  6709.000000  6709.000000  6709.000000  6709.000000  6709.000000   \n",
              "mean      1.244895     1.595320     1.483828     1.811596     1.531078   \n",
              "std       1.044667     1.083451     1.153505     1.065943     1.124136   \n",
              "min       0.000000     0.000000     0.000000     0.000000     0.000000   \n",
              "25%       0.000000     1.000000     0.000000     1.000000     1.000000   \n",
              "50%       1.000000     2.000000     1.000000     2.000000     1.000000   \n",
              "75%       2.000000     3.000000     3.000000     3.000000     3.000000   \n",
              "max       3.000000     3.000000     3.000000     3.000000     3.000000   \n",
              "\n",
              "               Q17          Q21          Q24          Q26          Q31  \\\n",
              "count  6709.000000  6709.000000  6709.000000  6709.000000  6709.000000   \n",
              "mean      1.633030     1.365777     1.449843     1.678641     1.397675   \n",
              "std       1.162583     1.180894     1.063038     1.066872     1.054635   \n",
              "min       0.000000     0.000000     0.000000     0.000000     0.000000   \n",
              "25%       1.000000     0.000000     1.000000     1.000000     1.000000   \n",
              "50%       2.000000     1.000000     1.000000     2.000000     1.000000   \n",
              "75%       3.000000     3.000000     2.000000     3.000000     2.000000   \n",
              "max       3.000000     3.000000     3.000000     3.000000     3.000000   \n",
              "\n",
              "               Q34          Q37          Q38          Q42        Label  \n",
              "count  6709.000000  6709.000000  6709.000000  6709.000000  6709.000000  \n",
              "mean      1.622149     1.380385     1.404531     1.760322     2.302281  \n",
              "std       1.165440     1.153102     1.199415     1.042665     1.544846  \n",
              "min       0.000000     0.000000     0.000000     0.000000     0.000000  \n",
              "25%       1.000000     0.000000     0.000000     1.000000     1.000000  \n",
              "50%       2.000000     1.000000     1.000000     2.000000     3.000000  \n",
              "75%       3.000000     2.000000     3.000000     3.000000     4.000000  \n",
              "max       3.000000     3.000000     3.000000     3.000000     4.000000  "
            ],
            "text/html": [
              "\n",
              "  <div id=\"df-f9025e7c-e274-47d7-a15a-12a7f0624540\" class=\"colab-df-container\">\n",
              "    <div>\n",
              "<style scoped>\n",
              "    .dataframe tbody tr th:only-of-type {\n",
              "        vertical-align: middle;\n",
              "    }\n",
              "\n",
              "    .dataframe tbody tr th {\n",
              "        vertical-align: top;\n",
              "    }\n",
              "\n",
              "    .dataframe thead th {\n",
              "        text-align: right;\n",
              "    }\n",
              "</style>\n",
              "<table border=\"1\" class=\"dataframe\">\n",
              "  <thead>\n",
              "    <tr style=\"text-align: right;\">\n",
              "      <th></th>\n",
              "      <th>Q3</th>\n",
              "      <th>Q5</th>\n",
              "      <th>Q10</th>\n",
              "      <th>Q13</th>\n",
              "      <th>Q16</th>\n",
              "      <th>Q17</th>\n",
              "      <th>Q21</th>\n",
              "      <th>Q24</th>\n",
              "      <th>Q26</th>\n",
              "      <th>Q31</th>\n",
              "      <th>Q34</th>\n",
              "      <th>Q37</th>\n",
              "      <th>Q38</th>\n",
              "      <th>Q42</th>\n",
              "      <th>Label</th>\n",
              "    </tr>\n",
              "  </thead>\n",
              "  <tbody>\n",
              "    <tr>\n",
              "      <th>count</th>\n",
              "      <td>6709.000000</td>\n",
              "      <td>6709.000000</td>\n",
              "      <td>6709.000000</td>\n",
              "      <td>6709.000000</td>\n",
              "      <td>6709.000000</td>\n",
              "      <td>6709.000000</td>\n",
              "      <td>6709.000000</td>\n",
              "      <td>6709.000000</td>\n",
              "      <td>6709.000000</td>\n",
              "      <td>6709.000000</td>\n",
              "      <td>6709.000000</td>\n",
              "      <td>6709.000000</td>\n",
              "      <td>6709.000000</td>\n",
              "      <td>6709.000000</td>\n",
              "      <td>6709.000000</td>\n",
              "    </tr>\n",
              "    <tr>\n",
              "      <th>mean</th>\n",
              "      <td>1.244895</td>\n",
              "      <td>1.595320</td>\n",
              "      <td>1.483828</td>\n",
              "      <td>1.811596</td>\n",
              "      <td>1.531078</td>\n",
              "      <td>1.633030</td>\n",
              "      <td>1.365777</td>\n",
              "      <td>1.449843</td>\n",
              "      <td>1.678641</td>\n",
              "      <td>1.397675</td>\n",
              "      <td>1.622149</td>\n",
              "      <td>1.380385</td>\n",
              "      <td>1.404531</td>\n",
              "      <td>1.760322</td>\n",
              "      <td>2.302281</td>\n",
              "    </tr>\n",
              "    <tr>\n",
              "      <th>std</th>\n",
              "      <td>1.044667</td>\n",
              "      <td>1.083451</td>\n",
              "      <td>1.153505</td>\n",
              "      <td>1.065943</td>\n",
              "      <td>1.124136</td>\n",
              "      <td>1.162583</td>\n",
              "      <td>1.180894</td>\n",
              "      <td>1.063038</td>\n",
              "      <td>1.066872</td>\n",
              "      <td>1.054635</td>\n",
              "      <td>1.165440</td>\n",
              "      <td>1.153102</td>\n",
              "      <td>1.199415</td>\n",
              "      <td>1.042665</td>\n",
              "      <td>1.544846</td>\n",
              "    </tr>\n",
              "    <tr>\n",
              "      <th>min</th>\n",
              "      <td>0.000000</td>\n",
              "      <td>0.000000</td>\n",
              "      <td>0.000000</td>\n",
              "      <td>0.000000</td>\n",
              "      <td>0.000000</td>\n",
              "      <td>0.000000</td>\n",
              "      <td>0.000000</td>\n",
              "      <td>0.000000</td>\n",
              "      <td>0.000000</td>\n",
              "      <td>0.000000</td>\n",
              "      <td>0.000000</td>\n",
              "      <td>0.000000</td>\n",
              "      <td>0.000000</td>\n",
              "      <td>0.000000</td>\n",
              "      <td>0.000000</td>\n",
              "    </tr>\n",
              "    <tr>\n",
              "      <th>25%</th>\n",
              "      <td>0.000000</td>\n",
              "      <td>1.000000</td>\n",
              "      <td>0.000000</td>\n",
              "      <td>1.000000</td>\n",
              "      <td>1.000000</td>\n",
              "      <td>1.000000</td>\n",
              "      <td>0.000000</td>\n",
              "      <td>1.000000</td>\n",
              "      <td>1.000000</td>\n",
              "      <td>1.000000</td>\n",
              "      <td>1.000000</td>\n",
              "      <td>0.000000</td>\n",
              "      <td>0.000000</td>\n",
              "      <td>1.000000</td>\n",
              "      <td>1.000000</td>\n",
              "    </tr>\n",
              "    <tr>\n",
              "      <th>50%</th>\n",
              "      <td>1.000000</td>\n",
              "      <td>2.000000</td>\n",
              "      <td>1.000000</td>\n",
              "      <td>2.000000</td>\n",
              "      <td>1.000000</td>\n",
              "      <td>2.000000</td>\n",
              "      <td>1.000000</td>\n",
              "      <td>1.000000</td>\n",
              "      <td>2.000000</td>\n",
              "      <td>1.000000</td>\n",
              "      <td>2.000000</td>\n",
              "      <td>1.000000</td>\n",
              "      <td>1.000000</td>\n",
              "      <td>2.000000</td>\n",
              "      <td>3.000000</td>\n",
              "    </tr>\n",
              "    <tr>\n",
              "      <th>75%</th>\n",
              "      <td>2.000000</td>\n",
              "      <td>3.000000</td>\n",
              "      <td>3.000000</td>\n",
              "      <td>3.000000</td>\n",
              "      <td>3.000000</td>\n",
              "      <td>3.000000</td>\n",
              "      <td>3.000000</td>\n",
              "      <td>2.000000</td>\n",
              "      <td>3.000000</td>\n",
              "      <td>2.000000</td>\n",
              "      <td>3.000000</td>\n",
              "      <td>2.000000</td>\n",
              "      <td>3.000000</td>\n",
              "      <td>3.000000</td>\n",
              "      <td>4.000000</td>\n",
              "    </tr>\n",
              "    <tr>\n",
              "      <th>max</th>\n",
              "      <td>3.000000</td>\n",
              "      <td>3.000000</td>\n",
              "      <td>3.000000</td>\n",
              "      <td>3.000000</td>\n",
              "      <td>3.000000</td>\n",
              "      <td>3.000000</td>\n",
              "      <td>3.000000</td>\n",
              "      <td>3.000000</td>\n",
              "      <td>3.000000</td>\n",
              "      <td>3.000000</td>\n",
              "      <td>3.000000</td>\n",
              "      <td>3.000000</td>\n",
              "      <td>3.000000</td>\n",
              "      <td>3.000000</td>\n",
              "      <td>4.000000</td>\n",
              "    </tr>\n",
              "  </tbody>\n",
              "</table>\n",
              "</div>\n",
              "    <div class=\"colab-df-buttons\">\n",
              "\n",
              "  <div class=\"colab-df-container\">\n",
              "    <button class=\"colab-df-convert\" onclick=\"convertToInteractive('df-f9025e7c-e274-47d7-a15a-12a7f0624540')\"\n",
              "            title=\"Convert this dataframe to an interactive table.\"\n",
              "            style=\"display:none;\">\n",
              "\n",
              "  <svg xmlns=\"http://www.w3.org/2000/svg\" height=\"24px\" viewBox=\"0 -960 960 960\">\n",
              "    <path d=\"M120-120v-720h720v720H120Zm60-500h600v-160H180v160Zm220 220h160v-160H400v160Zm0 220h160v-160H400v160ZM180-400h160v-160H180v160Zm440 0h160v-160H620v160ZM180-180h160v-160H180v160Zm440 0h160v-160H620v160Z\"/>\n",
              "  </svg>\n",
              "    </button>\n",
              "\n",
              "  <style>\n",
              "    .colab-df-container {\n",
              "      display:flex;\n",
              "      gap: 12px;\n",
              "    }\n",
              "\n",
              "    .colab-df-convert {\n",
              "      background-color: #E8F0FE;\n",
              "      border: none;\n",
              "      border-radius: 50%;\n",
              "      cursor: pointer;\n",
              "      display: none;\n",
              "      fill: #1967D2;\n",
              "      height: 32px;\n",
              "      padding: 0 0 0 0;\n",
              "      width: 32px;\n",
              "    }\n",
              "\n",
              "    .colab-df-convert:hover {\n",
              "      background-color: #E2EBFA;\n",
              "      box-shadow: 0px 1px 2px rgba(60, 64, 67, 0.3), 0px 1px 3px 1px rgba(60, 64, 67, 0.15);\n",
              "      fill: #174EA6;\n",
              "    }\n",
              "\n",
              "    .colab-df-buttons div {\n",
              "      margin-bottom: 4px;\n",
              "    }\n",
              "\n",
              "    [theme=dark] .colab-df-convert {\n",
              "      background-color: #3B4455;\n",
              "      fill: #D2E3FC;\n",
              "    }\n",
              "\n",
              "    [theme=dark] .colab-df-convert:hover {\n",
              "      background-color: #434B5C;\n",
              "      box-shadow: 0px 1px 3px 1px rgba(0, 0, 0, 0.15);\n",
              "      filter: drop-shadow(0px 1px 2px rgba(0, 0, 0, 0.3));\n",
              "      fill: #FFFFFF;\n",
              "    }\n",
              "  </style>\n",
              "\n",
              "    <script>\n",
              "      const buttonEl =\n",
              "        document.querySelector('#df-f9025e7c-e274-47d7-a15a-12a7f0624540 button.colab-df-convert');\n",
              "      buttonEl.style.display =\n",
              "        google.colab.kernel.accessAllowed ? 'block' : 'none';\n",
              "\n",
              "      async function convertToInteractive(key) {\n",
              "        const element = document.querySelector('#df-f9025e7c-e274-47d7-a15a-12a7f0624540');\n",
              "        const dataTable =\n",
              "          await google.colab.kernel.invokeFunction('convertToInteractive',\n",
              "                                                    [key], {});\n",
              "        if (!dataTable) return;\n",
              "\n",
              "        const docLinkHtml = 'Like what you see? Visit the ' +\n",
              "          '<a target=\"_blank\" href=https://colab.research.google.com/notebooks/data_table.ipynb>data table notebook</a>'\n",
              "          + ' to learn more about interactive tables.';\n",
              "        element.innerHTML = '';\n",
              "        dataTable['output_type'] = 'display_data';\n",
              "        await google.colab.output.renderOutput(dataTable, element);\n",
              "        const docLink = document.createElement('div');\n",
              "        docLink.innerHTML = docLinkHtml;\n",
              "        element.appendChild(docLink);\n",
              "      }\n",
              "    </script>\n",
              "  </div>\n",
              "\n",
              "\n",
              "<div id=\"df-a2df95ae-3bd9-4df2-b4ed-f232ff176e48\">\n",
              "  <button class=\"colab-df-quickchart\" onclick=\"quickchart('df-a2df95ae-3bd9-4df2-b4ed-f232ff176e48')\"\n",
              "            title=\"Suggest charts\"\n",
              "            style=\"display:none;\">\n",
              "\n",
              "<svg xmlns=\"http://www.w3.org/2000/svg\" height=\"24px\"viewBox=\"0 0 24 24\"\n",
              "     width=\"24px\">\n",
              "    <g>\n",
              "        <path d=\"M19 3H5c-1.1 0-2 .9-2 2v14c0 1.1.9 2 2 2h14c1.1 0 2-.9 2-2V5c0-1.1-.9-2-2-2zM9 17H7v-7h2v7zm4 0h-2V7h2v10zm4 0h-2v-4h2v4z\"/>\n",
              "    </g>\n",
              "</svg>\n",
              "  </button>\n",
              "\n",
              "<style>\n",
              "  .colab-df-quickchart {\n",
              "      --bg-color: #E8F0FE;\n",
              "      --fill-color: #1967D2;\n",
              "      --hover-bg-color: #E2EBFA;\n",
              "      --hover-fill-color: #174EA6;\n",
              "      --disabled-fill-color: #AAA;\n",
              "      --disabled-bg-color: #DDD;\n",
              "  }\n",
              "\n",
              "  [theme=dark] .colab-df-quickchart {\n",
              "      --bg-color: #3B4455;\n",
              "      --fill-color: #D2E3FC;\n",
              "      --hover-bg-color: #434B5C;\n",
              "      --hover-fill-color: #FFFFFF;\n",
              "      --disabled-bg-color: #3B4455;\n",
              "      --disabled-fill-color: #666;\n",
              "  }\n",
              "\n",
              "  .colab-df-quickchart {\n",
              "    background-color: var(--bg-color);\n",
              "    border: none;\n",
              "    border-radius: 50%;\n",
              "    cursor: pointer;\n",
              "    display: none;\n",
              "    fill: var(--fill-color);\n",
              "    height: 32px;\n",
              "    padding: 0;\n",
              "    width: 32px;\n",
              "  }\n",
              "\n",
              "  .colab-df-quickchart:hover {\n",
              "    background-color: var(--hover-bg-color);\n",
              "    box-shadow: 0 1px 2px rgba(60, 64, 67, 0.3), 0 1px 3px 1px rgba(60, 64, 67, 0.15);\n",
              "    fill: var(--button-hover-fill-color);\n",
              "  }\n",
              "\n",
              "  .colab-df-quickchart-complete:disabled,\n",
              "  .colab-df-quickchart-complete:disabled:hover {\n",
              "    background-color: var(--disabled-bg-color);\n",
              "    fill: var(--disabled-fill-color);\n",
              "    box-shadow: none;\n",
              "  }\n",
              "\n",
              "  .colab-df-spinner {\n",
              "    border: 2px solid var(--fill-color);\n",
              "    border-color: transparent;\n",
              "    border-bottom-color: var(--fill-color);\n",
              "    animation:\n",
              "      spin 1s steps(1) infinite;\n",
              "  }\n",
              "\n",
              "  @keyframes spin {\n",
              "    0% {\n",
              "      border-color: transparent;\n",
              "      border-bottom-color: var(--fill-color);\n",
              "      border-left-color: var(--fill-color);\n",
              "    }\n",
              "    20% {\n",
              "      border-color: transparent;\n",
              "      border-left-color: var(--fill-color);\n",
              "      border-top-color: var(--fill-color);\n",
              "    }\n",
              "    30% {\n",
              "      border-color: transparent;\n",
              "      border-left-color: var(--fill-color);\n",
              "      border-top-color: var(--fill-color);\n",
              "      border-right-color: var(--fill-color);\n",
              "    }\n",
              "    40% {\n",
              "      border-color: transparent;\n",
              "      border-right-color: var(--fill-color);\n",
              "      border-top-color: var(--fill-color);\n",
              "    }\n",
              "    60% {\n",
              "      border-color: transparent;\n",
              "      border-right-color: var(--fill-color);\n",
              "    }\n",
              "    80% {\n",
              "      border-color: transparent;\n",
              "      border-right-color: var(--fill-color);\n",
              "      border-bottom-color: var(--fill-color);\n",
              "    }\n",
              "    90% {\n",
              "      border-color: transparent;\n",
              "      border-bottom-color: var(--fill-color);\n",
              "    }\n",
              "  }\n",
              "</style>\n",
              "\n",
              "  <script>\n",
              "    async function quickchart(key) {\n",
              "      const quickchartButtonEl =\n",
              "        document.querySelector('#' + key + ' button');\n",
              "      quickchartButtonEl.disabled = true;  // To prevent multiple clicks.\n",
              "      quickchartButtonEl.classList.add('colab-df-spinner');\n",
              "      try {\n",
              "        const charts = await google.colab.kernel.invokeFunction(\n",
              "            'suggestCharts', [key], {});\n",
              "      } catch (error) {\n",
              "        console.error('Error during call to suggestCharts:', error);\n",
              "      }\n",
              "      quickchartButtonEl.classList.remove('colab-df-spinner');\n",
              "      quickchartButtonEl.classList.add('colab-df-quickchart-complete');\n",
              "    }\n",
              "    (() => {\n",
              "      let quickchartButtonEl =\n",
              "        document.querySelector('#df-a2df95ae-3bd9-4df2-b4ed-f232ff176e48 button');\n",
              "      quickchartButtonEl.style.display =\n",
              "        google.colab.kernel.accessAllowed ? 'block' : 'none';\n",
              "    })();\n",
              "  </script>\n",
              "</div>\n",
              "    </div>\n",
              "  </div>\n"
            ]
          },
          "metadata": {},
          "execution_count": 104
        }
      ],
      "source": [
        "#Menampilkan statistik deskriptif dari DataFrame df\n",
        "data.describe()"
      ]
    },
    {
      "cell_type": "code",
      "execution_count": 105,
      "metadata": {
        "colab": {
          "base_uri": "https://localhost:8080/",
          "height": 394
        },
        "id": "8HI1sJLomCQD",
        "outputId": "3b77ce33-0211-436f-f3a7-8b2b974d1e06"
      },
      "outputs": [
        {
          "output_type": "execute_result",
          "data": {
            "text/plain": [
              "    Q3  Q5  Q10  Q13  Q16  Q17  Q21  Q24  Q26  Q31  Q34  Q37  Q38  Q42  Label\n",
              "0    1   3    0    3    3    2    0    3    3    3    2    0    1    3      3\n",
              "1    1   3    1    3    2    3    1    1    2    1    1    3    1    1      3\n",
              "2    3   3    3    3    3    3    3    3    0    3    3    3    3    3      4\n",
              "3    1   2    2    0    1    2    0    0    1    2    3    1    0    1      2\n",
              "4    2   3    2    3    2    3    2    1    3    2    3    2    2    2      4\n",
              "5    1   2    1    0    3    1    0    1    0    1    0    1    1    1      1\n",
              "6    1   3    3    1    3    1    3    2    1    3    2    3    3    2      4\n",
              "7    0   2    0    0    0    0    0    0    1    0    0    0    0    1      0\n",
              "8    2   2    2    3    3    2    2    2    3    3    3    3    2    3      4\n",
              "9    3   3    3    3    3    3    3    3    3    3    3    3    3    3      4\n",
              "10   1   2    0    1    2    1    0    2    0    2    1    0    1    1      2"
            ],
            "text/html": [
              "\n",
              "  <div id=\"df-f6f6fb35-d15f-4c35-a0b1-0e2fd66b56a2\" class=\"colab-df-container\">\n",
              "    <div>\n",
              "<style scoped>\n",
              "    .dataframe tbody tr th:only-of-type {\n",
              "        vertical-align: middle;\n",
              "    }\n",
              "\n",
              "    .dataframe tbody tr th {\n",
              "        vertical-align: top;\n",
              "    }\n",
              "\n",
              "    .dataframe thead th {\n",
              "        text-align: right;\n",
              "    }\n",
              "</style>\n",
              "<table border=\"1\" class=\"dataframe\">\n",
              "  <thead>\n",
              "    <tr style=\"text-align: right;\">\n",
              "      <th></th>\n",
              "      <th>Q3</th>\n",
              "      <th>Q5</th>\n",
              "      <th>Q10</th>\n",
              "      <th>Q13</th>\n",
              "      <th>Q16</th>\n",
              "      <th>Q17</th>\n",
              "      <th>Q21</th>\n",
              "      <th>Q24</th>\n",
              "      <th>Q26</th>\n",
              "      <th>Q31</th>\n",
              "      <th>Q34</th>\n",
              "      <th>Q37</th>\n",
              "      <th>Q38</th>\n",
              "      <th>Q42</th>\n",
              "      <th>Label</th>\n",
              "    </tr>\n",
              "  </thead>\n",
              "  <tbody>\n",
              "    <tr>\n",
              "      <th>0</th>\n",
              "      <td>1</td>\n",
              "      <td>3</td>\n",
              "      <td>0</td>\n",
              "      <td>3</td>\n",
              "      <td>3</td>\n",
              "      <td>2</td>\n",
              "      <td>0</td>\n",
              "      <td>3</td>\n",
              "      <td>3</td>\n",
              "      <td>3</td>\n",
              "      <td>2</td>\n",
              "      <td>0</td>\n",
              "      <td>1</td>\n",
              "      <td>3</td>\n",
              "      <td>3</td>\n",
              "    </tr>\n",
              "    <tr>\n",
              "      <th>1</th>\n",
              "      <td>1</td>\n",
              "      <td>3</td>\n",
              "      <td>1</td>\n",
              "      <td>3</td>\n",
              "      <td>2</td>\n",
              "      <td>3</td>\n",
              "      <td>1</td>\n",
              "      <td>1</td>\n",
              "      <td>2</td>\n",
              "      <td>1</td>\n",
              "      <td>1</td>\n",
              "      <td>3</td>\n",
              "      <td>1</td>\n",
              "      <td>1</td>\n",
              "      <td>3</td>\n",
              "    </tr>\n",
              "    <tr>\n",
              "      <th>2</th>\n",
              "      <td>3</td>\n",
              "      <td>3</td>\n",
              "      <td>3</td>\n",
              "      <td>3</td>\n",
              "      <td>3</td>\n",
              "      <td>3</td>\n",
              "      <td>3</td>\n",
              "      <td>3</td>\n",
              "      <td>0</td>\n",
              "      <td>3</td>\n",
              "      <td>3</td>\n",
              "      <td>3</td>\n",
              "      <td>3</td>\n",
              "      <td>3</td>\n",
              "      <td>4</td>\n",
              "    </tr>\n",
              "    <tr>\n",
              "      <th>3</th>\n",
              "      <td>1</td>\n",
              "      <td>2</td>\n",
              "      <td>2</td>\n",
              "      <td>0</td>\n",
              "      <td>1</td>\n",
              "      <td>2</td>\n",
              "      <td>0</td>\n",
              "      <td>0</td>\n",
              "      <td>1</td>\n",
              "      <td>2</td>\n",
              "      <td>3</td>\n",
              "      <td>1</td>\n",
              "      <td>0</td>\n",
              "      <td>1</td>\n",
              "      <td>2</td>\n",
              "    </tr>\n",
              "    <tr>\n",
              "      <th>4</th>\n",
              "      <td>2</td>\n",
              "      <td>3</td>\n",
              "      <td>2</td>\n",
              "      <td>3</td>\n",
              "      <td>2</td>\n",
              "      <td>3</td>\n",
              "      <td>2</td>\n",
              "      <td>1</td>\n",
              "      <td>3</td>\n",
              "      <td>2</td>\n",
              "      <td>3</td>\n",
              "      <td>2</td>\n",
              "      <td>2</td>\n",
              "      <td>2</td>\n",
              "      <td>4</td>\n",
              "    </tr>\n",
              "    <tr>\n",
              "      <th>5</th>\n",
              "      <td>1</td>\n",
              "      <td>2</td>\n",
              "      <td>1</td>\n",
              "      <td>0</td>\n",
              "      <td>3</td>\n",
              "      <td>1</td>\n",
              "      <td>0</td>\n",
              "      <td>1</td>\n",
              "      <td>0</td>\n",
              "      <td>1</td>\n",
              "      <td>0</td>\n",
              "      <td>1</td>\n",
              "      <td>1</td>\n",
              "      <td>1</td>\n",
              "      <td>1</td>\n",
              "    </tr>\n",
              "    <tr>\n",
              "      <th>6</th>\n",
              "      <td>1</td>\n",
              "      <td>3</td>\n",
              "      <td>3</td>\n",
              "      <td>1</td>\n",
              "      <td>3</td>\n",
              "      <td>1</td>\n",
              "      <td>3</td>\n",
              "      <td>2</td>\n",
              "      <td>1</td>\n",
              "      <td>3</td>\n",
              "      <td>2</td>\n",
              "      <td>3</td>\n",
              "      <td>3</td>\n",
              "      <td>2</td>\n",
              "      <td>4</td>\n",
              "    </tr>\n",
              "    <tr>\n",
              "      <th>7</th>\n",
              "      <td>0</td>\n",
              "      <td>2</td>\n",
              "      <td>0</td>\n",
              "      <td>0</td>\n",
              "      <td>0</td>\n",
              "      <td>0</td>\n",
              "      <td>0</td>\n",
              "      <td>0</td>\n",
              "      <td>1</td>\n",
              "      <td>0</td>\n",
              "      <td>0</td>\n",
              "      <td>0</td>\n",
              "      <td>0</td>\n",
              "      <td>1</td>\n",
              "      <td>0</td>\n",
              "    </tr>\n",
              "    <tr>\n",
              "      <th>8</th>\n",
              "      <td>2</td>\n",
              "      <td>2</td>\n",
              "      <td>2</td>\n",
              "      <td>3</td>\n",
              "      <td>3</td>\n",
              "      <td>2</td>\n",
              "      <td>2</td>\n",
              "      <td>2</td>\n",
              "      <td>3</td>\n",
              "      <td>3</td>\n",
              "      <td>3</td>\n",
              "      <td>3</td>\n",
              "      <td>2</td>\n",
              "      <td>3</td>\n",
              "      <td>4</td>\n",
              "    </tr>\n",
              "    <tr>\n",
              "      <th>9</th>\n",
              "      <td>3</td>\n",
              "      <td>3</td>\n",
              "      <td>3</td>\n",
              "      <td>3</td>\n",
              "      <td>3</td>\n",
              "      <td>3</td>\n",
              "      <td>3</td>\n",
              "      <td>3</td>\n",
              "      <td>3</td>\n",
              "      <td>3</td>\n",
              "      <td>3</td>\n",
              "      <td>3</td>\n",
              "      <td>3</td>\n",
              "      <td>3</td>\n",
              "      <td>4</td>\n",
              "    </tr>\n",
              "    <tr>\n",
              "      <th>10</th>\n",
              "      <td>1</td>\n",
              "      <td>2</td>\n",
              "      <td>0</td>\n",
              "      <td>1</td>\n",
              "      <td>2</td>\n",
              "      <td>1</td>\n",
              "      <td>0</td>\n",
              "      <td>2</td>\n",
              "      <td>0</td>\n",
              "      <td>2</td>\n",
              "      <td>1</td>\n",
              "      <td>0</td>\n",
              "      <td>1</td>\n",
              "      <td>1</td>\n",
              "      <td>2</td>\n",
              "    </tr>\n",
              "  </tbody>\n",
              "</table>\n",
              "</div>\n",
              "    <div class=\"colab-df-buttons\">\n",
              "\n",
              "  <div class=\"colab-df-container\">\n",
              "    <button class=\"colab-df-convert\" onclick=\"convertToInteractive('df-f6f6fb35-d15f-4c35-a0b1-0e2fd66b56a2')\"\n",
              "            title=\"Convert this dataframe to an interactive table.\"\n",
              "            style=\"display:none;\">\n",
              "\n",
              "  <svg xmlns=\"http://www.w3.org/2000/svg\" height=\"24px\" viewBox=\"0 -960 960 960\">\n",
              "    <path d=\"M120-120v-720h720v720H120Zm60-500h600v-160H180v160Zm220 220h160v-160H400v160Zm0 220h160v-160H400v160ZM180-400h160v-160H180v160Zm440 0h160v-160H620v160ZM180-180h160v-160H180v160Zm440 0h160v-160H620v160Z\"/>\n",
              "  </svg>\n",
              "    </button>\n",
              "\n",
              "  <style>\n",
              "    .colab-df-container {\n",
              "      display:flex;\n",
              "      gap: 12px;\n",
              "    }\n",
              "\n",
              "    .colab-df-convert {\n",
              "      background-color: #E8F0FE;\n",
              "      border: none;\n",
              "      border-radius: 50%;\n",
              "      cursor: pointer;\n",
              "      display: none;\n",
              "      fill: #1967D2;\n",
              "      height: 32px;\n",
              "      padding: 0 0 0 0;\n",
              "      width: 32px;\n",
              "    }\n",
              "\n",
              "    .colab-df-convert:hover {\n",
              "      background-color: #E2EBFA;\n",
              "      box-shadow: 0px 1px 2px rgba(60, 64, 67, 0.3), 0px 1px 3px 1px rgba(60, 64, 67, 0.15);\n",
              "      fill: #174EA6;\n",
              "    }\n",
              "\n",
              "    .colab-df-buttons div {\n",
              "      margin-bottom: 4px;\n",
              "    }\n",
              "\n",
              "    [theme=dark] .colab-df-convert {\n",
              "      background-color: #3B4455;\n",
              "      fill: #D2E3FC;\n",
              "    }\n",
              "\n",
              "    [theme=dark] .colab-df-convert:hover {\n",
              "      background-color: #434B5C;\n",
              "      box-shadow: 0px 1px 3px 1px rgba(0, 0, 0, 0.15);\n",
              "      filter: drop-shadow(0px 1px 2px rgba(0, 0, 0, 0.3));\n",
              "      fill: #FFFFFF;\n",
              "    }\n",
              "  </style>\n",
              "\n",
              "    <script>\n",
              "      const buttonEl =\n",
              "        document.querySelector('#df-f6f6fb35-d15f-4c35-a0b1-0e2fd66b56a2 button.colab-df-convert');\n",
              "      buttonEl.style.display =\n",
              "        google.colab.kernel.accessAllowed ? 'block' : 'none';\n",
              "\n",
              "      async function convertToInteractive(key) {\n",
              "        const element = document.querySelector('#df-f6f6fb35-d15f-4c35-a0b1-0e2fd66b56a2');\n",
              "        const dataTable =\n",
              "          await google.colab.kernel.invokeFunction('convertToInteractive',\n",
              "                                                    [key], {});\n",
              "        if (!dataTable) return;\n",
              "\n",
              "        const docLinkHtml = 'Like what you see? Visit the ' +\n",
              "          '<a target=\"_blank\" href=https://colab.research.google.com/notebooks/data_table.ipynb>data table notebook</a>'\n",
              "          + ' to learn more about interactive tables.';\n",
              "        element.innerHTML = '';\n",
              "        dataTable['output_type'] = 'display_data';\n",
              "        await google.colab.output.renderOutput(dataTable, element);\n",
              "        const docLink = document.createElement('div');\n",
              "        docLink.innerHTML = docLinkHtml;\n",
              "        element.appendChild(docLink);\n",
              "      }\n",
              "    </script>\n",
              "  </div>\n",
              "\n",
              "\n",
              "<div id=\"df-f11d6a7a-b4a6-4aba-bc42-3d1f5abbae17\">\n",
              "  <button class=\"colab-df-quickchart\" onclick=\"quickchart('df-f11d6a7a-b4a6-4aba-bc42-3d1f5abbae17')\"\n",
              "            title=\"Suggest charts\"\n",
              "            style=\"display:none;\">\n",
              "\n",
              "<svg xmlns=\"http://www.w3.org/2000/svg\" height=\"24px\"viewBox=\"0 0 24 24\"\n",
              "     width=\"24px\">\n",
              "    <g>\n",
              "        <path d=\"M19 3H5c-1.1 0-2 .9-2 2v14c0 1.1.9 2 2 2h14c1.1 0 2-.9 2-2V5c0-1.1-.9-2-2-2zM9 17H7v-7h2v7zm4 0h-2V7h2v10zm4 0h-2v-4h2v4z\"/>\n",
              "    </g>\n",
              "</svg>\n",
              "  </button>\n",
              "\n",
              "<style>\n",
              "  .colab-df-quickchart {\n",
              "      --bg-color: #E8F0FE;\n",
              "      --fill-color: #1967D2;\n",
              "      --hover-bg-color: #E2EBFA;\n",
              "      --hover-fill-color: #174EA6;\n",
              "      --disabled-fill-color: #AAA;\n",
              "      --disabled-bg-color: #DDD;\n",
              "  }\n",
              "\n",
              "  [theme=dark] .colab-df-quickchart {\n",
              "      --bg-color: #3B4455;\n",
              "      --fill-color: #D2E3FC;\n",
              "      --hover-bg-color: #434B5C;\n",
              "      --hover-fill-color: #FFFFFF;\n",
              "      --disabled-bg-color: #3B4455;\n",
              "      --disabled-fill-color: #666;\n",
              "  }\n",
              "\n",
              "  .colab-df-quickchart {\n",
              "    background-color: var(--bg-color);\n",
              "    border: none;\n",
              "    border-radius: 50%;\n",
              "    cursor: pointer;\n",
              "    display: none;\n",
              "    fill: var(--fill-color);\n",
              "    height: 32px;\n",
              "    padding: 0;\n",
              "    width: 32px;\n",
              "  }\n",
              "\n",
              "  .colab-df-quickchart:hover {\n",
              "    background-color: var(--hover-bg-color);\n",
              "    box-shadow: 0 1px 2px rgba(60, 64, 67, 0.3), 0 1px 3px 1px rgba(60, 64, 67, 0.15);\n",
              "    fill: var(--button-hover-fill-color);\n",
              "  }\n",
              "\n",
              "  .colab-df-quickchart-complete:disabled,\n",
              "  .colab-df-quickchart-complete:disabled:hover {\n",
              "    background-color: var(--disabled-bg-color);\n",
              "    fill: var(--disabled-fill-color);\n",
              "    box-shadow: none;\n",
              "  }\n",
              "\n",
              "  .colab-df-spinner {\n",
              "    border: 2px solid var(--fill-color);\n",
              "    border-color: transparent;\n",
              "    border-bottom-color: var(--fill-color);\n",
              "    animation:\n",
              "      spin 1s steps(1) infinite;\n",
              "  }\n",
              "\n",
              "  @keyframes spin {\n",
              "    0% {\n",
              "      border-color: transparent;\n",
              "      border-bottom-color: var(--fill-color);\n",
              "      border-left-color: var(--fill-color);\n",
              "    }\n",
              "    20% {\n",
              "      border-color: transparent;\n",
              "      border-left-color: var(--fill-color);\n",
              "      border-top-color: var(--fill-color);\n",
              "    }\n",
              "    30% {\n",
              "      border-color: transparent;\n",
              "      border-left-color: var(--fill-color);\n",
              "      border-top-color: var(--fill-color);\n",
              "      border-right-color: var(--fill-color);\n",
              "    }\n",
              "    40% {\n",
              "      border-color: transparent;\n",
              "      border-right-color: var(--fill-color);\n",
              "      border-top-color: var(--fill-color);\n",
              "    }\n",
              "    60% {\n",
              "      border-color: transparent;\n",
              "      border-right-color: var(--fill-color);\n",
              "    }\n",
              "    80% {\n",
              "      border-color: transparent;\n",
              "      border-right-color: var(--fill-color);\n",
              "      border-bottom-color: var(--fill-color);\n",
              "    }\n",
              "    90% {\n",
              "      border-color: transparent;\n",
              "      border-bottom-color: var(--fill-color);\n",
              "    }\n",
              "  }\n",
              "</style>\n",
              "\n",
              "  <script>\n",
              "    async function quickchart(key) {\n",
              "      const quickchartButtonEl =\n",
              "        document.querySelector('#' + key + ' button');\n",
              "      quickchartButtonEl.disabled = true;  // To prevent multiple clicks.\n",
              "      quickchartButtonEl.classList.add('colab-df-spinner');\n",
              "      try {\n",
              "        const charts = await google.colab.kernel.invokeFunction(\n",
              "            'suggestCharts', [key], {});\n",
              "      } catch (error) {\n",
              "        console.error('Error during call to suggestCharts:', error);\n",
              "      }\n",
              "      quickchartButtonEl.classList.remove('colab-df-spinner');\n",
              "      quickchartButtonEl.classList.add('colab-df-quickchart-complete');\n",
              "    }\n",
              "    (() => {\n",
              "      let quickchartButtonEl =\n",
              "        document.querySelector('#df-f11d6a7a-b4a6-4aba-bc42-3d1f5abbae17 button');\n",
              "      quickchartButtonEl.style.display =\n",
              "        google.colab.kernel.accessAllowed ? 'block' : 'none';\n",
              "    })();\n",
              "  </script>\n",
              "</div>\n",
              "    </div>\n",
              "  </div>\n"
            ]
          },
          "metadata": {},
          "execution_count": 105
        }
      ],
      "source": [
        "data.loc[:10]"
      ]
    },
    {
      "cell_type": "code",
      "execution_count": 106,
      "metadata": {
        "id": "Dv3Lk26OxW6J"
      },
      "outputs": [],
      "source": [
        "x = data.drop(columns=[\"Label\"])\n",
        "y = data[\"Label\"]"
      ]
    },
    {
      "cell_type": "code",
      "execution_count": 107,
      "metadata": {
        "id": "qLlfH3pMjPzE"
      },
      "outputs": [],
      "source": [
        "x_train, x_test, y_train, y_test = train_test_split(x, y, test_size=0.2, random_state=42)"
      ]
    },
    {
      "cell_type": "code",
      "execution_count": 108,
      "metadata": {
        "colab": {
          "base_uri": "https://localhost:8080/"
        },
        "id": "jRXDEtxqjP1r",
        "outputId": "911dbd42-bd0a-4392-cbd6-7af1c15b9eaf"
      },
      "outputs": [
        {
          "output_type": "stream",
          "name": "stdout",
          "text": [
            "Q3     int64\n",
            "Q5     int64\n",
            "Q10    int64\n",
            "Q13    int64\n",
            "Q16    int64\n",
            "Q17    int64\n",
            "Q21    int64\n",
            "Q24    int64\n",
            "Q26    int64\n",
            "Q31    int64\n",
            "Q34    int64\n",
            "Q37    int64\n",
            "Q38    int64\n",
            "Q42    int64\n",
            "dtype: object\n",
            "int64\n"
          ]
        }
      ],
      "source": [
        "print(x_train.dtypes)\n",
        "print(y_train.dtypes)"
      ]
    },
    {
      "cell_type": "code",
      "execution_count": 109,
      "metadata": {
        "colab": {
          "base_uri": "https://localhost:8080/"
        },
        "id": "C0zubarFjP37",
        "outputId": "65f81d5f-da36-4eb6-b315-48c589380340"
      },
      "outputs": [
        {
          "output_type": "stream",
          "name": "stdout",
          "text": [
            "X_train shape :  (5367, 14)\n",
            "y_train shape :  (5367,)\n",
            "X_test shape :  (1342, 14)\n",
            "y_test shape :  (1342,)\n"
          ]
        }
      ],
      "source": [
        "print('X_train shape : ',  x_train.shape)\n",
        "print('y_train shape : ',  y_train.shape)\n",
        "print('X_test shape : ',  x_test.shape)\n",
        "print('y_test shape : ',  y_test.shape)"
      ]
    },
    {
      "cell_type": "code",
      "execution_count": 110,
      "metadata": {
        "colab": {
          "base_uri": "https://localhost:8080/"
        },
        "id": "jWl4yazQjP6Y",
        "outputId": "2e9339d6-caf5-4457-e7fd-da57ce6b080f"
      },
      "outputs": [
        {
          "output_type": "execute_result",
          "data": {
            "text/plain": [
              "6547    0\n",
              "6032    1\n",
              "6670    1\n",
              "6212    4\n",
              "3871    4\n",
              "Name: Label, dtype: int64"
            ]
          },
          "metadata": {},
          "execution_count": 110
        }
      ],
      "source": [
        "y_train.head()"
      ]
    },
    {
      "cell_type": "code",
      "execution_count": 111,
      "metadata": {
        "id": "kAHpp483jP8t"
      },
      "outputs": [],
      "source": [
        "model = keras.models.Sequential([\n",
        "    # Input layer memiliki 15 unit yang sesuai dengan jumlah fitur (ada 15 pertanyaan)\n",
        "    keras.layers.Dense(units=64, input_shape=(14,)),\n",
        "    # Hidden layer memiliki 10 unit dengan fungsi aktivasi relu\n",
        "    keras.layers.Dense(units=10, activation='relu'),\n",
        "    # Output layer memiliki 5 unit dengan fungsi aktivasi softmax, yang sesuai dengan jumlah kelas\n",
        "    keras.layers.Dense(units=5, activation='softmax')\n",
        "])"
      ]
    },
    {
      "cell_type": "code",
      "execution_count": 112,
      "metadata": {
        "id": "Q7yG6-hPjP_L"
      },
      "outputs": [],
      "source": [
        "model.compile(optimizer='adam', loss='sparse_categorical_crossentropy', metrics=['accuracy'])"
      ]
    },
    {
      "cell_type": "code",
      "execution_count": 113,
      "metadata": {
        "colab": {
          "base_uri": "https://localhost:8080/"
        },
        "id": "yzQuaVkojQBw",
        "outputId": "6e1759ac-4011-445f-98c1-c6090ddb9ec5"
      },
      "outputs": [
        {
          "output_type": "stream",
          "name": "stdout",
          "text": [
            "Model: \"sequential_8\"\n",
            "_________________________________________________________________\n",
            " Layer (type)                Output Shape              Param #   \n",
            "=================================================================\n",
            " dense_24 (Dense)            (None, 64)                960       \n",
            "                                                                 \n",
            " dense_25 (Dense)            (None, 10)                650       \n",
            "                                                                 \n",
            " dense_26 (Dense)            (None, 5)                 55        \n",
            "                                                                 \n",
            "=================================================================\n",
            "Total params: 1665 (6.50 KB)\n",
            "Trainable params: 1665 (6.50 KB)\n",
            "Non-trainable params: 0 (0.00 Byte)\n",
            "_________________________________________________________________\n"
          ]
        }
      ],
      "source": [
        "model.summary()"
      ]
    },
    {
      "cell_type": "code",
      "source": [
        "print(x_train.shape)"
      ],
      "metadata": {
        "colab": {
          "base_uri": "https://localhost:8080/"
        },
        "id": "zEPLSGFS-GG6",
        "outputId": "736d5fde-b5df-4a77-c270-9508f8b280ee"
      },
      "execution_count": 114,
      "outputs": [
        {
          "output_type": "stream",
          "name": "stdout",
          "text": [
            "(5367, 14)\n"
          ]
        }
      ]
    },
    {
      "cell_type": "markdown",
      "source": [
        "Fungsi Model"
      ],
      "metadata": {
        "id": "MHVq9r2D5q2q"
      }
    },
    {
      "cell_type": "code",
      "source": [
        "def x_y (data):\n",
        "  x = data.drop(columns=[\"Label\"])\n",
        "  y = data[\"Label\"]\n",
        "  return x, y"
      ],
      "metadata": {
        "id": "BFRoHI5fKcKs"
      },
      "execution_count": 115,
      "outputs": []
    },
    {
      "cell_type": "code",
      "source": [
        "def split_data(X, Y, test_size, random_state):\n",
        "  x_train, x_test, y_train, y_test = train_test_split(x, y, test_size=test_size, random_state=random_state)\n",
        "  return x_train, x_test, y_train, y_test"
      ],
      "metadata": {
        "id": "DKQ_DokU0TMZ"
      },
      "execution_count": 116,
      "outputs": []
    },
    {
      "cell_type": "code",
      "source": [
        "def create_model():\n",
        "  model = keras.models.Sequential([\n",
        "    # Input layer memiliki 15 unit yang sesuai dengan jumlah fitur (ada 15 pertanyaan)\n",
        "    keras.layers.Dense(units=64, input_shape=(14,)),\n",
        "    # Hidden layer memiliki 10 unit dengan fungsi aktivasi relu\n",
        "    keras.layers.Dense(units=10, activation='relu'),\n",
        "    # Output layer memiliki 5 unit dengan fungsi aktivasi softmax, yang sesuai dengan jumlah kelas\n",
        "    keras.layers.Dense(units=5, activation='softmax')\n",
        "  ])\n",
        "  # compile model\n",
        "  model.compile(optimizer='adam', loss='sparse_categorical_crossentropy', metrics=['accuracy'])\n",
        "\n",
        "  # show model summary\n",
        "  model.summary()\n",
        "\n",
        "  return model"
      ],
      "metadata": {
        "id": "K6TuvOgrxci-"
      },
      "execution_count": 117,
      "outputs": []
    },
    {
      "cell_type": "code",
      "source": [
        "def plot_graphs(history, metric):\n",
        "  plt.plot(history.history[metric])\n",
        "  plt.plot(history.history[f'val_{metric}'])\n",
        "  plt.xlabel(\"Epochs\")\n",
        "  plt.ylabel(metric)\n",
        "  plt.legend([metric, f'val_{metric}'])\n",
        "  plt.show()"
      ],
      "metadata": {
        "id": "IOsullPuxsFg"
      },
      "execution_count": 118,
      "outputs": []
    },
    {
      "cell_type": "code",
      "source": [
        "def evaluate_model(x_test, y_test):\n",
        "  evaluation = model.evaluate(x_test, y_test)\n",
        "  print(\"Evaluation Loss:\", evaluation[0])\n",
        "  print(\"Evaluation Accuracy:\", evaluation[1])"
      ],
      "metadata": {
        "id": "xHw2qcF41BR8"
      },
      "execution_count": 119,
      "outputs": []
    },
    {
      "cell_type": "markdown",
      "source": [
        "Depression"
      ],
      "metadata": {
        "id": "33L9njyw5oKU"
      }
    },
    {
      "cell_type": "code",
      "source": [
        "x_train, x_test, y_train, y_test = split_data(x, y, 0.2, 42)"
      ],
      "metadata": {
        "id": "R-m6_-CQ4OnP"
      },
      "execution_count": 122,
      "outputs": []
    },
    {
      "cell_type": "code",
      "source": [
        "model = create_model()\n",
        "history = model.fit(x_train, y_train, epochs=10, batch_size=32, validation_data=(x_test, y_test))"
      ],
      "metadata": {
        "colab": {
          "base_uri": "https://localhost:8080/"
        },
        "id": "1hg_ngxx4agn",
        "outputId": "fc8fc76b-e6d5-49f2-e704-e72b85ac253c"
      },
      "execution_count": 123,
      "outputs": [
        {
          "output_type": "stream",
          "name": "stdout",
          "text": [
            "Model: \"sequential_10\"\n",
            "_________________________________________________________________\n",
            " Layer (type)                Output Shape              Param #   \n",
            "=================================================================\n",
            " dense_30 (Dense)            (None, 64)                960       \n",
            "                                                                 \n",
            " dense_31 (Dense)            (None, 10)                650       \n",
            "                                                                 \n",
            " dense_32 (Dense)            (None, 5)                 55        \n",
            "                                                                 \n",
            "=================================================================\n",
            "Total params: 1665 (6.50 KB)\n",
            "Trainable params: 1665 (6.50 KB)\n",
            "Non-trainable params: 0 (0.00 Byte)\n",
            "_________________________________________________________________\n",
            "Epoch 1/10\n",
            "168/168 [==============================] - 1s 3ms/step - loss: 1.2767 - accuracy: 0.4561 - val_loss: 1.0818 - val_accuracy: 0.5797\n",
            "Epoch 2/10\n",
            "168/168 [==============================] - 0s 2ms/step - loss: 0.9347 - accuracy: 0.6234 - val_loss: 0.7813 - val_accuracy: 0.6833\n",
            "Epoch 3/10\n",
            "168/168 [==============================] - 0s 2ms/step - loss: 0.6780 - accuracy: 0.7282 - val_loss: 0.5637 - val_accuracy: 0.7668\n",
            "Epoch 4/10\n",
            "168/168 [==============================] - 0s 2ms/step - loss: 0.5049 - accuracy: 0.8293 - val_loss: 0.4331 - val_accuracy: 0.9136\n",
            "Epoch 5/10\n",
            "168/168 [==============================] - 0s 2ms/step - loss: 0.3952 - accuracy: 0.8927 - val_loss: 0.3407 - val_accuracy: 0.9598\n",
            "Epoch 6/10\n",
            "168/168 [==============================] - 0s 2ms/step - loss: 0.3151 - accuracy: 0.9380 - val_loss: 0.2751 - val_accuracy: 0.9687\n",
            "Epoch 7/10\n",
            "168/168 [==============================] - 0s 2ms/step - loss: 0.2579 - accuracy: 0.9557 - val_loss: 0.2276 - val_accuracy: 0.9620\n",
            "Epoch 8/10\n",
            "168/168 [==============================] - 0s 2ms/step - loss: 0.2148 - accuracy: 0.9715 - val_loss: 0.1875 - val_accuracy: 0.9694\n",
            "Epoch 9/10\n",
            "168/168 [==============================] - 0s 2ms/step - loss: 0.1841 - accuracy: 0.9788 - val_loss: 0.1608 - val_accuracy: 0.9925\n",
            "Epoch 10/10\n",
            "168/168 [==============================] - 0s 2ms/step - loss: 0.1598 - accuracy: 0.9840 - val_loss: 0.1386 - val_accuracy: 0.9806\n"
          ]
        }
      ]
    },
    {
      "cell_type": "code",
      "source": [
        "plot_graphs(history, \"accuracy\")\n",
        "plot_graphs(history, \"loss\")"
      ],
      "metadata": {
        "colab": {
          "base_uri": "https://localhost:8080/",
          "height": 881
        },
        "id": "5DlUz10p5HqH",
        "outputId": "75a32063-1cc7-4566-e9aa-b5b764bb7f8a"
      },
      "execution_count": 124,
      "outputs": [
        {
          "output_type": "display_data",
          "data": {
            "text/plain": [
              "<Figure size 640x480 with 1 Axes>"
            ],
            "image/png": "[encoded data removed]"
          },
          "metadata": {}
        },
        {
          "output_type": "display_data",
          "data": {
            "text/plain": [
              "<Figure size 640x480 with 1 Axes>"
            ],
            "image/png": "[encoded data removed]"
          },
          "metadata": {}
        }
      ]
    },
    {
      "cell_type": "code",
      "source": [
        "evaluate_model(x_test, y_test)"
      ],
      "metadata": {
        "colab": {
          "base_uri": "https://localhost:8080/"
        },
        "id": "FcM6QmfL5SON",
        "outputId": "dbee9e9a-9902-4aad-b82b-e3c2130c7aac"
      },
      "execution_count": 125,
      "outputs": [
        {
          "output_type": "stream",
          "name": "stdout",
          "text": [
            "42/42 [==============================] - 0s 2ms/step - loss: 0.1386 - accuracy: 0.9806\n",
            "Evaluation Loss: 0.13862797617912292\n",
            "Evaluation Accuracy: 0.9806259274482727\n"
          ]
        }
      ]
    },
    {
      "cell_type": "markdown",
      "source": [
        "-------------------"
      ],
      "metadata": {
        "id": "697IJyvy5gzp"
      }
    },
    {
      "cell_type": "markdown",
      "source": [
        "Anxiety"
      ],
      "metadata": {
        "id": "gI0UALHlJG2-"
      }
    },
    {
      "cell_type": "code",
      "source": [
        "data = pd.read_csv('/content/sample_data/anxiety_dataset.csv')\n",
        "x, y = x_y(data)\n",
        "x_train, x_test, y_train, y_test = split_data(x, y, 0.2, 42)\n",
        "model = create_model()\n",
        "history = model.fit(x_train, y_train, epochs=10, batch_size=32, validation_data=(x_test, y_test))\n",
        "plot_graphs(history, \"accuracy\")\n",
        "plot_graphs(history, \"loss\")"
      ],
      "metadata": {
        "colab": {
          "base_uri": "https://localhost:8080/",
          "height": 1000
        },
        "id": "p0nSHkN-JIfZ",
        "outputId": "001c591b-9bfb-4137-fdde-7a82cc5fd899"
      },
      "execution_count": 126,
      "outputs": [
        {
          "output_type": "stream",
          "name": "stdout",
          "text": [
            "Model: \"sequential_11\"\n",
            "_________________________________________________________________\n",
            " Layer (type)                Output Shape              Param #   \n",
            "=================================================================\n",
            " dense_33 (Dense)            (None, 64)                960       \n",
            "                                                                 \n",
            " dense_34 (Dense)            (None, 10)                650       \n",
            "                                                                 \n",
            " dense_35 (Dense)            (None, 5)                 55        \n",
            "                                                                 \n",
            "=================================================================\n",
            "Total params: 1665 (6.50 KB)\n",
            "Trainable params: 1665 (6.50 KB)\n",
            "Non-trainable params: 0 (0.00 Byte)\n",
            "_________________________________________________________________\n",
            "Epoch 1/10\n",
            "995/995 [==============================] - 4s 3ms/step - loss: 0.6235 - accuracy: 0.7758 - val_loss: 0.2169 - val_accuracy: 0.9761\n",
            "Epoch 2/10\n",
            "995/995 [==============================] - 2s 2ms/step - loss: 0.1408 - accuracy: 0.9825 - val_loss: 0.0954 - val_accuracy: 0.9781\n",
            "Epoch 3/10\n",
            "995/995 [==============================] - 2s 2ms/step - loss: 0.0707 - accuracy: 0.9927 - val_loss: 0.0479 - val_accuracy: 0.9996\n",
            "Epoch 4/10\n",
            "995/995 [==============================] - 3s 3ms/step - loss: 0.0435 - accuracy: 0.9960 - val_loss: 0.0349 - val_accuracy: 0.9953\n",
            "Epoch 5/10\n",
            "995/995 [==============================] - 4s 4ms/step - loss: 0.0332 - accuracy: 0.9948 - val_loss: 0.0222 - val_accuracy: 0.9999\n",
            "Epoch 6/10\n",
            "995/995 [==============================] - 3s 3ms/step - loss: 0.0239 - accuracy: 0.9972 - val_loss: 0.0192 - val_accuracy: 0.9989\n",
            "Epoch 7/10\n",
            "995/995 [==============================] - 3s 3ms/step - loss: 0.0192 - accuracy: 0.9978 - val_loss: 0.0278 - val_accuracy: 0.9881\n",
            "Epoch 8/10\n",
            "995/995 [==============================] - 3s 3ms/step - loss: 0.0156 - accuracy: 0.9976 - val_loss: 0.0108 - val_accuracy: 1.0000\n",
            "Epoch 9/10\n",
            "995/995 [==============================] - 2s 3ms/step - loss: 0.0154 - accuracy: 0.9968 - val_loss: 0.0089 - val_accuracy: 1.0000\n",
            "Epoch 10/10\n",
            "995/995 [==============================] - 3s 3ms/step - loss: 0.0118 - accuracy: 0.9981 - val_loss: 0.0073 - val_accuracy: 0.9997\n"
          ]
        },
        {
          "output_type": "display_data",
          "data": {
            "text/plain": [
              "<Figure size 640x480 with 1 Axes>"
            ],
            "image/png": "[encoded data removed]"
          },
          "metadata": {}
        },
        {
          "output_type": "display_data",
          "data": {
            "text/plain": [
              "<Figure size 640x480 with 1 Axes>"
            ],
            "image/png": "[encoded data removed]"
          },
          "metadata": {}
        }
      ]
    },
    {
      "cell_type": "code",
      "source": [
        "evaluate_model(x_test, y_test)"
      ],
      "metadata": {
        "colab": {
          "base_uri": "https://localhost:8080/"
        },
        "id": "czBXOMX-DnK8",
        "outputId": "7aa80ec9-338e-454b-dbf3-a3cb208d0c9b"
      },
      "execution_count": 127,
      "outputs": [
        {
          "output_type": "stream",
          "name": "stdout",
          "text": [
            "249/249 [==============================] - 1s 2ms/step - loss: 0.0073 - accuracy: 0.9997\n",
            "Evaluation Loss: 0.007294419687241316\n",
            "Evaluation Accuracy: 0.9997485876083374\n"
          ]
        }
      ]
    },
    {
      "cell_type": "markdown",
      "source": [
        "Stress"
      ],
      "metadata": {
        "id": "D1B5S46bLETB"
      }
    },
    {
      "cell_type": "code",
      "source": [
        "data = pd.read_csv('/content/sample_data/stress_dataset.csv')\n",
        "x, y = x_y(data)\n",
        "x_train, x_test, y_train, y_test = split_data(x, y, 0.2, 42)\n",
        "model = create_model()\n",
        "history = model.fit(x_train, y_train, epochs=10, batch_size=32, validation_data=(x_test, y_test))\n",
        "plot_graphs(history, \"accuracy\")\n",
        "plot_graphs(history, \"loss\")"
      ],
      "metadata": {
        "colab": {
          "base_uri": "https://localhost:8080/",
          "height": 1000
        },
        "id": "a5TPegOLLBHa",
        "outputId": "3526a0d5-37ba-4911-c22f-9de85ac8cb4a"
      },
      "execution_count": 128,
      "outputs": [
        {
          "output_type": "stream",
          "name": "stdout",
          "text": [
            "Model: \"sequential_12\"\n",
            "_________________________________________________________________\n",
            " Layer (type)                Output Shape              Param #   \n",
            "=================================================================\n",
            " dense_36 (Dense)            (None, 64)                960       \n",
            "                                                                 \n",
            " dense_37 (Dense)            (None, 10)                650       \n",
            "                                                                 \n",
            " dense_38 (Dense)            (None, 5)                 55        \n",
            "                                                                 \n",
            "=================================================================\n",
            "Total params: 1665 (6.50 KB)\n",
            "Trainable params: 1665 (6.50 KB)\n",
            "Non-trainable params: 0 (0.00 Byte)\n",
            "_________________________________________________________________\n",
            "Epoch 1/10\n",
            "995/995 [==============================] - 7s 5ms/step - loss: 0.7905 - accuracy: 0.7219 - val_loss: 0.2738 - val_accuracy: 0.9514\n",
            "Epoch 2/10\n",
            "995/995 [==============================] - 5s 5ms/step - loss: 0.1905 - accuracy: 0.9634 - val_loss: 0.1844 - val_accuracy: 0.9077\n",
            "Epoch 3/10\n",
            "995/995 [==============================] - 7s 7ms/step - loss: 0.1130 - accuracy: 0.9813 - val_loss: 0.0929 - val_accuracy: 0.9790\n",
            "Epoch 4/10\n",
            "995/995 [==============================] - 2s 2ms/step - loss: 0.0832 - accuracy: 0.9863 - val_loss: 0.0745 - val_accuracy: 0.9790\n",
            "Epoch 5/10\n",
            "995/995 [==============================] - 3s 3ms/step - loss: 0.0660 - accuracy: 0.9884 - val_loss: 0.0626 - val_accuracy: 0.9769\n",
            "Epoch 6/10\n",
            "995/995 [==============================] - 2s 2ms/step - loss: 0.0546 - accuracy: 0.9896 - val_loss: 0.0393 - val_accuracy: 0.9996\n",
            "Epoch 7/10\n",
            "995/995 [==============================] - 4s 4ms/step - loss: 0.0437 - accuracy: 0.9935 - val_loss: 0.0505 - val_accuracy: 0.9801\n",
            "Epoch 8/10\n",
            "995/995 [==============================] - 3s 3ms/step - loss: 0.0428 - accuracy: 0.9891 - val_loss: 0.0315 - val_accuracy: 0.9972\n",
            "Epoch 9/10\n",
            "995/995 [==============================] - 3s 3ms/step - loss: 0.0370 - accuracy: 0.9913 - val_loss: 0.0236 - val_accuracy: 1.0000\n",
            "Epoch 10/10\n",
            "995/995 [==============================] - 4s 4ms/step - loss: 0.0284 - accuracy: 0.9953 - val_loss: 0.0233 - val_accuracy: 0.9990\n"
          ]
        },
        {
          "output_type": "display_data",
          "data": {
            "text/plain": [
              "<Figure size 640x480 with 1 Axes>"
            ],
            "image/png": "[encoded data removed]"
          },
          "metadata": {}
        },
        {
          "output_type": "display_data",
          "data": {
            "text/plain": [
              "<Figure size 640x480 with 1 Axes>"
            ],
            "image/png": "[encoded data removed]"
          },
          "metadata": {}
        }
      ]
    },
    {
      "cell_type": "code",
      "execution_count": 129,
      "metadata": {
        "colab": {
          "base_uri": "https://localhost:8080/"
        },
        "id": "1P0tt8wEnlaj",
        "outputId": "7b690712-345c-4611-bec9-7e92a6d7a4f1"
      },
      "outputs": [
        {
          "output_type": "stream",
          "name": "stdout",
          "text": [
            "Epoch 1/10\n",
            "995/995 [==============================] - 3s 3ms/step - loss: 0.0340 - accuracy: 0.9912 - val_loss: 0.0542 - val_accuracy: 0.9780\n",
            "Epoch 2/10\n",
            "995/995 [==============================] - 2s 2ms/step - loss: 0.0260 - accuracy: 0.9942 - val_loss: 0.0254 - val_accuracy: 0.9961\n",
            "Epoch 3/10\n",
            "995/995 [==============================] - 3s 3ms/step - loss: 0.0230 - accuracy: 0.9947 - val_loss: 0.0128 - val_accuracy: 1.0000\n",
            "Epoch 4/10\n",
            "995/995 [==============================] - 5s 5ms/step - loss: 0.0225 - accuracy: 0.9948 - val_loss: 0.0104 - val_accuracy: 1.0000\n",
            "Epoch 5/10\n",
            "995/995 [==============================] - 7s 7ms/step - loss: 0.0238 - accuracy: 0.9944 - val_loss: 0.0128 - val_accuracy: 1.0000\n",
            "Epoch 6/10\n",
            "995/995 [==============================] - 5s 5ms/step - loss: 0.0137 - accuracy: 0.9982 - val_loss: 0.0099 - val_accuracy: 0.9999\n",
            "Epoch 7/10\n",
            "995/995 [==============================] - 5s 5ms/step - loss: 0.0192 - accuracy: 0.9945 - val_loss: 0.0072 - val_accuracy: 1.0000\n",
            "Epoch 8/10\n",
            "995/995 [==============================] - 3s 3ms/step - loss: 0.0176 - accuracy: 0.9956 - val_loss: 0.1515 - val_accuracy: 0.9475\n",
            "Epoch 9/10\n",
            "995/995 [==============================] - 2s 2ms/step - loss: 0.0169 - accuracy: 0.9956 - val_loss: 0.0075 - val_accuracy: 1.0000\n",
            "Epoch 10/10\n",
            "995/995 [==============================] - 2s 2ms/step - loss: 0.0141 - accuracy: 0.9966 - val_loss: 0.0071 - val_accuracy: 0.9999\n"
          ]
        }
      ],
      "source": [
        "history = model.fit(x_train, y_train, epochs=10, batch_size=32, validation_data=(x_test, y_test))"
      ]
    },
    {
      "cell_type": "code",
      "execution_count": 130,
      "metadata": {
        "id": "ItEe1X1DnldC",
        "colab": {
          "base_uri": "https://localhost:8080/"
        },
        "outputId": "e64a7f86-8367-4223-d651-436539519070"
      },
      "outputs": [
        {
          "output_type": "stream",
          "name": "stdout",
          "text": [
            "249/249 [==============================] - 0s 2ms/step - loss: 0.0071 - accuracy: 0.9999\n",
            "Evaluation Loss: 0.007081835065037012\n",
            "Evaluation Accuracy: 0.9998742938041687\n"
          ]
        }
      ],
      "source": [
        "evaluation = model.evaluate(x_test, y_test)\n",
        "print(\"Evaluation Loss:\", evaluation[0])\n",
        "print(\"Evaluation Accuracy:\", evaluation[1])"
      ]
    },
    {
      "cell_type": "code",
      "execution_count": 131,
      "metadata": {
        "id": "M_JOB7YcnlfQ",
        "colab": {
          "base_uri": "https://localhost:8080/",
          "height": 472
        },
        "outputId": "2bfb38a1-a79c-497c-92d8-bc90b4722693"
      },
      "outputs": [
        {
          "output_type": "display_data",
          "data": {
            "text/plain": [
              "<Figure size 640x480 with 1 Axes>"
            ],
            "image/png": "[encoded data removed]"
          },
          "metadata": {}
        }
      ],
      "source": [
        "# Plot training and validation accuracy\n",
        "plt.plot(history.history['accuracy'])\n",
        "plt.plot(history.history['val_accuracy'])\n",
        "plt.title('Model Accuracy')\n",
        "plt.xlabel('Epoch')\n",
        "plt.ylabel('Accuracy')\n",
        "plt.legend(['Train', 'Validation'], loc='upper left')\n",
        "plt.show()"
      ]
    },
    {
      "cell_type": "code",
      "execution_count": 132,
      "metadata": {
        "id": "wfqNpCsqnlhb",
        "colab": {
          "base_uri": "https://localhost:8080/",
          "height": 472
        },
        "outputId": "43f80d49-e4f4-4b24-b099-5939ec8d7600"
      },
      "outputs": [
        {
          "output_type": "display_data",
          "data": {
            "text/plain": [
              "<Figure size 640x480 with 1 Axes>"
            ],
            "image/png": "[encoded data removed]"
          },
          "metadata": {}
        }
      ],
      "source": [
        "# Plot training and validation loss\n",
        "plt.plot(history.history['loss'])\n",
        "plt.plot(history.history['val_loss'])\n",
        "plt.title('Model Loss')\n",
        "plt.xlabel('Loss')\n",
        "plt.ylabel('Epoch')\n",
        "plt.legend(['Train', 'Validation'], loc='upper left')\n",
        "plt.show()"
      ]
    },
    {
      "cell_type": "code",
      "source": [
        "model.save('model_01.h5')"
      ],
      "metadata": {
        "id": "zwZPGXi6Ejg8"
      },
      "execution_count": 135,
      "outputs": []
    },
    {
      "cell_type": "markdown",
      "source": [
        "# Questionare"
      ],
      "metadata": {
        "id": "J2Vng7LHO_kJ"
      }
    },
    {
      "cell_type": "code",
      "source": [
        "def count_score(questions):\n",
        "  user_score = []\n",
        "  for q in questions:\n",
        "    print(q)\n",
        "    user_input = int(input(\"Masukkan range dari 0-3: \"))\n",
        "    user_score.append(user_input)\n",
        "  print(user_score)\n",
        "  return user_score"
      ],
      "metadata": {
        "id": "Tue4jpKt6zIP"
      },
      "execution_count": 145,
      "outputs": []
    },
    {
      "cell_type": "code",
      "source": [
        "def predict_level(score):\n",
        "  x = np.expand_dims(pd.DataFrame(score), axis=0)\n",
        "  prediction = model.predict(x)\n",
        "  index = np.argmax(prediction)\n",
        "  level = ' '\n",
        "  if index == 0:\n",
        "    level = 'Normal'\n",
        "  elif index == 1:\n",
        "    level = 'Mild'\n",
        "  elif index == 2:\n",
        "    level = 'Moderate'\n",
        "  elif index == 3:\n",
        "    level = 'Severe'\n",
        "  elif index == 4:\n",
        "    level = 'Extremely Severe'\n",
        "  return level\n"
      ],
      "metadata": {
        "id": "fiDByOAl_Cc-"
      },
      "execution_count": 146,
      "outputs": []
    },
    {
      "cell_type": "markdown",
      "source": [
        "Depression"
      ],
      "metadata": {
        "id": "4DBVl3fP200W"
      }
    },
    {
      "cell_type": "code",
      "source": [
        "q_depression = [\n",
        "    \"Sepertinya saya tidak merasakan perasaan positif sama sekali.\",\n",
        "    \"Sepertinya saya tidak bisa maju atau berubah.\",\n",
        "    \"Saya merasa tidak ada lagi yang bisa diharapkan.\",\n",
        "    \"Saya merasa sedih dan depresi.\",\n",
        "    \"Saya merasa kehilangan minat pada segala hal.\",\n",
        "    \"Saya merasa Saya tidak berharga sebagai manusia.\",\n",
        "    \"Saya merasa hidup ini tidak berguna.\",\n",
        "    \"Sepertinya saya tidak mendapatkan kesenangan apapun dari apa yang saya.\",\n",
        "    \"Saya merasa sedih.\",\n",
        "    \"Saya tidak bisa merasa antusias terhadap apa pun.\",\n",
        "    \"Saya merasa saya tidak berharga.\",\n",
        "    \"Saya tidak melihat adanya harapan di masa depan.\",\n",
        "    \"Saya merasa hidup ini tidak ada artinya.\",\n",
        "    \"Saya merasa sulit untuk meningkatkan inisiatif dalam melakukan sesuatu.\"\n",
        "]"
      ],
      "metadata": {
        "id": "OT8mWoVikDCh"
      },
      "execution_count": 147,
      "outputs": []
    },
    {
      "cell_type": "code",
      "source": [
        "s_depression = count_score(q_depression)\n",
        "# Menyimpan jawaban ke file CSV\n",
        "data.to_csv(\"jawabandepresi.csv\", index=False)"
      ],
      "metadata": {
        "colab": {
          "base_uri": "https://localhost:8080/"
        },
        "id": "_gG_NtkCvkz4",
        "outputId": "31a63d77-8de7-4ed3-e29c-6fd23b12a5ad"
      },
      "execution_count": 148,
      "outputs": [
        {
          "output_type": "stream",
          "name": "stdout",
          "text": [
            "Sepertinya saya tidak merasakan perasaan positif sama sekali.\n",
            "Masukkan range dari 0-3: 1\n",
            "Sepertinya saya tidak bisa maju atau berubah.\n",
            "Masukkan range dari 0-3: 1\n",
            "Saya merasa tidak ada lagi yang bisa diharapkan.\n",
            "Masukkan range dari 0-3: 1\n",
            "Saya merasa sedih dan depresi.\n",
            "Masukkan range dari 0-3: 1\n",
            "Saya merasa kehilangan minat pada segala hal.\n",
            "Masukkan range dari 0-3: 1\n",
            "Saya merasa Saya tidak berharga sebagai manusia.\n",
            "Masukkan range dari 0-3: 1\n",
            "Saya merasa hidup ini tidak berguna.\n",
            "Masukkan range dari 0-3: 1\n",
            "Sepertinya saya tidak mendapatkan kesenangan apapun dari apa yang saya.\n",
            "Masukkan range dari 0-3: 1\n",
            "Saya merasa sedih.\n",
            "Masukkan range dari 0-3: 1\n",
            "Saya tidak bisa merasa antusias terhadap apa pun.\n",
            "Masukkan range dari 0-3: 1\n",
            "Saya merasa saya tidak berharga.\n",
            "Masukkan range dari 0-3: 1\n",
            "Saya tidak melihat adanya harapan di masa depan.\n",
            "Masukkan range dari 0-3: 1\n",
            "Saya merasa hidup ini tidak ada artinya.\n",
            "Masukkan range dari 0-3: 1\n",
            "Saya merasa sulit untuk meningkatkan inisiatif dalam melakukan sesuatu.\n",
            "Masukkan range dari 0-3: 1\n",
            "[1, 1, 1, 1, 1, 1, 1, 1, 1, 1, 1, 1, 1, 1]\n"
          ]
        }
      ]
    },
    {
      "cell_type": "code",
      "source": [
        "predict_level(s_depression)\n"
      ],
      "metadata": {
        "colab": {
          "base_uri": "https://localhost:8080/",
          "height": 52
        },
        "id": "WPeyXAZ6p9wv",
        "outputId": "26035933-9d08-4359-8778-9fb042a24a38"
      },
      "execution_count": 149,
      "outputs": [
        {
          "output_type": "stream",
          "name": "stdout",
          "text": [
            "1/1 [==============================] - 0s 33ms/step\n"
          ]
        },
        {
          "output_type": "execute_result",
          "data": {
            "text/plain": [
              "'Normal'"
            ],
            "application/vnd.google.colaboratory.intrinsic+json": {
              "type": "string"
            }
          },
          "metadata": {},
          "execution_count": 149
        }
      ]
    },
    {
      "cell_type": "markdown",
      "source": [
        "Anxiety"
      ],
      "metadata": {
        "id": "rlToy3Wa2xIg"
      }
    },
    {
      "cell_type": "code",
      "source": [
        "q_anxiety = [\n",
        "    \"Saya merasa mulut saya kering.\",\n",
        "    \"Saya mengalami kesulitan bernapas (misalnya napas terlalu cepat dan sesak napas tanpa adanya aktivitas fisik).\",\n",
        "    \"Saya merasa gemetar (misalnya kaki terasa lemas).\",\n",
        "    \"Saya menemukan diri saya dalam situasi yang membuat saya sangat cemas. Saya merasa sangat lega ketika itu berakhir.\",\n",
        "    \"Saya merasa akan pingsan.\",\n",
        "    \"Saya berkeringat banyak (misalnya tangan berkeringat) tanpa adanya suhu tinggi atau aktivitas fisik.\",\n",
        "    \"Saya merasa takut tanpa alasan yang jelas.\",\n",
        "    \"Saya kesulitan menelan.\",\n",
        "    \"Saya menyadari tindakan jantung saya ketika tidak ada aktivitas fisik (misalnya rasa detak jantung meningkat).\",\n",
        "    \"Saya merasa hampir panik.\",\n",
        "    \"Saya takut kalau saya akan diberikan tanggung jawab beberapa tugas sepele tapi asing.\",\n",
        "    \"Saya merasa takut.\",\n",
        "    \"Saya khawatir dengan situasi dimana saya mungkin panik dan mempermalukan diri sendiri.\",\n",
        "    \"Saya mengalami gemetar (misalnya di tangan).\"\n",
        "]"
      ],
      "metadata": {
        "id": "LJBM6eK-23wY"
      },
      "execution_count": 150,
      "outputs": []
    },
    {
      "cell_type": "code",
      "source": [
        "s_anxiety = count_score(q_anxiety)\n",
        "# Menyimpan jawaban ke file CSV\n",
        "data.to_csv(\"jawabaAnxiety.csv\", index=False)"
      ],
      "metadata": {
        "colab": {
          "base_uri": "https://localhost:8080/"
        },
        "id": "mKuCt7zCEMEX",
        "outputId": "a26c609d-daaa-42b5-d827-f9a4ac1ad5e9"
      },
      "execution_count": 151,
      "outputs": [
        {
          "output_type": "stream",
          "name": "stdout",
          "text": [
            "Saya merasa mulut saya kering.\n",
            "Masukkan range dari 0-3: 1\n",
            "Saya mengalami kesulitan bernapas (misalnya napas terlalu cepat dan sesak napas tanpa adanya aktivitas fisik).\n",
            "Masukkan range dari 0-3: 1\n",
            "Saya merasa gemetar (misalnya kaki terasa lemas).\n",
            "Masukkan range dari 0-3: 1\n",
            "Saya menemukan diri saya dalam situasi yang membuat saya sangat cemas. Saya merasa sangat lega ketika itu berakhir.\n",
            "Masukkan range dari 0-3: 1\n",
            "Saya merasa akan pingsan.\n",
            "Masukkan range dari 0-3: 1\n",
            "Saya berkeringat banyak (misalnya tangan berkeringat) tanpa adanya suhu tinggi atau aktivitas fisik.\n",
            "Masukkan range dari 0-3: 1\n",
            "Saya merasa takut tanpa alasan yang jelas.\n",
            "Masukkan range dari 0-3: 1\n",
            "Saya kesulitan menelan.\n",
            "Masukkan range dari 0-3: 1\n",
            "Saya menyadari tindakan jantung saya ketika tidak ada aktivitas fisik (misalnya rasa detak jantung meningkat).\n",
            "Masukkan range dari 0-3: 1\n",
            "Saya merasa hampir panik.\n",
            "Masukkan range dari 0-3: 1\n",
            "Saya takut kalau saya akan diberikan tanggung jawab beberapa tugas sepele tapi asing.\n",
            "Masukkan range dari 0-3: 2\n",
            "Saya merasa takut.\n",
            "Masukkan range dari 0-3: 2\n",
            "Saya khawatir dengan situasi dimana saya mungkin panik dan mempermalukan diri sendiri.\n",
            "Masukkan range dari 0-3: 2\n",
            "Saya mengalami gemetar (misalnya di tangan).\n",
            "Masukkan range dari 0-3: 3\n",
            "[1, 1, 1, 1, 1, 1, 1, 1, 1, 1, 2, 2, 2, 3]\n"
          ]
        }
      ]
    },
    {
      "cell_type": "code",
      "source": [
        "predict_level(s_anxiety)"
      ],
      "metadata": {
        "colab": {
          "base_uri": "https://localhost:8080/",
          "height": 52
        },
        "id": "R9z07EkQF39O",
        "outputId": "046fd770-5cec-4abb-8b4a-13defa7aa8bd"
      },
      "execution_count": 152,
      "outputs": [
        {
          "output_type": "stream",
          "name": "stdout",
          "text": [
            "1/1 [==============================] - 0s 31ms/step\n"
          ]
        },
        {
          "output_type": "execute_result",
          "data": {
            "text/plain": [
              "'Moderate'"
            ],
            "application/vnd.google.colaboratory.intrinsic+json": {
              "type": "string"
            }
          },
          "metadata": {},
          "execution_count": 152
        }
      ]
    },
    {
      "cell_type": "markdown",
      "source": [
        "Stress"
      ],
      "metadata": {
        "id": "FoHlMExA5Rld"
      }
    },
    {
      "cell_type": "code",
      "source": [
        "q_stress = [\n",
        "    \"Saya merasa kesal karena hal-hal sepele.\",\n",
        "    \"Saya cenderung bereaksi berlebihan terhadap situasi.\",\n",
        "    \"Saya merasa sulit untuk rileks.\",\n",
        "    \"Saya merasa mudah marah.\",\n",
        "    \"Saya merasa Saya menggunakan banyak energi gugup.\",\n",
        "    \"Saya menjadi tidak sabar ketika saya mengalami keterlambatan dalam hal apa pun (misalnya lift dan lampu lalu lintas yang terlalu lama).\",\n",
        "    \"Saya merasa agak sensitif.\",\n",
        "    \"Saya merasa sulit untuk bersantai.\",\n",
        "    \"Saya merasa sangat mudah tersinggung.\",\n",
        "    \"Saya merasa sulit untuk tenang setelah ada sesuatu yang membuat saya kesal.\",\n",
        "    \"Saya merasa sulit menoleransi interupsi terhadap apa yang sedang saya lakukan.\",\n",
        "    \"Saya berada dalam keadaan tegang.\",\n",
        "    \"Saya tidak toleran terhadap apa pun yang menghalangi saya untuk melanjutkan pekerjaan saya.\",\n",
        "    \"Saya merasa gelisah.\"\n",
        "]"
      ],
      "metadata": {
        "id": "1gao32vF5TcR"
      },
      "execution_count": 153,
      "outputs": []
    },
    {
      "cell_type": "code",
      "source": [
        "stress_score = count_score(q_stress)\n",
        "print(stress_score)\n",
        "# Menyimpan jawaban ke file CSV\n",
        "data.to_csv(\"jawabastress.csv\", index=False)"
      ],
      "metadata": {
        "colab": {
          "base_uri": "https://localhost:8080/"
        },
        "id": "0Ttv_tppOhO4",
        "outputId": "11a1424c-39cd-484a-e2bd-7025b55bac7a"
      },
      "execution_count": 158,
      "outputs": [
        {
          "output_type": "stream",
          "name": "stdout",
          "text": [
            "Saya merasa kesal karena hal-hal sepele.\n",
            "Masukkan range dari 0-3: 2\n",
            "Saya cenderung bereaksi berlebihan terhadap situasi.\n",
            "Masukkan range dari 0-3: 1\n",
            "Saya merasa sulit untuk rileks.\n",
            "Masukkan range dari 0-3: 1\n",
            "Saya merasa mudah marah.\n",
            "Masukkan range dari 0-3: 2\n",
            "Saya merasa Saya menggunakan banyak energi gugup.\n",
            "Masukkan range dari 0-3: 1\n",
            "Saya menjadi tidak sabar ketika saya mengalami keterlambatan dalam hal apa pun (misalnya lift dan lampu lalu lintas yang terlalu lama).\n",
            "Masukkan range dari 0-3: 3\n",
            "Saya merasa agak sensitif.\n",
            "Masukkan range dari 0-3: 2\n",
            "Saya merasa sulit untuk bersantai.\n",
            "Masukkan range dari 0-3: 1\n",
            "Saya merasa sangat mudah tersinggung.\n",
            "Masukkan range dari 0-3: 2\n",
            "Saya merasa sulit untuk tenang setelah ada sesuatu yang membuat saya kesal.\n",
            "Masukkan range dari 0-3: 2\n",
            "Saya merasa sulit menoleransi interupsi terhadap apa yang sedang saya lakukan.\n",
            "Masukkan range dari 0-3: 3\n",
            "Saya berada dalam keadaan tegang.\n",
            "Masukkan range dari 0-3: 2\n",
            "Saya tidak toleran terhadap apa pun yang menghalangi saya untuk melanjutkan pekerjaan saya.\n",
            "Masukkan range dari 0-3: 1\n",
            "Saya merasa gelisah.\n",
            "Masukkan range dari 0-3: 2\n",
            "[2, 1, 1, 2, 1, 3, 2, 1, 2, 2, 3, 2, 1, 2]\n",
            "[2, 1, 1, 2, 1, 3, 2, 1, 2, 2, 3, 2, 1, 2]\n"
          ]
        }
      ]
    },
    {
      "cell_type": "code",
      "source": [
        "predict_level(stress_score)"
      ],
      "metadata": {
        "colab": {
          "base_uri": "https://localhost:8080/",
          "height": 52
        },
        "id": "46ZBmuLwO3mp",
        "outputId": "f7944991-338d-4416-fd5a-584de5386aa1"
      },
      "execution_count": 159,
      "outputs": [
        {
          "output_type": "stream",
          "name": "stdout",
          "text": [
            "1/1 [==============================] - 0s 22ms/step\n"
          ]
        },
        {
          "output_type": "execute_result",
          "data": {
            "text/plain": [
              "'Moderate'"
            ],
            "application/vnd.google.colaboratory.intrinsic+json": {
              "type": "string"
            }
          },
          "metadata": {},
          "execution_count": 159
        }
      ]
    },
    {
      "cell_type": "code",
      "source": [
        "tf.saved_model.save(model,'/content/TFLite/')"
      ],
      "metadata": {
        "id": "2SAbPBQALISv"
      },
      "execution_count": 160,
      "outputs": []
    },
    {
      "cell_type": "code",
      "source": [
        "import pathlib\n",
        "converter = tf.lite.TFLiteConverter.from_saved_model('/content/TFLite')\n",
        "tflite_model = converter.convert()\n",
        "tflite_model_file = pathlib.Path('model_02.tflite')\n",
        "tflite_model_file.write_bytes(tflite_model)"
      ],
      "metadata": {
        "colab": {
          "base_uri": "https://localhost:8080/"
        },
        "id": "ruHRKFMhLc9_",
        "outputId": "59335af1-9337-4a9e-bacf-2e009ec61493"
      },
      "execution_count": 161,
      "outputs": [
        {
          "output_type": "execute_result",
          "data": {
            "text/plain": [
              "8480"
            ]
          },
          "metadata": {},
          "execution_count": 161
        }
      ]
    },
    {
      "cell_type": "markdown",
      "source": [
        "--------"
      ],
      "metadata": {
        "id": "CKvqvsTy55Pg"
      }
    }
  ],
  "metadata": {
    "colab": {
      "provenance": []
    },
    "kernelspec": {
      "display_name": "Python 3",
      "name": "python3"
    },
    "language_info": {
      "name": "python"
    }
  },
  "nbformat": 4,
  "nbformat_minor": 0
}