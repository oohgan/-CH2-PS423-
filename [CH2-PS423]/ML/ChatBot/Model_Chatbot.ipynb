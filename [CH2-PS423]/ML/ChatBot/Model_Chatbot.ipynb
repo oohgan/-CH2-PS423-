{
  "nbformat": 4,
  "nbformat_minor": 0,
  "metadata": {
    "colab": {
      "provenance": []
    },
    "kernelspec": {
      "name": "python3",
      "display_name": "Python 3"
    },
    "language_info": {
      "name": "python"
    }
  },
  "cells": [
    {
      "cell_type": "code",
      "execution_count": 1,
      "metadata": {
        "id": "9UoNwXjMtJ15"
      },
      "outputs": [],
      "source": [
        "import re\n",
        "import json\n",
        "import nltk\n",
        "import string\n",
        "import random\n",
        "import pathlib\n",
        "import numpy as np\n",
        "import pandas as pd\n",
        "import tensorflow as tf\n",
        "import matplotlib.pyplot as plt\n",
        "from sklearn.utils import shuffle"
      ]
    },
    {
      "cell_type": "code",
      "source": [
        "from nltk.corpus import stopwords\n",
        "from nltk.tokenize import word_tokenize\n",
        "from tensorflow.keras.models import Model\n",
        "from tensorflow.keras.utils import plot_model\n",
        "from sklearn.preprocessing import LabelEncoder\n",
        "from tensorflow.keras.preprocessing.text import Tokenizer\n",
        "from tensorflow.keras.preprocessing.sequence import pad_sequences"
      ],
      "metadata": {
        "id": "0gSyTq6fBs0v"
      },
      "execution_count": 2,
      "outputs": []
    },
    {
      "cell_type": "code",
      "source": [
        "nltk.download('punkt')"
      ],
      "metadata": {
        "colab": {
          "base_uri": "https://localhost:8080/"
        },
        "id": "FlLT0oQ0vXaj",
        "outputId": "7e1eb32d-16dc-4f3c-cdaa-111f952aa91f"
      },
      "execution_count": 3,
      "outputs": [
        {
          "output_type": "stream",
          "name": "stderr",
          "text": [
            "[nltk_data] Downloading package punkt to /root/nltk_data...\n",
            "[nltk_data]   Unzipping tokenizers/punkt.zip.\n"
          ]
        },
        {
          "output_type": "execute_result",
          "data": {
            "text/plain": [
              "True"
            ]
          },
          "metadata": {},
          "execution_count": 3
        }
      ]
    },
    {
      "cell_type": "markdown",
      "source": [
        "# **Preprocessing Teks**"
      ],
      "metadata": {
        "id": "3kv6tgLJzsQr"
      }
    },
    {
      "cell_type": "code",
      "source": [
        "replace = [\n",
        "    ['ibu', ['ibuku', 'mami', 'mama']],\n",
        "    ['ayah', ['ayahku', 'papa', 'daddy']],\n",
        "    ['saudara', ['adikku', 'adek', 'kakakku', 'koko', 'cece']],\n",
        "    ['teman', ['temanku']],\n",
        "    ['meninggal', ['mati']]\n",
        "]"
      ],
      "metadata": {
        "id": "D2CUiuNlhD8U"
      },
      "execution_count": 4,
      "outputs": []
    },
    {
      "cell_type": "code",
      "source": [
        "def preprocess_text(kalimat):\n",
        "  filtered = re.sub(r'[^\\w\\d\\s]', '', kalimat.lower())\n",
        "  words = word_tokenize(filtered)\n",
        "\n",
        "  clean_word = []\n",
        "  for word in words:\n",
        "    replaced = False\n",
        "    for replacement, target in replace:\n",
        "      if word in target:\n",
        "        clean_word.append(replacement)\n",
        "        replaced = True\n",
        "    if not replaced:\n",
        "      clean_word.append(word)\n",
        "\n",
        "  return ' '.join(clean_word)\n"
      ],
      "metadata": {
        "id": "w8ZXO43niDJy"
      },
      "execution_count": 5,
      "outputs": []
    },
    {
      "cell_type": "markdown",
      "source": [
        "# **Reading Train & Val Dataset**"
      ],
      "metadata": {
        "id": "PliDIa6Pz4Y5"
      }
    },
    {
      "cell_type": "code",
      "source": [
        "with open('/content/Mental Health Conversational.json', 'r') as content:\n",
        "  chatbot = json.load(content)\n",
        "data = pd.DataFrame(chatbot['intents'])"
      ],
      "metadata": {
        "id": "2mHdDoN2zhiK"
      },
      "execution_count": 6,
      "outputs": []
    },
    {
      "cell_type": "code",
      "source": [
        "dictionary = {\"tag\":[], \"patterns\":[], \"responses\":[]}\n",
        "for i in range (len(data)):\n",
        "  pattern = data[data.index==i]['patterns'].values[0]\n",
        "  response = data[data.index==i]['responses'].values[0]\n",
        "  tag = data[data.index==i]['tag'].values[0]\n",
        "  for j in range (len(pattern)):\n",
        "    dictionary['tag'].append(tag)\n",
        "    dictionary['patterns'].append(preprocess_text(pattern[j]))\n",
        "    dictionary['responses'].append(response)\n",
        "data = pd.DataFrame.from_dict(dictionary)\n",
        "data"
      ],
      "metadata": {
        "id": "DePlw14BxZ55",
        "colab": {
          "base_uri": "https://localhost:8080/",
          "height": 423
        },
        "outputId": "94c975b1-c4d3-4093-c9e6-60c51398574e"
      },
      "execution_count": 7,
      "outputs": [
        {
          "output_type": "execute_result",
          "data": {
            "text/plain": [
              "          tag                                           patterns  \\\n",
              "0    greeting                                                hai   \n",
              "1    greeting                                               halo   \n",
              "2    greeting                                      hai apa kabar   \n",
              "3    greeting                                                 hi   \n",
              "4    greeting                                    assalamualaikum   \n",
              "..        ...                                                ...   \n",
              "212   fact_28  bagaimana saya bisa menjaga hubungan sosial ba...   \n",
              "213   fact_29          apa perbedaan antara kecemasan dan stress   \n",
              "214   fact_29                     perbedaan kecemasan dan stress   \n",
              "215   fact_30         apa perbedaan antara kesedihan dan depresi   \n",
              "216   fact_30             perbedaan antara kesedihan dan depresi   \n",
              "\n",
              "                                             responses  \n",
              "0    [Halo! Selamat bertemu denganmu. Bagaimana kab...  \n",
              "1    [Halo! Selamat bertemu denganmu. Bagaimana kab...  \n",
              "2    [Halo! Selamat bertemu denganmu. Bagaimana kab...  \n",
              "3    [Halo! Selamat bertemu denganmu. Bagaimana kab...  \n",
              "4    [Halo! Selamat bertemu denganmu. Bagaimana kab...  \n",
              "..                                                 ...  \n",
              "212  [Banyak orang yang sendirian saat ini, tapi ki...  \n",
              "213  [Stres dan kecemasan sering digunakan secara b...  \n",
              "214  [Stres dan kecemasan sering digunakan secara b...  \n",
              "215  [Kesedihan merupakan reaksi normal terhadap ke...  \n",
              "216  [Kesedihan merupakan reaksi normal terhadap ke...  \n",
              "\n",
              "[217 rows x 3 columns]"
            ],
            "text/html": [
              "\n",
              "  <div id=\"df-237531cd-468e-4955-b195-5ad6735ce2f8\" class=\"colab-df-container\">\n",
              "    <div>\n",
              "<style scoped>\n",
              "    .dataframe tbody tr th:only-of-type {\n",
              "        vertical-align: middle;\n",
              "    }\n",
              "\n",
              "    .dataframe tbody tr th {\n",
              "        vertical-align: top;\n",
              "    }\n",
              "\n",
              "    .dataframe thead th {\n",
              "        text-align: right;\n",
              "    }\n",
              "</style>\n",
              "<table border=\"1\" class=\"dataframe\">\n",
              "  <thead>\n",
              "    <tr style=\"text-align: right;\">\n",
              "      <th></th>\n",
              "      <th>tag</th>\n",
              "      <th>patterns</th>\n",
              "      <th>responses</th>\n",
              "    </tr>\n",
              "  </thead>\n",
              "  <tbody>\n",
              "    <tr>\n",
              "      <th>0</th>\n",
              "      <td>greeting</td>\n",
              "      <td>hai</td>\n",
              "      <td>[Halo! Selamat bertemu denganmu. Bagaimana kab...</td>\n",
              "    </tr>\n",
              "    <tr>\n",
              "      <th>1</th>\n",
              "      <td>greeting</td>\n",
              "      <td>halo</td>\n",
              "      <td>[Halo! Selamat bertemu denganmu. Bagaimana kab...</td>\n",
              "    </tr>\n",
              "    <tr>\n",
              "      <th>2</th>\n",
              "      <td>greeting</td>\n",
              "      <td>hai apa kabar</td>\n",
              "      <td>[Halo! Selamat bertemu denganmu. Bagaimana kab...</td>\n",
              "    </tr>\n",
              "    <tr>\n",
              "      <th>3</th>\n",
              "      <td>greeting</td>\n",
              "      <td>hi</td>\n",
              "      <td>[Halo! Selamat bertemu denganmu. Bagaimana kab...</td>\n",
              "    </tr>\n",
              "    <tr>\n",
              "      <th>4</th>\n",
              "      <td>greeting</td>\n",
              "      <td>assalamualaikum</td>\n",
              "      <td>[Halo! Selamat bertemu denganmu. Bagaimana kab...</td>\n",
              "    </tr>\n",
              "    <tr>\n",
              "      <th>...</th>\n",
              "      <td>...</td>\n",
              "      <td>...</td>\n",
              "      <td>...</td>\n",
              "    </tr>\n",
              "    <tr>\n",
              "      <th>212</th>\n",
              "      <td>fact_28</td>\n",
              "      <td>bagaimana saya bisa menjaga hubungan sosial ba...</td>\n",
              "      <td>[Banyak orang yang sendirian saat ini, tapi ki...</td>\n",
              "    </tr>\n",
              "    <tr>\n",
              "      <th>213</th>\n",
              "      <td>fact_29</td>\n",
              "      <td>apa perbedaan antara kecemasan dan stress</td>\n",
              "      <td>[Stres dan kecemasan sering digunakan secara b...</td>\n",
              "    </tr>\n",
              "    <tr>\n",
              "      <th>214</th>\n",
              "      <td>fact_29</td>\n",
              "      <td>perbedaan kecemasan dan stress</td>\n",
              "      <td>[Stres dan kecemasan sering digunakan secara b...</td>\n",
              "    </tr>\n",
              "    <tr>\n",
              "      <th>215</th>\n",
              "      <td>fact_30</td>\n",
              "      <td>apa perbedaan antara kesedihan dan depresi</td>\n",
              "      <td>[Kesedihan merupakan reaksi normal terhadap ke...</td>\n",
              "    </tr>\n",
              "    <tr>\n",
              "      <th>216</th>\n",
              "      <td>fact_30</td>\n",
              "      <td>perbedaan antara kesedihan dan depresi</td>\n",
              "      <td>[Kesedihan merupakan reaksi normal terhadap ke...</td>\n",
              "    </tr>\n",
              "  </tbody>\n",
              "</table>\n",
              "<p>217 rows × 3 columns</p>\n",
              "</div>\n",
              "    <div class=\"colab-df-buttons\">\n",
              "\n",
              "  <div class=\"colab-df-container\">\n",
              "    <button class=\"colab-df-convert\" onclick=\"convertToInteractive('df-237531cd-468e-4955-b195-5ad6735ce2f8')\"\n",
              "            title=\"Convert this dataframe to an interactive table.\"\n",
              "            style=\"display:none;\">\n",
              "\n",
              "  <svg xmlns=\"http://www.w3.org/2000/svg\" height=\"24px\" viewBox=\"0 -960 960 960\">\n",
              "    <path d=\"M120-120v-720h720v720H120Zm60-500h600v-160H180v160Zm220 220h160v-160H400v160Zm0 220h160v-160H400v160ZM180-400h160v-160H180v160Zm440 0h160v-160H620v160ZM180-180h160v-160H180v160Zm440 0h160v-160H620v160Z\"/>\n",
              "  </svg>\n",
              "    </button>\n",
              "\n",
              "  <style>\n",
              "    .colab-df-container {\n",
              "      display:flex;\n",
              "      gap: 12px;\n",
              "    }\n",
              "\n",
              "    .colab-df-convert {\n",
              "      background-color: #E8F0FE;\n",
              "      border: none;\n",
              "      border-radius: 50%;\n",
              "      cursor: pointer;\n",
              "      display: none;\n",
              "      fill: #1967D2;\n",
              "      height: 32px;\n",
              "      padding: 0 0 0 0;\n",
              "      width: 32px;\n",
              "    }\n",
              "\n",
              "    .colab-df-convert:hover {\n",
              "      background-color: #E2EBFA;\n",
              "      box-shadow: 0px 1px 2px rgba(60, 64, 67, 0.3), 0px 1px 3px 1px rgba(60, 64, 67, 0.15);\n",
              "      fill: #174EA6;\n",
              "    }\n",
              "\n",
              "    .colab-df-buttons div {\n",
              "      margin-bottom: 4px;\n",
              "    }\n",
              "\n",
              "    [theme=dark] .colab-df-convert {\n",
              "      background-color: #3B4455;\n",
              "      fill: #D2E3FC;\n",
              "    }\n",
              "\n",
              "    [theme=dark] .colab-df-convert:hover {\n",
              "      background-color: #434B5C;\n",
              "      box-shadow: 0px 1px 3px 1px rgba(0, 0, 0, 0.15);\n",
              "      filter: drop-shadow(0px 1px 2px rgba(0, 0, 0, 0.3));\n",
              "      fill: #FFFFFF;\n",
              "    }\n",
              "  </style>\n",
              "\n",
              "    <script>\n",
              "      const buttonEl =\n",
              "        document.querySelector('#df-237531cd-468e-4955-b195-5ad6735ce2f8 button.colab-df-convert');\n",
              "      buttonEl.style.display =\n",
              "        google.colab.kernel.accessAllowed ? 'block' : 'none';\n",
              "\n",
              "      async function convertToInteractive(key) {\n",
              "        const element = document.querySelector('#df-237531cd-468e-4955-b195-5ad6735ce2f8');\n",
              "        const dataTable =\n",
              "          await google.colab.kernel.invokeFunction('convertToInteractive',\n",
              "                                                    [key], {});\n",
              "        if (!dataTable) return;\n",
              "\n",
              "        const docLinkHtml = 'Like what you see? Visit the ' +\n",
              "          '<a target=\"_blank\" href=https://colab.research.google.com/notebooks/data_table.ipynb>data table notebook</a>'\n",
              "          + ' to learn more about interactive tables.';\n",
              "        element.innerHTML = '';\n",
              "        dataTable['output_type'] = 'display_data';\n",
              "        await google.colab.output.renderOutput(dataTable, element);\n",
              "        const docLink = document.createElement('div');\n",
              "        docLink.innerHTML = docLinkHtml;\n",
              "        element.appendChild(docLink);\n",
              "      }\n",
              "    </script>\n",
              "  </div>\n",
              "\n",
              "\n",
              "<div id=\"df-95576e0e-f715-4eef-a199-bb120f0cd2a4\">\n",
              "  <button class=\"colab-df-quickchart\" onclick=\"quickchart('df-95576e0e-f715-4eef-a199-bb120f0cd2a4')\"\n",
              "            title=\"Suggest charts\"\n",
              "            style=\"display:none;\">\n",
              "\n",
              "<svg xmlns=\"http://www.w3.org/2000/svg\" height=\"24px\"viewBox=\"0 0 24 24\"\n",
              "     width=\"24px\">\n",
              "    <g>\n",
              "        <path d=\"M19 3H5c-1.1 0-2 .9-2 2v14c0 1.1.9 2 2 2h14c1.1 0 2-.9 2-2V5c0-1.1-.9-2-2-2zM9 17H7v-7h2v7zm4 0h-2V7h2v10zm4 0h-2v-4h2v4z\"/>\n",
              "    </g>\n",
              "</svg>\n",
              "  </button>\n",
              "\n",
              "<style>\n",
              "  .colab-df-quickchart {\n",
              "      --bg-color: #E8F0FE;\n",
              "      --fill-color: #1967D2;\n",
              "      --hover-bg-color: #E2EBFA;\n",
              "      --hover-fill-color: #174EA6;\n",
              "      --disabled-fill-color: #AAA;\n",
              "      --disabled-bg-color: #DDD;\n",
              "  }\n",
              "\n",
              "  [theme=dark] .colab-df-quickchart {\n",
              "      --bg-color: #3B4455;\n",
              "      --fill-color: #D2E3FC;\n",
              "      --hover-bg-color: #434B5C;\n",
              "      --hover-fill-color: #FFFFFF;\n",
              "      --disabled-bg-color: #3B4455;\n",
              "      --disabled-fill-color: #666;\n",
              "  }\n",
              "\n",
              "  .colab-df-quickchart {\n",
              "    background-color: var(--bg-color);\n",
              "    border: none;\n",
              "    border-radius: 50%;\n",
              "    cursor: pointer;\n",
              "    display: none;\n",
              "    fill: var(--fill-color);\n",
              "    height: 32px;\n",
              "    padding: 0;\n",
              "    width: 32px;\n",
              "  }\n",
              "\n",
              "  .colab-df-quickchart:hover {\n",
              "    background-color: var(--hover-bg-color);\n",
              "    box-shadow: 0 1px 2px rgba(60, 64, 67, 0.3), 0 1px 3px 1px rgba(60, 64, 67, 0.15);\n",
              "    fill: var(--button-hover-fill-color);\n",
              "  }\n",
              "\n",
              "  .colab-df-quickchart-complete:disabled,\n",
              "  .colab-df-quickchart-complete:disabled:hover {\n",
              "    background-color: var(--disabled-bg-color);\n",
              "    fill: var(--disabled-fill-color);\n",
              "    box-shadow: none;\n",
              "  }\n",
              "\n",
              "  .colab-df-spinner {\n",
              "    border: 2px solid var(--fill-color);\n",
              "    border-color: transparent;\n",
              "    border-bottom-color: var(--fill-color);\n",
              "    animation:\n",
              "      spin 1s steps(1) infinite;\n",
              "  }\n",
              "\n",
              "  @keyframes spin {\n",
              "    0% {\n",
              "      border-color: transparent;\n",
              "      border-bottom-color: var(--fill-color);\n",
              "      border-left-color: var(--fill-color);\n",
              "    }\n",
              "    20% {\n",
              "      border-color: transparent;\n",
              "      border-left-color: var(--fill-color);\n",
              "      border-top-color: var(--fill-color);\n",
              "    }\n",
              "    30% {\n",
              "      border-color: transparent;\n",
              "      border-left-color: var(--fill-color);\n",
              "      border-top-color: var(--fill-color);\n",
              "      border-right-color: var(--fill-color);\n",
              "    }\n",
              "    40% {\n",
              "      border-color: transparent;\n",
              "      border-right-color: var(--fill-color);\n",
              "      border-top-color: var(--fill-color);\n",
              "    }\n",
              "    60% {\n",
              "      border-color: transparent;\n",
              "      border-right-color: var(--fill-color);\n",
              "    }\n",
              "    80% {\n",
              "      border-color: transparent;\n",
              "      border-right-color: var(--fill-color);\n",
              "      border-bottom-color: var(--fill-color);\n",
              "    }\n",
              "    90% {\n",
              "      border-color: transparent;\n",
              "      border-bottom-color: var(--fill-color);\n",
              "    }\n",
              "  }\n",
              "</style>\n",
              "\n",
              "  <script>\n",
              "    async function quickchart(key) {\n",
              "      const quickchartButtonEl =\n",
              "        document.querySelector('#' + key + ' button');\n",
              "      quickchartButtonEl.disabled = true;  // To prevent multiple clicks.\n",
              "      quickchartButtonEl.classList.add('colab-df-spinner');\n",
              "      try {\n",
              "        const charts = await google.colab.kernel.invokeFunction(\n",
              "            'suggestCharts', [key], {});\n",
              "      } catch (error) {\n",
              "        console.error('Error during call to suggestCharts:', error);\n",
              "      }\n",
              "      quickchartButtonEl.classList.remove('colab-df-spinner');\n",
              "      quickchartButtonEl.classList.add('colab-df-quickchart-complete');\n",
              "    }\n",
              "    (() => {\n",
              "      let quickchartButtonEl =\n",
              "        document.querySelector('#df-95576e0e-f715-4eef-a199-bb120f0cd2a4 button');\n",
              "      quickchartButtonEl.style.display =\n",
              "        google.colab.kernel.accessAllowed ? 'block' : 'none';\n",
              "    })();\n",
              "  </script>\n",
              "</div>\n",
              "    </div>\n",
              "  </div>\n"
            ]
          },
          "metadata": {},
          "execution_count": 7
        }
      ]
    },
    {
      "cell_type": "code",
      "source": [
        "with open('/content/Validation_Conversation.json', 'r') as content:\n",
        "  val_chatbot = json.load(content)\n",
        "val_data = pd.DataFrame(val_chatbot['intents'])\n"
      ],
      "metadata": {
        "id": "Ev3nfQuLr_xD"
      },
      "execution_count": 8,
      "outputs": []
    },
    {
      "cell_type": "code",
      "source": [
        "dictionary = {\"tag\":[], \"patterns\":[]}\n",
        "for i in range (len(val_data)):\n",
        "  pattern = val_data[val_data.index==i]['patterns'].values[0]\n",
        "  tag = val_data[val_data.index==i]['tag'].values[0]\n",
        "  for j in range (len(pattern)):\n",
        "    dictionary['tag'].append(tag)\n",
        "    dictionary['patterns'].append(preprocess_text(pattern[j]))\n",
        "val_data = pd.DataFrame.from_dict(dictionary)\n",
        "val_data"
      ],
      "metadata": {
        "colab": {
          "base_uri": "https://localhost:8080/",
          "height": 423
        },
        "id": "Nv9GVBgSss-v",
        "outputId": "5e21673d-72c8-4a3d-fcb7-c5907d006ee9"
      },
      "execution_count": 9,
      "outputs": [
        {
          "output_type": "execute_result",
          "data": {
            "text/plain": [
              "           tag                                           patterns\n",
              "0     greeting                                               halo\n",
              "1     greeting                                      hai apa kabar\n",
              "2     greeting                                                 hi\n",
              "3      morning                                               pagi\n",
              "4    afternoon                                              siang\n",
              "..         ...                                                ...\n",
              "111    fact_26  apa yang harus saya lakukan jika saya khawatir...\n",
              "112    fact_27         bagaimana saya tahu kalau saya tidak sehat\n",
              "113    fact_28  bagaimana saya bisa menjaga hubungan sosial ba...\n",
              "114    fact_29                     perbedaan kecemasan dan stress\n",
              "115    fact_30             perbedaan antara kesedihan dan depresi\n",
              "\n",
              "[116 rows x 2 columns]"
            ],
            "text/html": [
              "\n",
              "  <div id=\"df-c5b520cd-d0e6-401b-ac18-85f33f71f06c\" class=\"colab-df-container\">\n",
              "    <div>\n",
              "<style scoped>\n",
              "    .dataframe tbody tr th:only-of-type {\n",
              "        vertical-align: middle;\n",
              "    }\n",
              "\n",
              "    .dataframe tbody tr th {\n",
              "        vertical-align: top;\n",
              "    }\n",
              "\n",
              "    .dataframe thead th {\n",
              "        text-align: right;\n",
              "    }\n",
              "</style>\n",
              "<table border=\"1\" class=\"dataframe\">\n",
              "  <thead>\n",
              "    <tr style=\"text-align: right;\">\n",
              "      <th></th>\n",
              "      <th>tag</th>\n",
              "      <th>patterns</th>\n",
              "    </tr>\n",
              "  </thead>\n",
              "  <tbody>\n",
              "    <tr>\n",
              "      <th>0</th>\n",
              "      <td>greeting</td>\n",
              "      <td>halo</td>\n",
              "    </tr>\n",
              "    <tr>\n",
              "      <th>1</th>\n",
              "      <td>greeting</td>\n",
              "      <td>hai apa kabar</td>\n",
              "    </tr>\n",
              "    <tr>\n",
              "      <th>2</th>\n",
              "      <td>greeting</td>\n",
              "      <td>hi</td>\n",
              "    </tr>\n",
              "    <tr>\n",
              "      <th>3</th>\n",
              "      <td>morning</td>\n",
              "      <td>pagi</td>\n",
              "    </tr>\n",
              "    <tr>\n",
              "      <th>4</th>\n",
              "      <td>afternoon</td>\n",
              "      <td>siang</td>\n",
              "    </tr>\n",
              "    <tr>\n",
              "      <th>...</th>\n",
              "      <td>...</td>\n",
              "      <td>...</td>\n",
              "    </tr>\n",
              "    <tr>\n",
              "      <th>111</th>\n",
              "      <td>fact_26</td>\n",
              "      <td>apa yang harus saya lakukan jika saya khawatir...</td>\n",
              "    </tr>\n",
              "    <tr>\n",
              "      <th>112</th>\n",
              "      <td>fact_27</td>\n",
              "      <td>bagaimana saya tahu kalau saya tidak sehat</td>\n",
              "    </tr>\n",
              "    <tr>\n",
              "      <th>113</th>\n",
              "      <td>fact_28</td>\n",
              "      <td>bagaimana saya bisa menjaga hubungan sosial ba...</td>\n",
              "    </tr>\n",
              "    <tr>\n",
              "      <th>114</th>\n",
              "      <td>fact_29</td>\n",
              "      <td>perbedaan kecemasan dan stress</td>\n",
              "    </tr>\n",
              "    <tr>\n",
              "      <th>115</th>\n",
              "      <td>fact_30</td>\n",
              "      <td>perbedaan antara kesedihan dan depresi</td>\n",
              "    </tr>\n",
              "  </tbody>\n",
              "</table>\n",
              "<p>116 rows × 2 columns</p>\n",
              "</div>\n",
              "    <div class=\"colab-df-buttons\">\n",
              "\n",
              "  <div class=\"colab-df-container\">\n",
              "    <button class=\"colab-df-convert\" onclick=\"convertToInteractive('df-c5b520cd-d0e6-401b-ac18-85f33f71f06c')\"\n",
              "            title=\"Convert this dataframe to an interactive table.\"\n",
              "            style=\"display:none;\">\n",
              "\n",
              "  <svg xmlns=\"http://www.w3.org/2000/svg\" height=\"24px\" viewBox=\"0 -960 960 960\">\n",
              "    <path d=\"M120-120v-720h720v720H120Zm60-500h600v-160H180v160Zm220 220h160v-160H400v160Zm0 220h160v-160H400v160ZM180-400h160v-160H180v160Zm440 0h160v-160H620v160ZM180-180h160v-160H180v160Zm440 0h160v-160H620v160Z\"/>\n",
              "  </svg>\n",
              "    </button>\n",
              "\n",
              "  <style>\n",
              "    .colab-df-container {\n",
              "      display:flex;\n",
              "      gap: 12px;\n",
              "    }\n",
              "\n",
              "    .colab-df-convert {\n",
              "      background-color: #E8F0FE;\n",
              "      border: none;\n",
              "      border-radius: 50%;\n",
              "      cursor: pointer;\n",
              "      display: none;\n",
              "      fill: #1967D2;\n",
              "      height: 32px;\n",
              "      padding: 0 0 0 0;\n",
              "      width: 32px;\n",
              "    }\n",
              "\n",
              "    .colab-df-convert:hover {\n",
              "      background-color: #E2EBFA;\n",
              "      box-shadow: 0px 1px 2px rgba(60, 64, 67, 0.3), 0px 1px 3px 1px rgba(60, 64, 67, 0.15);\n",
              "      fill: #174EA6;\n",
              "    }\n",
              "\n",
              "    .colab-df-buttons div {\n",
              "      margin-bottom: 4px;\n",
              "    }\n",
              "\n",
              "    [theme=dark] .colab-df-convert {\n",
              "      background-color: #3B4455;\n",
              "      fill: #D2E3FC;\n",
              "    }\n",
              "\n",
              "    [theme=dark] .colab-df-convert:hover {\n",
              "      background-color: #434B5C;\n",
              "      box-shadow: 0px 1px 3px 1px rgba(0, 0, 0, 0.15);\n",
              "      filter: drop-shadow(0px 1px 2px rgba(0, 0, 0, 0.3));\n",
              "      fill: #FFFFFF;\n",
              "    }\n",
              "  </style>\n",
              "\n",
              "    <script>\n",
              "      const buttonEl =\n",
              "        document.querySelector('#df-c5b520cd-d0e6-401b-ac18-85f33f71f06c button.colab-df-convert');\n",
              "      buttonEl.style.display =\n",
              "        google.colab.kernel.accessAllowed ? 'block' : 'none';\n",
              "\n",
              "      async function convertToInteractive(key) {\n",
              "        const element = document.querySelector('#df-c5b520cd-d0e6-401b-ac18-85f33f71f06c');\n",
              "        const dataTable =\n",
              "          await google.colab.kernel.invokeFunction('convertToInteractive',\n",
              "                                                    [key], {});\n",
              "        if (!dataTable) return;\n",
              "\n",
              "        const docLinkHtml = 'Like what you see? Visit the ' +\n",
              "          '<a target=\"_blank\" href=https://colab.research.google.com/notebooks/data_table.ipynb>data table notebook</a>'\n",
              "          + ' to learn more about interactive tables.';\n",
              "        element.innerHTML = '';\n",
              "        dataTable['output_type'] = 'display_data';\n",
              "        await google.colab.output.renderOutput(dataTable, element);\n",
              "        const docLink = document.createElement('div');\n",
              "        docLink.innerHTML = docLinkHtml;\n",
              "        element.appendChild(docLink);\n",
              "      }\n",
              "    </script>\n",
              "  </div>\n",
              "\n",
              "\n",
              "<div id=\"df-f51babea-7395-48c8-a88f-137883e162ae\">\n",
              "  <button class=\"colab-df-quickchart\" onclick=\"quickchart('df-f51babea-7395-48c8-a88f-137883e162ae')\"\n",
              "            title=\"Suggest charts\"\n",
              "            style=\"display:none;\">\n",
              "\n",
              "<svg xmlns=\"http://www.w3.org/2000/svg\" height=\"24px\"viewBox=\"0 0 24 24\"\n",
              "     width=\"24px\">\n",
              "    <g>\n",
              "        <path d=\"M19 3H5c-1.1 0-2 .9-2 2v14c0 1.1.9 2 2 2h14c1.1 0 2-.9 2-2V5c0-1.1-.9-2-2-2zM9 17H7v-7h2v7zm4 0h-2V7h2v10zm4 0h-2v-4h2v4z\"/>\n",
              "    </g>\n",
              "</svg>\n",
              "  </button>\n",
              "\n",
              "<style>\n",
              "  .colab-df-quickchart {\n",
              "      --bg-color: #E8F0FE;\n",
              "      --fill-color: #1967D2;\n",
              "      --hover-bg-color: #E2EBFA;\n",
              "      --hover-fill-color: #174EA6;\n",
              "      --disabled-fill-color: #AAA;\n",
              "      --disabled-bg-color: #DDD;\n",
              "  }\n",
              "\n",
              "  [theme=dark] .colab-df-quickchart {\n",
              "      --bg-color: #3B4455;\n",
              "      --fill-color: #D2E3FC;\n",
              "      --hover-bg-color: #434B5C;\n",
              "      --hover-fill-color: #FFFFFF;\n",
              "      --disabled-bg-color: #3B4455;\n",
              "      --disabled-fill-color: #666;\n",
              "  }\n",
              "\n",
              "  .colab-df-quickchart {\n",
              "    background-color: var(--bg-color);\n",
              "    border: none;\n",
              "    border-radius: 50%;\n",
              "    cursor: pointer;\n",
              "    display: none;\n",
              "    fill: var(--fill-color);\n",
              "    height: 32px;\n",
              "    padding: 0;\n",
              "    width: 32px;\n",
              "  }\n",
              "\n",
              "  .colab-df-quickchart:hover {\n",
              "    background-color: var(--hover-bg-color);\n",
              "    box-shadow: 0 1px 2px rgba(60, 64, 67, 0.3), 0 1px 3px 1px rgba(60, 64, 67, 0.15);\n",
              "    fill: var(--button-hover-fill-color);\n",
              "  }\n",
              "\n",
              "  .colab-df-quickchart-complete:disabled,\n",
              "  .colab-df-quickchart-complete:disabled:hover {\n",
              "    background-color: var(--disabled-bg-color);\n",
              "    fill: var(--disabled-fill-color);\n",
              "    box-shadow: none;\n",
              "  }\n",
              "\n",
              "  .colab-df-spinner {\n",
              "    border: 2px solid var(--fill-color);\n",
              "    border-color: transparent;\n",
              "    border-bottom-color: var(--fill-color);\n",
              "    animation:\n",
              "      spin 1s steps(1) infinite;\n",
              "  }\n",
              "\n",
              "  @keyframes spin {\n",
              "    0% {\n",
              "      border-color: transparent;\n",
              "      border-bottom-color: var(--fill-color);\n",
              "      border-left-color: var(--fill-color);\n",
              "    }\n",
              "    20% {\n",
              "      border-color: transparent;\n",
              "      border-left-color: var(--fill-color);\n",
              "      border-top-color: var(--fill-color);\n",
              "    }\n",
              "    30% {\n",
              "      border-color: transparent;\n",
              "      border-left-color: var(--fill-color);\n",
              "      border-top-color: var(--fill-color);\n",
              "      border-right-color: var(--fill-color);\n",
              "    }\n",
              "    40% {\n",
              "      border-color: transparent;\n",
              "      border-right-color: var(--fill-color);\n",
              "      border-top-color: var(--fill-color);\n",
              "    }\n",
              "    60% {\n",
              "      border-color: transparent;\n",
              "      border-right-color: var(--fill-color);\n",
              "    }\n",
              "    80% {\n",
              "      border-color: transparent;\n",
              "      border-right-color: var(--fill-color);\n",
              "      border-bottom-color: var(--fill-color);\n",
              "    }\n",
              "    90% {\n",
              "      border-color: transparent;\n",
              "      border-bottom-color: var(--fill-color);\n",
              "    }\n",
              "  }\n",
              "</style>\n",
              "\n",
              "  <script>\n",
              "    async function quickchart(key) {\n",
              "      const quickchartButtonEl =\n",
              "        document.querySelector('#' + key + ' button');\n",
              "      quickchartButtonEl.disabled = true;  // To prevent multiple clicks.\n",
              "      quickchartButtonEl.classList.add('colab-df-spinner');\n",
              "      try {\n",
              "        const charts = await google.colab.kernel.invokeFunction(\n",
              "            'suggestCharts', [key], {});\n",
              "      } catch (error) {\n",
              "        console.error('Error during call to suggestCharts:', error);\n",
              "      }\n",
              "      quickchartButtonEl.classList.remove('colab-df-spinner');\n",
              "      quickchartButtonEl.classList.add('colab-df-quickchart-complete');\n",
              "    }\n",
              "    (() => {\n",
              "      let quickchartButtonEl =\n",
              "        document.querySelector('#df-f51babea-7395-48c8-a88f-137883e162ae button');\n",
              "      quickchartButtonEl.style.display =\n",
              "        google.colab.kernel.accessAllowed ? 'block' : 'none';\n",
              "    })();\n",
              "  </script>\n",
              "</div>\n",
              "    </div>\n",
              "  </div>\n"
            ]
          },
          "metadata": {},
          "execution_count": 9
        }
      ]
    },
    {
      "cell_type": "code",
      "source": [
        "# Training\n",
        "data['tag'].unique()"
      ],
      "metadata": {
        "colab": {
          "base_uri": "https://localhost:8080/"
        },
        "id": "gf3hpV5HIU_I",
        "outputId": "e411793c-f10d-4582-e031-78375ae0b986"
      },
      "execution_count": 10,
      "outputs": [
        {
          "output_type": "execute_result",
          "data": {
            "text/plain": [
              "array(['greeting', 'morning', 'afternoon', 'evening', 'night', 'goodbye',\n",
              "       'thanks', 'about', 'skill', 'creation', 'help', 'sad', 'stressed',\n",
              "       'worthless', 'depressed', 'happy', 'casual', 'anxious',\n",
              "       'not-talking', 'sleep', 'scared', 'death', 'understand', 'done',\n",
              "       'suicide', 'hate-you', 'hate-me', 'default', 'jokes', 'repeat',\n",
              "       'wrong', 'stupid', 'location', 'something-else', 'ask', 'problem',\n",
              "       'no-approach', 'learn-more', 'user-agree', 'meditation',\n",
              "       'user_meditation', 'hugu_useful', 'user-advice',\n",
              "       'learn_mental_health', 'mental_health_fact', 'fact_1', 'fact_2',\n",
              "       'fact_3', 'fact_4', 'fact_5', 'fact_6', 'fact_7', 'fact_8',\n",
              "       'fact_9', 'fact_10', 'fact_11', 'fact_12', 'fact_13', 'fact_14',\n",
              "       'fact_15', 'fact_16', 'fact_17', 'fact_18', 'fact_19', 'fact_20',\n",
              "       'fact_21', 'fact_22', 'fact_23', 'fact_24', 'fact_25', 'fact_26',\n",
              "       'fact_27', 'fact_28', 'fact_29', 'fact_30'], dtype=object)"
            ]
          },
          "metadata": {},
          "execution_count": 10
        }
      ]
    },
    {
      "cell_type": "code",
      "source": [
        "# Validation\n",
        "val_data['tag'].unique()"
      ],
      "metadata": {
        "colab": {
          "base_uri": "https://localhost:8080/"
        },
        "id": "m-yvgI8ms9wW",
        "outputId": "b4bbddf3-a759-4ba0-fe59-2ec57eb37334"
      },
      "execution_count": 11,
      "outputs": [
        {
          "output_type": "execute_result",
          "data": {
            "text/plain": [
              "array(['greeting', 'morning', 'afternoon', 'evening', 'night', 'goodbye',\n",
              "       'thanks', 'about', 'skill', 'creation', 'help', 'sad', 'stressed',\n",
              "       'worthless', 'depressed', 'happy', 'casual', 'anxious',\n",
              "       'not-talking', 'sleep', 'scared', 'death', 'understand', 'done',\n",
              "       'suicide', 'hate-you', 'hate-me', 'default', 'jokes', 'repeat',\n",
              "       'wrong', 'stupid', 'location', 'something-else', 'ask', 'problem',\n",
              "       'no-approach', 'learn-more', 'user-agree', 'meditation',\n",
              "       'user_meditation', 'hugu_useful', 'user-advice',\n",
              "       'learn_mental_health', 'mental_health_fact', 'fact_1', 'fact_2',\n",
              "       'fact_3', 'fact_4', 'fact_5', 'fact_6', 'fact_7', 'fact_8',\n",
              "       'fact_9', 'fact_10', 'fact_11', 'fact_12', 'fact_13', 'fact_14',\n",
              "       'fact_15', 'fact_16', 'fact_17', 'fact_18', 'fact_19', 'fact_20',\n",
              "       'fact_21', 'fact_22', 'fact_23', 'fact_24', 'fact_25', 'fact_26',\n",
              "       'fact_27', 'fact_28', 'fact_29', 'fact_30'], dtype=object)"
            ]
          },
          "metadata": {},
          "execution_count": 11
        }
      ]
    },
    {
      "cell_type": "markdown",
      "source": [
        "# **Tokenizing Train and Validation Pattern & Tag**"
      ],
      "metadata": {
        "id": "13oRc6tN0fKs"
      }
    },
    {
      "cell_type": "markdown",
      "source": [
        "**Adding Word Dictionary**"
      ],
      "metadata": {
        "id": "VGnjaBKy2_Jw"
      }
    },
    {
      "cell_type": "code",
      "source": [
        "with open('/content/word_dict.json', 'r') as f:\n",
        "  json_dict = json.load(f)\n",
        "tokenizer_json=json_dict.keys()\n",
        "\n",
        "tokenizer = Tokenizer(oov_token='<OOV>')\n",
        "tokenizer.fit_on_texts(tokenizer_json)\n",
        "\n",
        "word_index = tokenizer.word_index\n",
        "print(len(word_index))"
      ],
      "metadata": {
        "id": "iILLZIyF2HRB",
        "colab": {
          "base_uri": "https://localhost:8080/"
        },
        "outputId": "d11d1826-2a17-462d-c347-9cd788e1a6a8"
      },
      "execution_count": 12,
      "outputs": [
        {
          "output_type": "stream",
          "name": "stdout",
          "text": [
            "18727\n"
          ]
        }
      ]
    },
    {
      "cell_type": "markdown",
      "source": [
        "Shuffling dataset for better training (*hopefully*)"
      ],
      "metadata": {
        "id": "ikaTpbHz0PY0"
      }
    },
    {
      "cell_type": "code",
      "source": [
        "data = shuffle(data)\n",
        "val_data = shuffle(val_data)"
      ],
      "metadata": {
        "id": "DyNCGMPlMk3X"
      },
      "execution_count": 13,
      "outputs": []
    },
    {
      "cell_type": "code",
      "source": [
        "label_encode = LabelEncoder()\n",
        "\n",
        "tokenizer.fit_on_texts(data['patterns'])\n",
        "tokenizer.fit_on_texts(val_data['patterns'])\n",
        "\n",
        "# Training Set\n",
        "pattern_train = tokenizer.texts_to_sequences(data['patterns'])\n",
        "x_train = pad_sequences(pattern_train, padding='post', maxlen=12, truncating='pre')\n",
        "print(\"Training Input Shape : \", x_train.shape)\n",
        "print(len(x_train[0]))\n",
        "\n",
        "x_label = label_encode.fit_transform(data['tag'])\n",
        "print(\"Training Label Shape : \", x_label.shape)\n",
        "print(\"Num of classes: \", len(np.unique(x_label)))"
      ],
      "metadata": {
        "colab": {
          "base_uri": "https://localhost:8080/"
        },
        "id": "4s9JCHXDC4fy",
        "outputId": "1fabdbbe-9581-425f-86be-d495463f475c"
      },
      "execution_count": 14,
      "outputs": [
        {
          "output_type": "stream",
          "name": "stdout",
          "text": [
            "Training Input Shape :  (217, 12)\n",
            "12\n",
            "Training Label Shape :  (217,)\n",
            "Num of classes:  75\n"
          ]
        }
      ]
    },
    {
      "cell_type": "code",
      "source": [
        "# Validation Set\n",
        "pattern_val = tokenizer.texts_to_sequences(val_data['patterns'])\n",
        "y_train = pad_sequences(pattern_val, padding='post', maxlen=12, truncating='pre')\n",
        "print(\"Validation Input Shape : \", y_train.shape)\n",
        "print(len(y_train[0]))\n",
        "\n",
        "y_label = label_encode.fit_transform(val_data['tag'])\n",
        "print(\"Validation Label Shape : \",y_label.shape)\n",
        "print(\"Num of classes: \", len(np.unique(y_label)))"
      ],
      "metadata": {
        "colab": {
          "base_uri": "https://localhost:8080/"
        },
        "id": "5Y9hvr8ItHG4",
        "outputId": "b5a0d58b-b6b7-48b9-e464-7c37d35f8fad"
      },
      "execution_count": 15,
      "outputs": [
        {
          "output_type": "stream",
          "name": "stdout",
          "text": [
            "Validation Input Shape :  (116, 12)\n",
            "12\n",
            "Validation Label Shape :  (116,)\n",
            "Num of classes:  75\n"
          ]
        }
      ]
    },
    {
      "cell_type": "code",
      "source": [
        "vocabulary = len(tokenizer.word_index)\n",
        "print(\"Number unique word : \",vocabulary)\n",
        "print(\"Output Length : \", label_encode.classes_.shape[0])\n"
      ],
      "metadata": {
        "colab": {
          "base_uri": "https://localhost:8080/"
        },
        "id": "G5gXiaR4bQGH",
        "outputId": "94a973d6-3fac-464d-bf0b-d53555306bcb"
      },
      "execution_count": 16,
      "outputs": [
        {
          "output_type": "stream",
          "name": "stdout",
          "text": [
            "Number unique word :  18764\n",
            "Output Length :  75\n"
          ]
        }
      ]
    },
    {
      "cell_type": "markdown",
      "source": [
        "Converting known word/patterns from dictionary, train and validation dataset"
      ],
      "metadata": {
        "id": "nPOZqKeR1KMS"
      }
    },
    {
      "cell_type": "code",
      "source": [
        "word_dictionary = {item[0]: item[1] for item in tokenizer.word_index.items()}\n",
        "with open('tokenizer_chatbot_dict.json', 'w') as json_file:\n",
        "  json.dump(word_dictionary, json_file, indent=4)"
      ],
      "metadata": {
        "id": "Y0XbsFuKvl_e"
      },
      "execution_count": 17,
      "outputs": []
    },
    {
      "cell_type": "markdown",
      "source": [
        "Converting tag into json"
      ],
      "metadata": {
        "id": "QPS8amOW1FG1"
      }
    },
    {
      "cell_type": "code",
      "source": [
        "leDecode = LabelEncoder()\n",
        "leDecode.fit(val_data['tag'])\n",
        "name_mapping = dict(zip(leDecode.classes_, leDecode.transform(leDecode.classes_)))\n",
        "transformed = leDecode.transform(leDecode.classes_).tolist()\n",
        "name_mapping = dict(zip(leDecode.classes_, transformed))\n",
        "with open('label_decoder.json', 'w') as json_file:\n",
        "  json.dump(name_mapping, json_file, indent=4)"
      ],
      "metadata": {
        "id": "DoK4_upKwamD"
      },
      "execution_count": 18,
      "outputs": []
    },
    {
      "cell_type": "markdown",
      "source": [
        "# **Embedding** **Glove**"
      ],
      "metadata": {
        "id": "4z9RGSPN1X_P"
      }
    },
    {
      "cell_type": "code",
      "source": [
        "# !rm -f glove.6B.zip\n",
        "!wget https://nlp.stanford.edu/data/glove.6B.zip\n",
        "!unzip glove.6B.zip"
      ],
      "metadata": {
        "id": "s1aw9H3BOYD4",
        "colab": {
          "base_uri": "https://localhost:8080/"
        },
        "outputId": "8bee4b54-99a8-4224-ecae-f383a3a43b11"
      },
      "execution_count": 19,
      "outputs": [
        {
          "output_type": "stream",
          "name": "stdout",
          "text": [
            "--2023-12-21 23:09:17--  https://nlp.stanford.edu/data/glove.6B.zip\n",
            "Resolving nlp.stanford.edu (nlp.stanford.edu)... 171.64.67.140\n",
            "Connecting to nlp.stanford.edu (nlp.stanford.edu)|171.64.67.140|:443... connected.\n",
            "HTTP request sent, awaiting response... 301 Moved Permanently\n",
            "Location: https://downloads.cs.stanford.edu/nlp/data/glove.6B.zip [following]\n",
            "--2023-12-21 23:09:17--  https://downloads.cs.stanford.edu/nlp/data/glove.6B.zip\n",
            "Resolving downloads.cs.stanford.edu (downloads.cs.stanford.edu)... 171.64.64.22\n",
            "Connecting to downloads.cs.stanford.edu (downloads.cs.stanford.edu)|171.64.64.22|:443... connected.\n",
            "HTTP request sent, awaiting response... 200 OK\n",
            "Length: 862182613 (822M) [application/zip]\n",
            "Saving to: ‘glove.6B.zip’\n",
            "\n",
            "glove.6B.zip        100%[===================>] 822.24M  5.02MB/s    in 2m 39s  \n",
            "\n",
            "2023-12-21 23:11:58 (5.16 MB/s) - ‘glove.6B.zip’ saved [862182613/862182613]\n",
            "\n",
            "Archive:  glove.6B.zip\n",
            "  inflating: glove.6B.50d.txt        \n",
            "  inflating: glove.6B.100d.txt       \n",
            "  inflating: glove.6B.200d.txt       \n",
            "  inflating: glove.6B.300d.txt       \n"
          ]
        }
      ]
    },
    {
      "cell_type": "code",
      "source": [
        "glove_dir = \"/content/glove.6B.100d.txt\"\n",
        "embeddings_index = {}\n",
        "file_ = open(glove_dir, encoding='utf8')\n",
        "for line in file_:\n",
        "  arr = line.split()\n",
        "  single_word = arr[0]\n",
        "  w = np.asarray(arr[1:],dtype='float32')\n",
        "  embeddings_index[single_word] = w\n",
        "file_.close()\n",
        "print(len(embeddings_index))"
      ],
      "metadata": {
        "colab": {
          "base_uri": "https://localhost:8080/"
        },
        "id": "ultUUZnCTiB9",
        "outputId": "909742af-e55c-4da7-c1ce-c28fc3b5c8ee"
      },
      "execution_count": 20,
      "outputs": [
        {
          "output_type": "stream",
          "name": "stdout",
          "text": [
            "400000\n"
          ]
        }
      ]
    },
    {
      "cell_type": "code",
      "source": [
        "max = vocabulary + 1\n",
        "word_index =tokenizer.word_index\n",
        "embedding_mat = np.zeros((max, 100)).astype(object)\n",
        "for word, i in word_index.items():\n",
        "  embedding_vector = embeddings_index.get(word)\n",
        "  if embedding_vector is not None:\n",
        "    embedding_mat[i] = embedding_vector"
      ],
      "metadata": {
        "id": "QCKdsTHpVQLB"
      },
      "execution_count": 21,
      "outputs": []
    },
    {
      "cell_type": "markdown",
      "source": [
        "# **Model Architecture, Chatbot Test, Plotting and Training Model**"
      ],
      "metadata": {
        "id": "HX0UQEm71jO5"
      }
    },
    {
      "cell_type": "code",
      "source": [
        "def chatbot_test():\n",
        "  while True:\n",
        "    user_input = input(\"User: \").lower()\n",
        "    pattern_test=preprocess_text(user_input)\n",
        "    pattern_test = tokenizer.texts_to_sequences([pattern_test])\n",
        "    x_test = pad_sequences(pattern_test, x_train.shape[1])\n",
        "\n",
        "    prediction = model.predict(x_test)[0]\n",
        "    label = label_encode.inverse_transform([np.argmax(prediction)])[0]\n",
        "    response = data[data['tag'] == label]['responses'].values[0]\n",
        "    print(\"Label:\",label)\n",
        "    print(\"Chatbot: \", format(random.choice(response)))\n",
        "    if label=='goodbye' or label=='thanks':\n",
        "      break"
      ],
      "metadata": {
        "id": "mI_COKxZvEth"
      },
      "execution_count": 22,
      "outputs": []
    },
    {
      "cell_type": "code",
      "source": [
        "def plot_training_history(history):\n",
        "    # Plotting training accuracy\n",
        "    plt.subplot(1, 2, 1)\n",
        "    plt.plot(history.history['accuracy'], label='Train Accuracy', color='blue')\n",
        "    plt.plot(history.history['val_accuracy'], label='Validation Accuracy', color='green')\n",
        "    plt.legend(loc='lower right')\n",
        "    plt.title('Accuracy')\n",
        "    plt.ylim(0, 1.0)\n",
        "\n",
        "    # Plotting training loss\n",
        "    plt.subplot(1, 2, 2)\n",
        "    plt.plot(history.history['loss'], label='Train Loss', color='orange')\n",
        "    plt.plot(history.history['val_loss'], label='Validation Loss', color='yellow')\n",
        "    plt.legend(loc='upper right')\n",
        "    plt.title('Loss')\n",
        "    plt.ylim(0, 4.0)\n",
        "\n",
        "    # Display the plots\n",
        "    plt.show()\n"
      ],
      "metadata": {
        "id": "fi3Y0cX2ZhQp"
      },
      "execution_count": 23,
      "outputs": []
    },
    {
      "cell_type": "code",
      "source": [
        "model = tf.keras.Sequential([\n",
        "    tf.keras.layers.Input(shape=(x_train.shape[1])),\n",
        "    tf.keras.layers.Embedding(input_dim=vocabulary+1, output_dim = 100, mask_zero=True,\n",
        "                              weights=[embedding_mat], trainable=False),\n",
        "    tf.keras.layers.Dropout(0.2),\n",
        "\n",
        "    tf.keras.layers.GRU(128, return_sequences=True, reset_after=False),\n",
        "    tf.keras.layers.LayerNormalization(),\n",
        "    tf.keras.layers.Dropout(0.2),\n",
        "    tf.keras.layers.GRU(128, return_sequences=False, reset_after=False),\n",
        "    tf.keras.layers.LayerNormalization(),\n",
        "    tf.keras.layers.Dropout(0.2),\n",
        "\n",
        "\n",
        "    tf.keras.layers.Dense(256, activation='relu'),\n",
        "    tf.keras.layers.LayerNormalization(),\n",
        "    tf.keras.layers.Dense(128, activation='relu'),\n",
        "    tf.keras.layers.Dropout(0.2),\n",
        "    tf.keras.layers.LayerNormalization(),\n",
        "    tf.keras.layers.Dense(len(np.unique(x_label)), activation='softmax')\n",
        "])\n",
        "\n",
        "model.summary()\n",
        "model.compile(loss='sparse_categorical_crossentropy',optimizer='adam',metrics=['accuracy'])\n"
      ],
      "metadata": {
        "id": "dFbuz9mcIrc4",
        "colab": {
          "base_uri": "https://localhost:8080/"
        },
        "outputId": "7e4f0560-b5ca-4944-efda-15c6bc1958ec"
      },
      "execution_count": 24,
      "outputs": [
        {
          "output_type": "stream",
          "name": "stdout",
          "text": [
            "Model: \"sequential\"\n",
            "_________________________________________________________________\n",
            " Layer (type)                Output Shape              Param #   \n",
            "=================================================================\n",
            " embedding (Embedding)       (None, 12, 100)           1876500   \n",
            "                                                                 \n",
            " dropout (Dropout)           (None, 12, 100)           0         \n",
            "                                                                 \n",
            " gru (GRU)                   (None, 12, 128)           87936     \n",
            "                                                                 \n",
            " layer_normalization (Layer  (None, 12, 128)           256       \n",
            " Normalization)                                                  \n",
            "                                                                 \n",
            " dropout_1 (Dropout)         (None, 12, 128)           0         \n",
            "                                                                 \n",
            " gru_1 (GRU)                 (None, 128)               98688     \n",
            "                                                                 \n",
            " layer_normalization_1 (Lay  (None, 128)               256       \n",
            " erNormalization)                                                \n",
            "                                                                 \n",
            " dropout_2 (Dropout)         (None, 128)               0         \n",
            "                                                                 \n",
            " dense (Dense)               (None, 256)               33024     \n",
            "                                                                 \n",
            " layer_normalization_2 (Lay  (None, 256)               512       \n",
            " erNormalization)                                                \n",
            "                                                                 \n",
            " dense_1 (Dense)             (None, 128)               32896     \n",
            "                                                                 \n",
            " dropout_3 (Dropout)         (None, 128)               0         \n",
            "                                                                 \n",
            " layer_normalization_3 (Lay  (None, 128)               256       \n",
            " erNormalization)                                                \n",
            "                                                                 \n",
            " dense_2 (Dense)             (None, 75)                9675      \n",
            "                                                                 \n",
            "=================================================================\n",
            "Total params: 2139999 (8.16 MB)\n",
            "Trainable params: 263499 (1.01 MB)\n",
            "Non-trainable params: 1876500 (7.16 MB)\n",
            "_________________________________________________________________\n"
          ]
        }
      ]
    },
    {
      "cell_type": "code",
      "source": [
        "# Callback function to stop training when the accuracy is above 90%\n",
        "# and validation accuracy above 90%\n",
        "class MyCallback(tf.keras.callbacks.Callback):\n",
        "    def on_epoch_end(self, epoch, logs={}):\n",
        "        if logs.get('accuracy') > 0.9 and logs.get('val_accuracy') > 0.8:\n",
        "            self.model.stop_training = True"
      ],
      "metadata": {
        "id": "snIIzuDlpXkk"
      },
      "execution_count": 25,
      "outputs": []
    },
    {
      "cell_type": "code",
      "source": [
        "history = model.fit(x_train, x_label, validation_data=(y_train, y_label),\n",
        "                    batch_size=32, epochs=1000, callbacks=[MyCallback()])"
      ],
      "metadata": {
        "id": "rwJXZ4ExI3-g",
        "colab": {
          "base_uri": "https://localhost:8080/"
        },
        "outputId": "64cd6fcf-de5b-45ad-b92f-37c362f62b1e"
      },
      "execution_count": 26,
      "outputs": [
        {
          "output_type": "stream",
          "name": "stdout",
          "text": [
            "Epoch 1/1000\n",
            "7/7 [==============================] - 6s 178ms/step - loss: 4.7680 - accuracy: 0.0138 - val_loss: 3.8291 - val_accuracy: 0.1034\n",
            "Epoch 2/1000\n",
            "7/7 [==============================] - 0s 61ms/step - loss: 3.9803 - accuracy: 0.0922 - val_loss: 3.3405 - val_accuracy: 0.2069\n",
            "Epoch 3/1000\n",
            "7/7 [==============================] - 0s 59ms/step - loss: 3.7139 - accuracy: 0.1336 - val_loss: 2.9111 - val_accuracy: 0.2414\n",
            "Epoch 4/1000\n",
            "7/7 [==============================] - 0s 61ms/step - loss: 3.2638 - accuracy: 0.2258 - val_loss: 2.6885 - val_accuracy: 0.3190\n",
            "Epoch 5/1000\n",
            "7/7 [==============================] - 0s 68ms/step - loss: 3.0475 - accuracy: 0.2627 - val_loss: 2.4540 - val_accuracy: 0.3793\n",
            "Epoch 6/1000\n",
            "7/7 [==============================] - 0s 64ms/step - loss: 2.7978 - accuracy: 0.3134 - val_loss: 2.1936 - val_accuracy: 0.4397\n",
            "Epoch 7/1000\n",
            "7/7 [==============================] - 0s 60ms/step - loss: 2.6762 - accuracy: 0.3410 - val_loss: 1.9678 - val_accuracy: 0.4655\n",
            "Epoch 8/1000\n",
            "7/7 [==============================] - 0s 61ms/step - loss: 2.4119 - accuracy: 0.4286 - val_loss: 1.7715 - val_accuracy: 0.5345\n",
            "Epoch 9/1000\n",
            "7/7 [==============================] - 0s 58ms/step - loss: 2.2609 - accuracy: 0.4516 - val_loss: 1.5754 - val_accuracy: 0.5948\n",
            "Epoch 10/1000\n",
            "7/7 [==============================] - 1s 82ms/step - loss: 2.1280 - accuracy: 0.4700 - val_loss: 1.4663 - val_accuracy: 0.6207\n",
            "Epoch 11/1000\n",
            "7/7 [==============================] - 1s 112ms/step - loss: 1.9566 - accuracy: 0.5392 - val_loss: 1.3744 - val_accuracy: 0.6293\n",
            "Epoch 12/1000\n",
            "7/7 [==============================] - 1s 114ms/step - loss: 1.8916 - accuracy: 0.5714 - val_loss: 1.3063 - val_accuracy: 0.6293\n",
            "Epoch 13/1000\n",
            "7/7 [==============================] - 1s 113ms/step - loss: 1.7378 - accuracy: 0.5760 - val_loss: 1.2180 - val_accuracy: 0.6724\n",
            "Epoch 14/1000\n",
            "7/7 [==============================] - 1s 113ms/step - loss: 1.6647 - accuracy: 0.6037 - val_loss: 1.1542 - val_accuracy: 0.6724\n",
            "Epoch 15/1000\n",
            "7/7 [==============================] - 1s 71ms/step - loss: 1.6076 - accuracy: 0.5760 - val_loss: 1.0759 - val_accuracy: 0.6897\n",
            "Epoch 16/1000\n",
            "7/7 [==============================] - 0s 58ms/step - loss: 1.4155 - accuracy: 0.6452 - val_loss: 1.0309 - val_accuracy: 0.6724\n",
            "Epoch 17/1000\n",
            "7/7 [==============================] - 0s 63ms/step - loss: 1.4145 - accuracy: 0.6313 - val_loss: 0.9870 - val_accuracy: 0.6983\n",
            "Epoch 18/1000\n",
            "7/7 [==============================] - 0s 60ms/step - loss: 1.3344 - accuracy: 0.6959 - val_loss: 0.9426 - val_accuracy: 0.7069\n",
            "Epoch 19/1000\n",
            "7/7 [==============================] - 0s 58ms/step - loss: 1.3805 - accuracy: 0.6313 - val_loss: 0.9174 - val_accuracy: 0.7155\n",
            "Epoch 20/1000\n",
            "7/7 [==============================] - 0s 63ms/step - loss: 1.2277 - accuracy: 0.7005 - val_loss: 0.8859 - val_accuracy: 0.7069\n",
            "Epoch 21/1000\n",
            "7/7 [==============================] - 0s 66ms/step - loss: 1.1927 - accuracy: 0.6912 - val_loss: 0.8567 - val_accuracy: 0.7241\n",
            "Epoch 22/1000\n",
            "7/7 [==============================] - 0s 64ms/step - loss: 1.1075 - accuracy: 0.6959 - val_loss: 0.8238 - val_accuracy: 0.7155\n",
            "Epoch 23/1000\n",
            "7/7 [==============================] - 0s 57ms/step - loss: 1.0737 - accuracy: 0.7419 - val_loss: 0.7977 - val_accuracy: 0.7586\n",
            "Epoch 24/1000\n",
            "7/7 [==============================] - 0s 61ms/step - loss: 1.0623 - accuracy: 0.7327 - val_loss: 0.7775 - val_accuracy: 0.7414\n",
            "Epoch 25/1000\n",
            "7/7 [==============================] - 0s 59ms/step - loss: 1.0603 - accuracy: 0.7189 - val_loss: 0.7591 - val_accuracy: 0.7500\n",
            "Epoch 26/1000\n",
            "7/7 [==============================] - 0s 58ms/step - loss: 0.9649 - accuracy: 0.7512 - val_loss: 0.7519 - val_accuracy: 0.7672\n",
            "Epoch 27/1000\n",
            "7/7 [==============================] - 0s 59ms/step - loss: 0.9648 - accuracy: 0.7327 - val_loss: 0.7651 - val_accuracy: 0.7500\n",
            "Epoch 28/1000\n",
            "7/7 [==============================] - 0s 57ms/step - loss: 0.9044 - accuracy: 0.7604 - val_loss: 0.7367 - val_accuracy: 0.7672\n",
            "Epoch 29/1000\n",
            "7/7 [==============================] - 0s 59ms/step - loss: 0.8611 - accuracy: 0.7604 - val_loss: 0.7541 - val_accuracy: 0.7759\n",
            "Epoch 30/1000\n",
            "7/7 [==============================] - 0s 60ms/step - loss: 0.7840 - accuracy: 0.7834 - val_loss: 0.7400 - val_accuracy: 0.7845\n",
            "Epoch 31/1000\n",
            "7/7 [==============================] - 0s 58ms/step - loss: 0.9029 - accuracy: 0.7650 - val_loss: 0.7079 - val_accuracy: 0.7759\n",
            "Epoch 32/1000\n",
            "7/7 [==============================] - 0s 61ms/step - loss: 0.8464 - accuracy: 0.7604 - val_loss: 0.7063 - val_accuracy: 0.7586\n",
            "Epoch 33/1000\n",
            "7/7 [==============================] - 0s 57ms/step - loss: 0.7386 - accuracy: 0.7926 - val_loss: 0.7025 - val_accuracy: 0.7759\n",
            "Epoch 34/1000\n",
            "7/7 [==============================] - 0s 60ms/step - loss: 0.7367 - accuracy: 0.8111 - val_loss: 0.6789 - val_accuracy: 0.7759\n",
            "Epoch 35/1000\n",
            "7/7 [==============================] - 0s 59ms/step - loss: 0.7326 - accuracy: 0.7880 - val_loss: 0.6729 - val_accuracy: 0.7759\n",
            "Epoch 36/1000\n",
            "7/7 [==============================] - 0s 62ms/step - loss: 0.7205 - accuracy: 0.8111 - val_loss: 0.6821 - val_accuracy: 0.7845\n",
            "Epoch 37/1000\n",
            "7/7 [==============================] - 0s 60ms/step - loss: 0.6885 - accuracy: 0.7880 - val_loss: 0.6888 - val_accuracy: 0.7672\n",
            "Epoch 38/1000\n",
            "7/7 [==============================] - 0s 57ms/step - loss: 0.6481 - accuracy: 0.8157 - val_loss: 0.6778 - val_accuracy: 0.7672\n",
            "Epoch 39/1000\n",
            "7/7 [==============================] - 1s 83ms/step - loss: 0.7151 - accuracy: 0.7926 - val_loss: 0.6663 - val_accuracy: 0.7931\n",
            "Epoch 40/1000\n",
            "7/7 [==============================] - 1s 114ms/step - loss: 0.6704 - accuracy: 0.8295 - val_loss: 0.6704 - val_accuracy: 0.7759\n",
            "Epoch 41/1000\n",
            "7/7 [==============================] - 1s 113ms/step - loss: 0.6690 - accuracy: 0.8065 - val_loss: 0.6541 - val_accuracy: 0.8017\n",
            "Epoch 42/1000\n",
            "7/7 [==============================] - 1s 102ms/step - loss: 0.6553 - accuracy: 0.7972 - val_loss: 0.6572 - val_accuracy: 0.7845\n",
            "Epoch 43/1000\n",
            "7/7 [==============================] - 1s 111ms/step - loss: 0.6628 - accuracy: 0.8065 - val_loss: 0.6538 - val_accuracy: 0.7845\n",
            "Epoch 44/1000\n",
            "7/7 [==============================] - 1s 83ms/step - loss: 0.6506 - accuracy: 0.8111 - val_loss: 0.6527 - val_accuracy: 0.7759\n",
            "Epoch 45/1000\n",
            "7/7 [==============================] - 0s 57ms/step - loss: 0.5957 - accuracy: 0.8433 - val_loss: 0.6600 - val_accuracy: 0.7672\n",
            "Epoch 46/1000\n",
            "7/7 [==============================] - 0s 61ms/step - loss: 0.6206 - accuracy: 0.7926 - val_loss: 0.6415 - val_accuracy: 0.8103\n",
            "Epoch 47/1000\n",
            "7/7 [==============================] - 0s 58ms/step - loss: 0.5752 - accuracy: 0.8111 - val_loss: 0.6171 - val_accuracy: 0.8103\n",
            "Epoch 48/1000\n",
            "7/7 [==============================] - 0s 59ms/step - loss: 0.5506 - accuracy: 0.8203 - val_loss: 0.6293 - val_accuracy: 0.8017\n",
            "Epoch 49/1000\n",
            "7/7 [==============================] - 0s 58ms/step - loss: 0.5835 - accuracy: 0.8018 - val_loss: 0.6533 - val_accuracy: 0.8017\n",
            "Epoch 50/1000\n",
            "7/7 [==============================] - 0s 57ms/step - loss: 0.6122 - accuracy: 0.7880 - val_loss: 0.6554 - val_accuracy: 0.8103\n",
            "Epoch 51/1000\n",
            "7/7 [==============================] - 0s 61ms/step - loss: 0.5346 - accuracy: 0.8341 - val_loss: 0.6617 - val_accuracy: 0.7931\n",
            "Epoch 52/1000\n",
            "7/7 [==============================] - 0s 61ms/step - loss: 0.5497 - accuracy: 0.8341 - val_loss: 0.6551 - val_accuracy: 0.7931\n",
            "Epoch 53/1000\n",
            "7/7 [==============================] - 1s 134ms/step - loss: 0.4870 - accuracy: 0.8479 - val_loss: 0.6341 - val_accuracy: 0.7845\n",
            "Epoch 54/1000\n",
            "7/7 [==============================] - 1s 126ms/step - loss: 0.5411 - accuracy: 0.8249 - val_loss: 0.6211 - val_accuracy: 0.8190\n",
            "Epoch 55/1000\n",
            "7/7 [==============================] - 1s 115ms/step - loss: 0.5263 - accuracy: 0.8249 - val_loss: 0.6283 - val_accuracy: 0.7931\n",
            "Epoch 56/1000\n",
            "7/7 [==============================] - 1s 152ms/step - loss: 0.4757 - accuracy: 0.8433 - val_loss: 0.6386 - val_accuracy: 0.7931\n",
            "Epoch 57/1000\n",
            "7/7 [==============================] - 1s 119ms/step - loss: 0.5146 - accuracy: 0.7972 - val_loss: 0.6380 - val_accuracy: 0.8103\n",
            "Epoch 58/1000\n",
            "7/7 [==============================] - 1s 127ms/step - loss: 0.4892 - accuracy: 0.8618 - val_loss: 0.6325 - val_accuracy: 0.8103\n",
            "Epoch 59/1000\n",
            "7/7 [==============================] - 1s 126ms/step - loss: 0.4723 - accuracy: 0.8525 - val_loss: 0.6364 - val_accuracy: 0.7931\n",
            "Epoch 60/1000\n",
            "7/7 [==============================] - 1s 146ms/step - loss: 0.5079 - accuracy: 0.8295 - val_loss: 0.6529 - val_accuracy: 0.7931\n",
            "Epoch 61/1000\n",
            "7/7 [==============================] - 1s 197ms/step - loss: 0.4876 - accuracy: 0.8249 - val_loss: 0.6529 - val_accuracy: 0.8103\n",
            "Epoch 62/1000\n",
            "7/7 [==============================] - 1s 172ms/step - loss: 0.5113 - accuracy: 0.8387 - val_loss: 0.6440 - val_accuracy: 0.8017\n",
            "Epoch 63/1000\n",
            "7/7 [==============================] - 1s 199ms/step - loss: 0.4518 - accuracy: 0.8571 - val_loss: 0.6232 - val_accuracy: 0.8276\n",
            "Epoch 64/1000\n",
            "7/7 [==============================] - 1s 148ms/step - loss: 0.4558 - accuracy: 0.8571 - val_loss: 0.6191 - val_accuracy: 0.8190\n",
            "Epoch 65/1000\n",
            "7/7 [==============================] - 0s 57ms/step - loss: 0.4879 - accuracy: 0.8295 - val_loss: 0.6198 - val_accuracy: 0.8190\n",
            "Epoch 66/1000\n",
            "7/7 [==============================] - 0s 57ms/step - loss: 0.4486 - accuracy: 0.8479 - val_loss: 0.6242 - val_accuracy: 0.8103\n",
            "Epoch 67/1000\n",
            "7/7 [==============================] - 0s 59ms/step - loss: 0.3863 - accuracy: 0.8848 - val_loss: 0.6260 - val_accuracy: 0.8017\n",
            "Epoch 68/1000\n",
            "7/7 [==============================] - 0s 60ms/step - loss: 0.4473 - accuracy: 0.8387 - val_loss: 0.6079 - val_accuracy: 0.8190\n",
            "Epoch 69/1000\n",
            "7/7 [==============================] - 0s 60ms/step - loss: 0.4675 - accuracy: 0.8525 - val_loss: 0.6069 - val_accuracy: 0.8190\n",
            "Epoch 70/1000\n",
            "7/7 [==============================] - 0s 58ms/step - loss: 0.4531 - accuracy: 0.8387 - val_loss: 0.6137 - val_accuracy: 0.8190\n",
            "Epoch 71/1000\n",
            "7/7 [==============================] - 0s 61ms/step - loss: 0.4619 - accuracy: 0.8341 - val_loss: 0.6193 - val_accuracy: 0.8190\n",
            "Epoch 72/1000\n",
            "7/7 [==============================] - 0s 59ms/step - loss: 0.4033 - accuracy: 0.8710 - val_loss: 0.6266 - val_accuracy: 0.8190\n",
            "Epoch 73/1000\n",
            "7/7 [==============================] - 0s 57ms/step - loss: 0.4409 - accuracy: 0.8387 - val_loss: 0.6267 - val_accuracy: 0.8103\n",
            "Epoch 74/1000\n",
            "7/7 [==============================] - 0s 60ms/step - loss: 0.4329 - accuracy: 0.8571 - val_loss: 0.6044 - val_accuracy: 0.8190\n",
            "Epoch 75/1000\n",
            "7/7 [==============================] - 0s 60ms/step - loss: 0.4162 - accuracy: 0.8710 - val_loss: 0.6014 - val_accuracy: 0.8190\n",
            "Epoch 76/1000\n",
            "7/7 [==============================] - 1s 78ms/step - loss: 0.4409 - accuracy: 0.8525 - val_loss: 0.6104 - val_accuracy: 0.8362\n",
            "Epoch 77/1000\n",
            "7/7 [==============================] - 1s 112ms/step - loss: 0.4240 - accuracy: 0.8295 - val_loss: 0.6227 - val_accuracy: 0.8190\n",
            "Epoch 78/1000\n",
            "7/7 [==============================] - 1s 112ms/step - loss: 0.4011 - accuracy: 0.8525 - val_loss: 0.6164 - val_accuracy: 0.8362\n",
            "Epoch 79/1000\n",
            "7/7 [==============================] - 1s 114ms/step - loss: 0.4417 - accuracy: 0.8433 - val_loss: 0.6047 - val_accuracy: 0.8190\n",
            "Epoch 80/1000\n",
            "7/7 [==============================] - 1s 112ms/step - loss: 0.3749 - accuracy: 0.8710 - val_loss: 0.5977 - val_accuracy: 0.8190\n",
            "Epoch 81/1000\n",
            "7/7 [==============================] - 1s 84ms/step - loss: 0.3678 - accuracy: 0.8664 - val_loss: 0.5963 - val_accuracy: 0.8448\n",
            "Epoch 82/1000\n",
            "7/7 [==============================] - 0s 69ms/step - loss: 0.3687 - accuracy: 0.8756 - val_loss: 0.6126 - val_accuracy: 0.8276\n",
            "Epoch 83/1000\n",
            "7/7 [==============================] - 1s 105ms/step - loss: 0.3920 - accuracy: 0.8664 - val_loss: 0.6199 - val_accuracy: 0.8103\n",
            "Epoch 84/1000\n",
            "7/7 [==============================] - 1s 117ms/step - loss: 0.3879 - accuracy: 0.8525 - val_loss: 0.6051 - val_accuracy: 0.8362\n",
            "Epoch 85/1000\n",
            "7/7 [==============================] - 1s 111ms/step - loss: 0.4337 - accuracy: 0.8618 - val_loss: 0.6050 - val_accuracy: 0.8276\n",
            "Epoch 86/1000\n",
            "7/7 [==============================] - 1s 114ms/step - loss: 0.4073 - accuracy: 0.8802 - val_loss: 0.5964 - val_accuracy: 0.8362\n",
            "Epoch 87/1000\n",
            "7/7 [==============================] - 1s 84ms/step - loss: 0.3924 - accuracy: 0.8571 - val_loss: 0.6083 - val_accuracy: 0.8276\n",
            "Epoch 88/1000\n",
            "7/7 [==============================] - 0s 60ms/step - loss: 0.3898 - accuracy: 0.8525 - val_loss: 0.6109 - val_accuracy: 0.8276\n",
            "Epoch 89/1000\n",
            "7/7 [==============================] - 0s 62ms/step - loss: 0.3799 - accuracy: 0.8802 - val_loss: 0.6005 - val_accuracy: 0.8448\n",
            "Epoch 90/1000\n",
            "7/7 [==============================] - 0s 60ms/step - loss: 0.3851 - accuracy: 0.8756 - val_loss: 0.6051 - val_accuracy: 0.8448\n",
            "Epoch 91/1000\n",
            "7/7 [==============================] - 0s 61ms/step - loss: 0.3762 - accuracy: 0.8525 - val_loss: 0.5955 - val_accuracy: 0.8190\n",
            "Epoch 92/1000\n",
            "7/7 [==============================] - 0s 61ms/step - loss: 0.3905 - accuracy: 0.8525 - val_loss: 0.6022 - val_accuracy: 0.8103\n",
            "Epoch 93/1000\n",
            "7/7 [==============================] - 0s 60ms/step - loss: 0.3993 - accuracy: 0.8479 - val_loss: 0.6026 - val_accuracy: 0.8017\n",
            "Epoch 94/1000\n",
            "7/7 [==============================] - 0s 61ms/step - loss: 0.4139 - accuracy: 0.8571 - val_loss: 0.5964 - val_accuracy: 0.8362\n",
            "Epoch 95/1000\n",
            "7/7 [==============================] - 0s 58ms/step - loss: 0.2855 - accuracy: 0.9171 - val_loss: 0.6097 - val_accuracy: 0.8362\n"
          ]
        }
      ]
    },
    {
      "cell_type": "code",
      "source": [
        "plot_training_history(history)"
      ],
      "metadata": {
        "colab": {
          "base_uri": "https://localhost:8080/",
          "height": 452
        },
        "id": "CYQlO-jCoW9G",
        "outputId": "81ade594-f20f-49bd-f778-e2e4ce38accb"
      },
      "execution_count": 27,
      "outputs": [
        {
          "output_type": "display_data",
          "data": {
            "text/plain": [
              "<Figure size 640x480 with 2 Axes>"
            ],
            "image/png": "[encoded data removed]"
          },
          "metadata": {}
        }
      ]
    },
    {
      "cell_type": "markdown",
      "source": [
        "# **Chatbot Testing**"
      ],
      "metadata": {
        "id": "zcjh1z3Y2SKf"
      }
    },
    {
      "cell_type": "code",
      "source": [
        "chatbot_test()"
      ],
      "metadata": {
        "id": "Zi8I7m0qLeCM",
        "colab": {
          "base_uri": "https://localhost:8080/"
        },
        "outputId": "d9b7b3f4-d91f-419a-87c2-6a6d00aed2f5"
      },
      "execution_count": 28,
      "outputs": [
        {
          "output_type": "stream",
          "name": "stdout",
          "text": [
            "User: Halo\n",
            "1/1 [==============================] - 1s 871ms/step\n",
            "Label: greeting\n",
            "Chatbot:  Hai, apa yang membawamu ke sini hari ini?\n",
            "User: aku harus panggil kamu apa\n",
            "1/1 [==============================] - 0s 26ms/step\n",
            "Label: about\n",
            "Chatbot:  Saya Pandora!\n",
            "User: apa yang kamu lakukan\n",
            "1/1 [==============================] - 0s 25ms/step\n",
            "Label: skill\n",
            "Chatbot:  Saya dapat memberikan nasihat umum mengenai kecemasan dan depresi, menjawab pertanyaan terkait kesehatan mental, dan melakukan percakapan sehari-hari. Perlu diingat bahwa saya bukan sebagai pengganti ahli kesehatan mental.\n",
            "User: berikan aku fakta kesehatan mental\n",
            "1/1 [==============================] - 0s 28ms/step\n",
            "Label: mental_health_fact\n",
            "Chatbot:  Depresi adalah penyebab utama kecacatan di seluruh dunia.\n",
            "User: apa itu depresi\n",
            "1/1 [==============================] - 0s 25ms/step\n",
            "Label: fact_3\n",
            "Chatbot:  Menurut UNICEF, depresi adalah kondisi kesehatan mental yang ditandai dengan perasaan sedih, putus asa, dan kehilangan minat pada kegiatan yang biasa dinikmati. Depresi dapat menyebabkan gangguan pada fungsi sehari-hari, seperti kesulitan tidur, gangguan nafsu makan, dan kesulitan berkonsentrasi.\n",
            "User: terima kasih\n",
            "1/1 [==============================] - 0s 49ms/step\n",
            "Label: thanks\n",
            "Chatbot:  Saya senang bisa membantu!\n"
          ]
        }
      ]
    },
    {
      "cell_type": "code",
      "source": [
        "!pip install tensorflowjs"
      ],
      "metadata": {
        "id": "renzWHIQJLCL",
        "colab": {
          "base_uri": "https://localhost:8080/"
        },
        "outputId": "69f7cf74-7070-4486-87c5-d8c626ea4a32"
      },
      "execution_count": 29,
      "outputs": [
        {
          "output_type": "stream",
          "name": "stdout",
          "text": [
            "Collecting tensorflowjs\n",
            "  Downloading tensorflowjs-4.15.0-py3-none-any.whl (89 kB)\n",
            "\u001b[2K     \u001b[90m━━━━━━━━━━━━━━━━━━━━━━━━━━━━━━━━━━━━━━━━\u001b[0m \u001b[32m89.2/89.2 kB\u001b[0m \u001b[31m2.2 MB/s\u001b[0m eta \u001b[36m0:00:00\u001b[0m\n",
            "\u001b[?25hRequirement already satisfied: flax>=0.7.2 in /usr/local/lib/python3.10/dist-packages (from tensorflowjs) (0.7.5)\n",
            "Requirement already satisfied: importlib_resources>=5.9.0 in /usr/local/lib/python3.10/dist-packages (from tensorflowjs) (6.1.1)\n",
            "Requirement already satisfied: jax>=0.4.13 in /usr/local/lib/python3.10/dist-packages (from tensorflowjs) (0.4.23)\n",
            "Requirement already satisfied: jaxlib>=0.4.13 in /usr/local/lib/python3.10/dist-packages (from tensorflowjs) (0.4.23+cuda12.cudnn89)\n",
            "Requirement already satisfied: tensorflow<3,>=2.13.0 in /usr/local/lib/python3.10/dist-packages (from tensorflowjs) (2.15.0)\n",
            "Collecting tensorflow-decision-forests>=1.5.0 (from tensorflowjs)\n",
            "  Downloading tensorflow_decision_forests-1.8.1-cp310-cp310-manylinux_2_17_x86_64.manylinux2014_x86_64.whl (15.3 MB)\n",
            "\u001b[2K     \u001b[90m━━━━━━━━━━━━━━━━━━━━━━━━━━━━━━━━━━━━━━━━\u001b[0m \u001b[32m15.3/15.3 MB\u001b[0m \u001b[31m67.4 MB/s\u001b[0m eta \u001b[36m0:00:00\u001b[0m\n",
            "\u001b[?25hRequirement already satisfied: six<2,>=1.16.0 in /usr/local/lib/python3.10/dist-packages (from tensorflowjs) (1.16.0)\n",
            "Requirement already satisfied: tensorflow-hub>=0.14.0 in /usr/local/lib/python3.10/dist-packages (from tensorflowjs) (0.15.0)\n",
            "Requirement already satisfied: packaging~=23.1 in /usr/local/lib/python3.10/dist-packages (from tensorflowjs) (23.2)\n",
            "Requirement already satisfied: numpy>=1.22 in /usr/local/lib/python3.10/dist-packages (from flax>=0.7.2->tensorflowjs) (1.23.5)\n",
            "Requirement already satisfied: msgpack in /usr/local/lib/python3.10/dist-packages (from flax>=0.7.2->tensorflowjs) (1.0.7)\n",
            "Requirement already satisfied: optax in /usr/local/lib/python3.10/dist-packages (from flax>=0.7.2->tensorflowjs) (0.1.7)\n",
            "Requirement already satisfied: orbax-checkpoint in /usr/local/lib/python3.10/dist-packages (from flax>=0.7.2->tensorflowjs) (0.4.4)\n",
            "Requirement already satisfied: tensorstore in /usr/local/lib/python3.10/dist-packages (from flax>=0.7.2->tensorflowjs) (0.1.45)\n",
            "Requirement already satisfied: rich>=11.1 in /usr/local/lib/python3.10/dist-packages (from flax>=0.7.2->tensorflowjs) (13.7.0)\n",
            "Requirement already satisfied: typing-extensions>=4.2 in /usr/local/lib/python3.10/dist-packages (from flax>=0.7.2->tensorflowjs) (4.5.0)\n",
            "Requirement already satisfied: PyYAML>=5.4.1 in /usr/local/lib/python3.10/dist-packages (from flax>=0.7.2->tensorflowjs) (6.0.1)\n",
            "Requirement already satisfied: ml-dtypes>=0.2.0 in /usr/local/lib/python3.10/dist-packages (from jax>=0.4.13->tensorflowjs) (0.2.0)\n",
            "Requirement already satisfied: opt-einsum in /usr/local/lib/python3.10/dist-packages (from jax>=0.4.13->tensorflowjs) (3.3.0)\n",
            "Requirement already satisfied: scipy>=1.9 in /usr/local/lib/python3.10/dist-packages (from jax>=0.4.13->tensorflowjs) (1.11.4)\n",
            "Requirement already satisfied: absl-py>=1.0.0 in /usr/local/lib/python3.10/dist-packages (from tensorflow<3,>=2.13.0->tensorflowjs) (1.4.0)\n",
            "Requirement already satisfied: astunparse>=1.6.0 in /usr/local/lib/python3.10/dist-packages (from tensorflow<3,>=2.13.0->tensorflowjs) (1.6.3)\n",
            "Requirement already satisfied: flatbuffers>=23.5.26 in /usr/local/lib/python3.10/dist-packages (from tensorflow<3,>=2.13.0->tensorflowjs) (23.5.26)\n",
            "Requirement already satisfied: gast!=0.5.0,!=0.5.1,!=0.5.2,>=0.2.1 in /usr/local/lib/python3.10/dist-packages (from tensorflow<3,>=2.13.0->tensorflowjs) (0.5.4)\n",
            "Requirement already satisfied: google-pasta>=0.1.1 in /usr/local/lib/python3.10/dist-packages (from tensorflow<3,>=2.13.0->tensorflowjs) (0.2.0)\n",
            "Requirement already satisfied: h5py>=2.9.0 in /usr/local/lib/python3.10/dist-packages (from tensorflow<3,>=2.13.0->tensorflowjs) (3.9.0)\n",
            "Requirement already satisfied: libclang>=13.0.0 in /usr/local/lib/python3.10/dist-packages (from tensorflow<3,>=2.13.0->tensorflowjs) (16.0.6)\n",
            "Requirement already satisfied: protobuf!=4.21.0,!=4.21.1,!=4.21.2,!=4.21.3,!=4.21.4,!=4.21.5,<5.0.0dev,>=3.20.3 in /usr/local/lib/python3.10/dist-packages (from tensorflow<3,>=2.13.0->tensorflowjs) (3.20.3)\n",
            "Requirement already satisfied: setuptools in /usr/local/lib/python3.10/dist-packages (from tensorflow<3,>=2.13.0->tensorflowjs) (67.7.2)\n",
            "Requirement already satisfied: termcolor>=1.1.0 in /usr/local/lib/python3.10/dist-packages (from tensorflow<3,>=2.13.0->tensorflowjs) (2.4.0)\n",
            "Requirement already satisfied: wrapt<1.15,>=1.11.0 in /usr/local/lib/python3.10/dist-packages (from tensorflow<3,>=2.13.0->tensorflowjs) (1.14.1)\n",
            "Requirement already satisfied: tensorflow-io-gcs-filesystem>=0.23.1 in /usr/local/lib/python3.10/dist-packages (from tensorflow<3,>=2.13.0->tensorflowjs) (0.34.0)\n",
            "Requirement already satisfied: grpcio<2.0,>=1.24.3 in /usr/local/lib/python3.10/dist-packages (from tensorflow<3,>=2.13.0->tensorflowjs) (1.60.0)\n",
            "Requirement already satisfied: tensorboard<2.16,>=2.15 in /usr/local/lib/python3.10/dist-packages (from tensorflow<3,>=2.13.0->tensorflowjs) (2.15.1)\n",
            "Requirement already satisfied: tensorflow-estimator<2.16,>=2.15.0 in /usr/local/lib/python3.10/dist-packages (from tensorflow<3,>=2.13.0->tensorflowjs) (2.15.0)\n",
            "Requirement already satisfied: keras<2.16,>=2.15.0 in /usr/local/lib/python3.10/dist-packages (from tensorflow<3,>=2.13.0->tensorflowjs) (2.15.0)\n",
            "Requirement already satisfied: pandas in /usr/local/lib/python3.10/dist-packages (from tensorflow-decision-forests>=1.5.0->tensorflowjs) (1.5.3)\n",
            "Requirement already satisfied: wheel in /usr/local/lib/python3.10/dist-packages (from tensorflow-decision-forests>=1.5.0->tensorflowjs) (0.42.0)\n",
            "Collecting wurlitzer (from tensorflow-decision-forests>=1.5.0->tensorflowjs)\n",
            "  Downloading wurlitzer-3.0.3-py3-none-any.whl (7.3 kB)\n",
            "Requirement already satisfied: markdown-it-py>=2.2.0 in /usr/local/lib/python3.10/dist-packages (from rich>=11.1->flax>=0.7.2->tensorflowjs) (3.0.0)\n",
            "Requirement already satisfied: pygments<3.0.0,>=2.13.0 in /usr/local/lib/python3.10/dist-packages (from rich>=11.1->flax>=0.7.2->tensorflowjs) (2.16.1)\n",
            "Requirement already satisfied: google-auth<3,>=1.6.3 in /usr/local/lib/python3.10/dist-packages (from tensorboard<2.16,>=2.15->tensorflow<3,>=2.13.0->tensorflowjs) (2.17.3)\n",
            "Requirement already satisfied: google-auth-oauthlib<2,>=0.5 in /usr/local/lib/python3.10/dist-packages (from tensorboard<2.16,>=2.15->tensorflow<3,>=2.13.0->tensorflowjs) (1.2.0)\n",
            "Requirement already satisfied: markdown>=2.6.8 in /usr/local/lib/python3.10/dist-packages (from tensorboard<2.16,>=2.15->tensorflow<3,>=2.13.0->tensorflowjs) (3.5.1)\n",
            "Requirement already satisfied: requests<3,>=2.21.0 in /usr/local/lib/python3.10/dist-packages (from tensorboard<2.16,>=2.15->tensorflow<3,>=2.13.0->tensorflowjs) (2.31.0)\n",
            "Requirement already satisfied: tensorboard-data-server<0.8.0,>=0.7.0 in /usr/local/lib/python3.10/dist-packages (from tensorboard<2.16,>=2.15->tensorflow<3,>=2.13.0->tensorflowjs) (0.7.2)\n",
            "Requirement already satisfied: werkzeug>=1.0.1 in /usr/local/lib/python3.10/dist-packages (from tensorboard<2.16,>=2.15->tensorflow<3,>=2.13.0->tensorflowjs) (3.0.1)\n",
            "Requirement already satisfied: chex>=0.1.5 in /usr/local/lib/python3.10/dist-packages (from optax->flax>=0.7.2->tensorflowjs) (0.1.7)\n",
            "Requirement already satisfied: etils[epath,epy] in /usr/local/lib/python3.10/dist-packages (from orbax-checkpoint->flax>=0.7.2->tensorflowjs) (1.6.0)\n",
            "Requirement already satisfied: nest_asyncio in /usr/local/lib/python3.10/dist-packages (from orbax-checkpoint->flax>=0.7.2->tensorflowjs) (1.5.8)\n",
            "Requirement already satisfied: python-dateutil>=2.8.1 in /usr/local/lib/python3.10/dist-packages (from pandas->tensorflow-decision-forests>=1.5.0->tensorflowjs) (2.8.2)\n",
            "Requirement already satisfied: pytz>=2020.1 in /usr/local/lib/python3.10/dist-packages (from pandas->tensorflow-decision-forests>=1.5.0->tensorflowjs) (2023.3.post1)\n",
            "Requirement already satisfied: dm-tree>=0.1.5 in /usr/local/lib/python3.10/dist-packages (from chex>=0.1.5->optax->flax>=0.7.2->tensorflowjs) (0.1.8)\n",
            "Requirement already satisfied: toolz>=0.9.0 in /usr/local/lib/python3.10/dist-packages (from chex>=0.1.5->optax->flax>=0.7.2->tensorflowjs) (0.12.0)\n",
            "Requirement already satisfied: cachetools<6.0,>=2.0.0 in /usr/local/lib/python3.10/dist-packages (from google-auth<3,>=1.6.3->tensorboard<2.16,>=2.15->tensorflow<3,>=2.13.0->tensorflowjs) (5.3.2)\n",
            "Requirement already satisfied: pyasn1-modules>=0.2.1 in /usr/local/lib/python3.10/dist-packages (from google-auth<3,>=1.6.3->tensorboard<2.16,>=2.15->tensorflow<3,>=2.13.0->tensorflowjs) (0.3.0)\n",
            "Requirement already satisfied: rsa<5,>=3.1.4 in /usr/local/lib/python3.10/dist-packages (from google-auth<3,>=1.6.3->tensorboard<2.16,>=2.15->tensorflow<3,>=2.13.0->tensorflowjs) (4.9)\n",
            "Requirement already satisfied: requests-oauthlib>=0.7.0 in /usr/local/lib/python3.10/dist-packages (from google-auth-oauthlib<2,>=0.5->tensorboard<2.16,>=2.15->tensorflow<3,>=2.13.0->tensorflowjs) (1.3.1)\n",
            "Requirement already satisfied: mdurl~=0.1 in /usr/local/lib/python3.10/dist-packages (from markdown-it-py>=2.2.0->rich>=11.1->flax>=0.7.2->tensorflowjs) (0.1.2)\n",
            "Requirement already satisfied: charset-normalizer<4,>=2 in /usr/local/lib/python3.10/dist-packages (from requests<3,>=2.21.0->tensorboard<2.16,>=2.15->tensorflow<3,>=2.13.0->tensorflowjs) (3.3.2)\n",
            "Requirement already satisfied: idna<4,>=2.5 in /usr/local/lib/python3.10/dist-packages (from requests<3,>=2.21.0->tensorboard<2.16,>=2.15->tensorflow<3,>=2.13.0->tensorflowjs) (3.6)\n",
            "Requirement already satisfied: urllib3<3,>=1.21.1 in /usr/local/lib/python3.10/dist-packages (from requests<3,>=2.21.0->tensorboard<2.16,>=2.15->tensorflow<3,>=2.13.0->tensorflowjs) (2.0.7)\n",
            "Requirement already satisfied: certifi>=2017.4.17 in /usr/local/lib/python3.10/dist-packages (from requests<3,>=2.21.0->tensorboard<2.16,>=2.15->tensorflow<3,>=2.13.0->tensorflowjs) (2023.11.17)\n",
            "Requirement already satisfied: MarkupSafe>=2.1.1 in /usr/local/lib/python3.10/dist-packages (from werkzeug>=1.0.1->tensorboard<2.16,>=2.15->tensorflow<3,>=2.13.0->tensorflowjs) (2.1.3)\n",
            "Requirement already satisfied: fsspec in /usr/local/lib/python3.10/dist-packages (from etils[epath,epy]->orbax-checkpoint->flax>=0.7.2->tensorflowjs) (2023.6.0)\n",
            "Requirement already satisfied: zipp in /usr/local/lib/python3.10/dist-packages (from etils[epath,epy]->orbax-checkpoint->flax>=0.7.2->tensorflowjs) (3.17.0)\n",
            "Requirement already satisfied: pyasn1<0.6.0,>=0.4.6 in /usr/local/lib/python3.10/dist-packages (from pyasn1-modules>=0.2.1->google-auth<3,>=1.6.3->tensorboard<2.16,>=2.15->tensorflow<3,>=2.13.0->tensorflowjs) (0.5.1)\n",
            "Requirement already satisfied: oauthlib>=3.0.0 in /usr/local/lib/python3.10/dist-packages (from requests-oauthlib>=0.7.0->google-auth-oauthlib<2,>=0.5->tensorboard<2.16,>=2.15->tensorflow<3,>=2.13.0->tensorflowjs) (3.2.2)\n",
            "Installing collected packages: wurlitzer, tensorflow-decision-forests, tensorflowjs\n",
            "Successfully installed tensorflow-decision-forests-1.8.1 tensorflowjs-4.15.0 wurlitzer-3.0.3\n"
          ]
        }
      ]
    },
    {
      "cell_type": "code",
      "source": [
        "import tensorflowjs as tfjs"
      ],
      "metadata": {
        "id": "F5TMcEPkJQjP"
      },
      "execution_count": 31,
      "outputs": []
    },
    {
      "cell_type": "code",
      "source": [
        "tfjs.converters.save_keras_model(model,'sample_data/models')\n",
        "!zip -r models.zip sample_data/models/"
      ],
      "metadata": {
        "colab": {
          "base_uri": "https://localhost:8080/"
        },
        "id": "TjhdMIw1LvH4",
        "outputId": "efe1d20d-83e3-49d5-8bdd-00287f911ae8"
      },
      "execution_count": 32,
      "outputs": [
        {
          "output_type": "stream",
          "name": "stderr",
          "text": [
            "/usr/local/lib/python3.10/dist-packages/keras/src/engine/training.py:3103: UserWarning: You are saving your model as an HDF5 file via `model.save()`. This file format is considered legacy. We recommend using instead the native Keras format, e.g. `model.save('my_model.keras')`.\n",
            "  saving_api.save_model(\n"
          ]
        },
        {
          "output_type": "stream",
          "name": "stdout",
          "text": [
            "  adding: sample_data/models/ (stored 0%)\n",
            "  adding: sample_data/models/model.json (deflated 86%)\n",
            "  adding: sample_data/models/group1-shard2of3.bin (deflated 52%)\n",
            "  adding: sample_data/models/group1-shard1of3.bin (deflated 49%)\n",
            "  adding: sample_data/models/group1-shard3of3.bin (deflated 7%)\n"
          ]
        }
      ]
    },
    {
      "cell_type": "code",
      "source": [
        "from google.colab import files\n",
        "files.download('models.zip')"
      ],
      "metadata": {
        "colab": {
          "base_uri": "https://localhost:8080/",
          "height": 17
        },
        "id": "UhRQI3dIrMOR",
        "outputId": "7cd2ccff-12e0-4a72-90b0-fb63ce0d900f"
      },
      "execution_count": 33,
      "outputs": [
        {
          "output_type": "display_data",
          "data": {
            "text/plain": [
              "<IPython.core.display.Javascript object>"
            ],
            "application/javascript": [
              "\n",
              "    async function download(id, filename, size) {\n",
              "      if (!google.colab.kernel.accessAllowed) {\n",
              "        return;\n",
              "      }\n",
              "      const div = document.createElement('div');\n",
              "      const label = document.createElement('label');\n",
              "      label.textContent = `Downloading \"${filename}\": `;\n",
              "      div.appendChild(label);\n",
              "      const progress = document.createElement('progress');\n",
              "      progress.max = size;\n",
              "      div.appendChild(progress);\n",
              "      document.body.appendChild(div);\n",
              "\n",
              "      const buffers = [];\n",
              "      let downloaded = 0;\n",
              "\n",
              "      const channel = await google.colab.kernel.comms.open(id);\n",
              "      // Send a message to notify the kernel that we're ready.\n",
              "      channel.send({})\n",
              "\n",
              "      for await (const message of channel.messages) {\n",
              "        // Send a message to notify the kernel that we're ready.\n",
              "        channel.send({})\n",
              "        if (message.buffers) {\n",
              "          for (const buffer of message.buffers) {\n",
              "            buffers.push(buffer);\n",
              "            downloaded += buffer.byteLength;\n",
              "            progress.value = downloaded;\n",
              "          }\n",
              "        }\n",
              "      }\n",
              "      const blob = new Blob(buffers, {type: 'application/binary'});\n",
              "      const a = document.createElement('a');\n",
              "      a.href = window.URL.createObjectURL(blob);\n",
              "      a.download = filename;\n",
              "      div.appendChild(a);\n",
              "      a.click();\n",
              "      div.remove();\n",
              "    }\n",
              "  "
            ]
          },
          "metadata": {}
        },
        {
          "output_type": "display_data",
          "data": {
            "text/plain": [
              "<IPython.core.display.Javascript object>"
            ],
            "application/javascript": [
              "download(\"download_4a5bb0f9-e874-4d80-a75a-3c6e70caf308\", \"models.zip\", 4285267)"
            ]
          },
          "metadata": {}
        }
      ]
    },
    {
      "cell_type": "code",
      "source": [
        "model.save('chatbot_model.h5')"
      ],
      "metadata": {
        "id": "uXYHUrUkLkxK"
      },
      "execution_count": 34,
      "outputs": []
    }
  ]
}