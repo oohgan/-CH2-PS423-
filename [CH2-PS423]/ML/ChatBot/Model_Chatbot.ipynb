{
  "nbformat": 4,
  "nbformat_minor": 0,
  "metadata": {
    "colab": {
      "provenance": []
    },
    "kernelspec": {
      "name": "python3",
      "display_name": "Python 3"
    },
    "language_info": {
      "name": "python"
    }
  },
  "cells": [
    {
      "cell_type": "code",
      "execution_count": 1,
      "metadata": {
        "id": "9UoNwXjMtJ15"
      },
      "outputs": [],
      "source": [
        "import re\n",
        "import json\n",
        "import nltk\n",
        "import string\n",
        "import random\n",
        "import pathlib\n",
        "import numpy as np\n",
        "import pandas as pd\n",
        "import tensorflow as tf\n",
        "import matplotlib.pyplot as plt\n",
        "from sklearn.utils import shuffle"
      ]
    },
    {
      "cell_type": "code",
      "source": [
        "from nltk.corpus import stopwords\n",
        "from nltk.tokenize import word_tokenize\n",
        "from tensorflow.keras.models import Model\n",
        "from tensorflow.keras.utils import plot_model\n",
        "from sklearn.preprocessing import LabelEncoder\n",
        "from tensorflow.keras.preprocessing.text import Tokenizer\n",
        "from tensorflow.keras.preprocessing.sequence import pad_sequences"
      ],
      "metadata": {
        "id": "0gSyTq6fBs0v"
      },
      "execution_count": 2,
      "outputs": []
    },
    {
      "cell_type": "code",
      "source": [
        "nltk.download('punkt')"
      ],
      "metadata": {
        "colab": {
          "base_uri": "https://localhost:8080/"
        },
        "id": "FlLT0oQ0vXaj",
        "outputId": "2c3b2d23-d39a-46bf-a917-1a7c3a9ee94e"
      },
      "execution_count": 3,
      "outputs": [
        {
          "output_type": "stream",
          "name": "stderr",
          "text": [
            "[nltk_data] Downloading package punkt to /root/nltk_data...\n",
            "[nltk_data]   Unzipping tokenizers/punkt.zip.\n"
          ]
        },
        {
          "output_type": "execute_result",
          "data": {
            "text/plain": [
              "True"
            ]
          },
          "metadata": {},
          "execution_count": 3
        }
      ]
    },
    {
      "cell_type": "markdown",
      "source": [
        "# **Preprocessing Teks**"
      ],
      "metadata": {
        "id": "3kv6tgLJzsQr"
      }
    },
    {
      "cell_type": "code",
      "source": [
        "replace = [\n",
        "    ['ibu', ['ibuku', 'mami', 'mama']],\n",
        "    ['ayah', ['ayahku', 'papa', 'daddy']],\n",
        "    ['saudara', ['adikku', 'adek', 'kakakku', 'koko', 'cece']],\n",
        "    ['teman', ['temanku']],\n",
        "    ['meninggal', ['mati']]\n",
        "]"
      ],
      "metadata": {
        "id": "D2CUiuNlhD8U"
      },
      "execution_count": 4,
      "outputs": []
    },
    {
      "cell_type": "code",
      "source": [
        "def preprocess_text(kalimat):\n",
        "  filtered = re.sub(r'[^\\w\\d\\s]', '', kalimat.lower())\n",
        "  words = word_tokenize(filtered)\n",
        "\n",
        "  clean_word = []\n",
        "  for word in words:\n",
        "    replaced = False\n",
        "    for replacement, target in replace:\n",
        "      if word in target:\n",
        "        clean_word.append(replacement)\n",
        "        replaced = True\n",
        "    if not replaced:\n",
        "      clean_word.append(word)\n",
        "\n",
        "  return ' '.join(clean_word)\n"
      ],
      "metadata": {
        "id": "w8ZXO43niDJy"
      },
      "execution_count": 5,
      "outputs": []
    },
    {
      "cell_type": "markdown",
      "source": [
        "# **Reading Train & Val Dataset**"
      ],
      "metadata": {
        "id": "PliDIa6Pz4Y5"
      }
    },
    {
      "cell_type": "code",
      "source": [
        "with open('/content/Mental Health Conversational.json', 'r') as content:\n",
        "  chatbot = json.load(content)\n",
        "data = pd.DataFrame(chatbot['intents'])"
      ],
      "metadata": {
        "id": "2mHdDoN2zhiK"
      },
      "execution_count": 9,
      "outputs": []
    },
    {
      "cell_type": "code",
      "source": [
        "dictionary = {\"tag\":[], \"patterns\":[], \"responses\":[]}\n",
        "for i in range (len(data)):\n",
        "  pattern = data[data.index==i]['patterns'].values[0]\n",
        "  response = data[data.index==i]['responses'].values[0]\n",
        "  tag = data[data.index==i]['tag'].values[0]\n",
        "  for j in range (len(pattern)):\n",
        "    dictionary['tag'].append(tag)\n",
        "    dictionary['patterns'].append(preprocess_text(pattern[j]))\n",
        "    dictionary['responses'].append(response)\n",
        "data = pd.DataFrame.from_dict(dictionary)\n",
        "data"
      ],
      "metadata": {
        "id": "DePlw14BxZ55",
        "colab": {
          "base_uri": "https://localhost:8080/",
          "height": 423
        },
        "outputId": "7969308e-6ae5-4c1c-ece1-79eee547ca8a"
      },
      "execution_count": 10,
      "outputs": [
        {
          "output_type": "execute_result",
          "data": {
            "text/plain": [
              "          tag                                           patterns  \\\n",
              "0    greeting                                                hai   \n",
              "1    greeting                                               halo   \n",
              "2    greeting                                      hai apa kabar   \n",
              "3    greeting                                                 hi   \n",
              "4    greeting                                    assalamualaikum   \n",
              "..        ...                                                ...   \n",
              "212   fact_28  bagaimana saya bisa menjaga hubungan sosial ba...   \n",
              "213   fact_29          apa perbedaan antara kecemasan dan stress   \n",
              "214   fact_29                     perbedaan kecemasan dan stress   \n",
              "215   fact_30         apa perbedaan antara kesedihan dan depresi   \n",
              "216   fact_30             perbedaan antara kesedihan dan depresi   \n",
              "\n",
              "                                             responses  \n",
              "0    [Halo! Selamat bertemu denganmu. Bagaimana kab...  \n",
              "1    [Halo! Selamat bertemu denganmu. Bagaimana kab...  \n",
              "2    [Halo! Selamat bertemu denganmu. Bagaimana kab...  \n",
              "3    [Halo! Selamat bertemu denganmu. Bagaimana kab...  \n",
              "4    [Halo! Selamat bertemu denganmu. Bagaimana kab...  \n",
              "..                                                 ...  \n",
              "212  [Banyak orang yang sendirian saat ini, tapi ki...  \n",
              "213  [Stres dan kecemasan sering digunakan secara b...  \n",
              "214  [Stres dan kecemasan sering digunakan secara b...  \n",
              "215  [Kesedihan merupakan reaksi normal terhadap ke...  \n",
              "216  [Kesedihan merupakan reaksi normal terhadap ke...  \n",
              "\n",
              "[217 rows x 3 columns]"
            ],
            "text/html": [
              "\n",
              "  <div id=\"df-59f496ce-3eec-4a8d-b6f8-0f7ee49ae87b\" class=\"colab-df-container\">\n",
              "    <div>\n",
              "<style scoped>\n",
              "    .dataframe tbody tr th:only-of-type {\n",
              "        vertical-align: middle;\n",
              "    }\n",
              "\n",
              "    .dataframe tbody tr th {\n",
              "        vertical-align: top;\n",
              "    }\n",
              "\n",
              "    .dataframe thead th {\n",
              "        text-align: right;\n",
              "    }\n",
              "</style>\n",
              "<table border=\"1\" class=\"dataframe\">\n",
              "  <thead>\n",
              "    <tr style=\"text-align: right;\">\n",
              "      <th></th>\n",
              "      <th>tag</th>\n",
              "      <th>patterns</th>\n",
              "      <th>responses</th>\n",
              "    </tr>\n",
              "  </thead>\n",
              "  <tbody>\n",
              "    <tr>\n",
              "      <th>0</th>\n",
              "      <td>greeting</td>\n",
              "      <td>hai</td>\n",
              "      <td>[Halo! Selamat bertemu denganmu. Bagaimana kab...</td>\n",
              "    </tr>\n",
              "    <tr>\n",
              "      <th>1</th>\n",
              "      <td>greeting</td>\n",
              "      <td>halo</td>\n",
              "      <td>[Halo! Selamat bertemu denganmu. Bagaimana kab...</td>\n",
              "    </tr>\n",
              "    <tr>\n",
              "      <th>2</th>\n",
              "      <td>greeting</td>\n",
              "      <td>hai apa kabar</td>\n",
              "      <td>[Halo! Selamat bertemu denganmu. Bagaimana kab...</td>\n",
              "    </tr>\n",
              "    <tr>\n",
              "      <th>3</th>\n",
              "      <td>greeting</td>\n",
              "      <td>hi</td>\n",
              "      <td>[Halo! Selamat bertemu denganmu. Bagaimana kab...</td>\n",
              "    </tr>\n",
              "    <tr>\n",
              "      <th>4</th>\n",
              "      <td>greeting</td>\n",
              "      <td>assalamualaikum</td>\n",
              "      <td>[Halo! Selamat bertemu denganmu. Bagaimana kab...</td>\n",
              "    </tr>\n",
              "    <tr>\n",
              "      <th>...</th>\n",
              "      <td>...</td>\n",
              "      <td>...</td>\n",
              "      <td>...</td>\n",
              "    </tr>\n",
              "    <tr>\n",
              "      <th>212</th>\n",
              "      <td>fact_28</td>\n",
              "      <td>bagaimana saya bisa menjaga hubungan sosial ba...</td>\n",
              "      <td>[Banyak orang yang sendirian saat ini, tapi ki...</td>\n",
              "    </tr>\n",
              "    <tr>\n",
              "      <th>213</th>\n",
              "      <td>fact_29</td>\n",
              "      <td>apa perbedaan antara kecemasan dan stress</td>\n",
              "      <td>[Stres dan kecemasan sering digunakan secara b...</td>\n",
              "    </tr>\n",
              "    <tr>\n",
              "      <th>214</th>\n",
              "      <td>fact_29</td>\n",
              "      <td>perbedaan kecemasan dan stress</td>\n",
              "      <td>[Stres dan kecemasan sering digunakan secara b...</td>\n",
              "    </tr>\n",
              "    <tr>\n",
              "      <th>215</th>\n",
              "      <td>fact_30</td>\n",
              "      <td>apa perbedaan antara kesedihan dan depresi</td>\n",
              "      <td>[Kesedihan merupakan reaksi normal terhadap ke...</td>\n",
              "    </tr>\n",
              "    <tr>\n",
              "      <th>216</th>\n",
              "      <td>fact_30</td>\n",
              "      <td>perbedaan antara kesedihan dan depresi</td>\n",
              "      <td>[Kesedihan merupakan reaksi normal terhadap ke...</td>\n",
              "    </tr>\n",
              "  </tbody>\n",
              "</table>\n",
              "<p>217 rows × 3 columns</p>\n",
              "</div>\n",
              "    <div class=\"colab-df-buttons\">\n",
              "\n",
              "  <div class=\"colab-df-container\">\n",
              "    <button class=\"colab-df-convert\" onclick=\"convertToInteractive('df-59f496ce-3eec-4a8d-b6f8-0f7ee49ae87b')\"\n",
              "            title=\"Convert this dataframe to an interactive table.\"\n",
              "            style=\"display:none;\">\n",
              "\n",
              "  <svg xmlns=\"http://www.w3.org/2000/svg\" height=\"24px\" viewBox=\"0 -960 960 960\">\n",
              "    <path d=\"M120-120v-720h720v720H120Zm60-500h600v-160H180v160Zm220 220h160v-160H400v160Zm0 220h160v-160H400v160ZM180-400h160v-160H180v160Zm440 0h160v-160H620v160ZM180-180h160v-160H180v160Zm440 0h160v-160H620v160Z\"/>\n",
              "  </svg>\n",
              "    </button>\n",
              "\n",
              "  <style>\n",
              "    .colab-df-container {\n",
              "      display:flex;\n",
              "      gap: 12px;\n",
              "    }\n",
              "\n",
              "    .colab-df-convert {\n",
              "      background-color: #E8F0FE;\n",
              "      border: none;\n",
              "      border-radius: 50%;\n",
              "      cursor: pointer;\n",
              "      display: none;\n",
              "      fill: #1967D2;\n",
              "      height: 32px;\n",
              "      padding: 0 0 0 0;\n",
              "      width: 32px;\n",
              "    }\n",
              "\n",
              "    .colab-df-convert:hover {\n",
              "      background-color: #E2EBFA;\n",
              "      box-shadow: 0px 1px 2px rgba(60, 64, 67, 0.3), 0px 1px 3px 1px rgba(60, 64, 67, 0.15);\n",
              "      fill: #174EA6;\n",
              "    }\n",
              "\n",
              "    .colab-df-buttons div {\n",
              "      margin-bottom: 4px;\n",
              "    }\n",
              "\n",
              "    [theme=dark] .colab-df-convert {\n",
              "      background-color: #3B4455;\n",
              "      fill: #D2E3FC;\n",
              "    }\n",
              "\n",
              "    [theme=dark] .colab-df-convert:hover {\n",
              "      background-color: #434B5C;\n",
              "      box-shadow: 0px 1px 3px 1px rgba(0, 0, 0, 0.15);\n",
              "      filter: drop-shadow(0px 1px 2px rgba(0, 0, 0, 0.3));\n",
              "      fill: #FFFFFF;\n",
              "    }\n",
              "  </style>\n",
              "\n",
              "    <script>\n",
              "      const buttonEl =\n",
              "        document.querySelector('#df-59f496ce-3eec-4a8d-b6f8-0f7ee49ae87b button.colab-df-convert');\n",
              "      buttonEl.style.display =\n",
              "        google.colab.kernel.accessAllowed ? 'block' : 'none';\n",
              "\n",
              "      async function convertToInteractive(key) {\n",
              "        const element = document.querySelector('#df-59f496ce-3eec-4a8d-b6f8-0f7ee49ae87b');\n",
              "        const dataTable =\n",
              "          await google.colab.kernel.invokeFunction('convertToInteractive',\n",
              "                                                    [key], {});\n",
              "        if (!dataTable) return;\n",
              "\n",
              "        const docLinkHtml = 'Like what you see? Visit the ' +\n",
              "          '<a target=\"_blank\" href=https://colab.research.google.com/notebooks/data_table.ipynb>data table notebook</a>'\n",
              "          + ' to learn more about interactive tables.';\n",
              "        element.innerHTML = '';\n",
              "        dataTable['output_type'] = 'display_data';\n",
              "        await google.colab.output.renderOutput(dataTable, element);\n",
              "        const docLink = document.createElement('div');\n",
              "        docLink.innerHTML = docLinkHtml;\n",
              "        element.appendChild(docLink);\n",
              "      }\n",
              "    </script>\n",
              "  </div>\n",
              "\n",
              "\n",
              "<div id=\"df-a9be18b9-de5e-44a7-9488-366e63908a8d\">\n",
              "  <button class=\"colab-df-quickchart\" onclick=\"quickchart('df-a9be18b9-de5e-44a7-9488-366e63908a8d')\"\n",
              "            title=\"Suggest charts\"\n",
              "            style=\"display:none;\">\n",
              "\n",
              "<svg xmlns=\"http://www.w3.org/2000/svg\" height=\"24px\"viewBox=\"0 0 24 24\"\n",
              "     width=\"24px\">\n",
              "    <g>\n",
              "        <path d=\"M19 3H5c-1.1 0-2 .9-2 2v14c0 1.1.9 2 2 2h14c1.1 0 2-.9 2-2V5c0-1.1-.9-2-2-2zM9 17H7v-7h2v7zm4 0h-2V7h2v10zm4 0h-2v-4h2v4z\"/>\n",
              "    </g>\n",
              "</svg>\n",
              "  </button>\n",
              "\n",
              "<style>\n",
              "  .colab-df-quickchart {\n",
              "      --bg-color: #E8F0FE;\n",
              "      --fill-color: #1967D2;\n",
              "      --hover-bg-color: #E2EBFA;\n",
              "      --hover-fill-color: #174EA6;\n",
              "      --disabled-fill-color: #AAA;\n",
              "      --disabled-bg-color: #DDD;\n",
              "  }\n",
              "\n",
              "  [theme=dark] .colab-df-quickchart {\n",
              "      --bg-color: #3B4455;\n",
              "      --fill-color: #D2E3FC;\n",
              "      --hover-bg-color: #434B5C;\n",
              "      --hover-fill-color: #FFFFFF;\n",
              "      --disabled-bg-color: #3B4455;\n",
              "      --disabled-fill-color: #666;\n",
              "  }\n",
              "\n",
              "  .colab-df-quickchart {\n",
              "    background-color: var(--bg-color);\n",
              "    border: none;\n",
              "    border-radius: 50%;\n",
              "    cursor: pointer;\n",
              "    display: none;\n",
              "    fill: var(--fill-color);\n",
              "    height: 32px;\n",
              "    padding: 0;\n",
              "    width: 32px;\n",
              "  }\n",
              "\n",
              "  .colab-df-quickchart:hover {\n",
              "    background-color: var(--hover-bg-color);\n",
              "    box-shadow: 0 1px 2px rgba(60, 64, 67, 0.3), 0 1px 3px 1px rgba(60, 64, 67, 0.15);\n",
              "    fill: var(--button-hover-fill-color);\n",
              "  }\n",
              "\n",
              "  .colab-df-quickchart-complete:disabled,\n",
              "  .colab-df-quickchart-complete:disabled:hover {\n",
              "    background-color: var(--disabled-bg-color);\n",
              "    fill: var(--disabled-fill-color);\n",
              "    box-shadow: none;\n",
              "  }\n",
              "\n",
              "  .colab-df-spinner {\n",
              "    border: 2px solid var(--fill-color);\n",
              "    border-color: transparent;\n",
              "    border-bottom-color: var(--fill-color);\n",
              "    animation:\n",
              "      spin 1s steps(1) infinite;\n",
              "  }\n",
              "\n",
              "  @keyframes spin {\n",
              "    0% {\n",
              "      border-color: transparent;\n",
              "      border-bottom-color: var(--fill-color);\n",
              "      border-left-color: var(--fill-color);\n",
              "    }\n",
              "    20% {\n",
              "      border-color: transparent;\n",
              "      border-left-color: var(--fill-color);\n",
              "      border-top-color: var(--fill-color);\n",
              "    }\n",
              "    30% {\n",
              "      border-color: transparent;\n",
              "      border-left-color: var(--fill-color);\n",
              "      border-top-color: var(--fill-color);\n",
              "      border-right-color: var(--fill-color);\n",
              "    }\n",
              "    40% {\n",
              "      border-color: transparent;\n",
              "      border-right-color: var(--fill-color);\n",
              "      border-top-color: var(--fill-color);\n",
              "    }\n",
              "    60% {\n",
              "      border-color: transparent;\n",
              "      border-right-color: var(--fill-color);\n",
              "    }\n",
              "    80% {\n",
              "      border-color: transparent;\n",
              "      border-right-color: var(--fill-color);\n",
              "      border-bottom-color: var(--fill-color);\n",
              "    }\n",
              "    90% {\n",
              "      border-color: transparent;\n",
              "      border-bottom-color: var(--fill-color);\n",
              "    }\n",
              "  }\n",
              "</style>\n",
              "\n",
              "  <script>\n",
              "    async function quickchart(key) {\n",
              "      const quickchartButtonEl =\n",
              "        document.querySelector('#' + key + ' button');\n",
              "      quickchartButtonEl.disabled = true;  // To prevent multiple clicks.\n",
              "      quickchartButtonEl.classList.add('colab-df-spinner');\n",
              "      try {\n",
              "        const charts = await google.colab.kernel.invokeFunction(\n",
              "            'suggestCharts', [key], {});\n",
              "      } catch (error) {\n",
              "        console.error('Error during call to suggestCharts:', error);\n",
              "      }\n",
              "      quickchartButtonEl.classList.remove('colab-df-spinner');\n",
              "      quickchartButtonEl.classList.add('colab-df-quickchart-complete');\n",
              "    }\n",
              "    (() => {\n",
              "      let quickchartButtonEl =\n",
              "        document.querySelector('#df-a9be18b9-de5e-44a7-9488-366e63908a8d button');\n",
              "      quickchartButtonEl.style.display =\n",
              "        google.colab.kernel.accessAllowed ? 'block' : 'none';\n",
              "    })();\n",
              "  </script>\n",
              "</div>\n",
              "    </div>\n",
              "  </div>\n"
            ]
          },
          "metadata": {},
          "execution_count": 10
        }
      ]
    },
    {
      "cell_type": "code",
      "source": [
        "with open('/content/Validation_Conversation.json', 'r') as content:\n",
        "  val_chatbot = json.load(content)\n",
        "val_data = pd.DataFrame(val_chatbot['intents'])\n"
      ],
      "metadata": {
        "id": "Ev3nfQuLr_xD"
      },
      "execution_count": 11,
      "outputs": []
    },
    {
      "cell_type": "code",
      "source": [
        "dictionary = {\"tag\":[], \"patterns\":[]}\n",
        "for i in range (len(val_data)):\n",
        "  pattern = val_data[val_data.index==i]['patterns'].values[0]\n",
        "  tag = val_data[val_data.index==i]['tag'].values[0]\n",
        "  for j in range (len(pattern)):\n",
        "    dictionary['tag'].append(tag)\n",
        "    dictionary['patterns'].append(preprocess_text(pattern[j]))\n",
        "val_data = pd.DataFrame.from_dict(dictionary)\n",
        "val_data"
      ],
      "metadata": {
        "colab": {
          "base_uri": "https://localhost:8080/",
          "height": 423
        },
        "id": "Nv9GVBgSss-v",
        "outputId": "74db025e-9504-4505-9a8a-ee9471311060"
      },
      "execution_count": 12,
      "outputs": [
        {
          "output_type": "execute_result",
          "data": {
            "text/plain": [
              "           tag                                           patterns\n",
              "0     greeting                                               halo\n",
              "1     greeting                                      hai apa kabar\n",
              "2     greeting                                                 hi\n",
              "3      morning                                               pagi\n",
              "4    afternoon                                              siang\n",
              "..         ...                                                ...\n",
              "111    fact_26  apa yang harus saya lakukan jika saya khawatir...\n",
              "112    fact_27         bagaimana saya tahu kalau saya tidak sehat\n",
              "113    fact_28  bagaimana saya bisa menjaga hubungan sosial ba...\n",
              "114    fact_29                     perbedaan kecemasan dan stress\n",
              "115    fact_30             perbedaan antara kesedihan dan depresi\n",
              "\n",
              "[116 rows x 2 columns]"
            ],
            "text/html": [
              "\n",
              "  <div id=\"df-1d9ff8c8-94a5-4e94-b6c4-17dd00caee87\" class=\"colab-df-container\">\n",
              "    <div>\n",
              "<style scoped>\n",
              "    .dataframe tbody tr th:only-of-type {\n",
              "        vertical-align: middle;\n",
              "    }\n",
              "\n",
              "    .dataframe tbody tr th {\n",
              "        vertical-align: top;\n",
              "    }\n",
              "\n",
              "    .dataframe thead th {\n",
              "        text-align: right;\n",
              "    }\n",
              "</style>\n",
              "<table border=\"1\" class=\"dataframe\">\n",
              "  <thead>\n",
              "    <tr style=\"text-align: right;\">\n",
              "      <th></th>\n",
              "      <th>tag</th>\n",
              "      <th>patterns</th>\n",
              "    </tr>\n",
              "  </thead>\n",
              "  <tbody>\n",
              "    <tr>\n",
              "      <th>0</th>\n",
              "      <td>greeting</td>\n",
              "      <td>halo</td>\n",
              "    </tr>\n",
              "    <tr>\n",
              "      <th>1</th>\n",
              "      <td>greeting</td>\n",
              "      <td>hai apa kabar</td>\n",
              "    </tr>\n",
              "    <tr>\n",
              "      <th>2</th>\n",
              "      <td>greeting</td>\n",
              "      <td>hi</td>\n",
              "    </tr>\n",
              "    <tr>\n",
              "      <th>3</th>\n",
              "      <td>morning</td>\n",
              "      <td>pagi</td>\n",
              "    </tr>\n",
              "    <tr>\n",
              "      <th>4</th>\n",
              "      <td>afternoon</td>\n",
              "      <td>siang</td>\n",
              "    </tr>\n",
              "    <tr>\n",
              "      <th>...</th>\n",
              "      <td>...</td>\n",
              "      <td>...</td>\n",
              "    </tr>\n",
              "    <tr>\n",
              "      <th>111</th>\n",
              "      <td>fact_26</td>\n",
              "      <td>apa yang harus saya lakukan jika saya khawatir...</td>\n",
              "    </tr>\n",
              "    <tr>\n",
              "      <th>112</th>\n",
              "      <td>fact_27</td>\n",
              "      <td>bagaimana saya tahu kalau saya tidak sehat</td>\n",
              "    </tr>\n",
              "    <tr>\n",
              "      <th>113</th>\n",
              "      <td>fact_28</td>\n",
              "      <td>bagaimana saya bisa menjaga hubungan sosial ba...</td>\n",
              "    </tr>\n",
              "    <tr>\n",
              "      <th>114</th>\n",
              "      <td>fact_29</td>\n",
              "      <td>perbedaan kecemasan dan stress</td>\n",
              "    </tr>\n",
              "    <tr>\n",
              "      <th>115</th>\n",
              "      <td>fact_30</td>\n",
              "      <td>perbedaan antara kesedihan dan depresi</td>\n",
              "    </tr>\n",
              "  </tbody>\n",
              "</table>\n",
              "<p>116 rows × 2 columns</p>\n",
              "</div>\n",
              "    <div class=\"colab-df-buttons\">\n",
              "\n",
              "  <div class=\"colab-df-container\">\n",
              "    <button class=\"colab-df-convert\" onclick=\"convertToInteractive('df-1d9ff8c8-94a5-4e94-b6c4-17dd00caee87')\"\n",
              "            title=\"Convert this dataframe to an interactive table.\"\n",
              "            style=\"display:none;\">\n",
              "\n",
              "  <svg xmlns=\"http://www.w3.org/2000/svg\" height=\"24px\" viewBox=\"0 -960 960 960\">\n",
              "    <path d=\"M120-120v-720h720v720H120Zm60-500h600v-160H180v160Zm220 220h160v-160H400v160Zm0 220h160v-160H400v160ZM180-400h160v-160H180v160Zm440 0h160v-160H620v160ZM180-180h160v-160H180v160Zm440 0h160v-160H620v160Z\"/>\n",
              "  </svg>\n",
              "    </button>\n",
              "\n",
              "  <style>\n",
              "    .colab-df-container {\n",
              "      display:flex;\n",
              "      gap: 12px;\n",
              "    }\n",
              "\n",
              "    .colab-df-convert {\n",
              "      background-color: #E8F0FE;\n",
              "      border: none;\n",
              "      border-radius: 50%;\n",
              "      cursor: pointer;\n",
              "      display: none;\n",
              "      fill: #1967D2;\n",
              "      height: 32px;\n",
              "      padding: 0 0 0 0;\n",
              "      width: 32px;\n",
              "    }\n",
              "\n",
              "    .colab-df-convert:hover {\n",
              "      background-color: #E2EBFA;\n",
              "      box-shadow: 0px 1px 2px rgba(60, 64, 67, 0.3), 0px 1px 3px 1px rgba(60, 64, 67, 0.15);\n",
              "      fill: #174EA6;\n",
              "    }\n",
              "\n",
              "    .colab-df-buttons div {\n",
              "      margin-bottom: 4px;\n",
              "    }\n",
              "\n",
              "    [theme=dark] .colab-df-convert {\n",
              "      background-color: #3B4455;\n",
              "      fill: #D2E3FC;\n",
              "    }\n",
              "\n",
              "    [theme=dark] .colab-df-convert:hover {\n",
              "      background-color: #434B5C;\n",
              "      box-shadow: 0px 1px 3px 1px rgba(0, 0, 0, 0.15);\n",
              "      filter: drop-shadow(0px 1px 2px rgba(0, 0, 0, 0.3));\n",
              "      fill: #FFFFFF;\n",
              "    }\n",
              "  </style>\n",
              "\n",
              "    <script>\n",
              "      const buttonEl =\n",
              "        document.querySelector('#df-1d9ff8c8-94a5-4e94-b6c4-17dd00caee87 button.colab-df-convert');\n",
              "      buttonEl.style.display =\n",
              "        google.colab.kernel.accessAllowed ? 'block' : 'none';\n",
              "\n",
              "      async function convertToInteractive(key) {\n",
              "        const element = document.querySelector('#df-1d9ff8c8-94a5-4e94-b6c4-17dd00caee87');\n",
              "        const dataTable =\n",
              "          await google.colab.kernel.invokeFunction('convertToInteractive',\n",
              "                                                    [key], {});\n",
              "        if (!dataTable) return;\n",
              "\n",
              "        const docLinkHtml = 'Like what you see? Visit the ' +\n",
              "          '<a target=\"_blank\" href=https://colab.research.google.com/notebooks/data_table.ipynb>data table notebook</a>'\n",
              "          + ' to learn more about interactive tables.';\n",
              "        element.innerHTML = '';\n",
              "        dataTable['output_type'] = 'display_data';\n",
              "        await google.colab.output.renderOutput(dataTable, element);\n",
              "        const docLink = document.createElement('div');\n",
              "        docLink.innerHTML = docLinkHtml;\n",
              "        element.appendChild(docLink);\n",
              "      }\n",
              "    </script>\n",
              "  </div>\n",
              "\n",
              "\n",
              "<div id=\"df-9aacd8e0-77ad-4c2b-8049-aae1183d6554\">\n",
              "  <button class=\"colab-df-quickchart\" onclick=\"quickchart('df-9aacd8e0-77ad-4c2b-8049-aae1183d6554')\"\n",
              "            title=\"Suggest charts\"\n",
              "            style=\"display:none;\">\n",
              "\n",
              "<svg xmlns=\"http://www.w3.org/2000/svg\" height=\"24px\"viewBox=\"0 0 24 24\"\n",
              "     width=\"24px\">\n",
              "    <g>\n",
              "        <path d=\"M19 3H5c-1.1 0-2 .9-2 2v14c0 1.1.9 2 2 2h14c1.1 0 2-.9 2-2V5c0-1.1-.9-2-2-2zM9 17H7v-7h2v7zm4 0h-2V7h2v10zm4 0h-2v-4h2v4z\"/>\n",
              "    </g>\n",
              "</svg>\n",
              "  </button>\n",
              "\n",
              "<style>\n",
              "  .colab-df-quickchart {\n",
              "      --bg-color: #E8F0FE;\n",
              "      --fill-color: #1967D2;\n",
              "      --hover-bg-color: #E2EBFA;\n",
              "      --hover-fill-color: #174EA6;\n",
              "      --disabled-fill-color: #AAA;\n",
              "      --disabled-bg-color: #DDD;\n",
              "  }\n",
              "\n",
              "  [theme=dark] .colab-df-quickchart {\n",
              "      --bg-color: #3B4455;\n",
              "      --fill-color: #D2E3FC;\n",
              "      --hover-bg-color: #434B5C;\n",
              "      --hover-fill-color: #FFFFFF;\n",
              "      --disabled-bg-color: #3B4455;\n",
              "      --disabled-fill-color: #666;\n",
              "  }\n",
              "\n",
              "  .colab-df-quickchart {\n",
              "    background-color: var(--bg-color);\n",
              "    border: none;\n",
              "    border-radius: 50%;\n",
              "    cursor: pointer;\n",
              "    display: none;\n",
              "    fill: var(--fill-color);\n",
              "    height: 32px;\n",
              "    padding: 0;\n",
              "    width: 32px;\n",
              "  }\n",
              "\n",
              "  .colab-df-quickchart:hover {\n",
              "    background-color: var(--hover-bg-color);\n",
              "    box-shadow: 0 1px 2px rgba(60, 64, 67, 0.3), 0 1px 3px 1px rgba(60, 64, 67, 0.15);\n",
              "    fill: var(--button-hover-fill-color);\n",
              "  }\n",
              "\n",
              "  .colab-df-quickchart-complete:disabled,\n",
              "  .colab-df-quickchart-complete:disabled:hover {\n",
              "    background-color: var(--disabled-bg-color);\n",
              "    fill: var(--disabled-fill-color);\n",
              "    box-shadow: none;\n",
              "  }\n",
              "\n",
              "  .colab-df-spinner {\n",
              "    border: 2px solid var(--fill-color);\n",
              "    border-color: transparent;\n",
              "    border-bottom-color: var(--fill-color);\n",
              "    animation:\n",
              "      spin 1s steps(1) infinite;\n",
              "  }\n",
              "\n",
              "  @keyframes spin {\n",
              "    0% {\n",
              "      border-color: transparent;\n",
              "      border-bottom-color: var(--fill-color);\n",
              "      border-left-color: var(--fill-color);\n",
              "    }\n",
              "    20% {\n",
              "      border-color: transparent;\n",
              "      border-left-color: var(--fill-color);\n",
              "      border-top-color: var(--fill-color);\n",
              "    }\n",
              "    30% {\n",
              "      border-color: transparent;\n",
              "      border-left-color: var(--fill-color);\n",
              "      border-top-color: var(--fill-color);\n",
              "      border-right-color: var(--fill-color);\n",
              "    }\n",
              "    40% {\n",
              "      border-color: transparent;\n",
              "      border-right-color: var(--fill-color);\n",
              "      border-top-color: var(--fill-color);\n",
              "    }\n",
              "    60% {\n",
              "      border-color: transparent;\n",
              "      border-right-color: var(--fill-color);\n",
              "    }\n",
              "    80% {\n",
              "      border-color: transparent;\n",
              "      border-right-color: var(--fill-color);\n",
              "      border-bottom-color: var(--fill-color);\n",
              "    }\n",
              "    90% {\n",
              "      border-color: transparent;\n",
              "      border-bottom-color: var(--fill-color);\n",
              "    }\n",
              "  }\n",
              "</style>\n",
              "\n",
              "  <script>\n",
              "    async function quickchart(key) {\n",
              "      const quickchartButtonEl =\n",
              "        document.querySelector('#' + key + ' button');\n",
              "      quickchartButtonEl.disabled = true;  // To prevent multiple clicks.\n",
              "      quickchartButtonEl.classList.add('colab-df-spinner');\n",
              "      try {\n",
              "        const charts = await google.colab.kernel.invokeFunction(\n",
              "            'suggestCharts', [key], {});\n",
              "      } catch (error) {\n",
              "        console.error('Error during call to suggestCharts:', error);\n",
              "      }\n",
              "      quickchartButtonEl.classList.remove('colab-df-spinner');\n",
              "      quickchartButtonEl.classList.add('colab-df-quickchart-complete');\n",
              "    }\n",
              "    (() => {\n",
              "      let quickchartButtonEl =\n",
              "        document.querySelector('#df-9aacd8e0-77ad-4c2b-8049-aae1183d6554 button');\n",
              "      quickchartButtonEl.style.display =\n",
              "        google.colab.kernel.accessAllowed ? 'block' : 'none';\n",
              "    })();\n",
              "  </script>\n",
              "</div>\n",
              "    </div>\n",
              "  </div>\n"
            ]
          },
          "metadata": {},
          "execution_count": 12
        }
      ]
    },
    {
      "cell_type": "code",
      "source": [
        "# Training\n",
        "data['tag'].unique()"
      ],
      "metadata": {
        "colab": {
          "base_uri": "https://localhost:8080/"
        },
        "id": "gf3hpV5HIU_I",
        "outputId": "3cbe896c-9346-4c66-88b1-d8924d204799"
      },
      "execution_count": 13,
      "outputs": [
        {
          "output_type": "execute_result",
          "data": {
            "text/plain": [
              "array(['greeting', 'morning', 'afternoon', 'evening', 'night', 'goodbye',\n",
              "       'thanks', 'about', 'skill', 'creation', 'help', 'sad', 'stressed',\n",
              "       'worthless', 'depressed', 'happy', 'casual', 'anxious',\n",
              "       'not-talking', 'sleep', 'scared', 'death', 'understand', 'done',\n",
              "       'suicide', 'hate-you', 'hate-me', 'default', 'jokes', 'repeat',\n",
              "       'wrong', 'stupid', 'location', 'something-else', 'ask', 'problem',\n",
              "       'no-approach', 'learn-more', 'user-agree', 'meditation',\n",
              "       'user_meditation', 'hugu_useful', 'user-advice',\n",
              "       'learn_mental_health', 'mental_health_fact', 'fact_1', 'fact_2',\n",
              "       'fact_3', 'fact_4', 'fact_5', 'fact_6', 'fact_7', 'fact_8',\n",
              "       'fact_9', 'fact_10', 'fact_11', 'fact_12', 'fact_13', 'fact_14',\n",
              "       'fact_15', 'fact_16', 'fact_17', 'fact_18', 'fact_19', 'fact_20',\n",
              "       'fact_21', 'fact_22', 'fact_23', 'fact_24', 'fact_25', 'fact_26',\n",
              "       'fact_27', 'fact_28', 'fact_29', 'fact_30'], dtype=object)"
            ]
          },
          "metadata": {},
          "execution_count": 13
        }
      ]
    },
    {
      "cell_type": "code",
      "source": [
        "# Validation\n",
        "val_data['tag'].unique()"
      ],
      "metadata": {
        "colab": {
          "base_uri": "https://localhost:8080/"
        },
        "id": "m-yvgI8ms9wW",
        "outputId": "9cbadd97-4b2c-4f34-8174-224f8dc73695"
      },
      "execution_count": 14,
      "outputs": [
        {
          "output_type": "execute_result",
          "data": {
            "text/plain": [
              "array(['greeting', 'morning', 'afternoon', 'evening', 'night', 'goodbye',\n",
              "       'thanks', 'about', 'skill', 'creation', 'help', 'sad', 'stressed',\n",
              "       'worthless', 'depressed', 'happy', 'casual', 'anxious',\n",
              "       'not-talking', 'sleep', 'scared', 'death', 'understand', 'done',\n",
              "       'suicide', 'hate-you', 'hate-me', 'default', 'jokes', 'repeat',\n",
              "       'wrong', 'stupid', 'location', 'something-else', 'ask', 'problem',\n",
              "       'no-approach', 'learn-more', 'user-agree', 'meditation',\n",
              "       'user_meditation', 'hugu_useful', 'user-advice',\n",
              "       'learn_mental_health', 'mental_health_fact', 'fact_1', 'fact_2',\n",
              "       'fact_3', 'fact_4', 'fact_5', 'fact_6', 'fact_7', 'fact_8',\n",
              "       'fact_9', 'fact_10', 'fact_11', 'fact_12', 'fact_13', 'fact_14',\n",
              "       'fact_15', 'fact_16', 'fact_17', 'fact_18', 'fact_19', 'fact_20',\n",
              "       'fact_21', 'fact_22', 'fact_23', 'fact_24', 'fact_25', 'fact_26',\n",
              "       'fact_27', 'fact_28', 'fact_29', 'fact_30'], dtype=object)"
            ]
          },
          "metadata": {},
          "execution_count": 14
        }
      ]
    },
    {
      "cell_type": "markdown",
      "source": [
        "# **Tokenizing Train and Validation Pattern & Tag**"
      ],
      "metadata": {
        "id": "13oRc6tN0fKs"
      }
    },
    {
      "cell_type": "markdown",
      "source": [
        "**Adding Word Dictionary**"
      ],
      "metadata": {
        "id": "VGnjaBKy2_Jw"
      }
    },
    {
      "cell_type": "code",
      "source": [
        "with open('/content/word_dict.json', 'r') as f:\n",
        "  json_dict = json.load(f)\n",
        "tokenizer_json=json_dict.keys()\n",
        "\n",
        "tokenizer = Tokenizer(oov_token='<OOV>')\n",
        "tokenizer.fit_on_texts(tokenizer_json)\n",
        "\n",
        "word_index = tokenizer.word_index\n",
        "print(len(word_index))"
      ],
      "metadata": {
        "id": "iILLZIyF2HRB",
        "colab": {
          "base_uri": "https://localhost:8080/"
        },
        "outputId": "a9416d09-b03b-43eb-b612-25bf080749a1"
      },
      "execution_count": 15,
      "outputs": [
        {
          "output_type": "stream",
          "name": "stdout",
          "text": [
            "18727\n"
          ]
        }
      ]
    },
    {
      "cell_type": "markdown",
      "source": [
        "Shuffling dataset for better training (*hopefully*)"
      ],
      "metadata": {
        "id": "ikaTpbHz0PY0"
      }
    },
    {
      "cell_type": "code",
      "source": [
        "data = shuffle(data)\n",
        "val_data = shuffle(val_data)"
      ],
      "metadata": {
        "id": "DyNCGMPlMk3X"
      },
      "execution_count": 16,
      "outputs": []
    },
    {
      "cell_type": "code",
      "source": [
        "label_encode = LabelEncoder()\n",
        "\n",
        "tokenizer.fit_on_texts(data['patterns'])\n",
        "tokenizer.fit_on_texts(val_data['patterns'])\n",
        "\n",
        "# Training Set\n",
        "pattern_train = tokenizer.texts_to_sequences(data['patterns'])\n",
        "x_train = pad_sequences(pattern_train, padding='post', maxlen=12, truncating='pre')\n",
        "print(\"Training Input Shape : \", x_train.shape)\n",
        "print(len(x_train[0]))\n",
        "\n",
        "x_label = label_encode.fit_transform(data['tag'])\n",
        "print(\"Training Label Shape : \", x_label.shape)\n",
        "print(\"Num of classes: \", len(np.unique(x_label)))"
      ],
      "metadata": {
        "colab": {
          "base_uri": "https://localhost:8080/"
        },
        "id": "4s9JCHXDC4fy",
        "outputId": "edaba9fe-6fec-422c-a3d3-dcd1f88ec7cc"
      },
      "execution_count": 17,
      "outputs": [
        {
          "output_type": "stream",
          "name": "stdout",
          "text": [
            "Training Input Shape :  (217, 12)\n",
            "12\n",
            "Training Label Shape :  (217,)\n",
            "Num of classes:  75\n"
          ]
        }
      ]
    },
    {
      "cell_type": "code",
      "source": [
        "# Validation Set\n",
        "pattern_val = tokenizer.texts_to_sequences(val_data['patterns'])\n",
        "y_train = pad_sequences(pattern_val, padding='post', maxlen=12, truncating='pre')\n",
        "print(\"Validation Input Shape : \", y_train.shape)\n",
        "print(len(y_train[0]))\n",
        "\n",
        "y_label = label_encode.fit_transform(val_data['tag'])\n",
        "print(\"Validation Label Shape : \",y_label.shape)\n",
        "print(\"Num of classes: \", len(np.unique(y_label)))"
      ],
      "metadata": {
        "colab": {
          "base_uri": "https://localhost:8080/"
        },
        "id": "5Y9hvr8ItHG4",
        "outputId": "a5493c73-bedb-42da-a4e6-5aea356dd5e0"
      },
      "execution_count": 18,
      "outputs": [
        {
          "output_type": "stream",
          "name": "stdout",
          "text": [
            "Validation Input Shape :  (116, 12)\n",
            "12\n",
            "Validation Label Shape :  (116,)\n",
            "Num of classes:  75\n"
          ]
        }
      ]
    },
    {
      "cell_type": "code",
      "source": [
        "vocabulary = len(tokenizer.word_index)\n",
        "print(\"Number unique word : \",vocabulary)\n",
        "print(\"Output Length : \", label_encode.classes_.shape[0])\n"
      ],
      "metadata": {
        "colab": {
          "base_uri": "https://localhost:8080/"
        },
        "id": "G5gXiaR4bQGH",
        "outputId": "36c3a6b5-c1b2-4c8d-baed-d6fbccc0172d"
      },
      "execution_count": 19,
      "outputs": [
        {
          "output_type": "stream",
          "name": "stdout",
          "text": [
            "Number unique word :  18764\n",
            "Output Length :  75\n"
          ]
        }
      ]
    },
    {
      "cell_type": "markdown",
      "source": [
        "Converting known word/patterns from dictionary, train and validation dataset"
      ],
      "metadata": {
        "id": "nPOZqKeR1KMS"
      }
    },
    {
      "cell_type": "code",
      "source": [
        "word_dictionary = {item[0]: item[1] for item in tokenizer.word_index.items()}\n",
        "with open('tokenizer_chatbot_dict.json', 'w') as json_file:\n",
        "  json.dump(word_dictionary, json_file, indent=4)"
      ],
      "metadata": {
        "id": "Y0XbsFuKvl_e"
      },
      "execution_count": 20,
      "outputs": []
    },
    {
      "cell_type": "markdown",
      "source": [
        "Converting tag into json"
      ],
      "metadata": {
        "id": "QPS8amOW1FG1"
      }
    },
    {
      "cell_type": "code",
      "source": [
        "leDecode = LabelEncoder()\n",
        "leDecode.fit(val_data['tag'])\n",
        "name_mapping = dict(zip(leDecode.classes_, leDecode.transform(leDecode.classes_)))\n",
        "transformed = leDecode.transform(leDecode.classes_).tolist()\n",
        "name_mapping = dict(zip(leDecode.classes_, transformed))\n",
        "with open('label_decoder.json', 'w') as json_file:\n",
        "  json.dump(name_mapping, json_file, indent=4)"
      ],
      "metadata": {
        "id": "DoK4_upKwamD"
      },
      "execution_count": 21,
      "outputs": []
    },
    {
      "cell_type": "markdown",
      "source": [
        "# **Embedding** **Glove**"
      ],
      "metadata": {
        "id": "4z9RGSPN1X_P"
      }
    },
    {
      "cell_type": "code",
      "source": [
        "# !rm -f glove.6B.zip\n",
        "!wget https://nlp.stanford.edu/data/glove.6B.zip\n",
        "!unzip glove.6B.zip"
      ],
      "metadata": {
        "id": "s1aw9H3BOYD4",
        "colab": {
          "base_uri": "https://localhost:8080/"
        },
        "outputId": "afd20898-098c-42df-ef8d-f41f702569ce"
      },
      "execution_count": 22,
      "outputs": [
        {
          "output_type": "stream",
          "name": "stdout",
          "text": [
            "--2023-12-21 15:25:55--  https://nlp.stanford.edu/data/glove.6B.zip\n",
            "Resolving nlp.stanford.edu (nlp.stanford.edu)... 171.64.67.140\n",
            "Connecting to nlp.stanford.edu (nlp.stanford.edu)|171.64.67.140|:443... connected.\n",
            "HTTP request sent, awaiting response... 301 Moved Permanently\n",
            "Location: https://downloads.cs.stanford.edu/nlp/data/glove.6B.zip [following]\n",
            "--2023-12-21 15:25:56--  https://downloads.cs.stanford.edu/nlp/data/glove.6B.zip\n",
            "Resolving downloads.cs.stanford.edu (downloads.cs.stanford.edu)... 171.64.64.22\n",
            "Connecting to downloads.cs.stanford.edu (downloads.cs.stanford.edu)|171.64.64.22|:443... connected.\n",
            "HTTP request sent, awaiting response... 200 OK\n",
            "Length: 862182613 (822M) [application/zip]\n",
            "Saving to: ‘glove.6B.zip’\n",
            "\n",
            "glove.6B.zip        100%[===================>] 822.24M  5.16MB/s    in 2m 39s  \n",
            "\n",
            "2023-12-21 15:28:36 (5.17 MB/s) - ‘glove.6B.zip’ saved [862182613/862182613]\n",
            "\n",
            "Archive:  glove.6B.zip\n",
            "  inflating: glove.6B.50d.txt        \n",
            "  inflating: glove.6B.100d.txt       \n",
            "  inflating: glove.6B.200d.txt       \n",
            "  inflating: glove.6B.300d.txt       \n"
          ]
        }
      ]
    },
    {
      "cell_type": "code",
      "source": [
        "glove_dir = \"/content/glove.6B.100d.txt\"\n",
        "embeddings_index = {}\n",
        "file_ = open(glove_dir, encoding='utf8')\n",
        "for line in file_:\n",
        "  arr = line.split()\n",
        "  single_word = arr[0]\n",
        "  w = np.asarray(arr[1:],dtype='float32')\n",
        "  embeddings_index[single_word] = w\n",
        "file_.close()\n",
        "print(len(embeddings_index))"
      ],
      "metadata": {
        "colab": {
          "base_uri": "https://localhost:8080/"
        },
        "id": "ultUUZnCTiB9",
        "outputId": "5f3a8db8-411b-4f07-c988-c34916c1843b"
      },
      "execution_count": 23,
      "outputs": [
        {
          "output_type": "stream",
          "name": "stdout",
          "text": [
            "400000\n"
          ]
        }
      ]
    },
    {
      "cell_type": "code",
      "source": [
        "max = vocabulary + 1\n",
        "word_index =tokenizer.word_index\n",
        "embedding_mat = np.zeros((max, 100)).astype(object)\n",
        "for word, i in word_index.items():\n",
        "  embedding_vector = embeddings_index.get(word)\n",
        "  if embedding_vector is not None:\n",
        "    embedding_mat[i] = embedding_vector"
      ],
      "metadata": {
        "id": "QCKdsTHpVQLB"
      },
      "execution_count": 24,
      "outputs": []
    },
    {
      "cell_type": "markdown",
      "source": [
        "# **Model Architecture, Chatbot Test, Plotting and Training Model**"
      ],
      "metadata": {
        "id": "HX0UQEm71jO5"
      }
    },
    {
      "cell_type": "code",
      "source": [
        "def chatbot_test():\n",
        "  while True:\n",
        "    user_input = input(\"User: \").lower()\n",
        "    pattern_test=preprocess_text(user_input)\n",
        "    pattern_test = tokenizer.texts_to_sequences([pattern_test])\n",
        "    x_test = pad_sequences(pattern_test, x_train.shape[1])\n",
        "\n",
        "    prediction = model.predict(x_test)[0]\n",
        "    label = label_encode.inverse_transform([np.argmax(prediction)])[0]\n",
        "    response = data[data['tag'] == label]['responses'].values[0]\n",
        "    print(\"Label:\",label)\n",
        "    print(\"Chatbot: \", format(random.choice(response)))\n",
        "    if label=='goodbye' or label=='thanks':\n",
        "      break"
      ],
      "metadata": {
        "id": "mI_COKxZvEth"
      },
      "execution_count": 25,
      "outputs": []
    },
    {
      "cell_type": "code",
      "source": [
        "def plot_training_history(history):\n",
        "    # Plotting training accuracy\n",
        "    plt.subplot(1, 2, 1)\n",
        "    plt.plot(history.history['accuracy'], label='Train Accuracy', color='blue')\n",
        "    plt.plot(history.history['val_accuracy'], label='Validation Accuracy', color='green')\n",
        "    plt.legend(loc='lower right')\n",
        "    plt.title('Accuracy')\n",
        "    plt.ylim(0, 1.0)\n",
        "\n",
        "    # Plotting training loss\n",
        "    plt.subplot(1, 2, 2)\n",
        "    plt.plot(history.history['loss'], label='Train Loss', color='orange')\n",
        "    plt.plot(history.history['val_loss'], label='Validation Loss', color='yellow')\n",
        "    plt.legend(loc='upper right')\n",
        "    plt.title('Loss')\n",
        "    plt.ylim(0, 4.0)\n",
        "\n",
        "    # Display the plots\n",
        "    plt.show()\n"
      ],
      "metadata": {
        "id": "fi3Y0cX2ZhQp"
      },
      "execution_count": 26,
      "outputs": []
    },
    {
      "cell_type": "code",
      "source": [
        "model = tf.keras.Sequential([\n",
        "    tf.keras.layers.Embedding(input_length=x_train.shape[1], input_dim=vocabulary+1, output_dim = 100, mask_zero=True,\n",
        "                              weights=[embedding_mat], trainable=False),\n",
        "    tf.keras.layers.Dropout(0.2),\n",
        "\n",
        "    # tf.keras.layers.Bidirectional(tf.keras.layers.GRU(128, return_sequences=True)),\n",
        "    # tf.keras.layers.LayerNormalization(),\n",
        "    # tf.keras.layers.Dropout(0.2),\n",
        "    # tf.keras.layers.Bidirectional(tf.keras.layers.GRU(128, return_sequences=False)),\n",
        "    # tf.keras.layers.LayerNormalization(),\n",
        "    # tf.keras.layers.Dropout(0.2),\n",
        "\n",
        "    tf.keras.layers.GRU(128, return_sequences=True, reset_after=False),\n",
        "    tf.keras.layers.LayerNormalization(),\n",
        "    tf.keras.layers.Dropout(0.2),\n",
        "    tf.keras.layers.GRU(128, return_sequences=False, reset_after=False),\n",
        "    tf.keras.layers.LayerNormalization(),\n",
        "    tf.keras.layers.Dropout(0.2),\n",
        "\n",
        "\n",
        "    tf.keras.layers.Dense(256, activation='relu'),\n",
        "    tf.keras.layers.LayerNormalization(),\n",
        "    tf.keras.layers.Dense(128, activation='relu'),\n",
        "    tf.keras.layers.Dropout(0.2),\n",
        "    tf.keras.layers.LayerNormalization(),\n",
        "    tf.keras.layers.Dense(len(np.unique(x_label)), activation='softmax')\n",
        "])\n",
        "\n",
        "model.summary()\n",
        "model.compile(loss='sparse_categorical_crossentropy',optimizer='adam',metrics=['accuracy'])\n"
      ],
      "metadata": {
        "id": "dFbuz9mcIrc4",
        "colab": {
          "base_uri": "https://localhost:8080/"
        },
        "outputId": "a15bf0c1-eef4-4e3a-f016-ac5ba05f468a"
      },
      "execution_count": 32,
      "outputs": [
        {
          "output_type": "stream",
          "name": "stdout",
          "text": [
            "Model: \"sequential_1\"\n",
            "_________________________________________________________________\n",
            " Layer (type)                Output Shape              Param #   \n",
            "=================================================================\n",
            " embedding_1 (Embedding)     (None, 12, 100)           1876500   \n",
            "                                                                 \n",
            " dropout_4 (Dropout)         (None, 12, 100)           0         \n",
            "                                                                 \n",
            " gru_2 (GRU)                 (None, 12, 128)           87936     \n",
            "                                                                 \n",
            " layer_normalization_4 (Lay  (None, 12, 128)           256       \n",
            " erNormalization)                                                \n",
            "                                                                 \n",
            " dropout_5 (Dropout)         (None, 12, 128)           0         \n",
            "                                                                 \n",
            " gru_3 (GRU)                 (None, 128)               98688     \n",
            "                                                                 \n",
            " layer_normalization_5 (Lay  (None, 128)               256       \n",
            " erNormalization)                                                \n",
            "                                                                 \n",
            " dropout_6 (Dropout)         (None, 128)               0         \n",
            "                                                                 \n",
            " dense_3 (Dense)             (None, 256)               33024     \n",
            "                                                                 \n",
            " layer_normalization_6 (Lay  (None, 256)               512       \n",
            " erNormalization)                                                \n",
            "                                                                 \n",
            " dense_4 (Dense)             (None, 128)               32896     \n",
            "                                                                 \n",
            " dropout_7 (Dropout)         (None, 128)               0         \n",
            "                                                                 \n",
            " layer_normalization_7 (Lay  (None, 128)               256       \n",
            " erNormalization)                                                \n",
            "                                                                 \n",
            " dense_5 (Dense)             (None, 75)                9675      \n",
            "                                                                 \n",
            "=================================================================\n",
            "Total params: 2139999 (8.16 MB)\n",
            "Trainable params: 263499 (1.01 MB)\n",
            "Non-trainable params: 1876500 (7.16 MB)\n",
            "_________________________________________________________________\n"
          ]
        }
      ]
    },
    {
      "cell_type": "code",
      "source": [
        "# Callback function to stop training when the accuracy is above 90%\n",
        "# and validation accuracy above 90%\n",
        "class MyCallback(tf.keras.callbacks.Callback):\n",
        "    def on_epoch_end(self, epoch, logs={}):\n",
        "        if logs.get('accuracy') > 0.9 and logs.get('val_accuracy') > 0.8:\n",
        "            self.model.stop_training = True"
      ],
      "metadata": {
        "id": "snIIzuDlpXkk"
      },
      "execution_count": 28,
      "outputs": []
    },
    {
      "cell_type": "code",
      "source": [
        "history = model.fit(x_train, x_label, validation_data=(y_train, y_label),\n",
        "                    batch_size=32, epochs=1000, callbacks=[MyCallback()])"
      ],
      "metadata": {
        "id": "rwJXZ4ExI3-g",
        "colab": {
          "base_uri": "https://localhost:8080/"
        },
        "outputId": "73fe8263-ebbc-41e4-b5a7-c3477c38d37f"
      },
      "execution_count": 33,
      "outputs": [
        {
          "output_type": "stream",
          "name": "stdout",
          "text": [
            "Epoch 1/1000\n",
            "7/7 [==============================] - 8s 204ms/step - loss: 4.7539 - accuracy: 0.0184 - val_loss: 3.9654 - val_accuracy: 0.0776\n",
            "Epoch 2/1000\n",
            "7/7 [==============================] - 1s 100ms/step - loss: 4.0306 - accuracy: 0.1014 - val_loss: 3.3747 - val_accuracy: 0.2069\n",
            "Epoch 3/1000\n",
            "7/7 [==============================] - 1s 133ms/step - loss: 3.6776 - accuracy: 0.1567 - val_loss: 3.0052 - val_accuracy: 0.3017\n",
            "Epoch 4/1000\n",
            "7/7 [==============================] - 1s 126ms/step - loss: 3.3850 - accuracy: 0.1935 - val_loss: 2.6437 - val_accuracy: 0.3362\n",
            "Epoch 5/1000\n",
            "7/7 [==============================] - 1s 126ms/step - loss: 3.0154 - accuracy: 0.2765 - val_loss: 2.3699 - val_accuracy: 0.4483\n",
            "Epoch 6/1000\n",
            "7/7 [==============================] - 1s 114ms/step - loss: 2.7775 - accuracy: 0.3594 - val_loss: 2.1447 - val_accuracy: 0.4483\n",
            "Epoch 7/1000\n",
            "7/7 [==============================] - 0s 68ms/step - loss: 2.5754 - accuracy: 0.4194 - val_loss: 1.9638 - val_accuracy: 0.4914\n",
            "Epoch 8/1000\n",
            "7/7 [==============================] - 0s 72ms/step - loss: 2.4412 - accuracy: 0.4101 - val_loss: 1.7700 - val_accuracy: 0.5517\n",
            "Epoch 9/1000\n",
            "7/7 [==============================] - 0s 70ms/step - loss: 2.2192 - accuracy: 0.4931 - val_loss: 1.6520 - val_accuracy: 0.5862\n",
            "Epoch 10/1000\n",
            "7/7 [==============================] - 0s 70ms/step - loss: 2.0957 - accuracy: 0.4931 - val_loss: 1.5306 - val_accuracy: 0.5948\n",
            "Epoch 11/1000\n",
            "7/7 [==============================] - 0s 68ms/step - loss: 1.9676 - accuracy: 0.5023 - val_loss: 1.4277 - val_accuracy: 0.6121\n",
            "Epoch 12/1000\n",
            "7/7 [==============================] - 0s 73ms/step - loss: 1.8022 - accuracy: 0.5438 - val_loss: 1.3036 - val_accuracy: 0.6638\n",
            "Epoch 13/1000\n",
            "7/7 [==============================] - 0s 71ms/step - loss: 1.6991 - accuracy: 0.5806 - val_loss: 1.2371 - val_accuracy: 0.6638\n",
            "Epoch 14/1000\n",
            "7/7 [==============================] - 1s 79ms/step - loss: 1.6132 - accuracy: 0.6221 - val_loss: 1.1570 - val_accuracy: 0.6724\n",
            "Epoch 15/1000\n",
            "7/7 [==============================] - 0s 70ms/step - loss: 1.6105 - accuracy: 0.6083 - val_loss: 1.0745 - val_accuracy: 0.6897\n",
            "Epoch 16/1000\n",
            "7/7 [==============================] - 0s 71ms/step - loss: 1.5115 - accuracy: 0.5945 - val_loss: 1.0103 - val_accuracy: 0.6897\n",
            "Epoch 17/1000\n",
            "7/7 [==============================] - 0s 67ms/step - loss: 1.4184 - accuracy: 0.6682 - val_loss: 1.0061 - val_accuracy: 0.7241\n",
            "Epoch 18/1000\n",
            "7/7 [==============================] - 0s 72ms/step - loss: 1.3647 - accuracy: 0.6359 - val_loss: 0.9805 - val_accuracy: 0.7155\n",
            "Epoch 19/1000\n",
            "7/7 [==============================] - 0s 69ms/step - loss: 1.2765 - accuracy: 0.6682 - val_loss: 0.8888 - val_accuracy: 0.7414\n",
            "Epoch 20/1000\n",
            "7/7 [==============================] - 0s 73ms/step - loss: 1.2005 - accuracy: 0.6959 - val_loss: 0.8691 - val_accuracy: 0.7500\n",
            "Epoch 21/1000\n",
            "7/7 [==============================] - 0s 72ms/step - loss: 1.1788 - accuracy: 0.7189 - val_loss: 0.8808 - val_accuracy: 0.7500\n",
            "Epoch 22/1000\n",
            "7/7 [==============================] - 0s 73ms/step - loss: 1.0782 - accuracy: 0.7650 - val_loss: 0.8463 - val_accuracy: 0.7414\n",
            "Epoch 23/1000\n",
            "7/7 [==============================] - 0s 70ms/step - loss: 1.0742 - accuracy: 0.7097 - val_loss: 0.8285 - val_accuracy: 0.7414\n",
            "Epoch 24/1000\n",
            "7/7 [==============================] - 0s 72ms/step - loss: 1.0474 - accuracy: 0.7097 - val_loss: 0.8273 - val_accuracy: 0.7586\n",
            "Epoch 25/1000\n",
            "7/7 [==============================] - 0s 68ms/step - loss: 0.9882 - accuracy: 0.7327 - val_loss: 0.8017 - val_accuracy: 0.7414\n",
            "Epoch 26/1000\n",
            "7/7 [==============================] - 0s 70ms/step - loss: 0.8878 - accuracy: 0.7650 - val_loss: 0.7447 - val_accuracy: 0.7759\n",
            "Epoch 27/1000\n",
            "7/7 [==============================] - 1s 106ms/step - loss: 0.9185 - accuracy: 0.7373 - val_loss: 0.7212 - val_accuracy: 0.7672\n",
            "Epoch 28/1000\n",
            "7/7 [==============================] - 1s 115ms/step - loss: 0.8893 - accuracy: 0.7650 - val_loss: 0.7323 - val_accuracy: 0.7586\n",
            "Epoch 29/1000\n",
            "7/7 [==============================] - 1s 126ms/step - loss: 0.8339 - accuracy: 0.7880 - val_loss: 0.7164 - val_accuracy: 0.7759\n",
            "Epoch 30/1000\n",
            "7/7 [==============================] - 1s 119ms/step - loss: 0.7584 - accuracy: 0.7972 - val_loss: 0.6950 - val_accuracy: 0.7845\n",
            "Epoch 31/1000\n",
            "7/7 [==============================] - 1s 120ms/step - loss: 0.8148 - accuracy: 0.7834 - val_loss: 0.6949 - val_accuracy: 0.7672\n",
            "Epoch 32/1000\n",
            "7/7 [==============================] - 1s 74ms/step - loss: 0.7735 - accuracy: 0.7788 - val_loss: 0.6832 - val_accuracy: 0.7931\n",
            "Epoch 33/1000\n",
            "7/7 [==============================] - 0s 69ms/step - loss: 0.7638 - accuracy: 0.8018 - val_loss: 0.6963 - val_accuracy: 0.7845\n",
            "Epoch 34/1000\n",
            "7/7 [==============================] - 0s 72ms/step - loss: 0.7411 - accuracy: 0.7650 - val_loss: 0.6871 - val_accuracy: 0.7845\n",
            "Epoch 35/1000\n",
            "7/7 [==============================] - 0s 69ms/step - loss: 0.6672 - accuracy: 0.8065 - val_loss: 0.6818 - val_accuracy: 0.7586\n",
            "Epoch 36/1000\n",
            "7/7 [==============================] - 0s 73ms/step - loss: 0.6675 - accuracy: 0.8065 - val_loss: 0.6688 - val_accuracy: 0.7586\n",
            "Epoch 37/1000\n",
            "7/7 [==============================] - 0s 71ms/step - loss: 0.6742 - accuracy: 0.8111 - val_loss: 0.6822 - val_accuracy: 0.7672\n",
            "Epoch 38/1000\n",
            "7/7 [==============================] - 0s 74ms/step - loss: 0.6371 - accuracy: 0.8018 - val_loss: 0.6643 - val_accuracy: 0.7845\n",
            "Epoch 39/1000\n",
            "7/7 [==============================] - 0s 70ms/step - loss: 0.6420 - accuracy: 0.8111 - val_loss: 0.6988 - val_accuracy: 0.7759\n",
            "Epoch 40/1000\n",
            "7/7 [==============================] - 0s 72ms/step - loss: 0.6591 - accuracy: 0.8018 - val_loss: 0.6662 - val_accuracy: 0.7759\n",
            "Epoch 41/1000\n",
            "7/7 [==============================] - 0s 73ms/step - loss: 0.5989 - accuracy: 0.8295 - val_loss: 0.6642 - val_accuracy: 0.7759\n",
            "Epoch 42/1000\n",
            "7/7 [==============================] - 0s 69ms/step - loss: 0.6029 - accuracy: 0.8018 - val_loss: 0.6563 - val_accuracy: 0.7845\n",
            "Epoch 43/1000\n",
            "7/7 [==============================] - 0s 67ms/step - loss: 0.6465 - accuracy: 0.7926 - val_loss: 0.6669 - val_accuracy: 0.7845\n",
            "Epoch 44/1000\n",
            "7/7 [==============================] - 1s 85ms/step - loss: 0.6609 - accuracy: 0.7834 - val_loss: 0.6889 - val_accuracy: 0.7845\n",
            "Epoch 45/1000\n",
            "7/7 [==============================] - 0s 71ms/step - loss: 0.5963 - accuracy: 0.7926 - val_loss: 0.6946 - val_accuracy: 0.7672\n",
            "Epoch 46/1000\n",
            "7/7 [==============================] - 1s 85ms/step - loss: 0.5387 - accuracy: 0.8295 - val_loss: 0.6768 - val_accuracy: 0.8017\n",
            "Epoch 47/1000\n",
            "7/7 [==============================] - 0s 68ms/step - loss: 0.5342 - accuracy: 0.8571 - val_loss: 0.6805 - val_accuracy: 0.7672\n",
            "Epoch 48/1000\n",
            "7/7 [==============================] - 1s 86ms/step - loss: 0.5719 - accuracy: 0.8341 - val_loss: 0.6685 - val_accuracy: 0.7931\n",
            "Epoch 49/1000\n",
            "7/7 [==============================] - 0s 68ms/step - loss: 0.5676 - accuracy: 0.8341 - val_loss: 0.6840 - val_accuracy: 0.7931\n",
            "Epoch 50/1000\n",
            "7/7 [==============================] - 0s 74ms/step - loss: 0.5993 - accuracy: 0.7972 - val_loss: 0.6783 - val_accuracy: 0.8103\n",
            "Epoch 51/1000\n",
            "7/7 [==============================] - 0s 69ms/step - loss: 0.5142 - accuracy: 0.8479 - val_loss: 0.6754 - val_accuracy: 0.8190\n",
            "Epoch 52/1000\n",
            "7/7 [==============================] - 1s 108ms/step - loss: 0.4907 - accuracy: 0.8664 - val_loss: 0.6544 - val_accuracy: 0.8017\n",
            "Epoch 53/1000\n",
            "7/7 [==============================] - 1s 124ms/step - loss: 0.5419 - accuracy: 0.8018 - val_loss: 0.6592 - val_accuracy: 0.8103\n",
            "Epoch 54/1000\n",
            "7/7 [==============================] - 1s 132ms/step - loss: 0.5070 - accuracy: 0.8249 - val_loss: 0.6748 - val_accuracy: 0.7931\n",
            "Epoch 55/1000\n",
            "7/7 [==============================] - 1s 113ms/step - loss: 0.5421 - accuracy: 0.8111 - val_loss: 0.6571 - val_accuracy: 0.8103\n",
            "Epoch 56/1000\n",
            "7/7 [==============================] - 1s 123ms/step - loss: 0.5082 - accuracy: 0.8157 - val_loss: 0.6729 - val_accuracy: 0.7931\n",
            "Epoch 57/1000\n",
            "7/7 [==============================] - 0s 66ms/step - loss: 0.5206 - accuracy: 0.8387 - val_loss: 0.6498 - val_accuracy: 0.8103\n",
            "Epoch 58/1000\n",
            "7/7 [==============================] - 0s 67ms/step - loss: 0.4778 - accuracy: 0.8295 - val_loss: 0.6506 - val_accuracy: 0.8017\n",
            "Epoch 59/1000\n",
            "7/7 [==============================] - 0s 69ms/step - loss: 0.5016 - accuracy: 0.8387 - val_loss: 0.6322 - val_accuracy: 0.8017\n",
            "Epoch 60/1000\n",
            "7/7 [==============================] - 0s 71ms/step - loss: 0.4897 - accuracy: 0.8341 - val_loss: 0.6414 - val_accuracy: 0.8276\n",
            "Epoch 61/1000\n",
            "7/7 [==============================] - 0s 70ms/step - loss: 0.4920 - accuracy: 0.8387 - val_loss: 0.6269 - val_accuracy: 0.8276\n",
            "Epoch 62/1000\n",
            "7/7 [==============================] - 0s 70ms/step - loss: 0.4953 - accuracy: 0.8203 - val_loss: 0.6386 - val_accuracy: 0.8103\n",
            "Epoch 63/1000\n",
            "7/7 [==============================] - 0s 70ms/step - loss: 0.4940 - accuracy: 0.8341 - val_loss: 0.6525 - val_accuracy: 0.8190\n",
            "Epoch 64/1000\n",
            "7/7 [==============================] - 1s 80ms/step - loss: 0.4554 - accuracy: 0.8571 - val_loss: 0.6526 - val_accuracy: 0.8103\n",
            "Epoch 65/1000\n",
            "7/7 [==============================] - 0s 70ms/step - loss: 0.3993 - accuracy: 0.8710 - val_loss: 0.6634 - val_accuracy: 0.8103\n",
            "Epoch 66/1000\n",
            "7/7 [==============================] - 0s 72ms/step - loss: 0.4619 - accuracy: 0.8157 - val_loss: 0.6559 - val_accuracy: 0.7845\n",
            "Epoch 67/1000\n",
            "7/7 [==============================] - 0s 68ms/step - loss: 0.4586 - accuracy: 0.8756 - val_loss: 0.6364 - val_accuracy: 0.8017\n",
            "Epoch 68/1000\n",
            "7/7 [==============================] - 0s 67ms/step - loss: 0.4848 - accuracy: 0.8479 - val_loss: 0.6202 - val_accuracy: 0.8276\n",
            "Epoch 69/1000\n",
            "7/7 [==============================] - 0s 69ms/step - loss: 0.4364 - accuracy: 0.8341 - val_loss: 0.6182 - val_accuracy: 0.8276\n",
            "Epoch 70/1000\n",
            "7/7 [==============================] - 0s 68ms/step - loss: 0.3996 - accuracy: 0.8710 - val_loss: 0.6345 - val_accuracy: 0.8190\n",
            "Epoch 71/1000\n",
            "7/7 [==============================] - 0s 72ms/step - loss: 0.4582 - accuracy: 0.8341 - val_loss: 0.6356 - val_accuracy: 0.8362\n",
            "Epoch 72/1000\n",
            "7/7 [==============================] - 0s 64ms/step - loss: 0.4108 - accuracy: 0.8479 - val_loss: 0.6250 - val_accuracy: 0.8362\n",
            "Epoch 73/1000\n",
            "7/7 [==============================] - 0s 71ms/step - loss: 0.4084 - accuracy: 0.8249 - val_loss: 0.6351 - val_accuracy: 0.8362\n",
            "Epoch 74/1000\n",
            "7/7 [==============================] - 0s 69ms/step - loss: 0.3943 - accuracy: 0.8525 - val_loss: 0.6310 - val_accuracy: 0.8448\n",
            "Epoch 75/1000\n",
            "7/7 [==============================] - 0s 73ms/step - loss: 0.3731 - accuracy: 0.8571 - val_loss: 0.6491 - val_accuracy: 0.8276\n",
            "Epoch 76/1000\n",
            "7/7 [==============================] - 0s 73ms/step - loss: 0.3880 - accuracy: 0.8756 - val_loss: 0.6374 - val_accuracy: 0.8276\n",
            "Epoch 77/1000\n",
            "7/7 [==============================] - 1s 94ms/step - loss: 0.4140 - accuracy: 0.8525 - val_loss: 0.6248 - val_accuracy: 0.8448\n",
            "Epoch 78/1000\n",
            "7/7 [==============================] - 1s 115ms/step - loss: 0.4096 - accuracy: 0.8479 - val_loss: 0.6085 - val_accuracy: 0.8534\n",
            "Epoch 79/1000\n",
            "7/7 [==============================] - 1s 126ms/step - loss: 0.3615 - accuracy: 0.8802 - val_loss: 0.6341 - val_accuracy: 0.8276\n",
            "Epoch 80/1000\n",
            "7/7 [==============================] - 1s 129ms/step - loss: 0.3638 - accuracy: 0.8710 - val_loss: 0.6383 - val_accuracy: 0.8362\n",
            "Epoch 81/1000\n",
            "7/7 [==============================] - 1s 125ms/step - loss: 0.3950 - accuracy: 0.8710 - val_loss: 0.6265 - val_accuracy: 0.8362\n",
            "Epoch 82/1000\n",
            "7/7 [==============================] - 0s 68ms/step - loss: 0.3730 - accuracy: 0.8664 - val_loss: 0.6341 - val_accuracy: 0.8534\n",
            "Epoch 83/1000\n",
            "7/7 [==============================] - 0s 73ms/step - loss: 0.3913 - accuracy: 0.8571 - val_loss: 0.6422 - val_accuracy: 0.8362\n",
            "Epoch 84/1000\n",
            "7/7 [==============================] - 0s 69ms/step - loss: 0.3773 - accuracy: 0.8571 - val_loss: 0.6615 - val_accuracy: 0.8276\n",
            "Epoch 85/1000\n",
            "7/7 [==============================] - 0s 72ms/step - loss: 0.3827 - accuracy: 0.8802 - val_loss: 0.6476 - val_accuracy: 0.8276\n",
            "Epoch 86/1000\n",
            "7/7 [==============================] - 0s 69ms/step - loss: 0.3863 - accuracy: 0.8664 - val_loss: 0.6290 - val_accuracy: 0.8448\n",
            "Epoch 87/1000\n",
            "7/7 [==============================] - 0s 71ms/step - loss: 0.3420 - accuracy: 0.8848 - val_loss: 0.6209 - val_accuracy: 0.8448\n",
            "Epoch 88/1000\n",
            "7/7 [==============================] - 0s 67ms/step - loss: 0.3741 - accuracy: 0.8664 - val_loss: 0.6120 - val_accuracy: 0.8276\n",
            "Epoch 89/1000\n",
            "7/7 [==============================] - 0s 72ms/step - loss: 0.3493 - accuracy: 0.8525 - val_loss: 0.6152 - val_accuracy: 0.8534\n",
            "Epoch 90/1000\n",
            "7/7 [==============================] - 0s 68ms/step - loss: 0.3588 - accuracy: 0.8848 - val_loss: 0.6156 - val_accuracy: 0.8534\n",
            "Epoch 91/1000\n",
            "7/7 [==============================] - 0s 72ms/step - loss: 0.3953 - accuracy: 0.8571 - val_loss: 0.5894 - val_accuracy: 0.8534\n",
            "Epoch 92/1000\n",
            "7/7 [==============================] - 0s 68ms/step - loss: 0.3545 - accuracy: 0.8756 - val_loss: 0.5792 - val_accuracy: 0.8362\n",
            "Epoch 93/1000\n",
            "7/7 [==============================] - 1s 82ms/step - loss: 0.3410 - accuracy: 0.8479 - val_loss: 0.6093 - val_accuracy: 0.8362\n",
            "Epoch 94/1000\n",
            "7/7 [==============================] - 0s 67ms/step - loss: 0.3511 - accuracy: 0.8710 - val_loss: 0.6251 - val_accuracy: 0.8362\n",
            "Epoch 95/1000\n",
            "7/7 [==============================] - 0s 71ms/step - loss: 0.3500 - accuracy: 0.8664 - val_loss: 0.6349 - val_accuracy: 0.8362\n",
            "Epoch 96/1000\n",
            "7/7 [==============================] - 0s 71ms/step - loss: 0.3343 - accuracy: 0.8756 - val_loss: 0.6064 - val_accuracy: 0.8448\n",
            "Epoch 97/1000\n",
            "7/7 [==============================] - 0s 69ms/step - loss: 0.3202 - accuracy: 0.8710 - val_loss: 0.6191 - val_accuracy: 0.8276\n",
            "Epoch 98/1000\n",
            "7/7 [==============================] - 0s 70ms/step - loss: 0.3383 - accuracy: 0.8618 - val_loss: 0.6278 - val_accuracy: 0.8362\n",
            "Epoch 99/1000\n",
            "7/7 [==============================] - 0s 68ms/step - loss: 0.3086 - accuracy: 0.8894 - val_loss: 0.6452 - val_accuracy: 0.8362\n",
            "Epoch 100/1000\n",
            "7/7 [==============================] - 0s 74ms/step - loss: 0.3206 - accuracy: 0.8894 - val_loss: 0.6434 - val_accuracy: 0.8362\n",
            "Epoch 101/1000\n",
            "7/7 [==============================] - 0s 72ms/step - loss: 0.3300 - accuracy: 0.8664 - val_loss: 0.6436 - val_accuracy: 0.8362\n",
            "Epoch 102/1000\n",
            "7/7 [==============================] - 1s 90ms/step - loss: 0.3685 - accuracy: 0.8710 - val_loss: 0.6464 - val_accuracy: 0.8448\n",
            "Epoch 103/1000\n",
            "7/7 [==============================] - 1s 131ms/step - loss: 0.3233 - accuracy: 0.8710 - val_loss: 0.6471 - val_accuracy: 0.8448\n",
            "Epoch 104/1000\n",
            "7/7 [==============================] - 1s 128ms/step - loss: 0.3089 - accuracy: 0.8848 - val_loss: 0.6582 - val_accuracy: 0.8362\n",
            "Epoch 105/1000\n",
            "7/7 [==============================] - 1s 132ms/step - loss: 0.2789 - accuracy: 0.8986 - val_loss: 0.6600 - val_accuracy: 0.8362\n",
            "Epoch 106/1000\n",
            "7/7 [==============================] - 1s 116ms/step - loss: 0.3108 - accuracy: 0.8710 - val_loss: 0.6614 - val_accuracy: 0.8276\n",
            "Epoch 107/1000\n",
            "7/7 [==============================] - 1s 74ms/step - loss: 0.3434 - accuracy: 0.8525 - val_loss: 0.6547 - val_accuracy: 0.8362\n",
            "Epoch 108/1000\n",
            "7/7 [==============================] - 0s 69ms/step - loss: 0.3065 - accuracy: 0.8756 - val_loss: 0.6515 - val_accuracy: 0.8276\n",
            "Epoch 109/1000\n",
            "7/7 [==============================] - 0s 73ms/step - loss: 0.3444 - accuracy: 0.8664 - val_loss: 0.6462 - val_accuracy: 0.8448\n",
            "Epoch 110/1000\n",
            "7/7 [==============================] - 0s 68ms/step - loss: 0.3368 - accuracy: 0.8756 - val_loss: 0.6470 - val_accuracy: 0.8448\n",
            "Epoch 111/1000\n",
            "7/7 [==============================] - 0s 67ms/step - loss: 0.3236 - accuracy: 0.8756 - val_loss: 0.6576 - val_accuracy: 0.8448\n",
            "Epoch 112/1000\n",
            "7/7 [==============================] - 0s 69ms/step - loss: 0.3079 - accuracy: 0.8894 - val_loss: 0.6627 - val_accuracy: 0.8448\n",
            "Epoch 113/1000\n",
            "7/7 [==============================] - 0s 66ms/step - loss: 0.3113 - accuracy: 0.8802 - val_loss: 0.6451 - val_accuracy: 0.8448\n",
            "Epoch 114/1000\n",
            "7/7 [==============================] - 0s 68ms/step - loss: 0.3192 - accuracy: 0.8940 - val_loss: 0.6515 - val_accuracy: 0.8362\n",
            "Epoch 115/1000\n",
            "7/7 [==============================] - 0s 70ms/step - loss: 0.3310 - accuracy: 0.8571 - val_loss: 0.6562 - val_accuracy: 0.8448\n",
            "Epoch 116/1000\n",
            "7/7 [==============================] - 1s 75ms/step - loss: 0.2881 - accuracy: 0.8802 - val_loss: 0.6686 - val_accuracy: 0.8276\n",
            "Epoch 117/1000\n",
            "7/7 [==============================] - 0s 69ms/step - loss: 0.3032 - accuracy: 0.8802 - val_loss: 0.6877 - val_accuracy: 0.8448\n",
            "Epoch 118/1000\n",
            "7/7 [==============================] - 0s 73ms/step - loss: 0.3209 - accuracy: 0.8756 - val_loss: 0.6693 - val_accuracy: 0.8448\n",
            "Epoch 119/1000\n",
            "7/7 [==============================] - 1s 71ms/step - loss: 0.2956 - accuracy: 0.8802 - val_loss: 0.6543 - val_accuracy: 0.8448\n",
            "Epoch 120/1000\n",
            "7/7 [==============================] - 1s 74ms/step - loss: 0.3329 - accuracy: 0.8525 - val_loss: 0.6553 - val_accuracy: 0.8362\n",
            "Epoch 121/1000\n",
            "7/7 [==============================] - 0s 69ms/step - loss: 0.3198 - accuracy: 0.8894 - val_loss: 0.6888 - val_accuracy: 0.8362\n",
            "Epoch 122/1000\n",
            "7/7 [==============================] - 0s 70ms/step - loss: 0.2998 - accuracy: 0.8894 - val_loss: 0.6991 - val_accuracy: 0.8276\n",
            "Epoch 123/1000\n",
            "7/7 [==============================] - 0s 71ms/step - loss: 0.2562 - accuracy: 0.9032 - val_loss: 0.6939 - val_accuracy: 0.8276\n"
          ]
        }
      ]
    },
    {
      "cell_type": "code",
      "source": [
        "plot_training_history(history)"
      ],
      "metadata": {
        "colab": {
          "base_uri": "https://localhost:8080/",
          "height": 452
        },
        "id": "CYQlO-jCoW9G",
        "outputId": "52baa666-043a-4ba0-9c2a-7608ca2e1777"
      },
      "execution_count": 34,
      "outputs": [
        {
          "output_type": "display_data",
          "data": {
            "text/plain": [
              "<Figure size 640x480 with 2 Axes>"
            ],
            "image/png": "[encoded data removed]"
          },
          "metadata": {}
        }
      ]
    },
    {
      "cell_type": "markdown",
      "source": [
        "# **Chatbot Testing**"
      ],
      "metadata": {
        "id": "zcjh1z3Y2SKf"
      }
    },
    {
      "cell_type": "code",
      "source": [
        "chatbot_test()"
      ],
      "metadata": {
        "id": "Zi8I7m0qLeCM",
        "colab": {
          "base_uri": "https://localhost:8080/"
        },
        "outputId": "f96921c7-d0d9-4152-86d0-9ca2be0f68ff"
      },
      "execution_count": 37,
      "outputs": [
        {
          "output_type": "stream",
          "name": "stdout",
          "text": [
            "User: halo\n",
            "1/1 [==============================] - 0s 29ms/step\n",
            "Label: greeting\n",
            "Chatbot:  Halo, senang melihat Anda kembali. Apa yang terjadi di duniamu sekarang?\n",
            "User: aku harus panggil kamu apa\n",
            "1/1 [==============================] - 0s 29ms/step\n",
            "Label: about\n",
            "Chatbot:  Kamu bisa memanggilku Pandora.\n",
            "User: kamu bisa ngapain aja\n",
            "1/1 [==============================] - 0s 30ms/step\n",
            "Label: skill\n",
            "Chatbot:  Saya dapat memberikan nasihat umum mengenai kecemasan dan depresi, menjawab pertanyaan terkait kesehatan mental, dan melakukan percakapan sehari-hari. Perlu diingat bahwa saya bukan sebagai pengganti ahli kesehatan mental.\n",
            "User: siapa yang menciptakanmu\n",
            "1/1 [==============================] - 0s 36ms/step\n",
            "Label: creation\n",
            "Chatbot:  Saya dilatih tentang kumpulan data teks menggunakan Deep Learning & Natural Language Processing techniques\n",
            "User: aku ingin belajar tentang kesehatan mental\n",
            "1/1 [==============================] - 0s 28ms/step\n",
            "Label: learn_mental_health\n",
            "Chatbot:  Oh itu sangat bagus. Saya bersedia menjawab apa pun yang saya tahu tentang kesehatan mental.\n",
            "User: berikan saya fakta mengenai kesehatan mental\n",
            "1/1 [==============================] - 0s 29ms/step\n",
            "Label: mental_health_fact\n",
            "Chatbot:  1 dari 5 anak muda (usia 13-18) memiliki atau akan mengembangkan penyakit mental dalam hidup mereka.\n",
            "User: apa itu depresi\n",
            "1/1 [==============================] - 0s 45ms/step\n",
            "Label: fact_3\n",
            "Chatbot:  Menurut UNICEF, depresi adalah kondisi kesehatan mental yang ditandai dengan perasaan sedih, putus asa, dan kehilangan minat pada kegiatan yang biasa dinikmati. Depresi dapat menyebabkan gangguan pada fungsi sehari-hari, seperti kesulitan tidur, gangguan nafsu makan, dan kesulitan berkonsentrasi.\n",
            "User: terima kasih atas waktunya\n",
            "1/1 [==============================] - 0s 30ms/step\n",
            "Label: thanks\n",
            "Chatbot:  Senang bisa membantu anda\n"
          ]
        }
      ]
    }
  ]
}