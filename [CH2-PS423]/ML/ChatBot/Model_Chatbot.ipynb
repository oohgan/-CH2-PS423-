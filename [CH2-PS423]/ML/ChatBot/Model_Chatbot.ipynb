{
  "nbformat": 4,
  "nbformat_minor": 0,
  "metadata": {
    "colab": {
      "provenance": [],
      "toc_visible": true
    },
    "kernelspec": {
      "name": "python3",
      "display_name": "Python 3"
    },
    "language_info": {
      "name": "python"
    }
  },
  "cells": [
    {
      "cell_type": "code",
      "execution_count": 1,
      "metadata": {
        "id": "9UoNwXjMtJ15"
      },
      "outputs": [],
      "source": [
        "import re\n",
        "import json\n",
        "import nltk\n",
        "import string\n",
        "import random\n",
        "import pathlib\n",
        "import numpy as np\n",
        "import pandas as pd\n",
        "import tensorflow as tf\n",
        "import matplotlib.pyplot as plt\n",
        "from sklearn.utils import shuffle"
      ]
    },
    {
      "cell_type": "code",
      "source": [
        "from nltk.corpus import stopwords\n",
        "from nltk.tokenize import word_tokenize\n",
        "from tensorflow.keras.models import Model\n",
        "from tensorflow.keras.utils import plot_model\n",
        "from sklearn.preprocessing import LabelEncoder\n",
        "from tensorflow.keras.preprocessing.text import Tokenizer\n",
        "from tensorflow.keras.preprocessing.sequence import pad_sequences"
      ],
      "metadata": {
        "id": "0gSyTq6fBs0v"
      },
      "execution_count": 2,
      "outputs": []
    },
    {
      "cell_type": "code",
      "source": [
        "nltk.download('punkt')"
      ],
      "metadata": {
        "colab": {
          "base_uri": "https://localhost:8080/"
        },
        "id": "FlLT0oQ0vXaj",
        "outputId": "776607df-a6d8-4860-c21f-6eabe79161e5"
      },
      "execution_count": 3,
      "outputs": [
        {
          "output_type": "stream",
          "name": "stderr",
          "text": [
            "[nltk_data] Downloading package punkt to /root/nltk_data...\n",
            "[nltk_data]   Package punkt is already up-to-date!\n"
          ]
        },
        {
          "output_type": "execute_result",
          "data": {
            "text/plain": [
              "True"
            ]
          },
          "metadata": {},
          "execution_count": 3
        }
      ]
    },
    {
      "cell_type": "markdown",
      "source": [
        "# **Preprocessing Teks**"
      ],
      "metadata": {
        "id": "3kv6tgLJzsQr"
      }
    },
    {
      "cell_type": "code",
      "source": [
        "replace = [\n",
        "    ['ibu', ['ibuku', 'mami', 'mama']],\n",
        "    ['ayah', ['ayahku', 'papa', 'daddy']],\n",
        "    ['saudara', ['adikku', 'adek', 'kakakku', 'koko', 'cece']],\n",
        "    ['teman', ['temanku']],\n",
        "    ['meninggal', ['mati']]\n",
        "]"
      ],
      "metadata": {
        "id": "D2CUiuNlhD8U"
      },
      "execution_count": 4,
      "outputs": []
    },
    {
      "cell_type": "code",
      "source": [
        "def preprocess_text(kalimat):\n",
        "  filtered = re.sub(r'[^\\w\\d\\s]', '', kalimat.lower())\n",
        "  words = word_tokenize(filtered)\n",
        "\n",
        "  clean_word = []\n",
        "  for word in words:\n",
        "    replaced = False\n",
        "    for replacement, target in replace:\n",
        "      if word in target:\n",
        "        clean_word.append(replacement)\n",
        "        replaced = True\n",
        "    if not replaced:\n",
        "      clean_word.append(word)\n",
        "\n",
        "  return ' '.join(clean_word)\n"
      ],
      "metadata": {
        "id": "w8ZXO43niDJy"
      },
      "execution_count": 5,
      "outputs": []
    },
    {
      "cell_type": "markdown",
      "source": [
        "# **Reading Train & Val Dataset**"
      ],
      "metadata": {
        "id": "PliDIa6Pz4Y5"
      }
    },
    {
      "cell_type": "code",
      "source": [
        "with open('/content/Mental Health Conversational.json', 'r') as content:\n",
        "  chatbot = json.load(content)\n",
        "data = pd.DataFrame(chatbot['intents'])"
      ],
      "metadata": {
        "id": "2mHdDoN2zhiK"
      },
      "execution_count": 6,
      "outputs": []
    },
    {
      "cell_type": "code",
      "source": [
        "dictionary = {\"tag\":[], \"patterns\":[], \"responses\":[]}\n",
        "for i in range (len(data)):\n",
        "  pattern = data[data.index==i]['patterns'].values[0]\n",
        "  response = data[data.index==i]['responses'].values[0]\n",
        "  tag = data[data.index==i]['tag'].values[0]\n",
        "  for j in range (len(pattern)):\n",
        "    dictionary['tag'].append(tag)\n",
        "    dictionary['patterns'].append(preprocess_text(pattern[j]))\n",
        "    dictionary['responses'].append(response)\n",
        "data = pd.DataFrame.from_dict(dictionary)\n",
        "data"
      ],
      "metadata": {
        "id": "DePlw14BxZ55",
        "colab": {
          "base_uri": "https://localhost:8080/",
          "height": 423
        },
        "outputId": "6824dfac-0414-4292-bc4f-5cd68614fa6c"
      },
      "execution_count": 7,
      "outputs": [
        {
          "output_type": "execute_result",
          "data": {
            "text/plain": [
              "          tag                                           patterns  \\\n",
              "0    greeting                                                hai   \n",
              "1    greeting                                               halo   \n",
              "2    greeting                                      hai apa kabar   \n",
              "3    greeting                                                 hi   \n",
              "4    greeting                                    assalamualaikum   \n",
              "..        ...                                                ...   \n",
              "212   fact_28  bagaimana saya bisa menjaga hubungan sosial ba...   \n",
              "213   fact_29          apa perbedaan antara kecemasan dan stress   \n",
              "214   fact_29                     perbedaan kecemasan dan stress   \n",
              "215   fact_30         apa perbedaan antara kesedihan dan depresi   \n",
              "216   fact_30             perbedaan antara kesedihan dan depresi   \n",
              "\n",
              "                                             responses  \n",
              "0    [Halo! Selamat bertemu denganmu. Bagaimana kab...  \n",
              "1    [Halo! Selamat bertemu denganmu. Bagaimana kab...  \n",
              "2    [Halo! Selamat bertemu denganmu. Bagaimana kab...  \n",
              "3    [Halo! Selamat bertemu denganmu. Bagaimana kab...  \n",
              "4    [Halo! Selamat bertemu denganmu. Bagaimana kab...  \n",
              "..                                                 ...  \n",
              "212  [Banyak orang yang sendirian saat ini, tapi ki...  \n",
              "213  [Stres dan kecemasan sering digunakan secara b...  \n",
              "214  [Stres dan kecemasan sering digunakan secara b...  \n",
              "215  [Kesedihan merupakan reaksi normal terhadap ke...  \n",
              "216  [Kesedihan merupakan reaksi normal terhadap ke...  \n",
              "\n",
              "[217 rows x 3 columns]"
            ],
            "text/html": [
              "\n",
              "  <div id=\"df-de2f2003-dcc0-498c-b0b9-1c4bcb5b1923\" class=\"colab-df-container\">\n",
              "    <div>\n",
              "<style scoped>\n",
              "    .dataframe tbody tr th:only-of-type {\n",
              "        vertical-align: middle;\n",
              "    }\n",
              "\n",
              "    .dataframe tbody tr th {\n",
              "        vertical-align: top;\n",
              "    }\n",
              "\n",
              "    .dataframe thead th {\n",
              "        text-align: right;\n",
              "    }\n",
              "</style>\n",
              "<table border=\"1\" class=\"dataframe\">\n",
              "  <thead>\n",
              "    <tr style=\"text-align: right;\">\n",
              "      <th></th>\n",
              "      <th>tag</th>\n",
              "      <th>patterns</th>\n",
              "      <th>responses</th>\n",
              "    </tr>\n",
              "  </thead>\n",
              "  <tbody>\n",
              "    <tr>\n",
              "      <th>0</th>\n",
              "      <td>greeting</td>\n",
              "      <td>hai</td>\n",
              "      <td>[Halo! Selamat bertemu denganmu. Bagaimana kab...</td>\n",
              "    </tr>\n",
              "    <tr>\n",
              "      <th>1</th>\n",
              "      <td>greeting</td>\n",
              "      <td>halo</td>\n",
              "      <td>[Halo! Selamat bertemu denganmu. Bagaimana kab...</td>\n",
              "    </tr>\n",
              "    <tr>\n",
              "      <th>2</th>\n",
              "      <td>greeting</td>\n",
              "      <td>hai apa kabar</td>\n",
              "      <td>[Halo! Selamat bertemu denganmu. Bagaimana kab...</td>\n",
              "    </tr>\n",
              "    <tr>\n",
              "      <th>3</th>\n",
              "      <td>greeting</td>\n",
              "      <td>hi</td>\n",
              "      <td>[Halo! Selamat bertemu denganmu. Bagaimana kab...</td>\n",
              "    </tr>\n",
              "    <tr>\n",
              "      <th>4</th>\n",
              "      <td>greeting</td>\n",
              "      <td>assalamualaikum</td>\n",
              "      <td>[Halo! Selamat bertemu denganmu. Bagaimana kab...</td>\n",
              "    </tr>\n",
              "    <tr>\n",
              "      <th>...</th>\n",
              "      <td>...</td>\n",
              "      <td>...</td>\n",
              "      <td>...</td>\n",
              "    </tr>\n",
              "    <tr>\n",
              "      <th>212</th>\n",
              "      <td>fact_28</td>\n",
              "      <td>bagaimana saya bisa menjaga hubungan sosial ba...</td>\n",
              "      <td>[Banyak orang yang sendirian saat ini, tapi ki...</td>\n",
              "    </tr>\n",
              "    <tr>\n",
              "      <th>213</th>\n",
              "      <td>fact_29</td>\n",
              "      <td>apa perbedaan antara kecemasan dan stress</td>\n",
              "      <td>[Stres dan kecemasan sering digunakan secara b...</td>\n",
              "    </tr>\n",
              "    <tr>\n",
              "      <th>214</th>\n",
              "      <td>fact_29</td>\n",
              "      <td>perbedaan kecemasan dan stress</td>\n",
              "      <td>[Stres dan kecemasan sering digunakan secara b...</td>\n",
              "    </tr>\n",
              "    <tr>\n",
              "      <th>215</th>\n",
              "      <td>fact_30</td>\n",
              "      <td>apa perbedaan antara kesedihan dan depresi</td>\n",
              "      <td>[Kesedihan merupakan reaksi normal terhadap ke...</td>\n",
              "    </tr>\n",
              "    <tr>\n",
              "      <th>216</th>\n",
              "      <td>fact_30</td>\n",
              "      <td>perbedaan antara kesedihan dan depresi</td>\n",
              "      <td>[Kesedihan merupakan reaksi normal terhadap ke...</td>\n",
              "    </tr>\n",
              "  </tbody>\n",
              "</table>\n",
              "<p>217 rows × 3 columns</p>\n",
              "</div>\n",
              "    <div class=\"colab-df-buttons\">\n",
              "\n",
              "  <div class=\"colab-df-container\">\n",
              "    <button class=\"colab-df-convert\" onclick=\"convertToInteractive('df-de2f2003-dcc0-498c-b0b9-1c4bcb5b1923')\"\n",
              "            title=\"Convert this dataframe to an interactive table.\"\n",
              "            style=\"display:none;\">\n",
              "\n",
              "  <svg xmlns=\"http://www.w3.org/2000/svg\" height=\"24px\" viewBox=\"0 -960 960 960\">\n",
              "    <path d=\"M120-120v-720h720v720H120Zm60-500h600v-160H180v160Zm220 220h160v-160H400v160Zm0 220h160v-160H400v160ZM180-400h160v-160H180v160Zm440 0h160v-160H620v160ZM180-180h160v-160H180v160Zm440 0h160v-160H620v160Z\"/>\n",
              "  </svg>\n",
              "    </button>\n",
              "\n",
              "  <style>\n",
              "    .colab-df-container {\n",
              "      display:flex;\n",
              "      gap: 12px;\n",
              "    }\n",
              "\n",
              "    .colab-df-convert {\n",
              "      background-color: #E8F0FE;\n",
              "      border: none;\n",
              "      border-radius: 50%;\n",
              "      cursor: pointer;\n",
              "      display: none;\n",
              "      fill: #1967D2;\n",
              "      height: 32px;\n",
              "      padding: 0 0 0 0;\n",
              "      width: 32px;\n",
              "    }\n",
              "\n",
              "    .colab-df-convert:hover {\n",
              "      background-color: #E2EBFA;\n",
              "      box-shadow: 0px 1px 2px rgba(60, 64, 67, 0.3), 0px 1px 3px 1px rgba(60, 64, 67, 0.15);\n",
              "      fill: #174EA6;\n",
              "    }\n",
              "\n",
              "    .colab-df-buttons div {\n",
              "      margin-bottom: 4px;\n",
              "    }\n",
              "\n",
              "    [theme=dark] .colab-df-convert {\n",
              "      background-color: #3B4455;\n",
              "      fill: #D2E3FC;\n",
              "    }\n",
              "\n",
              "    [theme=dark] .colab-df-convert:hover {\n",
              "      background-color: #434B5C;\n",
              "      box-shadow: 0px 1px 3px 1px rgba(0, 0, 0, 0.15);\n",
              "      filter: drop-shadow(0px 1px 2px rgba(0, 0, 0, 0.3));\n",
              "      fill: #FFFFFF;\n",
              "    }\n",
              "  </style>\n",
              "\n",
              "    <script>\n",
              "      const buttonEl =\n",
              "        document.querySelector('#df-de2f2003-dcc0-498c-b0b9-1c4bcb5b1923 button.colab-df-convert');\n",
              "      buttonEl.style.display =\n",
              "        google.colab.kernel.accessAllowed ? 'block' : 'none';\n",
              "\n",
              "      async function convertToInteractive(key) {\n",
              "        const element = document.querySelector('#df-de2f2003-dcc0-498c-b0b9-1c4bcb5b1923');\n",
              "        const dataTable =\n",
              "          await google.colab.kernel.invokeFunction('convertToInteractive',\n",
              "                                                    [key], {});\n",
              "        if (!dataTable) return;\n",
              "\n",
              "        const docLinkHtml = 'Like what you see? Visit the ' +\n",
              "          '<a target=\"_blank\" href=https://colab.research.google.com/notebooks/data_table.ipynb>data table notebook</a>'\n",
              "          + ' to learn more about interactive tables.';\n",
              "        element.innerHTML = '';\n",
              "        dataTable['output_type'] = 'display_data';\n",
              "        await google.colab.output.renderOutput(dataTable, element);\n",
              "        const docLink = document.createElement('div');\n",
              "        docLink.innerHTML = docLinkHtml;\n",
              "        element.appendChild(docLink);\n",
              "      }\n",
              "    </script>\n",
              "  </div>\n",
              "\n",
              "\n",
              "<div id=\"df-9758fd4a-61a1-48bf-9406-fe5b290da245\">\n",
              "  <button class=\"colab-df-quickchart\" onclick=\"quickchart('df-9758fd4a-61a1-48bf-9406-fe5b290da245')\"\n",
              "            title=\"Suggest charts\"\n",
              "            style=\"display:none;\">\n",
              "\n",
              "<svg xmlns=\"http://www.w3.org/2000/svg\" height=\"24px\"viewBox=\"0 0 24 24\"\n",
              "     width=\"24px\">\n",
              "    <g>\n",
              "        <path d=\"M19 3H5c-1.1 0-2 .9-2 2v14c0 1.1.9 2 2 2h14c1.1 0 2-.9 2-2V5c0-1.1-.9-2-2-2zM9 17H7v-7h2v7zm4 0h-2V7h2v10zm4 0h-2v-4h2v4z\"/>\n",
              "    </g>\n",
              "</svg>\n",
              "  </button>\n",
              "\n",
              "<style>\n",
              "  .colab-df-quickchart {\n",
              "      --bg-color: #E8F0FE;\n",
              "      --fill-color: #1967D2;\n",
              "      --hover-bg-color: #E2EBFA;\n",
              "      --hover-fill-color: #174EA6;\n",
              "      --disabled-fill-color: #AAA;\n",
              "      --disabled-bg-color: #DDD;\n",
              "  }\n",
              "\n",
              "  [theme=dark] .colab-df-quickchart {\n",
              "      --bg-color: #3B4455;\n",
              "      --fill-color: #D2E3FC;\n",
              "      --hover-bg-color: #434B5C;\n",
              "      --hover-fill-color: #FFFFFF;\n",
              "      --disabled-bg-color: #3B4455;\n",
              "      --disabled-fill-color: #666;\n",
              "  }\n",
              "\n",
              "  .colab-df-quickchart {\n",
              "    background-color: var(--bg-color);\n",
              "    border: none;\n",
              "    border-radius: 50%;\n",
              "    cursor: pointer;\n",
              "    display: none;\n",
              "    fill: var(--fill-color);\n",
              "    height: 32px;\n",
              "    padding: 0;\n",
              "    width: 32px;\n",
              "  }\n",
              "\n",
              "  .colab-df-quickchart:hover {\n",
              "    background-color: var(--hover-bg-color);\n",
              "    box-shadow: 0 1px 2px rgba(60, 64, 67, 0.3), 0 1px 3px 1px rgba(60, 64, 67, 0.15);\n",
              "    fill: var(--button-hover-fill-color);\n",
              "  }\n",
              "\n",
              "  .colab-df-quickchart-complete:disabled,\n",
              "  .colab-df-quickchart-complete:disabled:hover {\n",
              "    background-color: var(--disabled-bg-color);\n",
              "    fill: var(--disabled-fill-color);\n",
              "    box-shadow: none;\n",
              "  }\n",
              "\n",
              "  .colab-df-spinner {\n",
              "    border: 2px solid var(--fill-color);\n",
              "    border-color: transparent;\n",
              "    border-bottom-color: var(--fill-color);\n",
              "    animation:\n",
              "      spin 1s steps(1) infinite;\n",
              "  }\n",
              "\n",
              "  @keyframes spin {\n",
              "    0% {\n",
              "      border-color: transparent;\n",
              "      border-bottom-color: var(--fill-color);\n",
              "      border-left-color: var(--fill-color);\n",
              "    }\n",
              "    20% {\n",
              "      border-color: transparent;\n",
              "      border-left-color: var(--fill-color);\n",
              "      border-top-color: var(--fill-color);\n",
              "    }\n",
              "    30% {\n",
              "      border-color: transparent;\n",
              "      border-left-color: var(--fill-color);\n",
              "      border-top-color: var(--fill-color);\n",
              "      border-right-color: var(--fill-color);\n",
              "    }\n",
              "    40% {\n",
              "      border-color: transparent;\n",
              "      border-right-color: var(--fill-color);\n",
              "      border-top-color: var(--fill-color);\n",
              "    }\n",
              "    60% {\n",
              "      border-color: transparent;\n",
              "      border-right-color: var(--fill-color);\n",
              "    }\n",
              "    80% {\n",
              "      border-color: transparent;\n",
              "      border-right-color: var(--fill-color);\n",
              "      border-bottom-color: var(--fill-color);\n",
              "    }\n",
              "    90% {\n",
              "      border-color: transparent;\n",
              "      border-bottom-color: var(--fill-color);\n",
              "    }\n",
              "  }\n",
              "</style>\n",
              "\n",
              "  <script>\n",
              "    async function quickchart(key) {\n",
              "      const quickchartButtonEl =\n",
              "        document.querySelector('#' + key + ' button');\n",
              "      quickchartButtonEl.disabled = true;  // To prevent multiple clicks.\n",
              "      quickchartButtonEl.classList.add('colab-df-spinner');\n",
              "      try {\n",
              "        const charts = await google.colab.kernel.invokeFunction(\n",
              "            'suggestCharts', [key], {});\n",
              "      } catch (error) {\n",
              "        console.error('Error during call to suggestCharts:', error);\n",
              "      }\n",
              "      quickchartButtonEl.classList.remove('colab-df-spinner');\n",
              "      quickchartButtonEl.classList.add('colab-df-quickchart-complete');\n",
              "    }\n",
              "    (() => {\n",
              "      let quickchartButtonEl =\n",
              "        document.querySelector('#df-9758fd4a-61a1-48bf-9406-fe5b290da245 button');\n",
              "      quickchartButtonEl.style.display =\n",
              "        google.colab.kernel.accessAllowed ? 'block' : 'none';\n",
              "    })();\n",
              "  </script>\n",
              "</div>\n",
              "    </div>\n",
              "  </div>\n"
            ]
          },
          "metadata": {},
          "execution_count": 7
        }
      ]
    },
    {
      "cell_type": "code",
      "source": [
        "with open('/content/Validation_Conversation.json', 'r') as content:\n",
        "  val_chatbot = json.load(content)\n",
        "val_data = pd.DataFrame(val_chatbot['intents'])\n"
      ],
      "metadata": {
        "id": "Ev3nfQuLr_xD"
      },
      "execution_count": 8,
      "outputs": []
    },
    {
      "cell_type": "code",
      "source": [
        "dictionary = {\"tag\":[], \"patterns\":[]}\n",
        "for i in range (len(val_data)):\n",
        "  pattern = val_data[val_data.index==i]['patterns'].values[0]\n",
        "  tag = val_data[val_data.index==i]['tag'].values[0]\n",
        "  for j in range (len(pattern)):\n",
        "    dictionary['tag'].append(tag)\n",
        "    dictionary['patterns'].append(preprocess_text(pattern[j]))\n",
        "val_data = pd.DataFrame.from_dict(dictionary)\n",
        "val_data"
      ],
      "metadata": {
        "colab": {
          "base_uri": "https://localhost:8080/",
          "height": 423
        },
        "id": "Nv9GVBgSss-v",
        "outputId": "ecc20940-91a0-4635-e0de-936aaefe7934"
      },
      "execution_count": 9,
      "outputs": [
        {
          "output_type": "execute_result",
          "data": {
            "text/plain": [
              "           tag                                           patterns\n",
              "0     greeting                                               halo\n",
              "1     greeting                                      hai apa kabar\n",
              "2     greeting                                                 hi\n",
              "3      morning                                               pagi\n",
              "4    afternoon                                              siang\n",
              "..         ...                                                ...\n",
              "111    fact_26  apa yang harus saya lakukan jika saya khawatir...\n",
              "112    fact_27         bagaimana saya tahu kalau saya tidak sehat\n",
              "113    fact_28  bagaimana saya bisa menjaga hubungan sosial ba...\n",
              "114    fact_29                     perbedaan kecemasan dan stress\n",
              "115    fact_30             perbedaan antara kesedihan dan depresi\n",
              "\n",
              "[116 rows x 2 columns]"
            ],
            "text/html": [
              "\n",
              "  <div id=\"df-4092ba74-1e79-4188-ab61-c60d9cb2ebc5\" class=\"colab-df-container\">\n",
              "    <div>\n",
              "<style scoped>\n",
              "    .dataframe tbody tr th:only-of-type {\n",
              "        vertical-align: middle;\n",
              "    }\n",
              "\n",
              "    .dataframe tbody tr th {\n",
              "        vertical-align: top;\n",
              "    }\n",
              "\n",
              "    .dataframe thead th {\n",
              "        text-align: right;\n",
              "    }\n",
              "</style>\n",
              "<table border=\"1\" class=\"dataframe\">\n",
              "  <thead>\n",
              "    <tr style=\"text-align: right;\">\n",
              "      <th></th>\n",
              "      <th>tag</th>\n",
              "      <th>patterns</th>\n",
              "    </tr>\n",
              "  </thead>\n",
              "  <tbody>\n",
              "    <tr>\n",
              "      <th>0</th>\n",
              "      <td>greeting</td>\n",
              "      <td>halo</td>\n",
              "    </tr>\n",
              "    <tr>\n",
              "      <th>1</th>\n",
              "      <td>greeting</td>\n",
              "      <td>hai apa kabar</td>\n",
              "    </tr>\n",
              "    <tr>\n",
              "      <th>2</th>\n",
              "      <td>greeting</td>\n",
              "      <td>hi</td>\n",
              "    </tr>\n",
              "    <tr>\n",
              "      <th>3</th>\n",
              "      <td>morning</td>\n",
              "      <td>pagi</td>\n",
              "    </tr>\n",
              "    <tr>\n",
              "      <th>4</th>\n",
              "      <td>afternoon</td>\n",
              "      <td>siang</td>\n",
              "    </tr>\n",
              "    <tr>\n",
              "      <th>...</th>\n",
              "      <td>...</td>\n",
              "      <td>...</td>\n",
              "    </tr>\n",
              "    <tr>\n",
              "      <th>111</th>\n",
              "      <td>fact_26</td>\n",
              "      <td>apa yang harus saya lakukan jika saya khawatir...</td>\n",
              "    </tr>\n",
              "    <tr>\n",
              "      <th>112</th>\n",
              "      <td>fact_27</td>\n",
              "      <td>bagaimana saya tahu kalau saya tidak sehat</td>\n",
              "    </tr>\n",
              "    <tr>\n",
              "      <th>113</th>\n",
              "      <td>fact_28</td>\n",
              "      <td>bagaimana saya bisa menjaga hubungan sosial ba...</td>\n",
              "    </tr>\n",
              "    <tr>\n",
              "      <th>114</th>\n",
              "      <td>fact_29</td>\n",
              "      <td>perbedaan kecemasan dan stress</td>\n",
              "    </tr>\n",
              "    <tr>\n",
              "      <th>115</th>\n",
              "      <td>fact_30</td>\n",
              "      <td>perbedaan antara kesedihan dan depresi</td>\n",
              "    </tr>\n",
              "  </tbody>\n",
              "</table>\n",
              "<p>116 rows × 2 columns</p>\n",
              "</div>\n",
              "    <div class=\"colab-df-buttons\">\n",
              "\n",
              "  <div class=\"colab-df-container\">\n",
              "    <button class=\"colab-df-convert\" onclick=\"convertToInteractive('df-4092ba74-1e79-4188-ab61-c60d9cb2ebc5')\"\n",
              "            title=\"Convert this dataframe to an interactive table.\"\n",
              "            style=\"display:none;\">\n",
              "\n",
              "  <svg xmlns=\"http://www.w3.org/2000/svg\" height=\"24px\" viewBox=\"0 -960 960 960\">\n",
              "    <path d=\"M120-120v-720h720v720H120Zm60-500h600v-160H180v160Zm220 220h160v-160H400v160Zm0 220h160v-160H400v160ZM180-400h160v-160H180v160Zm440 0h160v-160H620v160ZM180-180h160v-160H180v160Zm440 0h160v-160H620v160Z\"/>\n",
              "  </svg>\n",
              "    </button>\n",
              "\n",
              "  <style>\n",
              "    .colab-df-container {\n",
              "      display:flex;\n",
              "      gap: 12px;\n",
              "    }\n",
              "\n",
              "    .colab-df-convert {\n",
              "      background-color: #E8F0FE;\n",
              "      border: none;\n",
              "      border-radius: 50%;\n",
              "      cursor: pointer;\n",
              "      display: none;\n",
              "      fill: #1967D2;\n",
              "      height: 32px;\n",
              "      padding: 0 0 0 0;\n",
              "      width: 32px;\n",
              "    }\n",
              "\n",
              "    .colab-df-convert:hover {\n",
              "      background-color: #E2EBFA;\n",
              "      box-shadow: 0px 1px 2px rgba(60, 64, 67, 0.3), 0px 1px 3px 1px rgba(60, 64, 67, 0.15);\n",
              "      fill: #174EA6;\n",
              "    }\n",
              "\n",
              "    .colab-df-buttons div {\n",
              "      margin-bottom: 4px;\n",
              "    }\n",
              "\n",
              "    [theme=dark] .colab-df-convert {\n",
              "      background-color: #3B4455;\n",
              "      fill: #D2E3FC;\n",
              "    }\n",
              "\n",
              "    [theme=dark] .colab-df-convert:hover {\n",
              "      background-color: #434B5C;\n",
              "      box-shadow: 0px 1px 3px 1px rgba(0, 0, 0, 0.15);\n",
              "      filter: drop-shadow(0px 1px 2px rgba(0, 0, 0, 0.3));\n",
              "      fill: #FFFFFF;\n",
              "    }\n",
              "  </style>\n",
              "\n",
              "    <script>\n",
              "      const buttonEl =\n",
              "        document.querySelector('#df-4092ba74-1e79-4188-ab61-c60d9cb2ebc5 button.colab-df-convert');\n",
              "      buttonEl.style.display =\n",
              "        google.colab.kernel.accessAllowed ? 'block' : 'none';\n",
              "\n",
              "      async function convertToInteractive(key) {\n",
              "        const element = document.querySelector('#df-4092ba74-1e79-4188-ab61-c60d9cb2ebc5');\n",
              "        const dataTable =\n",
              "          await google.colab.kernel.invokeFunction('convertToInteractive',\n",
              "                                                    [key], {});\n",
              "        if (!dataTable) return;\n",
              "\n",
              "        const docLinkHtml = 'Like what you see? Visit the ' +\n",
              "          '<a target=\"_blank\" href=https://colab.research.google.com/notebooks/data_table.ipynb>data table notebook</a>'\n",
              "          + ' to learn more about interactive tables.';\n",
              "        element.innerHTML = '';\n",
              "        dataTable['output_type'] = 'display_data';\n",
              "        await google.colab.output.renderOutput(dataTable, element);\n",
              "        const docLink = document.createElement('div');\n",
              "        docLink.innerHTML = docLinkHtml;\n",
              "        element.appendChild(docLink);\n",
              "      }\n",
              "    </script>\n",
              "  </div>\n",
              "\n",
              "\n",
              "<div id=\"df-576828a1-eb12-4a33-ac4a-c1ecfa320e2e\">\n",
              "  <button class=\"colab-df-quickchart\" onclick=\"quickchart('df-576828a1-eb12-4a33-ac4a-c1ecfa320e2e')\"\n",
              "            title=\"Suggest charts\"\n",
              "            style=\"display:none;\">\n",
              "\n",
              "<svg xmlns=\"http://www.w3.org/2000/svg\" height=\"24px\"viewBox=\"0 0 24 24\"\n",
              "     width=\"24px\">\n",
              "    <g>\n",
              "        <path d=\"M19 3H5c-1.1 0-2 .9-2 2v14c0 1.1.9 2 2 2h14c1.1 0 2-.9 2-2V5c0-1.1-.9-2-2-2zM9 17H7v-7h2v7zm4 0h-2V7h2v10zm4 0h-2v-4h2v4z\"/>\n",
              "    </g>\n",
              "</svg>\n",
              "  </button>\n",
              "\n",
              "<style>\n",
              "  .colab-df-quickchart {\n",
              "      --bg-color: #E8F0FE;\n",
              "      --fill-color: #1967D2;\n",
              "      --hover-bg-color: #E2EBFA;\n",
              "      --hover-fill-color: #174EA6;\n",
              "      --disabled-fill-color: #AAA;\n",
              "      --disabled-bg-color: #DDD;\n",
              "  }\n",
              "\n",
              "  [theme=dark] .colab-df-quickchart {\n",
              "      --bg-color: #3B4455;\n",
              "      --fill-color: #D2E3FC;\n",
              "      --hover-bg-color: #434B5C;\n",
              "      --hover-fill-color: #FFFFFF;\n",
              "      --disabled-bg-color: #3B4455;\n",
              "      --disabled-fill-color: #666;\n",
              "  }\n",
              "\n",
              "  .colab-df-quickchart {\n",
              "    background-color: var(--bg-color);\n",
              "    border: none;\n",
              "    border-radius: 50%;\n",
              "    cursor: pointer;\n",
              "    display: none;\n",
              "    fill: var(--fill-color);\n",
              "    height: 32px;\n",
              "    padding: 0;\n",
              "    width: 32px;\n",
              "  }\n",
              "\n",
              "  .colab-df-quickchart:hover {\n",
              "    background-color: var(--hover-bg-color);\n",
              "    box-shadow: 0 1px 2px rgba(60, 64, 67, 0.3), 0 1px 3px 1px rgba(60, 64, 67, 0.15);\n",
              "    fill: var(--button-hover-fill-color);\n",
              "  }\n",
              "\n",
              "  .colab-df-quickchart-complete:disabled,\n",
              "  .colab-df-quickchart-complete:disabled:hover {\n",
              "    background-color: var(--disabled-bg-color);\n",
              "    fill: var(--disabled-fill-color);\n",
              "    box-shadow: none;\n",
              "  }\n",
              "\n",
              "  .colab-df-spinner {\n",
              "    border: 2px solid var(--fill-color);\n",
              "    border-color: transparent;\n",
              "    border-bottom-color: var(--fill-color);\n",
              "    animation:\n",
              "      spin 1s steps(1) infinite;\n",
              "  }\n",
              "\n",
              "  @keyframes spin {\n",
              "    0% {\n",
              "      border-color: transparent;\n",
              "      border-bottom-color: var(--fill-color);\n",
              "      border-left-color: var(--fill-color);\n",
              "    }\n",
              "    20% {\n",
              "      border-color: transparent;\n",
              "      border-left-color: var(--fill-color);\n",
              "      border-top-color: var(--fill-color);\n",
              "    }\n",
              "    30% {\n",
              "      border-color: transparent;\n",
              "      border-left-color: var(--fill-color);\n",
              "      border-top-color: var(--fill-color);\n",
              "      border-right-color: var(--fill-color);\n",
              "    }\n",
              "    40% {\n",
              "      border-color: transparent;\n",
              "      border-right-color: var(--fill-color);\n",
              "      border-top-color: var(--fill-color);\n",
              "    }\n",
              "    60% {\n",
              "      border-color: transparent;\n",
              "      border-right-color: var(--fill-color);\n",
              "    }\n",
              "    80% {\n",
              "      border-color: transparent;\n",
              "      border-right-color: var(--fill-color);\n",
              "      border-bottom-color: var(--fill-color);\n",
              "    }\n",
              "    90% {\n",
              "      border-color: transparent;\n",
              "      border-bottom-color: var(--fill-color);\n",
              "    }\n",
              "  }\n",
              "</style>\n",
              "\n",
              "  <script>\n",
              "    async function quickchart(key) {\n",
              "      const quickchartButtonEl =\n",
              "        document.querySelector('#' + key + ' button');\n",
              "      quickchartButtonEl.disabled = true;  // To prevent multiple clicks.\n",
              "      quickchartButtonEl.classList.add('colab-df-spinner');\n",
              "      try {\n",
              "        const charts = await google.colab.kernel.invokeFunction(\n",
              "            'suggestCharts', [key], {});\n",
              "      } catch (error) {\n",
              "        console.error('Error during call to suggestCharts:', error);\n",
              "      }\n",
              "      quickchartButtonEl.classList.remove('colab-df-spinner');\n",
              "      quickchartButtonEl.classList.add('colab-df-quickchart-complete');\n",
              "    }\n",
              "    (() => {\n",
              "      let quickchartButtonEl =\n",
              "        document.querySelector('#df-576828a1-eb12-4a33-ac4a-c1ecfa320e2e button');\n",
              "      quickchartButtonEl.style.display =\n",
              "        google.colab.kernel.accessAllowed ? 'block' : 'none';\n",
              "    })();\n",
              "  </script>\n",
              "</div>\n",
              "    </div>\n",
              "  </div>\n"
            ]
          },
          "metadata": {},
          "execution_count": 9
        }
      ]
    },
    {
      "cell_type": "code",
      "source": [
        "# Training\n",
        "data['tag'].unique()"
      ],
      "metadata": {
        "colab": {
          "base_uri": "https://localhost:8080/"
        },
        "id": "gf3hpV5HIU_I",
        "outputId": "31130b60-f336-4d7b-d0bf-6b7d1492324e"
      },
      "execution_count": 10,
      "outputs": [
        {
          "output_type": "execute_result",
          "data": {
            "text/plain": [
              "array(['greeting', 'morning', 'afternoon', 'evening', 'night', 'goodbye',\n",
              "       'thanks', 'about', 'skill', 'creation', 'help', 'sad', 'stressed',\n",
              "       'worthless', 'depressed', 'happy', 'casual', 'anxious',\n",
              "       'not-talking', 'sleep', 'scared', 'death', 'understand', 'done',\n",
              "       'suicide', 'hate-you', 'hate-me', 'default', 'jokes', 'repeat',\n",
              "       'wrong', 'stupid', 'location', 'something-else', 'ask', 'problem',\n",
              "       'no-approach', 'learn-more', 'user-agree', 'meditation',\n",
              "       'user_meditation', 'hugu_useful', 'user-advice',\n",
              "       'learn_mental_health', 'mental_health_fact', 'fact_1', 'fact_2',\n",
              "       'fact_3', 'fact_4', 'fact_5', 'fact_6', 'fact_7', 'fact_8',\n",
              "       'fact_9', 'fact_10', 'fact_11', 'fact_12', 'fact_13', 'fact_14',\n",
              "       'fact_15', 'fact_16', 'fact_17', 'fact_18', 'fact_19', 'fact_20',\n",
              "       'fact_21', 'fact_22', 'fact_23', 'fact_24', 'fact_25', 'fact_26',\n",
              "       'fact_27', 'fact_28', 'fact_29', 'fact_30'], dtype=object)"
            ]
          },
          "metadata": {},
          "execution_count": 10
        }
      ]
    },
    {
      "cell_type": "code",
      "source": [
        "# Validation\n",
        "val_data['tag'].unique()"
      ],
      "metadata": {
        "colab": {
          "base_uri": "https://localhost:8080/"
        },
        "id": "m-yvgI8ms9wW",
        "outputId": "072f9a10-a813-4199-b79c-08e7d146b38e"
      },
      "execution_count": 11,
      "outputs": [
        {
          "output_type": "execute_result",
          "data": {
            "text/plain": [
              "array(['greeting', 'morning', 'afternoon', 'evening', 'night', 'goodbye',\n",
              "       'thanks', 'about', 'skill', 'creation', 'help', 'sad', 'stressed',\n",
              "       'worthless', 'depressed', 'happy', 'casual', 'anxious',\n",
              "       'not-talking', 'sleep', 'scared', 'death', 'understand', 'done',\n",
              "       'suicide', 'hate-you', 'hate-me', 'default', 'jokes', 'repeat',\n",
              "       'wrong', 'stupid', 'location', 'something-else', 'ask', 'problem',\n",
              "       'no-approach', 'learn-more', 'user-agree', 'meditation',\n",
              "       'user_meditation', 'hugu_useful', 'user-advice',\n",
              "       'learn_mental_health', 'mental_health_fact', 'fact_1', 'fact_2',\n",
              "       'fact_3', 'fact_4', 'fact_5', 'fact_6', 'fact_7', 'fact_8',\n",
              "       'fact_9', 'fact_10', 'fact_11', 'fact_12', 'fact_13', 'fact_14',\n",
              "       'fact_15', 'fact_16', 'fact_17', 'fact_18', 'fact_19', 'fact_20',\n",
              "       'fact_21', 'fact_22', 'fact_23', 'fact_24', 'fact_25', 'fact_26',\n",
              "       'fact_27', 'fact_28', 'fact_29', 'fact_30'], dtype=object)"
            ]
          },
          "metadata": {},
          "execution_count": 11
        }
      ]
    },
    {
      "cell_type": "markdown",
      "source": [
        "# **Tokenizing Train and Validation Pattern & Tag**"
      ],
      "metadata": {
        "id": "13oRc6tN0fKs"
      }
    },
    {
      "cell_type": "markdown",
      "source": [
        "**Adding Word Dictionary**"
      ],
      "metadata": {
        "id": "VGnjaBKy2_Jw"
      }
    },
    {
      "cell_type": "code",
      "source": [
        "with open('/content/word_dict.json', 'r') as f:\n",
        "  json_dict = json.load(f)\n",
        "tokenizer_json=json_dict.keys()\n",
        "\n",
        "tokenizer = Tokenizer(oov_token='<OOV>')\n",
        "tokenizer.fit_on_texts(tokenizer_json)\n",
        "\n",
        "word_index = tokenizer.word_index\n",
        "print(len(word_index))"
      ],
      "metadata": {
        "id": "iILLZIyF2HRB",
        "colab": {
          "base_uri": "https://localhost:8080/"
        },
        "outputId": "fce17176-4b05-4d1b-e9ee-a8c8691e9d26"
      },
      "execution_count": 12,
      "outputs": [
        {
          "output_type": "stream",
          "name": "stdout",
          "text": [
            "18727\n"
          ]
        }
      ]
    },
    {
      "cell_type": "markdown",
      "source": [
        "Shuffling dataset for better training (*hopefully*)"
      ],
      "metadata": {
        "id": "ikaTpbHz0PY0"
      }
    },
    {
      "cell_type": "code",
      "source": [
        "data = shuffle(data)\n",
        "val_data = shuffle(val_data)"
      ],
      "metadata": {
        "id": "DyNCGMPlMk3X"
      },
      "execution_count": 13,
      "outputs": []
    },
    {
      "cell_type": "code",
      "source": [
        "label_encode = LabelEncoder()\n",
        "\n",
        "tokenizer.fit_on_texts(data['patterns'])\n",
        "tokenizer.fit_on_texts(val_data['patterns'])\n",
        "\n",
        "# Training Set\n",
        "pattern_train = tokenizer.texts_to_sequences(data['patterns'])\n",
        "x_train = pad_sequences(pattern_train, padding='post', maxlen=12, truncating='pre')\n",
        "print(\"Training Input Shape : \", x_train.shape)\n",
        "print(len(x_train[0]))\n",
        "\n",
        "x_label = label_encode.fit_transform(data['tag'])\n",
        "print(\"Training Label Shape : \", x_label.shape)\n",
        "print(\"Num of classes: \", len(np.unique(x_label)))"
      ],
      "metadata": {
        "colab": {
          "base_uri": "https://localhost:8080/"
        },
        "id": "4s9JCHXDC4fy",
        "outputId": "cc48e120-189e-4011-f33a-8f05ee0283fb"
      },
      "execution_count": 16,
      "outputs": [
        {
          "output_type": "stream",
          "name": "stdout",
          "text": [
            "Training Input Shape :  (217, 12)\n",
            "12\n",
            "Training Label Shape :  (217,)\n",
            "Num of classes:  75\n"
          ]
        }
      ]
    },
    {
      "cell_type": "code",
      "source": [
        "# Validation Set\n",
        "pattern_val = tokenizer.texts_to_sequences(val_data['patterns'])\n",
        "y_train = pad_sequences(pattern_val, padding='post', maxlen=12, truncating='pre')\n",
        "print(\"Validation Input Shape : \", y_train.shape)\n",
        "print(len(y_train[0]))\n",
        "\n",
        "y_label = label_encode.fit_transform(val_data['tag'])\n",
        "print(\"Validation Label Shape : \",y_label.shape)\n",
        "print(\"Num of classes: \", len(np.unique(y_label)))"
      ],
      "metadata": {
        "colab": {
          "base_uri": "https://localhost:8080/"
        },
        "id": "5Y9hvr8ItHG4",
        "outputId": "b3ef5219-314e-4bdf-f07b-db12fdb3b155"
      },
      "execution_count": 17,
      "outputs": [
        {
          "output_type": "stream",
          "name": "stdout",
          "text": [
            "Validation Input Shape :  (116, 12)\n",
            "12\n",
            "Validation Label Shape :  (116,)\n",
            "Num of classes:  75\n"
          ]
        }
      ]
    },
    {
      "cell_type": "code",
      "source": [
        "vocabulary = len(tokenizer.word_index)\n",
        "print(\"Number unique word : \",vocabulary)\n",
        "print(\"Output Length : \", label_encode.classes_.shape[0])\n"
      ],
      "metadata": {
        "colab": {
          "base_uri": "https://localhost:8080/"
        },
        "id": "G5gXiaR4bQGH",
        "outputId": "bf4c49ad-9831-4570-8501-d251528694af"
      },
      "execution_count": 18,
      "outputs": [
        {
          "output_type": "stream",
          "name": "stdout",
          "text": [
            "Number unique word :  18764\n",
            "Output Length :  75\n"
          ]
        }
      ]
    },
    {
      "cell_type": "markdown",
      "source": [
        "Converting known word/patterns from dictionary, train and validation dataset"
      ],
      "metadata": {
        "id": "nPOZqKeR1KMS"
      }
    },
    {
      "cell_type": "code",
      "source": [
        "word_dictionary = {item[0]: item[1] for item in tokenizer.word_index.items()}\n",
        "with open('tokenizer_chatbot_dict.json', 'w') as json_file:\n",
        "  json.dump(word_dictionary, json_file, indent=4)"
      ],
      "metadata": {
        "id": "Y0XbsFuKvl_e"
      },
      "execution_count": 19,
      "outputs": []
    },
    {
      "cell_type": "markdown",
      "source": [
        "Converting tag into json"
      ],
      "metadata": {
        "id": "QPS8amOW1FG1"
      }
    },
    {
      "cell_type": "code",
      "source": [
        "leDecode = LabelEncoder()\n",
        "leDecode.fit(val_data['tag'])\n",
        "name_mapping = dict(zip(leDecode.classes_, leDecode.transform(leDecode.classes_)))\n",
        "transformed = leDecode.transform(leDecode.classes_).tolist()\n",
        "name_mapping = dict(zip(leDecode.classes_, transformed))\n",
        "with open('label_decoder.json', 'w') as json_file:\n",
        "  json.dump(name_mapping, json_file, indent=4)"
      ],
      "metadata": {
        "id": "DoK4_upKwamD"
      },
      "execution_count": 20,
      "outputs": []
    },
    {
      "cell_type": "markdown",
      "source": [
        "# **Embedding** **Glove**"
      ],
      "metadata": {
        "id": "4z9RGSPN1X_P"
      }
    },
    {
      "cell_type": "code",
      "source": [
        "# !rm -f glove.6B.zip\n",
        "!wget https://nlp.stanford.edu/data/glove.6B.zip\n",
        "!unzip glove.6B.zip"
      ],
      "metadata": {
        "id": "s1aw9H3BOYD4",
        "colab": {
          "base_uri": "https://localhost:8080/"
        },
        "outputId": "74bc8e7e-ec32-4776-9cbd-3c7014082b51"
      },
      "execution_count": null,
      "outputs": [
        {
          "output_type": "stream",
          "name": "stdout",
          "text": [
            "--2023-12-16 06:05:02--  https://nlp.stanford.edu/data/glove.6B.zip\n",
            "Resolving nlp.stanford.edu (nlp.stanford.edu)... 171.64.67.140\n",
            "Connecting to nlp.stanford.edu (nlp.stanford.edu)|171.64.67.140|:443... connected.\n",
            "HTTP request sent, awaiting response... 301 Moved Permanently\n",
            "Location: https://downloads.cs.stanford.edu/nlp/data/glove.6B.zip [following]\n",
            "--2023-12-16 06:05:03--  https://downloads.cs.stanford.edu/nlp/data/glove.6B.zip\n",
            "Resolving downloads.cs.stanford.edu (downloads.cs.stanford.edu)... 171.64.64.22\n",
            "Connecting to downloads.cs.stanford.edu (downloads.cs.stanford.edu)|171.64.64.22|:443... connected.\n",
            "HTTP request sent, awaiting response... 200 OK\n",
            "Length: 862182613 (822M) [application/zip]\n",
            "Saving to: ‘glove.6B.zip.2’\n",
            "\n",
            "glove.6B.zip.2        4%[                    ]  38.37M  8.60MB/s    eta 70s    ^C\n",
            "Archive:  glove.6B.zip\n",
            "replace glove.6B.50d.txt? [y]es, [n]o, [A]ll, [N]one, [r]ename: "
          ]
        }
      ]
    },
    {
      "cell_type": "code",
      "source": [
        "glove_dir = \"/content/glove.6B.100d.txt\"\n",
        "embeddings_index = {}\n",
        "file_ = open(glove_dir, encoding='utf8')\n",
        "for line in file_:\n",
        "  arr = line.split()\n",
        "  single_word = arr[0]\n",
        "  w = np.asarray(arr[1:],dtype='float32')\n",
        "  embeddings_index[single_word] = w\n",
        "file_.close()\n",
        "print(len(embeddings_index))"
      ],
      "metadata": {
        "colab": {
          "base_uri": "https://localhost:8080/"
        },
        "id": "ultUUZnCTiB9",
        "outputId": "8e3ef9bc-1e8a-4964-8707-f54e5f04cf98"
      },
      "execution_count": null,
      "outputs": [
        {
          "output_type": "stream",
          "name": "stdout",
          "text": [
            "400000\n"
          ]
        }
      ]
    },
    {
      "cell_type": "code",
      "source": [
        "max = vocabulary + 1\n",
        "word_index =tokenizer.word_index\n",
        "embedding_mat = np.zeros((max, 100)).astype(object)\n",
        "for word, i in word_index.items():\n",
        "  embedding_vector = embeddings_index.get(word)\n",
        "  if embedding_vector is not None:\n",
        "    embedding_mat[i] = embedding_vector"
      ],
      "metadata": {
        "id": "QCKdsTHpVQLB"
      },
      "execution_count": null,
      "outputs": []
    },
    {
      "cell_type": "markdown",
      "source": [
        "# **Model Architecture, Chatbot Test, Plotting and Training Model**"
      ],
      "metadata": {
        "id": "HX0UQEm71jO5"
      }
    },
    {
      "cell_type": "code",
      "source": [
        "def chatbot_test():\n",
        "  while True:\n",
        "    user_input = input(\"User: \").lower()\n",
        "    pattern_test=preprocess_text(user_input)\n",
        "    pattern_test = tokenizer.texts_to_sequences([pattern_test])\n",
        "    x_test = pad_sequences(pattern_test, x_train.shape[1])\n",
        "\n",
        "    prediction = model.predict(x_test)[0]\n",
        "    label = label_encode.inverse_transform([np.argmax(prediction)])[0]\n",
        "    response = data[data['tag'] == label]['responses'].values[0]\n",
        "    print(\"Label:\",label)\n",
        "    print(\"Chatbot: \", format(random.choice(response)))\n",
        "    if label=='goodbye' or label=='thanks':\n",
        "      break"
      ],
      "metadata": {
        "id": "mI_COKxZvEth"
      },
      "execution_count": null,
      "outputs": []
    },
    {
      "cell_type": "code",
      "source": [
        "def plot_training_history(history):\n",
        "    # Plotting training accuracy\n",
        "    plt.subplot(1, 2, 1)\n",
        "    plt.plot(history.history['accuracy'], label='Train Accuracy', color='blue')\n",
        "    plt.plot(history.history['val_accuracy'], label='Validation Accuracy', color='green')\n",
        "    plt.legend(loc='lower right')\n",
        "    plt.title('Accuracy')\n",
        "    plt.ylim(0, 1.0)\n",
        "\n",
        "    # Plotting training loss\n",
        "    plt.subplot(1, 2, 2)\n",
        "    plt.plot(history.history['loss'], label='Train Loss', color='orange')\n",
        "    plt.plot(history.history['val_loss'], label='Validation Loss', color='yellow')\n",
        "    plt.legend(loc='upper right')\n",
        "    plt.title('Loss')\n",
        "    plt.ylim(0, 4.0)\n",
        "\n",
        "    # Display the plots\n",
        "    plt.show()\n"
      ],
      "metadata": {
        "id": "fi3Y0cX2ZhQp"
      },
      "execution_count": null,
      "outputs": []
    },
    {
      "cell_type": "code",
      "source": [
        "model = tf.keras.Sequential([\n",
        "    tf.keras.layers.Embedding(input_length=x_train.shape[1], input_dim=vocabulary+1, output_dim = 100, mask_zero=True,\n",
        "                              weights=[embedding_mat], trainable=False),\n",
        "    tf.keras.layers.Dropout(0.2),\n",
        "\n",
        "    tf.keras.layers.Bidirectional(tf.keras.layers.GRU(128, return_sequences=True)),\n",
        "    tf.keras.layers.LayerNormalization(),\n",
        "    tf.keras.layers.Dropout(0.2),\n",
        "    tf.keras.layers.Bidirectional(tf.keras.layers.GRU(128, return_sequences=False)),\n",
        "    tf.keras.layers.LayerNormalization(),\n",
        "    tf.keras.layers.Dropout(0.2),\n",
        "\n",
        "    # tf.keras.layers.Dense(128, activation='relu'),\n",
        "    tf.keras.layers.Dense(256, activation='relu'),\n",
        "    tf.keras.layers.LayerNormalization(),\n",
        "    tf.keras.layers.Dense(128, activation='relu'),\n",
        "    tf.keras.layers.Dropout(0.2),\n",
        "    tf.keras.layers.LayerNormalization(),\n",
        "    tf.keras.layers.Dense(len(np.unique(x_label)), activation='softmax')\n",
        "])\n",
        "\n",
        "model.summary()\n",
        "model.compile(loss='sparse_categorical_crossentropy',optimizer='adam',metrics=['accuracy'])\n"
      ],
      "metadata": {
        "id": "dFbuz9mcIrc4",
        "colab": {
          "base_uri": "https://localhost:8080/"
        },
        "outputId": "e4ae99ed-cdb0-4558-f675-d06f8c6dbf67"
      },
      "execution_count": null,
      "outputs": [
        {
          "output_type": "stream",
          "name": "stdout",
          "text": [
            "Model: \"sequential_1\"\n",
            "_________________________________________________________________\n",
            " Layer (type)                Output Shape              Param #   \n",
            "=================================================================\n",
            " embedding_1 (Embedding)     (None, 12, 100)           1876500   \n",
            "                                                                 \n",
            " dropout_4 (Dropout)         (None, 12, 100)           0         \n",
            "                                                                 \n",
            " bidirectional_2 (Bidirecti  (None, 12, 256)           176640    \n",
            " onal)                                                           \n",
            "                                                                 \n",
            " layer_normalization_4 (Lay  (None, 12, 256)           512       \n",
            " erNormalization)                                                \n",
            "                                                                 \n",
            " dropout_5 (Dropout)         (None, 12, 256)           0         \n",
            "                                                                 \n",
            " bidirectional_3 (Bidirecti  (None, 256)               296448    \n",
            " onal)                                                           \n",
            "                                                                 \n",
            " layer_normalization_5 (Lay  (None, 256)               512       \n",
            " erNormalization)                                                \n",
            "                                                                 \n",
            " dropout_6 (Dropout)         (None, 256)               0         \n",
            "                                                                 \n",
            " dense_3 (Dense)             (None, 256)               65792     \n",
            "                                                                 \n",
            " layer_normalization_6 (Lay  (None, 256)               512       \n",
            " erNormalization)                                                \n",
            "                                                                 \n",
            " dense_4 (Dense)             (None, 128)               32896     \n",
            "                                                                 \n",
            " dropout_7 (Dropout)         (None, 128)               0         \n",
            "                                                                 \n",
            " layer_normalization_7 (Lay  (None, 128)               256       \n",
            " erNormalization)                                                \n",
            "                                                                 \n",
            " dense_5 (Dense)             (None, 75)                9675      \n",
            "                                                                 \n",
            "=================================================================\n",
            "Total params: 2459743 (9.38 MB)\n",
            "Trainable params: 583243 (2.22 MB)\n",
            "Non-trainable params: 1876500 (7.16 MB)\n",
            "_________________________________________________________________\n"
          ]
        }
      ]
    },
    {
      "cell_type": "code",
      "source": [
        "# Callback function to stop training when the accuracy is above 90%\n",
        "# and validation accuracy above 90%\n",
        "class MyCallback(tf.keras.callbacks.Callback):\n",
        "    def on_epoch_end(self, epoch, logs={}):\n",
        "        if logs.get('accuracy') > 0.9 and logs.get('val_accuracy') > 0.8:\n",
        "            self.model.stop_training = True"
      ],
      "metadata": {
        "id": "snIIzuDlpXkk"
      },
      "execution_count": null,
      "outputs": []
    },
    {
      "cell_type": "code",
      "source": [
        "history = model.fit(x_train, x_label, validation_data=(y_train, y_label),\n",
        "                    batch_size=32, epochs=1000, callbacks=[MyCallback()])"
      ],
      "metadata": {
        "id": "rwJXZ4ExI3-g",
        "colab": {
          "base_uri": "https://localhost:8080/"
        },
        "outputId": "cde788d1-b0bb-4210-f9fd-8cbb9dda4f73"
      },
      "execution_count": null,
      "outputs": [
        {
          "output_type": "stream",
          "name": "stdout",
          "text": [
            "Epoch 1/1000\n",
            "7/7 [==============================] - 26s 1s/step - loss: 4.7771 - accuracy: 0.0230 - val_loss: 3.6952 - val_accuracy: 0.1983\n",
            "Epoch 2/1000\n",
            "7/7 [==============================] - 1s 99ms/step - loss: 3.8061 - accuracy: 0.1014 - val_loss: 3.0550 - val_accuracy: 0.3276\n",
            "Epoch 3/1000\n",
            "7/7 [==============================] - 1s 103ms/step - loss: 3.2457 - accuracy: 0.2120 - val_loss: 2.5382 - val_accuracy: 0.4569\n",
            "Epoch 4/1000\n",
            "7/7 [==============================] - 1s 103ms/step - loss: 2.9227 - accuracy: 0.2673 - val_loss: 2.1688 - val_accuracy: 0.4828\n",
            "Epoch 5/1000\n",
            "7/7 [==============================] - 1s 101ms/step - loss: 2.5997 - accuracy: 0.4055 - val_loss: 1.8819 - val_accuracy: 0.5517\n",
            "Epoch 6/1000\n",
            "7/7 [==============================] - 1s 93ms/step - loss: 2.4135 - accuracy: 0.4424 - val_loss: 1.6803 - val_accuracy: 0.5776\n",
            "Epoch 7/1000\n",
            "7/7 [==============================] - 1s 104ms/step - loss: 2.0624 - accuracy: 0.5300 - val_loss: 1.4925 - val_accuracy: 0.6552\n",
            "Epoch 8/1000\n",
            "7/7 [==============================] - 1s 100ms/step - loss: 1.9208 - accuracy: 0.5392 - val_loss: 1.3392 - val_accuracy: 0.7069\n",
            "Epoch 9/1000\n",
            "7/7 [==============================] - 1s 106ms/step - loss: 1.7810 - accuracy: 0.5899 - val_loss: 1.1555 - val_accuracy: 0.7328\n",
            "Epoch 10/1000\n",
            "7/7 [==============================] - 1s 93ms/step - loss: 1.5631 - accuracy: 0.6498 - val_loss: 1.0106 - val_accuracy: 0.7500\n",
            "Epoch 11/1000\n",
            "7/7 [==============================] - 1s 101ms/step - loss: 1.4396 - accuracy: 0.6820 - val_loss: 0.9183 - val_accuracy: 0.7845\n",
            "Epoch 12/1000\n",
            "7/7 [==============================] - 1s 94ms/step - loss: 1.3171 - accuracy: 0.7327 - val_loss: 0.8691 - val_accuracy: 0.7845\n",
            "Epoch 13/1000\n",
            "7/7 [==============================] - 1s 102ms/step - loss: 1.2520 - accuracy: 0.7143 - val_loss: 0.8254 - val_accuracy: 0.8103\n",
            "Epoch 14/1000\n",
            "7/7 [==============================] - 1s 90ms/step - loss: 1.1521 - accuracy: 0.7143 - val_loss: 0.7635 - val_accuracy: 0.8276\n",
            "Epoch 15/1000\n",
            "7/7 [==============================] - 1s 93ms/step - loss: 1.1536 - accuracy: 0.7189 - val_loss: 0.7432 - val_accuracy: 0.7931\n",
            "Epoch 16/1000\n",
            "7/7 [==============================] - 1s 108ms/step - loss: 0.9956 - accuracy: 0.7604 - val_loss: 0.6976 - val_accuracy: 0.8017\n",
            "Epoch 17/1000\n",
            "7/7 [==============================] - 1s 203ms/step - loss: 1.0078 - accuracy: 0.7558 - val_loss: 0.6710 - val_accuracy: 0.8103\n",
            "Epoch 18/1000\n",
            "7/7 [==============================] - 1s 172ms/step - loss: 0.8510 - accuracy: 0.8341 - val_loss: 0.6649 - val_accuracy: 0.8276\n",
            "Epoch 19/1000\n",
            "7/7 [==============================] - 1s 125ms/step - loss: 0.8254 - accuracy: 0.7972 - val_loss: 0.6425 - val_accuracy: 0.8276\n",
            "Epoch 20/1000\n",
            "7/7 [==============================] - 1s 91ms/step - loss: 0.8917 - accuracy: 0.7788 - val_loss: 0.6416 - val_accuracy: 0.8190\n",
            "Epoch 21/1000\n",
            "7/7 [==============================] - 1s 91ms/step - loss: 0.7386 - accuracy: 0.8157 - val_loss: 0.6239 - val_accuracy: 0.8190\n",
            "Epoch 22/1000\n",
            "7/7 [==============================] - 1s 104ms/step - loss: 0.7476 - accuracy: 0.8065 - val_loss: 0.6096 - val_accuracy: 0.8017\n",
            "Epoch 23/1000\n",
            "7/7 [==============================] - 1s 102ms/step - loss: 0.7793 - accuracy: 0.7926 - val_loss: 0.6061 - val_accuracy: 0.8103\n",
            "Epoch 24/1000\n",
            "7/7 [==============================] - 1s 103ms/step - loss: 0.7163 - accuracy: 0.8157 - val_loss: 0.6169 - val_accuracy: 0.8276\n",
            "Epoch 25/1000\n",
            "7/7 [==============================] - 1s 92ms/step - loss: 0.6458 - accuracy: 0.8341 - val_loss: 0.5822 - val_accuracy: 0.8190\n",
            "Epoch 26/1000\n",
            "7/7 [==============================] - 1s 103ms/step - loss: 0.6714 - accuracy: 0.8295 - val_loss: 0.5893 - val_accuracy: 0.8190\n",
            "Epoch 27/1000\n",
            "7/7 [==============================] - 1s 104ms/step - loss: 0.6414 - accuracy: 0.8249 - val_loss: 0.5786 - val_accuracy: 0.8276\n",
            "Epoch 28/1000\n",
            "7/7 [==============================] - 1s 103ms/step - loss: 0.6132 - accuracy: 0.8295 - val_loss: 0.5850 - val_accuracy: 0.8190\n",
            "Epoch 29/1000\n",
            "7/7 [==============================] - 1s 93ms/step - loss: 0.5788 - accuracy: 0.8295 - val_loss: 0.6007 - val_accuracy: 0.8190\n",
            "Epoch 30/1000\n",
            "7/7 [==============================] - 1s 104ms/step - loss: 0.5293 - accuracy: 0.8479 - val_loss: 0.5971 - val_accuracy: 0.8190\n",
            "Epoch 31/1000\n",
            "7/7 [==============================] - 1s 93ms/step - loss: 0.5388 - accuracy: 0.8479 - val_loss: 0.5823 - val_accuracy: 0.8190\n",
            "Epoch 32/1000\n",
            "7/7 [==============================] - 1s 92ms/step - loss: 0.5258 - accuracy: 0.8387 - val_loss: 0.5727 - val_accuracy: 0.8103\n",
            "Epoch 33/1000\n",
            "7/7 [==============================] - 1s 93ms/step - loss: 0.4784 - accuracy: 0.8802 - val_loss: 0.5497 - val_accuracy: 0.8448\n",
            "Epoch 34/1000\n",
            "7/7 [==============================] - 1s 127ms/step - loss: 0.4917 - accuracy: 0.8756 - val_loss: 0.5441 - val_accuracy: 0.8448\n",
            "Epoch 35/1000\n",
            "7/7 [==============================] - 1s 201ms/step - loss: 0.4802 - accuracy: 0.8479 - val_loss: 0.5441 - val_accuracy: 0.8362\n",
            "Epoch 36/1000\n",
            "7/7 [==============================] - 1s 174ms/step - loss: 0.4582 - accuracy: 0.8387 - val_loss: 0.5606 - val_accuracy: 0.8103\n",
            "Epoch 37/1000\n",
            "7/7 [==============================] - 1s 103ms/step - loss: 0.4721 - accuracy: 0.8525 - val_loss: 0.5876 - val_accuracy: 0.8103\n",
            "Epoch 38/1000\n",
            "7/7 [==============================] - 1s 101ms/step - loss: 0.4437 - accuracy: 0.8710 - val_loss: 0.5831 - val_accuracy: 0.8190\n",
            "Epoch 39/1000\n",
            "7/7 [==============================] - 1s 91ms/step - loss: 0.4620 - accuracy: 0.8710 - val_loss: 0.5663 - val_accuracy: 0.8103\n",
            "Epoch 40/1000\n",
            "7/7 [==============================] - 1s 105ms/step - loss: 0.4428 - accuracy: 0.8479 - val_loss: 0.5573 - val_accuracy: 0.8276\n",
            "Epoch 41/1000\n",
            "7/7 [==============================] - 1s 103ms/step - loss: 0.4665 - accuracy: 0.8295 - val_loss: 0.5614 - val_accuracy: 0.8103\n",
            "Epoch 42/1000\n",
            "7/7 [==============================] - 1s 103ms/step - loss: 0.3893 - accuracy: 0.8664 - val_loss: 0.5690 - val_accuracy: 0.8190\n",
            "Epoch 43/1000\n",
            "7/7 [==============================] - 1s 105ms/step - loss: 0.4546 - accuracy: 0.8479 - val_loss: 0.5881 - val_accuracy: 0.8190\n",
            "Epoch 44/1000\n",
            "7/7 [==============================] - 1s 91ms/step - loss: 0.4008 - accuracy: 0.8710 - val_loss: 0.5919 - val_accuracy: 0.8362\n",
            "Epoch 45/1000\n",
            "7/7 [==============================] - 1s 90ms/step - loss: 0.3910 - accuracy: 0.8664 - val_loss: 0.5811 - val_accuracy: 0.8276\n",
            "Epoch 46/1000\n",
            "7/7 [==============================] - 1s 103ms/step - loss: 0.3994 - accuracy: 0.8525 - val_loss: 0.5956 - val_accuracy: 0.8190\n",
            "Epoch 47/1000\n",
            "7/7 [==============================] - 1s 92ms/step - loss: 0.3956 - accuracy: 0.8571 - val_loss: 0.5971 - val_accuracy: 0.8190\n",
            "Epoch 48/1000\n",
            "7/7 [==============================] - 1s 105ms/step - loss: 0.4120 - accuracy: 0.8479 - val_loss: 0.5664 - val_accuracy: 0.8190\n",
            "Epoch 49/1000\n",
            "7/7 [==============================] - 1s 99ms/step - loss: 0.3727 - accuracy: 0.8894 - val_loss: 0.5630 - val_accuracy: 0.8190\n",
            "Epoch 50/1000\n",
            "7/7 [==============================] - 1s 91ms/step - loss: 0.3957 - accuracy: 0.8664 - val_loss: 0.5689 - val_accuracy: 0.8276\n",
            "Epoch 51/1000\n",
            "7/7 [==============================] - 1s 94ms/step - loss: 0.3682 - accuracy: 0.8479 - val_loss: 0.5894 - val_accuracy: 0.8276\n",
            "Epoch 52/1000\n",
            "7/7 [==============================] - 1s 161ms/step - loss: 0.4034 - accuracy: 0.8710 - val_loss: 0.5883 - val_accuracy: 0.8362\n",
            "Epoch 53/1000\n",
            "7/7 [==============================] - 1s 200ms/step - loss: 0.3509 - accuracy: 0.8664 - val_loss: 0.5946 - val_accuracy: 0.8190\n",
            "Epoch 54/1000\n",
            "7/7 [==============================] - 1s 163ms/step - loss: 0.3759 - accuracy: 0.8664 - val_loss: 0.5858 - val_accuracy: 0.8103\n",
            "Epoch 55/1000\n",
            "7/7 [==============================] - 1s 92ms/step - loss: 0.3514 - accuracy: 0.8571 - val_loss: 0.6021 - val_accuracy: 0.8276\n",
            "Epoch 56/1000\n",
            "7/7 [==============================] - 1s 102ms/step - loss: 0.3833 - accuracy: 0.8525 - val_loss: 0.5771 - val_accuracy: 0.8276\n",
            "Epoch 57/1000\n",
            "7/7 [==============================] - 1s 91ms/step - loss: 0.3430 - accuracy: 0.8802 - val_loss: 0.5925 - val_accuracy: 0.8276\n",
            "Epoch 58/1000\n",
            "7/7 [==============================] - 1s 94ms/step - loss: 0.3699 - accuracy: 0.8664 - val_loss: 0.6063 - val_accuracy: 0.8276\n",
            "Epoch 59/1000\n",
            "7/7 [==============================] - 1s 102ms/step - loss: 0.3356 - accuracy: 0.8848 - val_loss: 0.6288 - val_accuracy: 0.8362\n",
            "Epoch 60/1000\n",
            "7/7 [==============================] - 1s 101ms/step - loss: 0.3568 - accuracy: 0.8848 - val_loss: 0.6269 - val_accuracy: 0.8362\n",
            "Epoch 61/1000\n",
            "7/7 [==============================] - 1s 93ms/step - loss: 0.3605 - accuracy: 0.8571 - val_loss: 0.6292 - val_accuracy: 0.8276\n",
            "Epoch 62/1000\n",
            "7/7 [==============================] - 1s 92ms/step - loss: 0.3496 - accuracy: 0.8525 - val_loss: 0.6408 - val_accuracy: 0.8276\n",
            "Epoch 63/1000\n",
            "7/7 [==============================] - 1s 103ms/step - loss: 0.3953 - accuracy: 0.8433 - val_loss: 0.6244 - val_accuracy: 0.8190\n",
            "Epoch 64/1000\n",
            "7/7 [==============================] - 1s 105ms/step - loss: 0.3634 - accuracy: 0.8571 - val_loss: 0.6322 - val_accuracy: 0.8103\n",
            "Epoch 65/1000\n",
            "7/7 [==============================] - 1s 103ms/step - loss: 0.3514 - accuracy: 0.8664 - val_loss: 0.6301 - val_accuracy: 0.8276\n",
            "Epoch 66/1000\n",
            "7/7 [==============================] - 1s 105ms/step - loss: 0.3110 - accuracy: 0.8848 - val_loss: 0.6280 - val_accuracy: 0.8276\n",
            "Epoch 67/1000\n",
            "7/7 [==============================] - 1s 94ms/step - loss: 0.3275 - accuracy: 0.8986 - val_loss: 0.6026 - val_accuracy: 0.8534\n",
            "Epoch 68/1000\n",
            "7/7 [==============================] - 1s 104ms/step - loss: 0.3267 - accuracy: 0.8802 - val_loss: 0.5925 - val_accuracy: 0.8276\n",
            "Epoch 69/1000\n",
            "7/7 [==============================] - 1s 113ms/step - loss: 0.3583 - accuracy: 0.8618 - val_loss: 0.5873 - val_accuracy: 0.8276\n",
            "Epoch 70/1000\n",
            "7/7 [==============================] - 1s 199ms/step - loss: 0.3262 - accuracy: 0.8710 - val_loss: 0.5754 - val_accuracy: 0.8276\n",
            "Epoch 71/1000\n",
            "7/7 [==============================] - 1s 173ms/step - loss: 0.3792 - accuracy: 0.8571 - val_loss: 0.5773 - val_accuracy: 0.8448\n",
            "Epoch 72/1000\n",
            "7/7 [==============================] - 1s 136ms/step - loss: 0.3458 - accuracy: 0.8618 - val_loss: 0.5807 - val_accuracy: 0.8362\n",
            "Epoch 73/1000\n",
            "7/7 [==============================] - 1s 102ms/step - loss: 0.3574 - accuracy: 0.8710 - val_loss: 0.6149 - val_accuracy: 0.8103\n",
            "Epoch 74/1000\n",
            "7/7 [==============================] - 1s 94ms/step - loss: 0.3033 - accuracy: 0.8710 - val_loss: 0.6036 - val_accuracy: 0.8276\n",
            "Epoch 75/1000\n",
            "7/7 [==============================] - 1s 90ms/step - loss: 0.2991 - accuracy: 0.8848 - val_loss: 0.5919 - val_accuracy: 0.8362\n",
            "Epoch 76/1000\n",
            "7/7 [==============================] - 1s 103ms/step - loss: 0.2871 - accuracy: 0.8894 - val_loss: 0.6023 - val_accuracy: 0.8190\n",
            "Epoch 77/1000\n",
            "7/7 [==============================] - 1s 93ms/step - loss: 0.3093 - accuracy: 0.8664 - val_loss: 0.5930 - val_accuracy: 0.8276\n",
            "Epoch 78/1000\n",
            "7/7 [==============================] - 1s 102ms/step - loss: 0.3134 - accuracy: 0.8848 - val_loss: 0.5812 - val_accuracy: 0.8362\n",
            "Epoch 79/1000\n",
            "7/7 [==============================] - 1s 94ms/step - loss: 0.3104 - accuracy: 0.8664 - val_loss: 0.5896 - val_accuracy: 0.8276\n",
            "Epoch 80/1000\n",
            "7/7 [==============================] - 1s 105ms/step - loss: 0.2698 - accuracy: 0.8848 - val_loss: 0.5731 - val_accuracy: 0.8276\n",
            "Epoch 81/1000\n",
            "7/7 [==============================] - 1s 101ms/step - loss: 0.3391 - accuracy: 0.8295 - val_loss: 0.5634 - val_accuracy: 0.8190\n",
            "Epoch 82/1000\n",
            "7/7 [==============================] - 1s 97ms/step - loss: 0.3501 - accuracy: 0.8756 - val_loss: 0.5591 - val_accuracy: 0.8276\n",
            "Epoch 83/1000\n",
            "7/7 [==============================] - 1s 96ms/step - loss: 0.3269 - accuracy: 0.8756 - val_loss: 0.5673 - val_accuracy: 0.8362\n",
            "Epoch 84/1000\n",
            "7/7 [==============================] - 1s 91ms/step - loss: 0.2982 - accuracy: 0.8848 - val_loss: 0.5701 - val_accuracy: 0.8276\n",
            "Epoch 85/1000\n",
            "7/7 [==============================] - 1s 95ms/step - loss: 0.3113 - accuracy: 0.8802 - val_loss: 0.5533 - val_accuracy: 0.8448\n",
            "Epoch 86/1000\n",
            "7/7 [==============================] - 1s 101ms/step - loss: 0.2962 - accuracy: 0.8664 - val_loss: 0.5468 - val_accuracy: 0.8362\n",
            "Epoch 87/1000\n",
            "7/7 [==============================] - 1s 132ms/step - loss: 0.3065 - accuracy: 0.8664 - val_loss: 0.5498 - val_accuracy: 0.8448\n",
            "Epoch 88/1000\n",
            "7/7 [==============================] - 1s 172ms/step - loss: 0.2735 - accuracy: 0.8848 - val_loss: 0.5670 - val_accuracy: 0.8362\n",
            "Epoch 89/1000\n",
            "7/7 [==============================] - 1s 206ms/step - loss: 0.3105 - accuracy: 0.8756 - val_loss: 0.5756 - val_accuracy: 0.8190\n",
            "Epoch 90/1000\n",
            "7/7 [==============================] - 1s 105ms/step - loss: 0.3068 - accuracy: 0.8618 - val_loss: 0.5722 - val_accuracy: 0.8190\n",
            "Epoch 91/1000\n",
            "7/7 [==============================] - 1s 91ms/step - loss: 0.2926 - accuracy: 0.8571 - val_loss: 0.5674 - val_accuracy: 0.8362\n",
            "Epoch 92/1000\n",
            "7/7 [==============================] - 1s 93ms/step - loss: 0.2918 - accuracy: 0.8940 - val_loss: 0.5574 - val_accuracy: 0.8448\n",
            "Epoch 93/1000\n",
            "7/7 [==============================] - 1s 93ms/step - loss: 0.2870 - accuracy: 0.8894 - val_loss: 0.5813 - val_accuracy: 0.8362\n",
            "Epoch 94/1000\n",
            "7/7 [==============================] - 1s 102ms/step - loss: 0.3037 - accuracy: 0.8479 - val_loss: 0.5923 - val_accuracy: 0.8276\n",
            "Epoch 95/1000\n",
            "7/7 [==============================] - 1s 96ms/step - loss: 0.2774 - accuracy: 0.8986 - val_loss: 0.5787 - val_accuracy: 0.8362\n",
            "Epoch 96/1000\n",
            "7/7 [==============================] - 1s 101ms/step - loss: 0.3197 - accuracy: 0.8618 - val_loss: 0.5748 - val_accuracy: 0.8276\n",
            "Epoch 97/1000\n",
            "7/7 [==============================] - 1s 103ms/step - loss: 0.2874 - accuracy: 0.8756 - val_loss: 0.5717 - val_accuracy: 0.8276\n",
            "Epoch 98/1000\n",
            "7/7 [==============================] - 1s 94ms/step - loss: 0.2821 - accuracy: 0.8940 - val_loss: 0.5581 - val_accuracy: 0.8362\n",
            "Epoch 99/1000\n",
            "7/7 [==============================] - 1s 102ms/step - loss: 0.3079 - accuracy: 0.8710 - val_loss: 0.5601 - val_accuracy: 0.8276\n",
            "Epoch 100/1000\n",
            "7/7 [==============================] - 1s 103ms/step - loss: 0.2695 - accuracy: 0.8848 - val_loss: 0.5818 - val_accuracy: 0.8362\n",
            "Epoch 101/1000\n",
            "7/7 [==============================] - 1s 105ms/step - loss: 0.2898 - accuracy: 0.8848 - val_loss: 0.6094 - val_accuracy: 0.8276\n",
            "Epoch 102/1000\n",
            "7/7 [==============================] - 1s 94ms/step - loss: 0.3190 - accuracy: 0.8618 - val_loss: 0.6024 - val_accuracy: 0.8190\n",
            "Epoch 103/1000\n",
            "7/7 [==============================] - 1s 92ms/step - loss: 0.2710 - accuracy: 0.9032 - val_loss: 0.5907 - val_accuracy: 0.8276\n"
          ]
        }
      ]
    },
    {
      "cell_type": "code",
      "source": [
        "plot_training_history(history)"
      ],
      "metadata": {
        "colab": {
          "base_uri": "https://localhost:8080/",
          "height": 452
        },
        "id": "CYQlO-jCoW9G",
        "outputId": "7215243e-228e-413e-af79-d50825f5d651"
      },
      "execution_count": null,
      "outputs": [
        {
          "output_type": "display_data",
          "data": {
            "text/plain": [
              "<Figure size 640x480 with 2 Axes>"
            ],
            "image/png": "[encoded data removed]"
          },
          "metadata": {}
        }
      ]
    },
    {
      "cell_type": "markdown",
      "source": [
        "# **Chatbot Testing**"
      ],
      "metadata": {
        "id": "zcjh1z3Y2SKf"
      }
    },
    {
      "cell_type": "code",
      "source": [
        "chatbot_test()"
      ],
      "metadata": {
        "id": "Zi8I7m0qLeCM",
        "colab": {
          "base_uri": "https://localhost:8080/"
        },
        "outputId": "b8daa139-5615-4e6a-a1c2-0e7c2c4a8434"
      },
      "execution_count": null,
      "outputs": [
        {
          "output_type": "stream",
          "name": "stdout",
          "text": [
            "User: siapa kamu\n",
            "1/1 [==============================] - 0s 25ms/step\n",
            "Label: about\n",
            "Chatbot:  Saya Pandora, Personal Therapeutic AI Assistant Anda. Bagaimana perasaan Anda hari ini\n",
            "User: tolong saya\n",
            "1/1 [==============================] - 0s 24ms/step\n",
            "Label: fact_4\n",
            "Chatbot:  Untuk diagnosis depresi, seseorang perlu mengalami suasana hati yang rendah atau kehilangan minat atau kesenangan dalam hidup setidaknya selama 2 minggu. Juga, mereka akan mengalami gejala-gejala berikut: perasaan sedih, putus asa, atau mudah tersinggung hampir setiap hari setiap hari.\n",
            "User: tolong bantu\n",
            "1/1 [==============================] - 0s 24ms/step\n",
            "Label: help\n",
            "Chatbot:  Ya, tentu. Ada yang bisa saya bantu?\n",
            "User: aku merasa sedih\n",
            "1/1 [==============================] - 0s 30ms/step\n",
            "Label: help\n",
            "Chatbot:  Ceritakan masalahmu agar saya bisa membantumu\n",
            "User: aku sedih\n",
            "1/1 [==============================] - 0s 44ms/step\n",
            "Label: scared\n",
            "Chatbot:  Semua akan baik-baik saja. Perasaan ini hanya sesaat.\n",
            "User: aku merasa tertekan\n",
            "1/1 [==============================] - 0s 25ms/step\n",
            "Label: help\n",
            "Chatbot:  Tentu. Katakan padaku bagaimana saya bisa membantu anda\n",
            "User: aku merasa senang pada hari ini\n",
            "1/1 [==============================] - 0s 25ms/step\n",
            "Label: happy\n",
            "Chatbot:  Apakah terjadi sesuatu yang membuatmu merasa seperti ini?\n",
            "User: besok aku akan menikah\n",
            "1/1 [==============================] - 0s 33ms/step\n",
            "Label: jokes\n",
            "Chatbot:  Kesehatan mental bukanlah sebuah lelucon.\n",
            "User: maaf\n",
            "1/1 [==============================] - 0s 27ms/step\n",
            "Label: casual\n",
            "Chatbot:  Ceritakan lebih banyak lagi\n",
            "User: apa yang kamu ketahui mengenai kesehatan mental\n",
            "1/1 [==============================] - 0s 29ms/step\n",
            "Label: fact_25\n",
            "Chatbot:  Tantangan atau masalah pada kesehatan mental Anda dapat muncul dari masalah psikologis, biologis, dan sosial, serta peristiwa kehidupan.\n",
            "User: apa itu kesehatan mental\n",
            "1/1 [==============================] - 0s 27ms/step\n",
            "Label: fact_1\n",
            "Chatbot:  Kesehatan mental adalah kesehatan yang berkaitan dengan kondisi emosi, kejiwaan, dan psikis seseorang\n",
            "User: depresi adalah\n",
            "1/1 [==============================] - 0s 26ms/step\n",
            "Label: fact_3\n",
            "Chatbot:  Gangguan kesehatan mental yang ditandai dengan suasana hati yang tertekan atau kehilangan minat dalam kegiatan, menyebabkan gangguan yang signifikan dalam kehidupan sehari -hari.\n",
            "User: beda depresi dan kesedihan\n",
            "1/1 [==============================] - 0s 25ms/step\n",
            "Label: depressed\n",
            "Chatbot:  Terkadang saat kita mengalami depresi, sulit untuk memedulikan apa pun. Sulit untuk melakukan hal yang paling sederhana. Beri diri Anda waktu untuk pulih.\n",
            "User: beda antara kesedihan dan depresi\n",
            "1/1 [==============================] - 0s 26ms/step\n",
            "Label: fact_30\n",
            "Chatbot:  Kesedihan merupakan reaksi normal terhadap kehilangan, kekecewaan, masalah, atau situasi sulit lainnya. Merasa sedih dari waktu ke waktu hanyalah bagian lain dari menjadi manusia. Dalam kasus ini, perasaan sedih akan hilang dengan cepat dan Anda dapat menjalani kehidupan sehari-hari. Cara lain untuk mengungkapkan kesedihan adalah dengan merasa sedih, sedih, atau sedih. Seseorang mungkin mengatakan bahwa mereka merasa tertekan, tetapi jika perasaan itu hilang dengan sendirinya dan tidak berdampak besar pada kehidupan, mungkin hal itu tidak terjadi. t penyakit depresi. Depresi adalah penyakit mental yang memengaruhi suasana hati Anda, cara Anda memahami diri sendiri, dan cara Anda memahami serta berhubungan dengan hal-hal di sekitar Anda. Bisa juga dengan nama yang berbeda, seperti depresi klinis, gangguan depresi mayor, atau depresi berat. Depresi bisa muncul tanpa sebab dan berlangsung dalam jangka waktu lama. Ini lebih dari sekedar kesedihan atau suasana hati yang buruk. Orang yang mengalami depresi mungkin merasa tidak berharga atau putus asa. Mereka mungkin merasa bersalah tanpa alasan. Beberapa orang mungkin mengalami depresi sebagai kemarahan atau mudah tersinggung. Mungkin sulit untuk berkonsentrasi atau mengambil keputusan. Kebanyakan orang kehilangan minat pada hal-hal yang dulu mereka sukai dan mungkin mengasingkan diri dari orang lain. Ada juga tanda-tanda fisik depresi, seperti masalah tidur, nafsu makan dan energi, serta rasa sakit atau nyeri yang tidak dapat dijelaskan. Beberapa orang mungkin mengalami pemikiran sulit tentang kematian atau mengakhiri hidup mereka (bunuh diri). Depresi berlangsung lebih dari dua minggu, biasanya tidak hilang dengan sendirinya, dan berdampak pada kehidupan Anda. Ini penyakit yang nyata dan sangat bisa diobati. Penting untuk mencari bantuan jika Anda khawatir tentang depresi.\n",
            "User: beda kecemasan dan stres\n",
            "1/1 [==============================] - 0s 29ms/step\n",
            "Label: depressed\n",
            "Chatbot:  Bicaralah padaku. Ceritakan lebih banyak lagi. Akan membantu jika kamu membuka dirimu pada orang lain.\n",
            "User: perbedaan kecemasan dan stres\n",
            "1/1 [==============================] - 0s 39ms/step\n",
            "Label: fact_30\n",
            "Chatbot:  Kesedihan merupakan reaksi normal terhadap kehilangan, kekecewaan, masalah, atau situasi sulit lainnya. Merasa sedih dari waktu ke waktu hanyalah bagian lain dari menjadi manusia. Dalam kasus ini, perasaan sedih akan hilang dengan cepat dan Anda dapat menjalani kehidupan sehari-hari. Cara lain untuk mengungkapkan kesedihan adalah dengan merasa sedih, sedih, atau sedih. Seseorang mungkin mengatakan bahwa mereka merasa tertekan, tetapi jika perasaan itu hilang dengan sendirinya dan tidak berdampak besar pada kehidupan, mungkin hal itu tidak terjadi. t penyakit depresi. Depresi adalah penyakit mental yang memengaruhi suasana hati Anda, cara Anda memahami diri sendiri, dan cara Anda memahami serta berhubungan dengan hal-hal di sekitar Anda. Bisa juga dengan nama yang berbeda, seperti depresi klinis, gangguan depresi mayor, atau depresi berat. Depresi bisa muncul tanpa sebab dan berlangsung dalam jangka waktu lama. Ini lebih dari sekedar kesedihan atau suasana hati yang buruk. Orang yang mengalami depresi mungkin merasa tidak berharga atau putus asa. Mereka mungkin merasa bersalah tanpa alasan. Beberapa orang mungkin mengalami depresi sebagai kemarahan atau mudah tersinggung. Mungkin sulit untuk berkonsentrasi atau mengambil keputusan. Kebanyakan orang kehilangan minat pada hal-hal yang dulu mereka sukai dan mungkin mengasingkan diri dari orang lain. Ada juga tanda-tanda fisik depresi, seperti masalah tidur, nafsu makan dan energi, serta rasa sakit atau nyeri yang tidak dapat dijelaskan. Beberapa orang mungkin mengalami pemikiran sulit tentang kematian atau mengakhiri hidup mereka (bunuh diri). Depresi berlangsung lebih dari dua minggu, biasanya tidak hilang dengan sendirinya, dan berdampak pada kehidupan Anda. Ini penyakit yang nyata dan sangat bisa diobati. Penting untuk mencari bantuan jika Anda khawatir tentang depresi.\n",
            "User: perbedaan kecemasan dan stress\n",
            "1/1 [==============================] - 0s 31ms/step\n",
            "Label: fact_29\n",
            "Chatbot:  Stres dan kecemasan sering digunakan secara bergantian, dan terdapat tumpang tindih antara stres dan kecemasan. Stres terkait dengan respons melawan, lari, atau membekukan yang sama dengan kecemasan, dan sensasi fisik dari kecemasan dan stres mungkin sangat mirip. Namun, penyebab stres dan kecemasan biasanya berbeda. Stres terutama berfokus pada tekanan eksternal yang sulit kita atasi. Saat kita stres, kita biasanya mengetahui apa yang membuat kita stres, dan gejala stres biasanya hilang setelah situasi stres tersebut selesai. Kecemasan, di sisi lain, tidak selalu mudah untuk diketahui. Kecemasan berfokus pada kekhawatiran atau ketakutan terhadap hal-hal yang dapat mengancam kita, serta kecemasan terhadap kecemasan itu sendiri. Stres dan kecemasan sama-sama merupakan bagian dari kehidupan manusia, namun keduanya bisa menjadi masalah jika berlangsung lama atau berdampak pada kesejahteraan atau kehidupan kita sehari-hari.\n",
            "User: sampai jumpa\n",
            "1/1 [==============================] - 0s 27ms/step\n",
            "Label: goodbye\n",
            "Chatbot:  Sampai ketemu lagi.\n"
          ]
        }
      ]
    },
    {
      "cell_type": "markdown",
      "source": [
        "# **Saving and Converting Model into TFLite**"
      ],
      "metadata": {
        "id": "NCMZ7c0Z2X3Y"
      }
    },
    {
      "cell_type": "code",
      "source": [
        "tf.saved_model.save(model,'/content/TFLite/')\n"
      ],
      "metadata": {
        "id": "zRxdqmFEijn0"
      },
      "execution_count": null,
      "outputs": []
    },
    {
      "cell_type": "code",
      "source": [
        "saved_model_path = '/content/TFLite/'\n",
        "\n",
        "\n",
        "loaded_model = tf.saved_model.load(saved_model_path)\n",
        "\n",
        "converter = tf.lite.TFLiteConverter.from_saved_model(saved_model_path)\n",
        "converter.target_spec.supported_ops = [tf.lite.OpsSet.TFLITE_BUILTINS, tf.lite.OpsSet.SELECT_TF_OPS]\n",
        "converter._experimental_lower_tensor_list_ops = False\n",
        "\n",
        "tflite_model = converter.convert()\n",
        "\n",
        "tflite_model_file = pathlib.Path('chatbot_model.tflite')\n",
        "tflite_model_file.write_bytes(tflite_model)"
      ],
      "metadata": {
        "id": "yCoeB4X8VApw",
        "colab": {
          "base_uri": "https://localhost:8080/"
        },
        "outputId": "e11ac3e5-934e-426f-ec9e-e5fdcd759291"
      },
      "execution_count": null,
      "outputs": [
        {
          "output_type": "execute_result",
          "data": {
            "text/plain": [
              "9897324"
            ]
          },
          "metadata": {},
          "execution_count": 37
        }
      ]
    },
    {
      "cell_type": "code",
      "source": [
        "from google.colab import files\n",
        "files.download('chatbot_model.tflite')"
      ],
      "metadata": {
        "id": "ayLSv0IDlwLh",
        "colab": {
          "base_uri": "https://localhost:8080/",
          "height": 17
        },
        "outputId": "59b47f89-d5cd-4de3-e3de-3e359e2ff138"
      },
      "execution_count": null,
      "outputs": [
        {
          "output_type": "display_data",
          "data": {
            "text/plain": [
              "<IPython.core.display.Javascript object>"
            ],
            "application/javascript": [
              "\n",
              "    async function download(id, filename, size) {\n",
              "      if (!google.colab.kernel.accessAllowed) {\n",
              "        return;\n",
              "      }\n",
              "      const div = document.createElement('div');\n",
              "      const label = document.createElement('label');\n",
              "      label.textContent = `Downloading \"${filename}\": `;\n",
              "      div.appendChild(label);\n",
              "      const progress = document.createElement('progress');\n",
              "      progress.max = size;\n",
              "      div.appendChild(progress);\n",
              "      document.body.appendChild(div);\n",
              "\n",
              "      const buffers = [];\n",
              "      let downloaded = 0;\n",
              "\n",
              "      const channel = await google.colab.kernel.comms.open(id);\n",
              "      // Send a message to notify the kernel that we're ready.\n",
              "      channel.send({})\n",
              "\n",
              "      for await (const message of channel.messages) {\n",
              "        // Send a message to notify the kernel that we're ready.\n",
              "        channel.send({})\n",
              "        if (message.buffers) {\n",
              "          for (const buffer of message.buffers) {\n",
              "            buffers.push(buffer);\n",
              "            downloaded += buffer.byteLength;\n",
              "            progress.value = downloaded;\n",
              "          }\n",
              "        }\n",
              "      }\n",
              "      const blob = new Blob(buffers, {type: 'application/binary'});\n",
              "      const a = document.createElement('a');\n",
              "      a.href = window.URL.createObjectURL(blob);\n",
              "      a.download = filename;\n",
              "      div.appendChild(a);\n",
              "      a.click();\n",
              "      div.remove();\n",
              "    }\n",
              "  "
            ]
          },
          "metadata": {}
        },
        {
          "output_type": "display_data",
          "data": {
            "text/plain": [
              "<IPython.core.display.Javascript object>"
            ],
            "application/javascript": [
              "download(\"download_982ff934-dac8-4a77-b105-289fca4be620\", \"chatbot_model.tflite\", 9897324)"
            ]
          },
          "metadata": {}
        }
      ]
    }
  ]
}