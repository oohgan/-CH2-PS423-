{
  "nbformat": 4,
  "nbformat_minor": 0,
  "metadata": {
    "colab": {
      "provenance": [],
      "gpuType": "T4"
    },
    "kernelspec": {
      "name": "python3",
      "display_name": "Python 3"
    },
    "language_info": {
      "name": "python"
    },
    "accelerator": "GPU"
  },
  "cells": [
    {
      "cell_type": "code",
      "execution_count": 1,
      "metadata": {
        "id": "9UoNwXjMtJ15"
      },
      "outputs": [],
      "source": [
        "import json\n",
        "import string\n",
        "import random\n",
        "import pathlib\n",
        "import numpy as np\n",
        "import pandas as pd\n",
        "import tensorflow as tf\n",
        "import matplotlib.pyplot as plt"
      ]
    },
    {
      "cell_type": "code",
      "source": [
        "from tensorflow.keras.models import Model\n",
        "from tensorflow.keras.utils import plot_model\n",
        "from sklearn.preprocessing import LabelEncoder\n",
        "from tensorflow.keras.preprocessing.text import Tokenizer\n",
        "from tensorflow.keras.preprocessing.sequence import pad_sequences"
      ],
      "metadata": {
        "id": "0gSyTq6fBs0v"
      },
      "execution_count": 2,
      "outputs": []
    },
    {
      "cell_type": "code",
      "source": [
        "with open('/content/Mental Health Conversational.json', 'r') as content:\n",
        "  chatbot = json.load(content)\n",
        "data = pd.DataFrame(chatbot['intents'])"
      ],
      "metadata": {
        "id": "2mHdDoN2zhiK"
      },
      "execution_count": 3,
      "outputs": []
    },
    {
      "cell_type": "code",
      "source": [
        "dictionary = {\"tag\":[], \"patterns\":[], \"responses\":[]}\n",
        "for i in range (len(data)):\n",
        "  pattern = data[data.index==i]['patterns'].values[0]\n",
        "  response = data[data.index==i]['responses'].values[0]\n",
        "  tag = data[data.index==i]['tag'].values[0]\n",
        "  for j in range (len(pattern)):\n",
        "    dictionary['tag'].append(tag)\n",
        "    dictionary['patterns'].append(pattern[j])\n",
        "    dictionary['responses'].append(response)\n",
        "data = pd.DataFrame.from_dict(dictionary)\n",
        "data"
      ],
      "metadata": {
        "id": "DePlw14BxZ55",
        "colab": {
          "base_uri": "https://localhost:8080/",
          "height": 423
        },
        "outputId": "780de117-a122-47bc-9046-2029d3422937"
      },
      "execution_count": 4,
      "outputs": [
        {
          "output_type": "execute_result",
          "data": {
            "text/plain": [
              "          tag                                           patterns  \\\n",
              "0    greeting                                                Hai   \n",
              "1    greeting                                               Halo   \n",
              "2    greeting                                                 Hi   \n",
              "3    greeting                                     Hai apa kabar?   \n",
              "4     morning                                       Selamat pagi   \n",
              "..        ...                                                ...   \n",
              "218   fact_28  Apa yang harus saya lakukan jika saya khawatir...   \n",
              "219   fact_29        Bagaimana saya tahu kalau saya tidak sehat?   \n",
              "220   fact_30  Bagaimana saya bisa menjaga hubungan sosial? B...   \n",
              "221   fact_31          Apa perbedaan antara kecemasan dan stres?   \n",
              "222   fact_32        Apa perbedaan antara kesedihan dan depresi?   \n",
              "\n",
              "                                             responses  \n",
              "0    [Halo! Selamat bertemu denganmu. Bagaimana kab...  \n",
              "1    [Halo! Selamat bertemu denganmu. Bagaimana kab...  \n",
              "2    [Halo! Selamat bertemu denganmu. Bagaimana kab...  \n",
              "3    [Halo! Selamat bertemu denganmu. Bagaimana kab...  \n",
              "4    [Selamat pagi. Saya harap Anda tidur nyenyak. ...  \n",
              "..                                                 ...  \n",
              "218  [Yang paling penting adalah berbicara dengan s...  \n",
              "219  [Jika keyakinan, pikiran, perasaan, atau peril...  \n",
              "220  [Banyak orang yang sendirian saat ini, tapi ki...  \n",
              "221  [Stres dan kecemasan sering digunakan secara b...  \n",
              "222  [Kesedihan merupakan reaksi normal terhadap ke...  \n",
              "\n",
              "[223 rows x 3 columns]"
            ],
            "text/html": [
              "\n",
              "  <div id=\"df-2d3e232d-2999-4165-bb34-b9e0f9b0b8e2\" class=\"colab-df-container\">\n",
              "    <div>\n",
              "<style scoped>\n",
              "    .dataframe tbody tr th:only-of-type {\n",
              "        vertical-align: middle;\n",
              "    }\n",
              "\n",
              "    .dataframe tbody tr th {\n",
              "        vertical-align: top;\n",
              "    }\n",
              "\n",
              "    .dataframe thead th {\n",
              "        text-align: right;\n",
              "    }\n",
              "</style>\n",
              "<table border=\"1\" class=\"dataframe\">\n",
              "  <thead>\n",
              "    <tr style=\"text-align: right;\">\n",
              "      <th></th>\n",
              "      <th>tag</th>\n",
              "      <th>patterns</th>\n",
              "      <th>responses</th>\n",
              "    </tr>\n",
              "  </thead>\n",
              "  <tbody>\n",
              "    <tr>\n",
              "      <th>0</th>\n",
              "      <td>greeting</td>\n",
              "      <td>Hai</td>\n",
              "      <td>[Halo! Selamat bertemu denganmu. Bagaimana kab...</td>\n",
              "    </tr>\n",
              "    <tr>\n",
              "      <th>1</th>\n",
              "      <td>greeting</td>\n",
              "      <td>Halo</td>\n",
              "      <td>[Halo! Selamat bertemu denganmu. Bagaimana kab...</td>\n",
              "    </tr>\n",
              "    <tr>\n",
              "      <th>2</th>\n",
              "      <td>greeting</td>\n",
              "      <td>Hi</td>\n",
              "      <td>[Halo! Selamat bertemu denganmu. Bagaimana kab...</td>\n",
              "    </tr>\n",
              "    <tr>\n",
              "      <th>3</th>\n",
              "      <td>greeting</td>\n",
              "      <td>Hai apa kabar?</td>\n",
              "      <td>[Halo! Selamat bertemu denganmu. Bagaimana kab...</td>\n",
              "    </tr>\n",
              "    <tr>\n",
              "      <th>4</th>\n",
              "      <td>morning</td>\n",
              "      <td>Selamat pagi</td>\n",
              "      <td>[Selamat pagi. Saya harap Anda tidur nyenyak. ...</td>\n",
              "    </tr>\n",
              "    <tr>\n",
              "      <th>...</th>\n",
              "      <td>...</td>\n",
              "      <td>...</td>\n",
              "      <td>...</td>\n",
              "    </tr>\n",
              "    <tr>\n",
              "      <th>218</th>\n",
              "      <td>fact_28</td>\n",
              "      <td>Apa yang harus saya lakukan jika saya khawatir...</td>\n",
              "      <td>[Yang paling penting adalah berbicara dengan s...</td>\n",
              "    </tr>\n",
              "    <tr>\n",
              "      <th>219</th>\n",
              "      <td>fact_29</td>\n",
              "      <td>Bagaimana saya tahu kalau saya tidak sehat?</td>\n",
              "      <td>[Jika keyakinan, pikiran, perasaan, atau peril...</td>\n",
              "    </tr>\n",
              "    <tr>\n",
              "      <th>220</th>\n",
              "      <td>fact_30</td>\n",
              "      <td>Bagaimana saya bisa menjaga hubungan sosial? B...</td>\n",
              "      <td>[Banyak orang yang sendirian saat ini, tapi ki...</td>\n",
              "    </tr>\n",
              "    <tr>\n",
              "      <th>221</th>\n",
              "      <td>fact_31</td>\n",
              "      <td>Apa perbedaan antara kecemasan dan stres?</td>\n",
              "      <td>[Stres dan kecemasan sering digunakan secara b...</td>\n",
              "    </tr>\n",
              "    <tr>\n",
              "      <th>222</th>\n",
              "      <td>fact_32</td>\n",
              "      <td>Apa perbedaan antara kesedihan dan depresi?</td>\n",
              "      <td>[Kesedihan merupakan reaksi normal terhadap ke...</td>\n",
              "    </tr>\n",
              "  </tbody>\n",
              "</table>\n",
              "<p>223 rows × 3 columns</p>\n",
              "</div>\n",
              "    <div class=\"colab-df-buttons\">\n",
              "\n",
              "  <div class=\"colab-df-container\">\n",
              "    <button class=\"colab-df-convert\" onclick=\"convertToInteractive('df-2d3e232d-2999-4165-bb34-b9e0f9b0b8e2')\"\n",
              "            title=\"Convert this dataframe to an interactive table.\"\n",
              "            style=\"display:none;\">\n",
              "\n",
              "  <svg xmlns=\"http://www.w3.org/2000/svg\" height=\"24px\" viewBox=\"0 -960 960 960\">\n",
              "    <path d=\"M120-120v-720h720v720H120Zm60-500h600v-160H180v160Zm220 220h160v-160H400v160Zm0 220h160v-160H400v160ZM180-400h160v-160H180v160Zm440 0h160v-160H620v160ZM180-180h160v-160H180v160Zm440 0h160v-160H620v160Z\"/>\n",
              "  </svg>\n",
              "    </button>\n",
              "\n",
              "  <style>\n",
              "    .colab-df-container {\n",
              "      display:flex;\n",
              "      gap: 12px;\n",
              "    }\n",
              "\n",
              "    .colab-df-convert {\n",
              "      background-color: #E8F0FE;\n",
              "      border: none;\n",
              "      border-radius: 50%;\n",
              "      cursor: pointer;\n",
              "      display: none;\n",
              "      fill: #1967D2;\n",
              "      height: 32px;\n",
              "      padding: 0 0 0 0;\n",
              "      width: 32px;\n",
              "    }\n",
              "\n",
              "    .colab-df-convert:hover {\n",
              "      background-color: #E2EBFA;\n",
              "      box-shadow: 0px 1px 2px rgba(60, 64, 67, 0.3), 0px 1px 3px 1px rgba(60, 64, 67, 0.15);\n",
              "      fill: #174EA6;\n",
              "    }\n",
              "\n",
              "    .colab-df-buttons div {\n",
              "      margin-bottom: 4px;\n",
              "    }\n",
              "\n",
              "    [theme=dark] .colab-df-convert {\n",
              "      background-color: #3B4455;\n",
              "      fill: #D2E3FC;\n",
              "    }\n",
              "\n",
              "    [theme=dark] .colab-df-convert:hover {\n",
              "      background-color: #434B5C;\n",
              "      box-shadow: 0px 1px 3px 1px rgba(0, 0, 0, 0.15);\n",
              "      filter: drop-shadow(0px 1px 2px rgba(0, 0, 0, 0.3));\n",
              "      fill: #FFFFFF;\n",
              "    }\n",
              "  </style>\n",
              "\n",
              "    <script>\n",
              "      const buttonEl =\n",
              "        document.querySelector('#df-2d3e232d-2999-4165-bb34-b9e0f9b0b8e2 button.colab-df-convert');\n",
              "      buttonEl.style.display =\n",
              "        google.colab.kernel.accessAllowed ? 'block' : 'none';\n",
              "\n",
              "      async function convertToInteractive(key) {\n",
              "        const element = document.querySelector('#df-2d3e232d-2999-4165-bb34-b9e0f9b0b8e2');\n",
              "        const dataTable =\n",
              "          await google.colab.kernel.invokeFunction('convertToInteractive',\n",
              "                                                    [key], {});\n",
              "        if (!dataTable) return;\n",
              "\n",
              "        const docLinkHtml = 'Like what you see? Visit the ' +\n",
              "          '<a target=\"_blank\" href=https://colab.research.google.com/notebooks/data_table.ipynb>data table notebook</a>'\n",
              "          + ' to learn more about interactive tables.';\n",
              "        element.innerHTML = '';\n",
              "        dataTable['output_type'] = 'display_data';\n",
              "        await google.colab.output.renderOutput(dataTable, element);\n",
              "        const docLink = document.createElement('div');\n",
              "        docLink.innerHTML = docLinkHtml;\n",
              "        element.appendChild(docLink);\n",
              "      }\n",
              "    </script>\n",
              "  </div>\n",
              "\n",
              "\n",
              "<div id=\"df-448dd9cd-9062-4b3a-8555-312c14dda40c\">\n",
              "  <button class=\"colab-df-quickchart\" onclick=\"quickchart('df-448dd9cd-9062-4b3a-8555-312c14dda40c')\"\n",
              "            title=\"Suggest charts\"\n",
              "            style=\"display:none;\">\n",
              "\n",
              "<svg xmlns=\"http://www.w3.org/2000/svg\" height=\"24px\"viewBox=\"0 0 24 24\"\n",
              "     width=\"24px\">\n",
              "    <g>\n",
              "        <path d=\"M19 3H5c-1.1 0-2 .9-2 2v14c0 1.1.9 2 2 2h14c1.1 0 2-.9 2-2V5c0-1.1-.9-2-2-2zM9 17H7v-7h2v7zm4 0h-2V7h2v10zm4 0h-2v-4h2v4z\"/>\n",
              "    </g>\n",
              "</svg>\n",
              "  </button>\n",
              "\n",
              "<style>\n",
              "  .colab-df-quickchart {\n",
              "      --bg-color: #E8F0FE;\n",
              "      --fill-color: #1967D2;\n",
              "      --hover-bg-color: #E2EBFA;\n",
              "      --hover-fill-color: #174EA6;\n",
              "      --disabled-fill-color: #AAA;\n",
              "      --disabled-bg-color: #DDD;\n",
              "  }\n",
              "\n",
              "  [theme=dark] .colab-df-quickchart {\n",
              "      --bg-color: #3B4455;\n",
              "      --fill-color: #D2E3FC;\n",
              "      --hover-bg-color: #434B5C;\n",
              "      --hover-fill-color: #FFFFFF;\n",
              "      --disabled-bg-color: #3B4455;\n",
              "      --disabled-fill-color: #666;\n",
              "  }\n",
              "\n",
              "  .colab-df-quickchart {\n",
              "    background-color: var(--bg-color);\n",
              "    border: none;\n",
              "    border-radius: 50%;\n",
              "    cursor: pointer;\n",
              "    display: none;\n",
              "    fill: var(--fill-color);\n",
              "    height: 32px;\n",
              "    padding: 0;\n",
              "    width: 32px;\n",
              "  }\n",
              "\n",
              "  .colab-df-quickchart:hover {\n",
              "    background-color: var(--hover-bg-color);\n",
              "    box-shadow: 0 1px 2px rgba(60, 64, 67, 0.3), 0 1px 3px 1px rgba(60, 64, 67, 0.15);\n",
              "    fill: var(--button-hover-fill-color);\n",
              "  }\n",
              "\n",
              "  .colab-df-quickchart-complete:disabled,\n",
              "  .colab-df-quickchart-complete:disabled:hover {\n",
              "    background-color: var(--disabled-bg-color);\n",
              "    fill: var(--disabled-fill-color);\n",
              "    box-shadow: none;\n",
              "  }\n",
              "\n",
              "  .colab-df-spinner {\n",
              "    border: 2px solid var(--fill-color);\n",
              "    border-color: transparent;\n",
              "    border-bottom-color: var(--fill-color);\n",
              "    animation:\n",
              "      spin 1s steps(1) infinite;\n",
              "  }\n",
              "\n",
              "  @keyframes spin {\n",
              "    0% {\n",
              "      border-color: transparent;\n",
              "      border-bottom-color: var(--fill-color);\n",
              "      border-left-color: var(--fill-color);\n",
              "    }\n",
              "    20% {\n",
              "      border-color: transparent;\n",
              "      border-left-color: var(--fill-color);\n",
              "      border-top-color: var(--fill-color);\n",
              "    }\n",
              "    30% {\n",
              "      border-color: transparent;\n",
              "      border-left-color: var(--fill-color);\n",
              "      border-top-color: var(--fill-color);\n",
              "      border-right-color: var(--fill-color);\n",
              "    }\n",
              "    40% {\n",
              "      border-color: transparent;\n",
              "      border-right-color: var(--fill-color);\n",
              "      border-top-color: var(--fill-color);\n",
              "    }\n",
              "    60% {\n",
              "      border-color: transparent;\n",
              "      border-right-color: var(--fill-color);\n",
              "    }\n",
              "    80% {\n",
              "      border-color: transparent;\n",
              "      border-right-color: var(--fill-color);\n",
              "      border-bottom-color: var(--fill-color);\n",
              "    }\n",
              "    90% {\n",
              "      border-color: transparent;\n",
              "      border-bottom-color: var(--fill-color);\n",
              "    }\n",
              "  }\n",
              "</style>\n",
              "\n",
              "  <script>\n",
              "    async function quickchart(key) {\n",
              "      const quickchartButtonEl =\n",
              "        document.querySelector('#' + key + ' button');\n",
              "      quickchartButtonEl.disabled = true;  // To prevent multiple clicks.\n",
              "      quickchartButtonEl.classList.add('colab-df-spinner');\n",
              "      try {\n",
              "        const charts = await google.colab.kernel.invokeFunction(\n",
              "            'suggestCharts', [key], {});\n",
              "      } catch (error) {\n",
              "        console.error('Error during call to suggestCharts:', error);\n",
              "      }\n",
              "      quickchartButtonEl.classList.remove('colab-df-spinner');\n",
              "      quickchartButtonEl.classList.add('colab-df-quickchart-complete');\n",
              "    }\n",
              "    (() => {\n",
              "      let quickchartButtonEl =\n",
              "        document.querySelector('#df-448dd9cd-9062-4b3a-8555-312c14dda40c button');\n",
              "      quickchartButtonEl.style.display =\n",
              "        google.colab.kernel.accessAllowed ? 'block' : 'none';\n",
              "    })();\n",
              "  </script>\n",
              "</div>\n",
              "    </div>\n",
              "  </div>\n"
            ]
          },
          "metadata": {},
          "execution_count": 4
        }
      ]
    },
    {
      "cell_type": "code",
      "source": [
        "data['tag'].unique()"
      ],
      "metadata": {
        "colab": {
          "base_uri": "https://localhost:8080/"
        },
        "id": "gf3hpV5HIU_I",
        "outputId": "40df0e7b-203a-43cb-b892-83de3f88d42b"
      },
      "execution_count": 5,
      "outputs": [
        {
          "output_type": "execute_result",
          "data": {
            "text/plain": [
              "array(['greeting', 'morning', 'afternoon', 'evening', 'night', 'goodbye',\n",
              "       'thanks', 'about', 'skill', 'creation', 'help', 'sad', 'stressed',\n",
              "       'worthless', 'depressed', 'happy', 'casual', 'anxious',\n",
              "       'not-talking', 'sleep', 'scared', 'death', 'understand', 'done',\n",
              "       'suicide', 'hate-you', 'hate-me', 'default', 'jokes', 'repeat',\n",
              "       'wrong', 'stupid', 'location', 'something-else', 'ask', 'problem',\n",
              "       'no-approach', 'learn-more', 'user-agree', 'meditation',\n",
              "       'user_meditation', 'hugu_useful', 'user-advice',\n",
              "       'learn_mental_health', 'mental_health_fact', 'fact_1', 'fact_2',\n",
              "       'fact_3', 'fact_4', 'fact_5', 'fact_6', 'fact_7', 'fact_8',\n",
              "       'fact_9', 'fact_10', 'fact_11', 'fact_12', 'fact_13', 'fact_14',\n",
              "       'fact_15', 'fact_16', 'fact_17', 'fact_18', 'fact_19', 'fact_20',\n",
              "       'fact_21', 'fact_22', 'fact_23', 'fact_24', 'fact_25', 'fact_26',\n",
              "       'fact_27', 'fact_28', 'fact_29', 'fact_30', 'fact_31', 'fact_32'],\n",
              "      dtype=object)"
            ]
          },
          "metadata": {},
          "execution_count": 5
        }
      ]
    },
    {
      "cell_type": "code",
      "source": [
        "with open('/content/word_dictionary.json', 'r') as f:\n",
        "  json_dict = json.load(f)\n",
        "tokenizer_json=json_dict.keys()\n",
        "\n",
        "tokenizer = Tokenizer(lower=True, split=' ', oov_token='<OOV>')\n",
        "combined = list(data['patterns']) + list(tokenizer_json)\n",
        "tokenizer.fit_on_texts(combined)\n",
        "word_index = tokenizer.word_index\n",
        "\n",
        "tokenizer.get_config()\n",
        "print(len(word_index))"
      ],
      "metadata": {
        "id": "iILLZIyF2HRB",
        "colab": {
          "base_uri": "https://localhost:8080/"
        },
        "outputId": "3d623e1d-c98e-4e09-d4af-44c02190e9fa"
      },
      "execution_count": 6,
      "outputs": [
        {
          "output_type": "stream",
          "name": "stdout",
          "text": [
            "88184\n"
          ]
        }
      ]
    },
    {
      "cell_type": "code",
      "source": [
        "label_encode = LabelEncoder()\n",
        "tokenizer.fit_on_texts(data['patterns'])\n",
        "\n",
        "pattern_train = tokenizer.texts_to_sequences(data['patterns'])\n",
        "x_train = pad_sequences(pattern_train, padding=\"post\")\n",
        "print(\"Input shape : \", x_train.shape)\n",
        "print(len(x_train[0]))"
      ],
      "metadata": {
        "colab": {
          "base_uri": "https://localhost:8080/"
        },
        "id": "4s9JCHXDC4fy",
        "outputId": "a8e55cea-f645-472a-eb7a-d067dec2bbc4"
      },
      "execution_count": 7,
      "outputs": [
        {
          "output_type": "stream",
          "name": "stdout",
          "text": [
            "Input shape :  (223, 18)\n",
            "18\n"
          ]
        }
      ]
    },
    {
      "cell_type": "code",
      "source": [
        "vocabulary = len(tokenizer.word_index)\n",
        "print(\"Number unique word : \",vocabulary)\n",
        "\n",
        "print()\n",
        "x_label = label_encode.fit_transform(data['tag'])\n",
        "print(\"Label shape : \", x_label.shape)\n",
        "print(\"Output length : \", len(np.unique(x_label)))"
      ],
      "metadata": {
        "colab": {
          "base_uri": "https://localhost:8080/"
        },
        "id": "G5gXiaR4bQGH",
        "outputId": "5951fec8-1e08-4fd9-eb9c-959ea90f49a2"
      },
      "execution_count": 8,
      "outputs": [
        {
          "output_type": "stream",
          "name": "stdout",
          "text": [
            "Number unique word :  88184\n",
            "\n",
            "Label shape :  (223,)\n",
            "Output length :  77\n"
          ]
        }
      ]
    },
    {
      "cell_type": "code",
      "source": [
        "# !rm -f glove.6B.zip\n",
        "!wget https://nlp.stanford.edu/data/glove.6B.zip\n",
        "!unzip glove.6B.zip"
      ],
      "metadata": {
        "id": "s1aw9H3BOYD4",
        "colab": {
          "base_uri": "https://localhost:8080/"
        },
        "outputId": "c90da503-c5ae-4e26-a27d-252531a04da1"
      },
      "execution_count": 9,
      "outputs": [
        {
          "output_type": "stream",
          "name": "stdout",
          "text": [
            "--2023-12-13 13:08:47--  https://nlp.stanford.edu/data/glove.6B.zip\n",
            "Resolving nlp.stanford.edu (nlp.stanford.edu)... 171.64.67.140\n",
            "Connecting to nlp.stanford.edu (nlp.stanford.edu)|171.64.67.140|:443... connected.\n",
            "HTTP request sent, awaiting response... 301 Moved Permanently\n",
            "Location: https://downloads.cs.stanford.edu/nlp/data/glove.6B.zip [following]\n",
            "--2023-12-13 13:08:47--  https://downloads.cs.stanford.edu/nlp/data/glove.6B.zip\n",
            "Resolving downloads.cs.stanford.edu (downloads.cs.stanford.edu)... 171.64.64.22\n",
            "Connecting to downloads.cs.stanford.edu (downloads.cs.stanford.edu)|171.64.64.22|:443... connected.\n",
            "HTTP request sent, awaiting response... 200 OK\n",
            "Length: 862182613 (822M) [application/zip]\n",
            "Saving to: ‘glove.6B.zip’\n",
            "\n",
            "glove.6B.zip        100%[===================>] 822.24M  5.13MB/s    in 2m 39s  \n",
            "\n",
            "2023-12-13 13:11:26 (5.18 MB/s) - ‘glove.6B.zip’ saved [862182613/862182613]\n",
            "\n",
            "Archive:  glove.6B.zip\n",
            "  inflating: glove.6B.50d.txt        \n",
            "  inflating: glove.6B.100d.txt       \n",
            "  inflating: glove.6B.200d.txt       \n",
            "  inflating: glove.6B.300d.txt       \n"
          ]
        }
      ]
    },
    {
      "cell_type": "code",
      "source": [
        "glove_dir = \"/content/glove.6B.100d.txt\"\n",
        "embeddings_index = {}\n",
        "file_ = open(glove_dir, encoding='utf8')\n",
        "for line in file_:\n",
        "  arr = line.split()\n",
        "  single_word = arr[0]\n",
        "  w = np.asarray(arr[1:],dtype='float32')\n",
        "  embeddings_index[single_word] = w\n",
        "file_.close()\n",
        "print(len(embeddings_index))"
      ],
      "metadata": {
        "colab": {
          "base_uri": "https://localhost:8080/"
        },
        "id": "ultUUZnCTiB9",
        "outputId": "c88b221f-8500-46ed-857c-089110b4c8dc"
      },
      "execution_count": 10,
      "outputs": [
        {
          "output_type": "stream",
          "name": "stdout",
          "text": [
            "400000\n"
          ]
        }
      ]
    },
    {
      "cell_type": "code",
      "source": [
        "max = vocabulary + 1\n",
        "word_index =tokenizer.word_index\n",
        "embedding_mat = np.zeros((max, 100)).astype(object)\n",
        "for word, i in word_index.items():\n",
        "  embedding_vector = embeddings_index.get(word)\n",
        "  if embedding_vector is not None:\n",
        "    embedding_mat[i] = embedding_vector"
      ],
      "metadata": {
        "id": "QCKdsTHpVQLB"
      },
      "execution_count": 11,
      "outputs": []
    },
    {
      "cell_type": "code",
      "source": [
        "model = tf.keras.Sequential([\n",
        "    tf.keras.layers.Embedding(input_length=x_train.shape[1], input_dim=vocabulary+1, output_dim = 100, mask_zero=True,\n",
        "                              weights=[embedding_mat], trainable=False),\n",
        "    tf.keras.layers.Bidirectional(tf.keras.layers.LSTM(128, return_sequences=True)),\n",
        "    tf.keras.layers.LayerNormalization(),\n",
        "    tf.keras.layers.Bidirectional(tf.keras.layers.LSTM(128, return_sequences=True)),\n",
        "    tf.keras.layers.LayerNormalization(),\n",
        "    tf.keras.layers.Bidirectional(tf.keras.layers.LSTM(128, return_sequences=False)),\n",
        "    tf.keras.layers.LayerNormalization(),\n",
        "    tf.keras.layers.Dense(256, activation='relu'),\n",
        "    tf.keras.layers.LayerNormalization(),\n",
        "    tf.keras.layers.Dropout(0.4),\n",
        "    tf.keras.layers.Dense(len(np.unique(x_label)), activation='softmax')\n",
        "])\n",
        "\n",
        "model.summary()\n",
        "model.compile(loss='sparse_categorical_crossentropy',optimizer='adam',metrics=['accuracy'])\n"
      ],
      "metadata": {
        "id": "dFbuz9mcIrc4",
        "colab": {
          "base_uri": "https://localhost:8080/"
        },
        "outputId": "24b7d9b6-ac3d-40f4-8c34-d3f754623ef4"
      },
      "execution_count": 12,
      "outputs": [
        {
          "output_type": "stream",
          "name": "stdout",
          "text": [
            "Model: \"sequential\"\n",
            "_________________________________________________________________\n",
            " Layer (type)                Output Shape              Param #   \n",
            "=================================================================\n",
            " embedding (Embedding)       (None, 18, 100)           8818500   \n",
            "                                                                 \n",
            " bidirectional (Bidirection  (None, 18, 256)           234496    \n",
            " al)                                                             \n",
            "                                                                 \n",
            " layer_normalization (Layer  (None, 18, 256)           512       \n",
            " Normalization)                                                  \n",
            "                                                                 \n",
            " bidirectional_1 (Bidirecti  (None, 18, 256)           394240    \n",
            " onal)                                                           \n",
            "                                                                 \n",
            " layer_normalization_1 (Lay  (None, 18, 256)           512       \n",
            " erNormalization)                                                \n",
            "                                                                 \n",
            " bidirectional_2 (Bidirecti  (None, 256)               394240    \n",
            " onal)                                                           \n",
            "                                                                 \n",
            " layer_normalization_2 (Lay  (None, 256)               512       \n",
            " erNormalization)                                                \n",
            "                                                                 \n",
            " dense (Dense)               (None, 256)               65792     \n",
            "                                                                 \n",
            " layer_normalization_3 (Lay  (None, 256)               512       \n",
            " erNormalization)                                                \n",
            "                                                                 \n",
            " dropout (Dropout)           (None, 256)               0         \n",
            "                                                                 \n",
            " dense_1 (Dense)             (None, 77)                19789     \n",
            "                                                                 \n",
            "=================================================================\n",
            "Total params: 9929105 (37.88 MB)\n",
            "Trainable params: 1110605 (4.24 MB)\n",
            "Non-trainable params: 8818500 (33.64 MB)\n",
            "_________________________________________________________________\n"
          ]
        }
      ]
    },
    {
      "cell_type": "code",
      "source": [
        "class MyCallback(tf.keras.callbacks.Callback):\n",
        "  def on_epoch_end(self, epoch, logs={}):\n",
        "    if logs.get('accuracy') > 0.82:\n",
        "      self.model.stop_training = True\n",
        "\n",
        "callback=MyCallback()\n",
        "history = model.fit(x_train, x_label,\n",
        "                    batch_size=10, epochs=50, callbacks=callback)\n",
        "# [tf.keras.callbacks.EarlyStopping(monitor='accuracy', patience=5)]"
      ],
      "metadata": {
        "id": "rwJXZ4ExI3-g",
        "colab": {
          "base_uri": "https://localhost:8080/"
        },
        "outputId": "0c66d214-bcc5-4c28-9260-f9d1fe10d86f"
      },
      "execution_count": 13,
      "outputs": [
        {
          "output_type": "stream",
          "name": "stdout",
          "text": [
            "Epoch 1/50\n",
            "23/23 [==============================] - 34s 31ms/step - loss: 5.2824 - accuracy: 0.0448\n",
            "Epoch 2/50\n",
            "23/23 [==============================] - 1s 30ms/step - loss: 2.9325 - accuracy: 0.3094\n",
            "Epoch 3/50\n",
            "23/23 [==============================] - 1s 31ms/step - loss: 2.1687 - accuracy: 0.4574\n",
            "Epoch 4/50\n",
            "23/23 [==============================] - 1s 32ms/step - loss: 1.7404 - accuracy: 0.5695\n",
            "Epoch 5/50\n",
            "23/23 [==============================] - 1s 29ms/step - loss: 1.3351 - accuracy: 0.6502\n",
            "Epoch 6/50\n",
            "23/23 [==============================] - 1s 29ms/step - loss: 1.0894 - accuracy: 0.7130\n",
            "Epoch 7/50\n",
            "23/23 [==============================] - 1s 30ms/step - loss: 0.9828 - accuracy: 0.7354\n",
            "Epoch 8/50\n",
            "23/23 [==============================] - 1s 31ms/step - loss: 0.9614 - accuracy: 0.7489\n",
            "Epoch 9/50\n",
            "23/23 [==============================] - 1s 31ms/step - loss: 0.8644 - accuracy: 0.7713\n",
            "Epoch 10/50\n",
            "23/23 [==============================] - 1s 31ms/step - loss: 0.8352 - accuracy: 0.7444\n",
            "Epoch 11/50\n",
            "23/23 [==============================] - 1s 29ms/step - loss: 0.7271 - accuracy: 0.7758\n",
            "Epoch 12/50\n",
            "23/23 [==============================] - 1s 34ms/step - loss: 0.7868 - accuracy: 0.7220\n",
            "Epoch 13/50\n",
            "23/23 [==============================] - 1s 56ms/step - loss: 0.7229 - accuracy: 0.7713\n",
            "Epoch 14/50\n",
            "23/23 [==============================] - 1s 56ms/step - loss: 0.6705 - accuracy: 0.8027\n",
            "Epoch 15/50\n",
            "23/23 [==============================] - 1s 57ms/step - loss: 0.6075 - accuracy: 0.7937\n",
            "Epoch 16/50\n",
            "23/23 [==============================] - 1s 33ms/step - loss: 0.7227 - accuracy: 0.7623\n",
            "Epoch 17/50\n",
            "23/23 [==============================] - 1s 34ms/step - loss: 0.6098 - accuracy: 0.7937\n",
            "Epoch 18/50\n",
            "23/23 [==============================] - 1s 31ms/step - loss: 0.6105 - accuracy: 0.8072\n",
            "Epoch 19/50\n",
            "23/23 [==============================] - 1s 29ms/step - loss: 0.6261 - accuracy: 0.7892\n",
            "Epoch 20/50\n",
            "23/23 [==============================] - 1s 30ms/step - loss: 0.5743 - accuracy: 0.8251\n"
          ]
        }
      ]
    },
    {
      "cell_type": "code",
      "source": [
        "plt.subplot(1, 2, 1)\n",
        "plt.plot(history.history['accuracy'], label='Train Accuracy', color ='blue')\n",
        "plt.legend(loc='lower right')\n",
        "plt.title('Accuracy')\n",
        "plt.ylim(0, 1.0)\n",
        "plt.subplot(1, 2, 2)\n",
        "plt.plot(history.history['loss'], label='loss', color='orange')\n",
        "plt.legend(loc='upper right')\n",
        "plt.title('Accuracy')\n",
        "plt.ylim(0, 1.0)\n",
        "plt.show()"
      ],
      "metadata": {
        "id": "wgkwpT0uhvY1",
        "colab": {
          "base_uri": "https://localhost:8080/",
          "height": 452
        },
        "outputId": "84c9cf2c-db89-4d00-a572-b94deb416fda"
      },
      "execution_count": 14,
      "outputs": [
        {
          "output_type": "display_data",
          "data": {
            "text/plain": [
              "<Figure size 640x480 with 2 Axes>"
            ],
            "image/png": "[encoded data removed]"
          },
          "metadata": {}
        }
      ]
    },
    {
      "cell_type": "code",
      "source": [
        "def chatbot_test():\n",
        "  while True:\n",
        "    user_input = input(\"User: \")\n",
        "\n",
        "    pattern_test = tokenizer.texts_to_sequences([user_input])\n",
        "    x_test = pad_sequences(pattern_test, padding=\"post\")\n",
        "\n",
        "    prediction = model.predict(x_test)[0]\n",
        "    label = label_encode.inverse_transform([np.argmax(prediction)])[0]\n",
        "    response = data[data['tag'] == label]['responses'].values[0]\n",
        "\n",
        "    print(\"Chatbot: \", format(random.choice(response)))\n",
        "    if label=='goodbye' or label=='thanks':\n",
        "      break\n",
        "chatbot_test()"
      ],
      "metadata": {
        "id": "Zi8I7m0qLeCM",
        "colab": {
          "base_uri": "https://localhost:8080/"
        },
        "outputId": "9d7fe37f-5745-4c95-9c03-61beb1458ed7"
      },
      "execution_count": 15,
      "outputs": [
        {
          "output_type": "stream",
          "name": "stdout",
          "text": [
            "User: hai\n",
            "1/1 [==============================] - 8s 8s/step\n",
            "Chatbot:  Halo, senang melihat Anda kembali. Apa yang terjadi di duniamu sekarang?\n",
            "User: apa itu depresi\n",
            "1/1 [==============================] - 10s 10s/step\n",
            "Chatbot:  Psikolog adalah sebutan bagi seseorang yang mendalami ilmu psikologi.\n",
            "User: siapa kamu\n",
            "1/1 [==============================] - 0s 24ms/step\n",
            "Chatbot:  Saya Pandora, Personal Therapeutic AI Assistant Anda. Bagaimana perasaan Anda hari ini\n",
            "User: depressi adalah\n",
            "1/1 [==============================] - 0s 23ms/step\n",
            "Chatbot:  Menurut UNICEF, depresi adalah kondisi kesehatan mental yang ditandai dengan perasaan sedih, putus asa, dan kehilangan minat pada kegiatan yang biasa dinikmati. Depresi dapat menyebabkan gangguan pada fungsi sehari-hari, seperti kesulitan tidur, gangguan nafsu makan, dan kesulitan berkonsentrasi.\n",
            "User: siapa saja yang dapat terkena depresi\n",
            "1/1 [==============================] - 0s 28ms/step\n",
            "Chatbot:  Tidak masalah. Saya mengerti mengapa Anda menjadi stres karena hal itu. Saya dapat menyarankan beberapa tips untuk mengatasi masalah ini. Apakah Anda ingin mempelajari lebih lanjut tentang hal itu?\n",
            "User: Menurutmu siapa saja yang dapat terkena depresi\n",
            "1/1 [==============================] - 0s 26ms/step\n",
            "Chatbot:  Kamu bisa bicara padaku tanpa takut dihakimi.\n",
            "User: Selamat malam\n",
            "1/1 [==============================] - 0s 25ms/step\n",
            "Chatbot:  Selamat malam mimpi indah.\n",
            "User: Apa yang bisa anda lakukan\n",
            "1/1 [==============================] - 0s 24ms/step\n",
            "Chatbot:  Saya dapat memberikan nasihat umum mengenai kecemasan dan depresi, menjawab pertanyaan terkait kesehatan mental, dan melakukan percakapan sehari-hari. Perlu diingat bahwa saya bukan sebagai pengganti ahli kesehatan mental.\n",
            "User: Siapa yang membuatmu\n",
            "1/1 [==============================] - 0s 28ms/step\n",
            "Chatbot:  Saya dilatih tentang kumpulan data teks menggunakan Deep Learning & Natural Language Processing techniques\n",
            "User: Saya akan terus berlatih meditasi dan fokus\n",
            "1/1 [==============================] - 0s 35ms/step\n",
            "Chatbot:  Jadi pertama-tama saya sarankan Anda memberi diri Anda waktu istirahat. Memikirkan masalah lebih lanjut pasti tidak akan membantu menyelesaikannya. Anda hanya akan membuat diri Anda kewalahan.\n",
            "User: Sekali lagi terima kasih banyak. Saya akan terus berlatih meditasi dan fokus pada apa yang bisa saya kendalikan\n",
            "1/1 [==============================] - 0s 36ms/step\n",
            "Chatbot:  Saya senang Anda menganggap ini berguna. Adakah hal lain yang bisa saya bantu?\n",
            "User: fakta tentang kesehatan mental\n",
            "1/1 [==============================] - 0s 44ms/step\n",
            "Chatbot:  Riset Kesehatan Dasar (Riskesdas) 2018, menunjukkan lebih dari 19 juta penduduk berusia lebih dari 15 tahun mengalami gangguan mental emosional, dan lebih dari 12 juta penduduk berusia lebih dari 15 tahun mengalami depresi.\n",
            "User: kenapa kesehatan mental itu penting\n",
            "1/1 [==============================] - 0s 26ms/step\n",
            "Chatbot:  Ketika Anda memiliki kesehatan mental yang baik, Anda lebih mungkin untuk menjalin hubungan yang positif dan bermakna dengan orang lain. Anda juga lebih mungkin untuk membangun hubungan yang saling mendukung dan penuh kasih sayang.\n",
            "User: tentukan depresi\n",
            "1/1 [==============================] - 0s 26ms/step\n",
            "Chatbot:  Saya turut berbela sungkawa. Saya di sini jika Anda perlu bicara.\n",
            "User: depresi adalah\n",
            "1/1 [==============================] - 0s 35ms/step\n",
            "Chatbot:  Gangguan kesehatan mental yang ditandai dengan suasana hati yang tertekan atau kehilangan minat dalam kegiatan, menyebabkan gangguan yang signifikan dalam kehidupan sehari -hari.\n",
            "User: apakah saya depresi\n",
            "1/1 [==============================] - 0s 41ms/step\n",
            "Chatbot:  Untuk diagnosis depresi, seseorang perlu mengalami suasana hati yang rendah atau kehilangan minat atau kesenangan dalam hidup setidaknya selama 2 minggu. Juga, mereka akan mengalami gejala-gejala berikut: perasaan sedih, putus asa, atau mudah tersinggung hampir setiap hari setiap hari.\n",
            "User: gejala gangguan kecemasan\n",
            "1/1 [==============================] - 0s 43ms/step\n",
            "Chatbot:  Saya turut berbela sungkawa. Saya di sini jika Anda perlu bicara.\n",
            "User: Gejala gangguan kecemasan\n",
            "1/1 [==============================] - 0s 35ms/step\n",
            "Chatbot:  Saya sungguh sedih mendengarnya. Saya di sini untuk membantu Anda mengatasi kesedihan, kecemasan, dan hal lain yang mungkin Anda rasakan saat ini.\n",
            "User: Apakah saya mungkin memiliki kecemasan\n",
            "1/1 [==============================] - 0s 23ms/step\n",
            "Chatbot:  Beberapa tanda umum gangguan kecemasan melibatkan perubahan perilaku dan respons emosional yang tidak proporsional terhadap situasi. Jika Anda merasa khawatir atau cemas secara terus-menerus tanpa alasan yang jelas, konsultasikan dengan profesional kesehatan mental. Mereka dapat membantu menilai dan mengelola kecemasan Anda.\n",
            "User: siapa psikolog\n",
            "1/1 [==============================] - 0s 23ms/step\n",
            "Chatbot:  Saya turut berbela sungkawa. Saya di sini jika Anda perlu bicara.\n",
            "User: Siapa itu psikolog\n",
            "1/1 [==============================] - 0s 33ms/step\n",
            "Chatbot:  Psikolog secara umum adalah seorang ahli psikologi, bidang ilmu pengetahuan yang mempelajari tingkah laku dan proses mental.\n",
            "User: apa itu penyakit mental\n",
            "1/1 [==============================] - 0s 24ms/step\n",
            "Chatbot:  Kesehatan mental yang baik adalah kondisi ketika batin kita berada dalam keadaan tentram dan tenang, sehingga memungkinkan kita untuk menikmati kehidupan sehari-hari dan menghargai orang lain di sekitar.\n",
            "User: apa yang dimaksud dengan kesehatan mental\n",
            "1/1 [==============================] - 0s 27ms/step\n",
            "Chatbot:  Menurut World Health Organization (WHO), kesehatan adalah keadaan sejahtera badan, jiwa dan sosial yang memungkinkan setiap orang hidup produktif secara sosial dan ekonomi.\n",
            "User: siapa yang dapat terpengaruh oleh penyakit kesehatan mental\n",
            "1/1 [==============================] - 0s 40ms/step\n",
            "Chatbot:  Diperkirakan penyakit mental mempengaruhi 1 dari 5 orang dewasa di Amerika, dan 1 dari 24 orang dewasa mempunyai penyakit mental yang serius. Penyakit mental tidak membeda-bedakan; penyakit ini dapat menyerang siapa saja, tanpa memandang jenis kelamin, usia, pendapatan, status sosial, etnis, agama, orientasi seksual, atau latar belakang. Meskipun penyakit mental dapat menyerang siapa saja, kondisi tertentu mungkin lebih umum terjadi pada populasi yang berbeda. Misalnya, gangguan makan cenderung lebih sering terjadi pada wanita, sedangkan gangguan seperti gangguan pemusatan perhatian/hiperaktivitas lebih banyak terjadi pada anak-anak. Selain itu, semua usia rentan, namun kelompok muda dan tua merupakan kelompok yang paling rentan. Penyakit mental biasanya menyerang individu pada usia puncak, dengan 75 persen kondisi kesehatan mental berkembang pada usia 24 tahun. Hal ini membuat identifikasi dan pengobatan gangguan mental menjadi sangat sulit, karena perubahan kepribadian dan perilaku normal pada masa remaja mungkin menutupi gejala penyakit mental. suatu kondisi kesehatan mental. Orang tua dan pengasuh harus menyadari fakta ini, dan memperhatikan perubahan suasana hati, kepribadian, kebiasaan pribadi, dan penarikan diri dari pergaulan anak mereka. Jika hal ini terjadi pada anak di bawah 18 tahun, hal ini disebut sebagai gangguan emosional serius (GED).\n",
            "User: apa yang menyebabkan kesehatan mental\n",
            "1/1 [==============================] - 0s 43ms/step\n",
            "Chatbot:  Penyebab penyakit mental kompleks dan seringkali melibatkan interaksi berbagai faktor seperti, faktor genetik, biotik, lingkungan, psikologis, dan kombinasi beberapa faktor lain.\n",
            "User: bolekah saya bertanya \n",
            "1/1 [==============================] - 0s 35ms/step\n",
            "Chatbot:  Untuk diagnosis depresi, seseorang perlu mengalami suasana hati yang rendah atau kehilangan minat atau kesenangan dalam hidup setidaknya selama 2 minggu. Juga, mereka akan mengalami gejala-gejala berikut: perasaan sedih, putus asa, atau mudah tersinggung hampir setiap hari setiap hari.\n",
            "User: Bolehkah saya bertanya sesuatu\n",
            "1/1 [==============================] - 0s 36ms/step\n",
            "Chatbot:  Untuk diagnosis depresi, seseorang perlu mengalami suasana hati yang rendah atau kehilangan minat atau kesenangan dalam hidup setidaknya selama 2 minggu. Juga, mereka akan mengalami gejala-gejala berikut: perasaan sedih, putus asa, atau mudah tersinggung hampir setiap hari setiap hari.\n",
            "User: Apakah saya boleh bertanya sesuatu\n",
            "1/1 [==============================] - 0s 27ms/step\n",
            "Chatbot:  Tentu. Aku akan berusaha semaksimal mungkin untuk menjawabmu\n",
            "User: Saya ingin berbicara tentang hal lain\n",
            "1/1 [==============================] - 0s 25ms/step\n",
            "Chatbot:  Baiklah tidak masalah. Apakah ada yang ingin kamu bicarakan?\n",
            "User: apa itu kesehatan mental\n",
            "1/1 [==============================] - 0s 28ms/step\n",
            "Chatbot:  Menurut World Health Organization (WHO), kesehatan adalah keadaan sejahtera badan, jiwa dan sosial yang memungkinkan setiap orang hidup produktif secara sosial dan ekonomi.\n",
            "User: terima kasih sampai jumpa\n",
            "1/1 [==============================] - 0s 40ms/step\n",
            "Chatbot:  Dengan senang hati\n"
          ]
        }
      ]
    },
    {
      "cell_type": "code",
      "source": [
        "tf.saved_model.save(model,'/content/TFLite/')\n"
      ],
      "metadata": {
        "id": "zRxdqmFEijn0"
      },
      "execution_count": 16,
      "outputs": []
    },
    {
      "cell_type": "code",
      "source": [
        "saved_model_path = '/content/TFLite/'\n",
        "\n",
        "\n",
        "loaded_model = tf.saved_model.load(saved_model_path)\n",
        "\n",
        "converter = tf.lite.TFLiteConverter.from_saved_model(saved_model_path)\n",
        "converter.target_spec.supported_ops = [tf.lite.OpsSet.TFLITE_BUILTINS, tf.lite.OpsSet.SELECT_TF_OPS]\n",
        "converter._experimental_lower_tensor_list_ops = False\n",
        "\n",
        "tflite_model = converter.convert()\n",
        "\n",
        "tflite_model_file = pathlib.Path('chatbot_model.tflite')\n",
        "tflite_model_file.write_bytes(tflite_model)"
      ],
      "metadata": {
        "colab": {
          "base_uri": "https://localhost:8080/"
        },
        "id": "yCoeB4X8VApw",
        "outputId": "e34aa481-0ba1-400b-ac24-b318c6a0c790"
      },
      "execution_count": 17,
      "outputs": [
        {
          "output_type": "execute_result",
          "data": {
            "text/plain": [
              "39794768"
            ]
          },
          "metadata": {},
          "execution_count": 17
        }
      ]
    },
    {
      "cell_type": "code",
      "source": [
        "from google.colab import files\n",
        "files.download('chatbot_model.tflite')"
      ],
      "metadata": {
        "colab": {
          "base_uri": "https://localhost:8080/",
          "height": 17
        },
        "id": "ayLSv0IDlwLh",
        "outputId": "a6c8ced2-b543-4319-89f0-aae414436435"
      },
      "execution_count": 18,
      "outputs": [
        {
          "output_type": "display_data",
          "data": {
            "text/plain": [
              "<IPython.core.display.Javascript object>"
            ],
            "application/javascript": [
              "\n",
              "    async function download(id, filename, size) {\n",
              "      if (!google.colab.kernel.accessAllowed) {\n",
              "        return;\n",
              "      }\n",
              "      const div = document.createElement('div');\n",
              "      const label = document.createElement('label');\n",
              "      label.textContent = `Downloading \"${filename}\": `;\n",
              "      div.appendChild(label);\n",
              "      const progress = document.createElement('progress');\n",
              "      progress.max = size;\n",
              "      div.appendChild(progress);\n",
              "      document.body.appendChild(div);\n",
              "\n",
              "      const buffers = [];\n",
              "      let downloaded = 0;\n",
              "\n",
              "      const channel = await google.colab.kernel.comms.open(id);\n",
              "      // Send a message to notify the kernel that we're ready.\n",
              "      channel.send({})\n",
              "\n",
              "      for await (const message of channel.messages) {\n",
              "        // Send a message to notify the kernel that we're ready.\n",
              "        channel.send({})\n",
              "        if (message.buffers) {\n",
              "          for (const buffer of message.buffers) {\n",
              "            buffers.push(buffer);\n",
              "            downloaded += buffer.byteLength;\n",
              "            progress.value = downloaded;\n",
              "          }\n",
              "        }\n",
              "      }\n",
              "      const blob = new Blob(buffers, {type: 'application/binary'});\n",
              "      const a = document.createElement('a');\n",
              "      a.href = window.URL.createObjectURL(blob);\n",
              "      a.download = filename;\n",
              "      div.appendChild(a);\n",
              "      a.click();\n",
              "      div.remove();\n",
              "    }\n",
              "  "
            ]
          },
          "metadata": {}
        },
        {
          "output_type": "display_data",
          "data": {
            "text/plain": [
              "<IPython.core.display.Javascript object>"
            ],
            "application/javascript": [
              "download(\"download_b2b39577-3e19-4c64-af8c-1b0b72ba8b8c\", \"chatbot_model.tflite\", 39794768)"
            ]
          },
          "metadata": {}
        }
      ]
    }
  ]
}