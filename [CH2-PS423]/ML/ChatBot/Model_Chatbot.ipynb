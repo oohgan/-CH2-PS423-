{
  "nbformat": 4,
  "nbformat_minor": 0,
  "metadata": {
    "colab": {
      "provenance": []
    },
    "kernelspec": {
      "name": "python3",
      "display_name": "Python 3"
    },
    "language_info": {
      "name": "python"
    }
  },
  "cells": [
    {
      "cell_type": "code",
      "execution_count": 1,
      "metadata": {
        "id": "9UoNwXjMtJ15"
      },
      "outputs": [],
      "source": [
        "import re\n",
        "import json\n",
        "import nltk\n",
        "import string\n",
        "import random\n",
        "import pathlib\n",
        "import numpy as np\n",
        "import pandas as pd\n",
        "import tensorflow as tf\n",
        "import matplotlib.pyplot as plt\n",
        "from sklearn.utils import shuffle"
      ]
    },
    {
      "cell_type": "code",
      "source": [
        "from nltk.corpus import stopwords\n",
        "from nltk.tokenize import word_tokenize\n",
        "from tensorflow.keras.models import Model\n",
        "from tensorflow.keras.utils import plot_model\n",
        "from sklearn.preprocessing import LabelEncoder\n",
        "from tensorflow.keras.preprocessing.text import Tokenizer\n",
        "from tensorflow.keras.preprocessing.sequence import pad_sequences"
      ],
      "metadata": {
        "id": "0gSyTq6fBs0v"
      },
      "execution_count": 2,
      "outputs": []
    },
    {
      "cell_type": "code",
      "source": [
        "nltk.download('punkt')"
      ],
      "metadata": {
        "colab": {
          "base_uri": "https://localhost:8080/"
        },
        "id": "FlLT0oQ0vXaj",
        "outputId": "0e19967d-df9e-4df3-d307-54c9fef52a3f"
      },
      "execution_count": 3,
      "outputs": [
        {
          "output_type": "stream",
          "name": "stderr",
          "text": [
            "[nltk_data] Downloading package punkt to /root/nltk_data...\n",
            "[nltk_data]   Unzipping tokenizers/punkt.zip.\n"
          ]
        },
        {
          "output_type": "execute_result",
          "data": {
            "text/plain": [
              "True"
            ]
          },
          "metadata": {},
          "execution_count": 3
        }
      ]
    },
    {
      "cell_type": "markdown",
      "source": [
        "# **Preprocessing Teks**"
      ],
      "metadata": {
        "id": "3kv6tgLJzsQr"
      }
    },
    {
      "cell_type": "code",
      "source": [
        "replace = [\n",
        "    ['ibu', ['ibuku', 'mami', 'mama']],\n",
        "    ['ayah', ['ayahku', 'papa', 'daddy']],\n",
        "    ['saudara', ['adikku', 'adek', 'kakakku', 'koko', 'cece']],\n",
        "    ['teman', ['temanku']],\n",
        "    ['meninggal', ['mati']]\n",
        "]"
      ],
      "metadata": {
        "id": "D2CUiuNlhD8U"
      },
      "execution_count": 4,
      "outputs": []
    },
    {
      "cell_type": "code",
      "source": [
        "def preprocess_text(kalimat):\n",
        "  filtered = re.sub(r'[^\\w\\d\\s]', '', kalimat.lower())\n",
        "  words = word_tokenize(filtered)\n",
        "\n",
        "  clean_word = []\n",
        "  for word in words:\n",
        "    replaced = False\n",
        "    for replacement, target in replace:\n",
        "      if word in target:\n",
        "        clean_word.append(replacement)\n",
        "        replaced = True\n",
        "    if not replaced:\n",
        "      clean_word.append(word)\n",
        "\n",
        "  return ' '.join(clean_word)\n"
      ],
      "metadata": {
        "id": "w8ZXO43niDJy"
      },
      "execution_count": 5,
      "outputs": []
    },
    {
      "cell_type": "markdown",
      "source": [
        "# **Reading Train & Val Dataset**"
      ],
      "metadata": {
        "id": "PliDIa6Pz4Y5"
      }
    },
    {
      "cell_type": "code",
      "source": [
        "with open('/content/Mental Health Conversational.json', 'r') as content:\n",
        "  chatbot = json.load(content)\n",
        "data = pd.DataFrame(chatbot['intents'])"
      ],
      "metadata": {
        "id": "2mHdDoN2zhiK"
      },
      "execution_count": 6,
      "outputs": []
    },
    {
      "cell_type": "code",
      "source": [
        "dictionary = {\"tag\":[], \"patterns\":[], \"responses\":[]}\n",
        "for i in range (len(data)):\n",
        "  pattern = data[data.index==i]['patterns'].values[0]\n",
        "  response = data[data.index==i]['responses'].values[0]\n",
        "  tag = data[data.index==i]['tag'].values[0]\n",
        "  for j in range (len(pattern)):\n",
        "    dictionary['tag'].append(tag)\n",
        "    dictionary['patterns'].append(preprocess_text(pattern[j]))\n",
        "    dictionary['responses'].append(response)\n",
        "data = pd.DataFrame.from_dict(dictionary)\n",
        "data"
      ],
      "metadata": {
        "id": "DePlw14BxZ55",
        "colab": {
          "base_uri": "https://localhost:8080/",
          "height": 423
        },
        "outputId": "9c2231b2-cb7f-49f4-c4ef-2389d7e11606"
      },
      "execution_count": 7,
      "outputs": [
        {
          "output_type": "execute_result",
          "data": {
            "text/plain": [
              "          tag                                           patterns  \\\n",
              "0    greeting                                                hai   \n",
              "1    greeting                                               halo   \n",
              "2    greeting                                      hai apa kabar   \n",
              "3    greeting                                                 hi   \n",
              "4    greeting                                    assalamualaikum   \n",
              "..        ...                                                ...   \n",
              "212   fact_28  bagaimana saya bisa menjaga hubungan sosial ba...   \n",
              "213   fact_29          apa perbedaan antara kecemasan dan stress   \n",
              "214   fact_29                     perbedaan kecemasan dan stress   \n",
              "215   fact_30         apa perbedaan antara kesedihan dan depresi   \n",
              "216   fact_30             perbedaan antara kesedihan dan depresi   \n",
              "\n",
              "                                             responses  \n",
              "0    [Halo! Selamat bertemu denganmu. Bagaimana kab...  \n",
              "1    [Halo! Selamat bertemu denganmu. Bagaimana kab...  \n",
              "2    [Halo! Selamat bertemu denganmu. Bagaimana kab...  \n",
              "3    [Halo! Selamat bertemu denganmu. Bagaimana kab...  \n",
              "4    [Halo! Selamat bertemu denganmu. Bagaimana kab...  \n",
              "..                                                 ...  \n",
              "212  [Banyak orang yang sendirian saat ini, tapi ki...  \n",
              "213  [Stres dan kecemasan sering digunakan secara b...  \n",
              "214  [Stres dan kecemasan sering digunakan secara b...  \n",
              "215  [Kesedihan merupakan reaksi normal terhadap ke...  \n",
              "216  [Kesedihan merupakan reaksi normal terhadap ke...  \n",
              "\n",
              "[217 rows x 3 columns]"
            ],
            "text/html": [
              "\n",
              "  <div id=\"df-937b85f5-e4fb-497a-b2d7-a0191d9aad32\" class=\"colab-df-container\">\n",
              "    <div>\n",
              "<style scoped>\n",
              "    .dataframe tbody tr th:only-of-type {\n",
              "        vertical-align: middle;\n",
              "    }\n",
              "\n",
              "    .dataframe tbody tr th {\n",
              "        vertical-align: top;\n",
              "    }\n",
              "\n",
              "    .dataframe thead th {\n",
              "        text-align: right;\n",
              "    }\n",
              "</style>\n",
              "<table border=\"1\" class=\"dataframe\">\n",
              "  <thead>\n",
              "    <tr style=\"text-align: right;\">\n",
              "      <th></th>\n",
              "      <th>tag</th>\n",
              "      <th>patterns</th>\n",
              "      <th>responses</th>\n",
              "    </tr>\n",
              "  </thead>\n",
              "  <tbody>\n",
              "    <tr>\n",
              "      <th>0</th>\n",
              "      <td>greeting</td>\n",
              "      <td>hai</td>\n",
              "      <td>[Halo! Selamat bertemu denganmu. Bagaimana kab...</td>\n",
              "    </tr>\n",
              "    <tr>\n",
              "      <th>1</th>\n",
              "      <td>greeting</td>\n",
              "      <td>halo</td>\n",
              "      <td>[Halo! Selamat bertemu denganmu. Bagaimana kab...</td>\n",
              "    </tr>\n",
              "    <tr>\n",
              "      <th>2</th>\n",
              "      <td>greeting</td>\n",
              "      <td>hai apa kabar</td>\n",
              "      <td>[Halo! Selamat bertemu denganmu. Bagaimana kab...</td>\n",
              "    </tr>\n",
              "    <tr>\n",
              "      <th>3</th>\n",
              "      <td>greeting</td>\n",
              "      <td>hi</td>\n",
              "      <td>[Halo! Selamat bertemu denganmu. Bagaimana kab...</td>\n",
              "    </tr>\n",
              "    <tr>\n",
              "      <th>4</th>\n",
              "      <td>greeting</td>\n",
              "      <td>assalamualaikum</td>\n",
              "      <td>[Halo! Selamat bertemu denganmu. Bagaimana kab...</td>\n",
              "    </tr>\n",
              "    <tr>\n",
              "      <th>...</th>\n",
              "      <td>...</td>\n",
              "      <td>...</td>\n",
              "      <td>...</td>\n",
              "    </tr>\n",
              "    <tr>\n",
              "      <th>212</th>\n",
              "      <td>fact_28</td>\n",
              "      <td>bagaimana saya bisa menjaga hubungan sosial ba...</td>\n",
              "      <td>[Banyak orang yang sendirian saat ini, tapi ki...</td>\n",
              "    </tr>\n",
              "    <tr>\n",
              "      <th>213</th>\n",
              "      <td>fact_29</td>\n",
              "      <td>apa perbedaan antara kecemasan dan stress</td>\n",
              "      <td>[Stres dan kecemasan sering digunakan secara b...</td>\n",
              "    </tr>\n",
              "    <tr>\n",
              "      <th>214</th>\n",
              "      <td>fact_29</td>\n",
              "      <td>perbedaan kecemasan dan stress</td>\n",
              "      <td>[Stres dan kecemasan sering digunakan secara b...</td>\n",
              "    </tr>\n",
              "    <tr>\n",
              "      <th>215</th>\n",
              "      <td>fact_30</td>\n",
              "      <td>apa perbedaan antara kesedihan dan depresi</td>\n",
              "      <td>[Kesedihan merupakan reaksi normal terhadap ke...</td>\n",
              "    </tr>\n",
              "    <tr>\n",
              "      <th>216</th>\n",
              "      <td>fact_30</td>\n",
              "      <td>perbedaan antara kesedihan dan depresi</td>\n",
              "      <td>[Kesedihan merupakan reaksi normal terhadap ke...</td>\n",
              "    </tr>\n",
              "  </tbody>\n",
              "</table>\n",
              "<p>217 rows × 3 columns</p>\n",
              "</div>\n",
              "    <div class=\"colab-df-buttons\">\n",
              "\n",
              "  <div class=\"colab-df-container\">\n",
              "    <button class=\"colab-df-convert\" onclick=\"convertToInteractive('df-937b85f5-e4fb-497a-b2d7-a0191d9aad32')\"\n",
              "            title=\"Convert this dataframe to an interactive table.\"\n",
              "            style=\"display:none;\">\n",
              "\n",
              "  <svg xmlns=\"http://www.w3.org/2000/svg\" height=\"24px\" viewBox=\"0 -960 960 960\">\n",
              "    <path d=\"M120-120v-720h720v720H120Zm60-500h600v-160H180v160Zm220 220h160v-160H400v160Zm0 220h160v-160H400v160ZM180-400h160v-160H180v160Zm440 0h160v-160H620v160ZM180-180h160v-160H180v160Zm440 0h160v-160H620v160Z\"/>\n",
              "  </svg>\n",
              "    </button>\n",
              "\n",
              "  <style>\n",
              "    .colab-df-container {\n",
              "      display:flex;\n",
              "      gap: 12px;\n",
              "    }\n",
              "\n",
              "    .colab-df-convert {\n",
              "      background-color: #E8F0FE;\n",
              "      border: none;\n",
              "      border-radius: 50%;\n",
              "      cursor: pointer;\n",
              "      display: none;\n",
              "      fill: #1967D2;\n",
              "      height: 32px;\n",
              "      padding: 0 0 0 0;\n",
              "      width: 32px;\n",
              "    }\n",
              "\n",
              "    .colab-df-convert:hover {\n",
              "      background-color: #E2EBFA;\n",
              "      box-shadow: 0px 1px 2px rgba(60, 64, 67, 0.3), 0px 1px 3px 1px rgba(60, 64, 67, 0.15);\n",
              "      fill: #174EA6;\n",
              "    }\n",
              "\n",
              "    .colab-df-buttons div {\n",
              "      margin-bottom: 4px;\n",
              "    }\n",
              "\n",
              "    [theme=dark] .colab-df-convert {\n",
              "      background-color: #3B4455;\n",
              "      fill: #D2E3FC;\n",
              "    }\n",
              "\n",
              "    [theme=dark] .colab-df-convert:hover {\n",
              "      background-color: #434B5C;\n",
              "      box-shadow: 0px 1px 3px 1px rgba(0, 0, 0, 0.15);\n",
              "      filter: drop-shadow(0px 1px 2px rgba(0, 0, 0, 0.3));\n",
              "      fill: #FFFFFF;\n",
              "    }\n",
              "  </style>\n",
              "\n",
              "    <script>\n",
              "      const buttonEl =\n",
              "        document.querySelector('#df-937b85f5-e4fb-497a-b2d7-a0191d9aad32 button.colab-df-convert');\n",
              "      buttonEl.style.display =\n",
              "        google.colab.kernel.accessAllowed ? 'block' : 'none';\n",
              "\n",
              "      async function convertToInteractive(key) {\n",
              "        const element = document.querySelector('#df-937b85f5-e4fb-497a-b2d7-a0191d9aad32');\n",
              "        const dataTable =\n",
              "          await google.colab.kernel.invokeFunction('convertToInteractive',\n",
              "                                                    [key], {});\n",
              "        if (!dataTable) return;\n",
              "\n",
              "        const docLinkHtml = 'Like what you see? Visit the ' +\n",
              "          '<a target=\"_blank\" href=https://colab.research.google.com/notebooks/data_table.ipynb>data table notebook</a>'\n",
              "          + ' to learn more about interactive tables.';\n",
              "        element.innerHTML = '';\n",
              "        dataTable['output_type'] = 'display_data';\n",
              "        await google.colab.output.renderOutput(dataTable, element);\n",
              "        const docLink = document.createElement('div');\n",
              "        docLink.innerHTML = docLinkHtml;\n",
              "        element.appendChild(docLink);\n",
              "      }\n",
              "    </script>\n",
              "  </div>\n",
              "\n",
              "\n",
              "<div id=\"df-99a2c03d-bbb8-4d24-8ba9-e4cd500b71f4\">\n",
              "  <button class=\"colab-df-quickchart\" onclick=\"quickchart('df-99a2c03d-bbb8-4d24-8ba9-e4cd500b71f4')\"\n",
              "            title=\"Suggest charts\"\n",
              "            style=\"display:none;\">\n",
              "\n",
              "<svg xmlns=\"http://www.w3.org/2000/svg\" height=\"24px\"viewBox=\"0 0 24 24\"\n",
              "     width=\"24px\">\n",
              "    <g>\n",
              "        <path d=\"M19 3H5c-1.1 0-2 .9-2 2v14c0 1.1.9 2 2 2h14c1.1 0 2-.9 2-2V5c0-1.1-.9-2-2-2zM9 17H7v-7h2v7zm4 0h-2V7h2v10zm4 0h-2v-4h2v4z\"/>\n",
              "    </g>\n",
              "</svg>\n",
              "  </button>\n",
              "\n",
              "<style>\n",
              "  .colab-df-quickchart {\n",
              "      --bg-color: #E8F0FE;\n",
              "      --fill-color: #1967D2;\n",
              "      --hover-bg-color: #E2EBFA;\n",
              "      --hover-fill-color: #174EA6;\n",
              "      --disabled-fill-color: #AAA;\n",
              "      --disabled-bg-color: #DDD;\n",
              "  }\n",
              "\n",
              "  [theme=dark] .colab-df-quickchart {\n",
              "      --bg-color: #3B4455;\n",
              "      --fill-color: #D2E3FC;\n",
              "      --hover-bg-color: #434B5C;\n",
              "      --hover-fill-color: #FFFFFF;\n",
              "      --disabled-bg-color: #3B4455;\n",
              "      --disabled-fill-color: #666;\n",
              "  }\n",
              "\n",
              "  .colab-df-quickchart {\n",
              "    background-color: var(--bg-color);\n",
              "    border: none;\n",
              "    border-radius: 50%;\n",
              "    cursor: pointer;\n",
              "    display: none;\n",
              "    fill: var(--fill-color);\n",
              "    height: 32px;\n",
              "    padding: 0;\n",
              "    width: 32px;\n",
              "  }\n",
              "\n",
              "  .colab-df-quickchart:hover {\n",
              "    background-color: var(--hover-bg-color);\n",
              "    box-shadow: 0 1px 2px rgba(60, 64, 67, 0.3), 0 1px 3px 1px rgba(60, 64, 67, 0.15);\n",
              "    fill: var(--button-hover-fill-color);\n",
              "  }\n",
              "\n",
              "  .colab-df-quickchart-complete:disabled,\n",
              "  .colab-df-quickchart-complete:disabled:hover {\n",
              "    background-color: var(--disabled-bg-color);\n",
              "    fill: var(--disabled-fill-color);\n",
              "    box-shadow: none;\n",
              "  }\n",
              "\n",
              "  .colab-df-spinner {\n",
              "    border: 2px solid var(--fill-color);\n",
              "    border-color: transparent;\n",
              "    border-bottom-color: var(--fill-color);\n",
              "    animation:\n",
              "      spin 1s steps(1) infinite;\n",
              "  }\n",
              "\n",
              "  @keyframes spin {\n",
              "    0% {\n",
              "      border-color: transparent;\n",
              "      border-bottom-color: var(--fill-color);\n",
              "      border-left-color: var(--fill-color);\n",
              "    }\n",
              "    20% {\n",
              "      border-color: transparent;\n",
              "      border-left-color: var(--fill-color);\n",
              "      border-top-color: var(--fill-color);\n",
              "    }\n",
              "    30% {\n",
              "      border-color: transparent;\n",
              "      border-left-color: var(--fill-color);\n",
              "      border-top-color: var(--fill-color);\n",
              "      border-right-color: var(--fill-color);\n",
              "    }\n",
              "    40% {\n",
              "      border-color: transparent;\n",
              "      border-right-color: var(--fill-color);\n",
              "      border-top-color: var(--fill-color);\n",
              "    }\n",
              "    60% {\n",
              "      border-color: transparent;\n",
              "      border-right-color: var(--fill-color);\n",
              "    }\n",
              "    80% {\n",
              "      border-color: transparent;\n",
              "      border-right-color: var(--fill-color);\n",
              "      border-bottom-color: var(--fill-color);\n",
              "    }\n",
              "    90% {\n",
              "      border-color: transparent;\n",
              "      border-bottom-color: var(--fill-color);\n",
              "    }\n",
              "  }\n",
              "</style>\n",
              "\n",
              "  <script>\n",
              "    async function quickchart(key) {\n",
              "      const quickchartButtonEl =\n",
              "        document.querySelector('#' + key + ' button');\n",
              "      quickchartButtonEl.disabled = true;  // To prevent multiple clicks.\n",
              "      quickchartButtonEl.classList.add('colab-df-spinner');\n",
              "      try {\n",
              "        const charts = await google.colab.kernel.invokeFunction(\n",
              "            'suggestCharts', [key], {});\n",
              "      } catch (error) {\n",
              "        console.error('Error during call to suggestCharts:', error);\n",
              "      }\n",
              "      quickchartButtonEl.classList.remove('colab-df-spinner');\n",
              "      quickchartButtonEl.classList.add('colab-df-quickchart-complete');\n",
              "    }\n",
              "    (() => {\n",
              "      let quickchartButtonEl =\n",
              "        document.querySelector('#df-99a2c03d-bbb8-4d24-8ba9-e4cd500b71f4 button');\n",
              "      quickchartButtonEl.style.display =\n",
              "        google.colab.kernel.accessAllowed ? 'block' : 'none';\n",
              "    })();\n",
              "  </script>\n",
              "</div>\n",
              "    </div>\n",
              "  </div>\n"
            ]
          },
          "metadata": {},
          "execution_count": 7
        }
      ]
    },
    {
      "cell_type": "code",
      "source": [
        "with open('/content/Validation_Conversation.json', 'r') as content:\n",
        "  val_chatbot = json.load(content)\n",
        "val_data = pd.DataFrame(val_chatbot['intents'])\n"
      ],
      "metadata": {
        "id": "Ev3nfQuLr_xD"
      },
      "execution_count": 8,
      "outputs": []
    },
    {
      "cell_type": "code",
      "source": [
        "dictionary = {\"tag\":[], \"patterns\":[]}\n",
        "for i in range (len(val_data)):\n",
        "  pattern = val_data[val_data.index==i]['patterns'].values[0]\n",
        "  tag = val_data[val_data.index==i]['tag'].values[0]\n",
        "  for j in range (len(pattern)):\n",
        "    dictionary['tag'].append(tag)\n",
        "    dictionary['patterns'].append(preprocess_text(pattern[j]))\n",
        "val_data = pd.DataFrame.from_dict(dictionary)\n",
        "val_data"
      ],
      "metadata": {
        "colab": {
          "base_uri": "https://localhost:8080/",
          "height": 423
        },
        "id": "Nv9GVBgSss-v",
        "outputId": "38f36c86-5300-4362-9413-350a77fc0099"
      },
      "execution_count": 9,
      "outputs": [
        {
          "output_type": "execute_result",
          "data": {
            "text/plain": [
              "           tag                                           patterns\n",
              "0     greeting                                               halo\n",
              "1     greeting                                      hai apa kabar\n",
              "2     greeting                                                 hi\n",
              "3      morning                                               pagi\n",
              "4    afternoon                                              siang\n",
              "..         ...                                                ...\n",
              "111    fact_26  apa yang harus saya lakukan jika saya khawatir...\n",
              "112    fact_27         bagaimana saya tahu kalau saya tidak sehat\n",
              "113    fact_28  bagaimana saya bisa menjaga hubungan sosial ba...\n",
              "114    fact_29                     perbedaan kecemasan dan stress\n",
              "115    fact_30             perbedaan antara kesedihan dan depresi\n",
              "\n",
              "[116 rows x 2 columns]"
            ],
            "text/html": [
              "\n",
              "  <div id=\"df-21f2d917-a497-43f6-8054-6ba2e2d4ef88\" class=\"colab-df-container\">\n",
              "    <div>\n",
              "<style scoped>\n",
              "    .dataframe tbody tr th:only-of-type {\n",
              "        vertical-align: middle;\n",
              "    }\n",
              "\n",
              "    .dataframe tbody tr th {\n",
              "        vertical-align: top;\n",
              "    }\n",
              "\n",
              "    .dataframe thead th {\n",
              "        text-align: right;\n",
              "    }\n",
              "</style>\n",
              "<table border=\"1\" class=\"dataframe\">\n",
              "  <thead>\n",
              "    <tr style=\"text-align: right;\">\n",
              "      <th></th>\n",
              "      <th>tag</th>\n",
              "      <th>patterns</th>\n",
              "    </tr>\n",
              "  </thead>\n",
              "  <tbody>\n",
              "    <tr>\n",
              "      <th>0</th>\n",
              "      <td>greeting</td>\n",
              "      <td>halo</td>\n",
              "    </tr>\n",
              "    <tr>\n",
              "      <th>1</th>\n",
              "      <td>greeting</td>\n",
              "      <td>hai apa kabar</td>\n",
              "    </tr>\n",
              "    <tr>\n",
              "      <th>2</th>\n",
              "      <td>greeting</td>\n",
              "      <td>hi</td>\n",
              "    </tr>\n",
              "    <tr>\n",
              "      <th>3</th>\n",
              "      <td>morning</td>\n",
              "      <td>pagi</td>\n",
              "    </tr>\n",
              "    <tr>\n",
              "      <th>4</th>\n",
              "      <td>afternoon</td>\n",
              "      <td>siang</td>\n",
              "    </tr>\n",
              "    <tr>\n",
              "      <th>...</th>\n",
              "      <td>...</td>\n",
              "      <td>...</td>\n",
              "    </tr>\n",
              "    <tr>\n",
              "      <th>111</th>\n",
              "      <td>fact_26</td>\n",
              "      <td>apa yang harus saya lakukan jika saya khawatir...</td>\n",
              "    </tr>\n",
              "    <tr>\n",
              "      <th>112</th>\n",
              "      <td>fact_27</td>\n",
              "      <td>bagaimana saya tahu kalau saya tidak sehat</td>\n",
              "    </tr>\n",
              "    <tr>\n",
              "      <th>113</th>\n",
              "      <td>fact_28</td>\n",
              "      <td>bagaimana saya bisa menjaga hubungan sosial ba...</td>\n",
              "    </tr>\n",
              "    <tr>\n",
              "      <th>114</th>\n",
              "      <td>fact_29</td>\n",
              "      <td>perbedaan kecemasan dan stress</td>\n",
              "    </tr>\n",
              "    <tr>\n",
              "      <th>115</th>\n",
              "      <td>fact_30</td>\n",
              "      <td>perbedaan antara kesedihan dan depresi</td>\n",
              "    </tr>\n",
              "  </tbody>\n",
              "</table>\n",
              "<p>116 rows × 2 columns</p>\n",
              "</div>\n",
              "    <div class=\"colab-df-buttons\">\n",
              "\n",
              "  <div class=\"colab-df-container\">\n",
              "    <button class=\"colab-df-convert\" onclick=\"convertToInteractive('df-21f2d917-a497-43f6-8054-6ba2e2d4ef88')\"\n",
              "            title=\"Convert this dataframe to an interactive table.\"\n",
              "            style=\"display:none;\">\n",
              "\n",
              "  <svg xmlns=\"http://www.w3.org/2000/svg\" height=\"24px\" viewBox=\"0 -960 960 960\">\n",
              "    <path d=\"M120-120v-720h720v720H120Zm60-500h600v-160H180v160Zm220 220h160v-160H400v160Zm0 220h160v-160H400v160ZM180-400h160v-160H180v160Zm440 0h160v-160H620v160ZM180-180h160v-160H180v160Zm440 0h160v-160H620v160Z\"/>\n",
              "  </svg>\n",
              "    </button>\n",
              "\n",
              "  <style>\n",
              "    .colab-df-container {\n",
              "      display:flex;\n",
              "      gap: 12px;\n",
              "    }\n",
              "\n",
              "    .colab-df-convert {\n",
              "      background-color: #E8F0FE;\n",
              "      border: none;\n",
              "      border-radius: 50%;\n",
              "      cursor: pointer;\n",
              "      display: none;\n",
              "      fill: #1967D2;\n",
              "      height: 32px;\n",
              "      padding: 0 0 0 0;\n",
              "      width: 32px;\n",
              "    }\n",
              "\n",
              "    .colab-df-convert:hover {\n",
              "      background-color: #E2EBFA;\n",
              "      box-shadow: 0px 1px 2px rgba(60, 64, 67, 0.3), 0px 1px 3px 1px rgba(60, 64, 67, 0.15);\n",
              "      fill: #174EA6;\n",
              "    }\n",
              "\n",
              "    .colab-df-buttons div {\n",
              "      margin-bottom: 4px;\n",
              "    }\n",
              "\n",
              "    [theme=dark] .colab-df-convert {\n",
              "      background-color: #3B4455;\n",
              "      fill: #D2E3FC;\n",
              "    }\n",
              "\n",
              "    [theme=dark] .colab-df-convert:hover {\n",
              "      background-color: #434B5C;\n",
              "      box-shadow: 0px 1px 3px 1px rgba(0, 0, 0, 0.15);\n",
              "      filter: drop-shadow(0px 1px 2px rgba(0, 0, 0, 0.3));\n",
              "      fill: #FFFFFF;\n",
              "    }\n",
              "  </style>\n",
              "\n",
              "    <script>\n",
              "      const buttonEl =\n",
              "        document.querySelector('#df-21f2d917-a497-43f6-8054-6ba2e2d4ef88 button.colab-df-convert');\n",
              "      buttonEl.style.display =\n",
              "        google.colab.kernel.accessAllowed ? 'block' : 'none';\n",
              "\n",
              "      async function convertToInteractive(key) {\n",
              "        const element = document.querySelector('#df-21f2d917-a497-43f6-8054-6ba2e2d4ef88');\n",
              "        const dataTable =\n",
              "          await google.colab.kernel.invokeFunction('convertToInteractive',\n",
              "                                                    [key], {});\n",
              "        if (!dataTable) return;\n",
              "\n",
              "        const docLinkHtml = 'Like what you see? Visit the ' +\n",
              "          '<a target=\"_blank\" href=https://colab.research.google.com/notebooks/data_table.ipynb>data table notebook</a>'\n",
              "          + ' to learn more about interactive tables.';\n",
              "        element.innerHTML = '';\n",
              "        dataTable['output_type'] = 'display_data';\n",
              "        await google.colab.output.renderOutput(dataTable, element);\n",
              "        const docLink = document.createElement('div');\n",
              "        docLink.innerHTML = docLinkHtml;\n",
              "        element.appendChild(docLink);\n",
              "      }\n",
              "    </script>\n",
              "  </div>\n",
              "\n",
              "\n",
              "<div id=\"df-899bbe66-ab26-4230-865d-dd24a71b53c6\">\n",
              "  <button class=\"colab-df-quickchart\" onclick=\"quickchart('df-899bbe66-ab26-4230-865d-dd24a71b53c6')\"\n",
              "            title=\"Suggest charts\"\n",
              "            style=\"display:none;\">\n",
              "\n",
              "<svg xmlns=\"http://www.w3.org/2000/svg\" height=\"24px\"viewBox=\"0 0 24 24\"\n",
              "     width=\"24px\">\n",
              "    <g>\n",
              "        <path d=\"M19 3H5c-1.1 0-2 .9-2 2v14c0 1.1.9 2 2 2h14c1.1 0 2-.9 2-2V5c0-1.1-.9-2-2-2zM9 17H7v-7h2v7zm4 0h-2V7h2v10zm4 0h-2v-4h2v4z\"/>\n",
              "    </g>\n",
              "</svg>\n",
              "  </button>\n",
              "\n",
              "<style>\n",
              "  .colab-df-quickchart {\n",
              "      --bg-color: #E8F0FE;\n",
              "      --fill-color: #1967D2;\n",
              "      --hover-bg-color: #E2EBFA;\n",
              "      --hover-fill-color: #174EA6;\n",
              "      --disabled-fill-color: #AAA;\n",
              "      --disabled-bg-color: #DDD;\n",
              "  }\n",
              "\n",
              "  [theme=dark] .colab-df-quickchart {\n",
              "      --bg-color: #3B4455;\n",
              "      --fill-color: #D2E3FC;\n",
              "      --hover-bg-color: #434B5C;\n",
              "      --hover-fill-color: #FFFFFF;\n",
              "      --disabled-bg-color: #3B4455;\n",
              "      --disabled-fill-color: #666;\n",
              "  }\n",
              "\n",
              "  .colab-df-quickchart {\n",
              "    background-color: var(--bg-color);\n",
              "    border: none;\n",
              "    border-radius: 50%;\n",
              "    cursor: pointer;\n",
              "    display: none;\n",
              "    fill: var(--fill-color);\n",
              "    height: 32px;\n",
              "    padding: 0;\n",
              "    width: 32px;\n",
              "  }\n",
              "\n",
              "  .colab-df-quickchart:hover {\n",
              "    background-color: var(--hover-bg-color);\n",
              "    box-shadow: 0 1px 2px rgba(60, 64, 67, 0.3), 0 1px 3px 1px rgba(60, 64, 67, 0.15);\n",
              "    fill: var(--button-hover-fill-color);\n",
              "  }\n",
              "\n",
              "  .colab-df-quickchart-complete:disabled,\n",
              "  .colab-df-quickchart-complete:disabled:hover {\n",
              "    background-color: var(--disabled-bg-color);\n",
              "    fill: var(--disabled-fill-color);\n",
              "    box-shadow: none;\n",
              "  }\n",
              "\n",
              "  .colab-df-spinner {\n",
              "    border: 2px solid var(--fill-color);\n",
              "    border-color: transparent;\n",
              "    border-bottom-color: var(--fill-color);\n",
              "    animation:\n",
              "      spin 1s steps(1) infinite;\n",
              "  }\n",
              "\n",
              "  @keyframes spin {\n",
              "    0% {\n",
              "      border-color: transparent;\n",
              "      border-bottom-color: var(--fill-color);\n",
              "      border-left-color: var(--fill-color);\n",
              "    }\n",
              "    20% {\n",
              "      border-color: transparent;\n",
              "      border-left-color: var(--fill-color);\n",
              "      border-top-color: var(--fill-color);\n",
              "    }\n",
              "    30% {\n",
              "      border-color: transparent;\n",
              "      border-left-color: var(--fill-color);\n",
              "      border-top-color: var(--fill-color);\n",
              "      border-right-color: var(--fill-color);\n",
              "    }\n",
              "    40% {\n",
              "      border-color: transparent;\n",
              "      border-right-color: var(--fill-color);\n",
              "      border-top-color: var(--fill-color);\n",
              "    }\n",
              "    60% {\n",
              "      border-color: transparent;\n",
              "      border-right-color: var(--fill-color);\n",
              "    }\n",
              "    80% {\n",
              "      border-color: transparent;\n",
              "      border-right-color: var(--fill-color);\n",
              "      border-bottom-color: var(--fill-color);\n",
              "    }\n",
              "    90% {\n",
              "      border-color: transparent;\n",
              "      border-bottom-color: var(--fill-color);\n",
              "    }\n",
              "  }\n",
              "</style>\n",
              "\n",
              "  <script>\n",
              "    async function quickchart(key) {\n",
              "      const quickchartButtonEl =\n",
              "        document.querySelector('#' + key + ' button');\n",
              "      quickchartButtonEl.disabled = true;  // To prevent multiple clicks.\n",
              "      quickchartButtonEl.classList.add('colab-df-spinner');\n",
              "      try {\n",
              "        const charts = await google.colab.kernel.invokeFunction(\n",
              "            'suggestCharts', [key], {});\n",
              "      } catch (error) {\n",
              "        console.error('Error during call to suggestCharts:', error);\n",
              "      }\n",
              "      quickchartButtonEl.classList.remove('colab-df-spinner');\n",
              "      quickchartButtonEl.classList.add('colab-df-quickchart-complete');\n",
              "    }\n",
              "    (() => {\n",
              "      let quickchartButtonEl =\n",
              "        document.querySelector('#df-899bbe66-ab26-4230-865d-dd24a71b53c6 button');\n",
              "      quickchartButtonEl.style.display =\n",
              "        google.colab.kernel.accessAllowed ? 'block' : 'none';\n",
              "    })();\n",
              "  </script>\n",
              "</div>\n",
              "    </div>\n",
              "  </div>\n"
            ]
          },
          "metadata": {},
          "execution_count": 9
        }
      ]
    },
    {
      "cell_type": "code",
      "source": [
        "# Training\n",
        "data['tag'].unique()"
      ],
      "metadata": {
        "colab": {
          "base_uri": "https://localhost:8080/"
        },
        "id": "gf3hpV5HIU_I",
        "outputId": "c6ce54c7-409e-4b0c-d807-5ac73a7f2801"
      },
      "execution_count": 10,
      "outputs": [
        {
          "output_type": "execute_result",
          "data": {
            "text/plain": [
              "array(['greeting', 'morning', 'afternoon', 'evening', 'night', 'goodbye',\n",
              "       'thanks', 'about', 'skill', 'creation', 'help', 'sad', 'stressed',\n",
              "       'worthless', 'depressed', 'happy', 'casual', 'anxious',\n",
              "       'not-talking', 'sleep', 'scared', 'death', 'understand', 'done',\n",
              "       'suicide', 'hate-you', 'hate-me', 'default', 'jokes', 'repeat',\n",
              "       'wrong', 'stupid', 'location', 'something-else', 'ask', 'problem',\n",
              "       'no-approach', 'learn-more', 'user-agree', 'meditation',\n",
              "       'user_meditation', 'hugu_useful', 'user-advice',\n",
              "       'learn_mental_health', 'mental_health_fact', 'fact_1', 'fact_2',\n",
              "       'fact_3', 'fact_4', 'fact_5', 'fact_6', 'fact_7', 'fact_8',\n",
              "       'fact_9', 'fact_10', 'fact_11', 'fact_12', 'fact_13', 'fact_14',\n",
              "       'fact_15', 'fact_16', 'fact_17', 'fact_18', 'fact_19', 'fact_20',\n",
              "       'fact_21', 'fact_22', 'fact_23', 'fact_24', 'fact_25', 'fact_26',\n",
              "       'fact_27', 'fact_28', 'fact_29', 'fact_30'], dtype=object)"
            ]
          },
          "metadata": {},
          "execution_count": 10
        }
      ]
    },
    {
      "cell_type": "code",
      "source": [
        "# Validation\n",
        "val_data['tag'].unique()"
      ],
      "metadata": {
        "colab": {
          "base_uri": "https://localhost:8080/"
        },
        "id": "m-yvgI8ms9wW",
        "outputId": "93c4d949-c5ba-4c38-8dbe-c889ad75d03e"
      },
      "execution_count": 11,
      "outputs": [
        {
          "output_type": "execute_result",
          "data": {
            "text/plain": [
              "array(['greeting', 'morning', 'afternoon', 'evening', 'night', 'goodbye',\n",
              "       'thanks', 'about', 'skill', 'creation', 'help', 'sad', 'stressed',\n",
              "       'worthless', 'depressed', 'happy', 'casual', 'anxious',\n",
              "       'not-talking', 'sleep', 'scared', 'death', 'understand', 'done',\n",
              "       'suicide', 'hate-you', 'hate-me', 'default', 'jokes', 'repeat',\n",
              "       'wrong', 'stupid', 'location', 'something-else', 'ask', 'problem',\n",
              "       'no-approach', 'learn-more', 'user-agree', 'meditation',\n",
              "       'user_meditation', 'hugu_useful', 'user-advice',\n",
              "       'learn_mental_health', 'mental_health_fact', 'fact_1', 'fact_2',\n",
              "       'fact_3', 'fact_4', 'fact_5', 'fact_6', 'fact_7', 'fact_8',\n",
              "       'fact_9', 'fact_10', 'fact_11', 'fact_12', 'fact_13', 'fact_14',\n",
              "       'fact_15', 'fact_16', 'fact_17', 'fact_18', 'fact_19', 'fact_20',\n",
              "       'fact_21', 'fact_22', 'fact_23', 'fact_24', 'fact_25', 'fact_26',\n",
              "       'fact_27', 'fact_28', 'fact_29', 'fact_30'], dtype=object)"
            ]
          },
          "metadata": {},
          "execution_count": 11
        }
      ]
    },
    {
      "cell_type": "markdown",
      "source": [
        "# **Tokenizing Train and Validation Pattern & Tag**"
      ],
      "metadata": {
        "id": "13oRc6tN0fKs"
      }
    },
    {
      "cell_type": "markdown",
      "source": [
        "**Adding Word Dictionary**"
      ],
      "metadata": {
        "id": "VGnjaBKy2_Jw"
      }
    },
    {
      "cell_type": "code",
      "source": [
        "with open('/content/word_dict.json', 'r') as f:\n",
        "  json_dict = json.load(f)\n",
        "tokenizer_json=json_dict.keys()\n",
        "\n",
        "tokenizer = Tokenizer(oov_token='<OOV>')\n",
        "tokenizer.fit_on_texts(tokenizer_json)\n",
        "\n",
        "word_index = tokenizer.word_index\n",
        "print(len(word_index))"
      ],
      "metadata": {
        "id": "iILLZIyF2HRB",
        "colab": {
          "base_uri": "https://localhost:8080/"
        },
        "outputId": "98f34ae1-bbfa-4078-8be9-853b8a94eab0"
      },
      "execution_count": 12,
      "outputs": [
        {
          "output_type": "stream",
          "name": "stdout",
          "text": [
            "18727\n"
          ]
        }
      ]
    },
    {
      "cell_type": "markdown",
      "source": [
        "Shuffling dataset for better training (*hopefully*)"
      ],
      "metadata": {
        "id": "ikaTpbHz0PY0"
      }
    },
    {
      "cell_type": "code",
      "source": [
        "data = shuffle(data)\n",
        "val_data = shuffle(val_data)"
      ],
      "metadata": {
        "id": "DyNCGMPlMk3X"
      },
      "execution_count": 13,
      "outputs": []
    },
    {
      "cell_type": "code",
      "source": [
        "label_encode = LabelEncoder()\n",
        "\n",
        "tokenizer.fit_on_texts(data['patterns'])\n",
        "tokenizer.fit_on_texts(val_data['patterns'])\n",
        "\n",
        "# Training Set\n",
        "pattern_train = tokenizer.texts_to_sequences(data['patterns'])\n",
        "x_train = pad_sequences(pattern_train, padding='post', maxlen=12, truncating='pre')\n",
        "print(\"Training Input Shape : \", x_train.shape)\n",
        "print(len(x_train[0]))\n",
        "\n",
        "x_label = label_encode.fit_transform(data['tag'])\n",
        "print(\"Training Label Shape : \", x_label.shape)\n",
        "print(\"Num of classes: \", len(np.unique(x_label)))"
      ],
      "metadata": {
        "colab": {
          "base_uri": "https://localhost:8080/"
        },
        "id": "4s9JCHXDC4fy",
        "outputId": "ef12f762-38ee-4f18-9805-3776fec416ce"
      },
      "execution_count": 14,
      "outputs": [
        {
          "output_type": "stream",
          "name": "stdout",
          "text": [
            "Training Input Shape :  (217, 12)\n",
            "12\n",
            "Training Label Shape :  (217,)\n",
            "Num of classes:  75\n"
          ]
        }
      ]
    },
    {
      "cell_type": "code",
      "source": [
        "# Validation Set\n",
        "pattern_val = tokenizer.texts_to_sequences(val_data['patterns'])\n",
        "y_train = pad_sequences(pattern_val, padding='post', maxlen=12, truncating='pre')\n",
        "print(\"Validation Input Shape : \", y_train.shape)\n",
        "print(len(y_train[0]))\n",
        "\n",
        "y_label = label_encode.fit_transform(val_data['tag'])\n",
        "print(\"Validation Label Shape : \",y_label.shape)\n",
        "print(\"Num of classes: \", len(np.unique(y_label)))"
      ],
      "metadata": {
        "colab": {
          "base_uri": "https://localhost:8080/"
        },
        "id": "5Y9hvr8ItHG4",
        "outputId": "77b89e78-7f30-46ad-bd8b-72d414ecfaa7"
      },
      "execution_count": 15,
      "outputs": [
        {
          "output_type": "stream",
          "name": "stdout",
          "text": [
            "Validation Input Shape :  (116, 12)\n",
            "12\n",
            "Validation Label Shape :  (116,)\n",
            "Num of classes:  75\n"
          ]
        }
      ]
    },
    {
      "cell_type": "code",
      "source": [
        "vocabulary = len(tokenizer.word_index)\n",
        "print(\"Number unique word : \",vocabulary)\n",
        "print(\"Output Length : \", label_encode.classes_.shape[0])\n"
      ],
      "metadata": {
        "colab": {
          "base_uri": "https://localhost:8080/"
        },
        "id": "G5gXiaR4bQGH",
        "outputId": "d3c86882-3910-477e-a35e-495937271f4d"
      },
      "execution_count": 16,
      "outputs": [
        {
          "output_type": "stream",
          "name": "stdout",
          "text": [
            "Number unique word :  18764\n",
            "Output Length :  75\n"
          ]
        }
      ]
    },
    {
      "cell_type": "markdown",
      "source": [
        "Converting known word/patterns from dictionary, train and validation dataset"
      ],
      "metadata": {
        "id": "nPOZqKeR1KMS"
      }
    },
    {
      "cell_type": "code",
      "source": [
        "word_dictionary = {item[0]: item[1] for item in tokenizer.word_index.items()}\n",
        "with open('tokenizer_chatbot_dict.json', 'w') as json_file:\n",
        "  json.dump(word_dictionary, json_file, indent=4)"
      ],
      "metadata": {
        "id": "Y0XbsFuKvl_e"
      },
      "execution_count": null,
      "outputs": []
    },
    {
      "cell_type": "markdown",
      "source": [
        "Converting tag into json"
      ],
      "metadata": {
        "id": "QPS8amOW1FG1"
      }
    },
    {
      "cell_type": "code",
      "source": [
        "leDecode = LabelEncoder()\n",
        "leDecode.fit(val_data['tag'])\n",
        "name_mapping = dict(zip(leDecode.classes_, leDecode.transform(leDecode.classes_)))\n",
        "transformed = leDecode.transform(leDecode.classes_).tolist()\n",
        "name_mapping = dict(zip(leDecode.classes_, transformed))\n",
        "with open('label_decoder.json', 'w') as json_file:\n",
        "  json.dump(name_mapping, json_file, indent=4)"
      ],
      "metadata": {
        "id": "DoK4_upKwamD"
      },
      "execution_count": null,
      "outputs": []
    },
    {
      "cell_type": "markdown",
      "source": [
        "# **Embedding** **Glove**"
      ],
      "metadata": {
        "id": "4z9RGSPN1X_P"
      }
    },
    {
      "cell_type": "code",
      "source": [
        "# !rm -f glove.6B.zip\n",
        "!wget https://nlp.stanford.edu/data/glove.6B.zip\n",
        "!unzip glove.6B.zip"
      ],
      "metadata": {
        "id": "s1aw9H3BOYD4",
        "colab": {
          "base_uri": "https://localhost:8080/"
        },
        "outputId": "87d8daea-b675-4da9-9614-39bd058c9770"
      },
      "execution_count": 17,
      "outputs": [
        {
          "output_type": "stream",
          "name": "stdout",
          "text": [
            "--2023-12-17 03:36:02--  https://nlp.stanford.edu/data/glove.6B.zip\n",
            "Resolving nlp.stanford.edu (nlp.stanford.edu)... 171.64.67.140\n",
            "Connecting to nlp.stanford.edu (nlp.stanford.edu)|171.64.67.140|:443... connected.\n",
            "HTTP request sent, awaiting response... 301 Moved Permanently\n",
            "Location: https://downloads.cs.stanford.edu/nlp/data/glove.6B.zip [following]\n",
            "--2023-12-17 03:36:02--  https://downloads.cs.stanford.edu/nlp/data/glove.6B.zip\n",
            "Resolving downloads.cs.stanford.edu (downloads.cs.stanford.edu)... 171.64.64.22\n",
            "Connecting to downloads.cs.stanford.edu (downloads.cs.stanford.edu)|171.64.64.22|:443... connected.\n",
            "HTTP request sent, awaiting response... 200 OK\n",
            "Length: 862182613 (822M) [application/zip]\n",
            "Saving to: ‘glove.6B.zip’\n",
            "\n",
            "glove.6B.zip        100%[===================>] 822.24M  5.02MB/s    in 2m 39s  \n",
            "\n",
            "2023-12-17 03:38:42 (5.16 MB/s) - ‘glove.6B.zip’ saved [862182613/862182613]\n",
            "\n",
            "Archive:  glove.6B.zip\n",
            "  inflating: glove.6B.50d.txt        \n",
            "  inflating: glove.6B.100d.txt       \n",
            "  inflating: glove.6B.200d.txt       \n",
            "  inflating: glove.6B.300d.txt       \n"
          ]
        }
      ]
    },
    {
      "cell_type": "code",
      "source": [
        "glove_dir = \"/content/glove.6B.100d.txt\"\n",
        "embeddings_index = {}\n",
        "file_ = open(glove_dir, encoding='utf8')\n",
        "for line in file_:\n",
        "  arr = line.split()\n",
        "  single_word = arr[0]\n",
        "  w = np.asarray(arr[1:],dtype='float32')\n",
        "  embeddings_index[single_word] = w\n",
        "file_.close()\n",
        "print(len(embeddings_index))"
      ],
      "metadata": {
        "colab": {
          "base_uri": "https://localhost:8080/"
        },
        "id": "ultUUZnCTiB9",
        "outputId": "b57d0e60-a4a4-4c4c-af0b-8a911e4b5d84"
      },
      "execution_count": 18,
      "outputs": [
        {
          "output_type": "stream",
          "name": "stdout",
          "text": [
            "400000\n"
          ]
        }
      ]
    },
    {
      "cell_type": "code",
      "source": [
        "max = vocabulary + 1\n",
        "word_index =tokenizer.word_index\n",
        "embedding_mat = np.zeros((max, 100)).astype(object)\n",
        "for word, i in word_index.items():\n",
        "  embedding_vector = embeddings_index.get(word)\n",
        "  if embedding_vector is not None:\n",
        "    embedding_mat[i] = embedding_vector"
      ],
      "metadata": {
        "id": "QCKdsTHpVQLB"
      },
      "execution_count": 19,
      "outputs": []
    },
    {
      "cell_type": "markdown",
      "source": [
        "# **Model Architecture, Chatbot Test, Plotting and Training Model**"
      ],
      "metadata": {
        "id": "HX0UQEm71jO5"
      }
    },
    {
      "cell_type": "code",
      "source": [
        "def chatbot_test():\n",
        "  while True:\n",
        "    user_input = input(\"User: \").lower()\n",
        "    pattern_test=preprocess_text(user_input)\n",
        "    pattern_test = tokenizer.texts_to_sequences([pattern_test])\n",
        "    x_test = pad_sequences(pattern_test, x_train.shape[1])\n",
        "\n",
        "    prediction = model.predict(x_test)[0]\n",
        "    label = label_encode.inverse_transform([np.argmax(prediction)])[0]\n",
        "    response = data[data['tag'] == label]['responses'].values[0]\n",
        "    print(\"Label:\",label)\n",
        "    print(\"Chatbot: \", format(random.choice(response)))\n",
        "    if label=='goodbye' or label=='thanks':\n",
        "      break"
      ],
      "metadata": {
        "id": "mI_COKxZvEth"
      },
      "execution_count": 30,
      "outputs": []
    },
    {
      "cell_type": "code",
      "source": [
        "def plot_training_history(history):\n",
        "    # Plotting training accuracy\n",
        "    plt.subplot(1, 2, 1)\n",
        "    plt.plot(history.history['accuracy'], label='Train Accuracy', color='blue')\n",
        "    plt.plot(history.history['val_accuracy'], label='Validation Accuracy', color='green')\n",
        "    plt.legend(loc='lower right')\n",
        "    plt.title('Accuracy')\n",
        "    plt.ylim(0, 1.0)\n",
        "\n",
        "    # Plotting training loss\n",
        "    plt.subplot(1, 2, 2)\n",
        "    plt.plot(history.history['loss'], label='Train Loss', color='orange')\n",
        "    plt.plot(history.history['val_loss'], label='Validation Loss', color='yellow')\n",
        "    plt.legend(loc='upper right')\n",
        "    plt.title('Loss')\n",
        "    plt.ylim(0, 4.0)\n",
        "\n",
        "    # Display the plots\n",
        "    plt.show()\n"
      ],
      "metadata": {
        "id": "fi3Y0cX2ZhQp"
      },
      "execution_count": 20,
      "outputs": []
    },
    {
      "cell_type": "code",
      "source": [
        "model = tf.keras.Sequential([\n",
        "    tf.keras.layers.Embedding(input_length=x_train.shape[1], input_dim=vocabulary+1, output_dim = 100, mask_zero=True,\n",
        "                              weights=[embedding_mat], trainable=False),\n",
        "    tf.keras.layers.Dropout(0.2),\n",
        "\n",
        "    # tf.keras.layers.Bidirectional(tf.keras.layers.GRU(128, return_sequences=True)),\n",
        "    # tf.keras.layers.LayerNormalization(),\n",
        "    # tf.keras.layers.Dropout(0.2),\n",
        "    # tf.keras.layers.Bidirectional(tf.keras.layers.GRU(128, return_sequences=False)),\n",
        "    # tf.keras.layers.LayerNormalization(),\n",
        "    # tf.keras.layers.Dropout(0.2),\n",
        "\n",
        "    tf.keras.layers.GRU(128, return_sequences=True, reset_after=True),\n",
        "    tf.keras.layers.LayerNormalization(),\n",
        "    tf.keras.layers.Dropout(0.2),\n",
        "    tf.keras.layers.GRU(128, return_sequences=False, reset_after=True),\n",
        "    tf.keras.layers.LayerNormalization(),\n",
        "    tf.keras.layers.Dropout(0.2),\n",
        "\n",
        "\n",
        "    tf.keras.layers.Dense(256, activation='relu'),\n",
        "    tf.keras.layers.LayerNormalization(),\n",
        "    tf.keras.layers.Dense(128, activation='relu'),\n",
        "    tf.keras.layers.Dropout(0.2),\n",
        "    tf.keras.layers.LayerNormalization(),\n",
        "    tf.keras.layers.Dense(len(np.unique(x_label)), activation='softmax')\n",
        "])\n",
        "\n",
        "model.summary()\n",
        "model.compile(loss='sparse_categorical_crossentropy',optimizer='adam',metrics=['accuracy'])\n"
      ],
      "metadata": {
        "id": "dFbuz9mcIrc4",
        "colab": {
          "base_uri": "https://localhost:8080/"
        },
        "outputId": "485f8bb2-27be-4b71-9cd1-1b7d3959b49c"
      },
      "execution_count": 32,
      "outputs": [
        {
          "output_type": "stream",
          "name": "stdout",
          "text": [
            "Model: \"sequential_2\"\n",
            "_________________________________________________________________\n",
            " Layer (type)                Output Shape              Param #   \n",
            "=================================================================\n",
            " embedding_2 (Embedding)     (None, 12, 100)           1876500   \n",
            "                                                                 \n",
            " dropout_8 (Dropout)         (None, 12, 100)           0         \n",
            "                                                                 \n",
            " gru_4 (GRU)                 (None, 12, 128)           88320     \n",
            "                                                                 \n",
            " layer_normalization_8 (Lay  (None, 12, 128)           256       \n",
            " erNormalization)                                                \n",
            "                                                                 \n",
            " dropout_9 (Dropout)         (None, 12, 128)           0         \n",
            "                                                                 \n",
            " gru_5 (GRU)                 (None, 128)               99072     \n",
            "                                                                 \n",
            " layer_normalization_9 (Lay  (None, 128)               256       \n",
            " erNormalization)                                                \n",
            "                                                                 \n",
            " dropout_10 (Dropout)        (None, 128)               0         \n",
            "                                                                 \n",
            " dense_6 (Dense)             (None, 256)               33024     \n",
            "                                                                 \n",
            " layer_normalization_10 (La  (None, 256)               512       \n",
            " yerNormalization)                                               \n",
            "                                                                 \n",
            " dense_7 (Dense)             (None, 128)               32896     \n",
            "                                                                 \n",
            " dropout_11 (Dropout)        (None, 128)               0         \n",
            "                                                                 \n",
            " layer_normalization_11 (La  (None, 128)               256       \n",
            " yerNormalization)                                               \n",
            "                                                                 \n",
            " dense_8 (Dense)             (None, 75)                9675      \n",
            "                                                                 \n",
            "=================================================================\n",
            "Total params: 2140767 (8.17 MB)\n",
            "Trainable params: 264267 (1.01 MB)\n",
            "Non-trainable params: 1876500 (7.16 MB)\n",
            "_________________________________________________________________\n"
          ]
        }
      ]
    },
    {
      "cell_type": "code",
      "source": [
        "# Callback function to stop training when the accuracy is above 90%\n",
        "# and validation accuracy above 90%\n",
        "class MyCallback(tf.keras.callbacks.Callback):\n",
        "    def on_epoch_end(self, epoch, logs={}):\n",
        "        if logs.get('accuracy') > 0.9 and logs.get('val_accuracy') > 0.8:\n",
        "            self.model.stop_training = True"
      ],
      "metadata": {
        "id": "snIIzuDlpXkk"
      },
      "execution_count": 26,
      "outputs": []
    },
    {
      "cell_type": "code",
      "source": [
        "history = model.fit(x_train, x_label, validation_data=(y_train, y_label),\n",
        "                    batch_size=32, epochs=1000, callbacks=[MyCallback()])"
      ],
      "metadata": {
        "id": "rwJXZ4ExI3-g",
        "colab": {
          "base_uri": "https://localhost:8080/"
        },
        "outputId": "e279ae31-a8fa-4d92-9e81-482d3f64732e"
      },
      "execution_count": 33,
      "outputs": [
        {
          "output_type": "stream",
          "name": "stdout",
          "text": [
            "Epoch 1/1000\n",
            "7/7 [==============================] - 13s 617ms/step - loss: 4.7518 - accuracy: 0.0323 - val_loss: 3.7857 - val_accuracy: 0.1207\n",
            "Epoch 2/1000\n",
            "7/7 [==============================] - 1s 98ms/step - loss: 3.9775 - accuracy: 0.0599 - val_loss: 3.1990 - val_accuracy: 0.1983\n",
            "Epoch 3/1000\n",
            "7/7 [==============================] - 1s 94ms/step - loss: 3.6381 - accuracy: 0.1382 - val_loss: 2.7977 - val_accuracy: 0.3362\n",
            "Epoch 4/1000\n",
            "7/7 [==============================] - 0s 53ms/step - loss: 3.2831 - accuracy: 0.2028 - val_loss: 2.5165 - val_accuracy: 0.3793\n",
            "Epoch 5/1000\n",
            "7/7 [==============================] - 0s 51ms/step - loss: 3.0438 - accuracy: 0.2304 - val_loss: 2.2604 - val_accuracy: 0.4310\n",
            "Epoch 6/1000\n",
            "7/7 [==============================] - 0s 48ms/step - loss: 2.7072 - accuracy: 0.3364 - val_loss: 2.0009 - val_accuracy: 0.5000\n",
            "Epoch 7/1000\n",
            "7/7 [==============================] - 0s 47ms/step - loss: 2.4845 - accuracy: 0.3963 - val_loss: 1.8568 - val_accuracy: 0.5172\n",
            "Epoch 8/1000\n",
            "7/7 [==============================] - 0s 50ms/step - loss: 2.3776 - accuracy: 0.4147 - val_loss: 1.7064 - val_accuracy: 0.5172\n",
            "Epoch 9/1000\n",
            "7/7 [==============================] - 0s 50ms/step - loss: 2.2278 - accuracy: 0.4608 - val_loss: 1.5549 - val_accuracy: 0.6034\n",
            "Epoch 10/1000\n",
            "7/7 [==============================] - 0s 47ms/step - loss: 2.0861 - accuracy: 0.5207 - val_loss: 1.4319 - val_accuracy: 0.6466\n",
            "Epoch 11/1000\n",
            "7/7 [==============================] - 0s 47ms/step - loss: 1.8878 - accuracy: 0.5346 - val_loss: 1.3099 - val_accuracy: 0.6724\n",
            "Epoch 12/1000\n",
            "7/7 [==============================] - 0s 54ms/step - loss: 1.8090 - accuracy: 0.5115 - val_loss: 1.2136 - val_accuracy: 0.6810\n",
            "Epoch 13/1000\n",
            "7/7 [==============================] - 0s 47ms/step - loss: 1.6714 - accuracy: 0.5853 - val_loss: 1.1451 - val_accuracy: 0.7069\n",
            "Epoch 14/1000\n",
            "7/7 [==============================] - 0s 47ms/step - loss: 1.6241 - accuracy: 0.5714 - val_loss: 1.0831 - val_accuracy: 0.7328\n",
            "Epoch 15/1000\n",
            "7/7 [==============================] - 0s 49ms/step - loss: 1.5424 - accuracy: 0.6129 - val_loss: 1.0243 - val_accuracy: 0.7155\n",
            "Epoch 16/1000\n",
            "7/7 [==============================] - 0s 48ms/step - loss: 1.4383 - accuracy: 0.6359 - val_loss: 0.9762 - val_accuracy: 0.7328\n",
            "Epoch 17/1000\n",
            "7/7 [==============================] - 0s 48ms/step - loss: 1.3718 - accuracy: 0.6912 - val_loss: 0.9294 - val_accuracy: 0.7414\n",
            "Epoch 18/1000\n",
            "7/7 [==============================] - 0s 50ms/step - loss: 1.3087 - accuracy: 0.6774 - val_loss: 0.8962 - val_accuracy: 0.7586\n",
            "Epoch 19/1000\n",
            "7/7 [==============================] - 0s 48ms/step - loss: 1.3286 - accuracy: 0.6728 - val_loss: 0.8614 - val_accuracy: 0.7586\n",
            "Epoch 20/1000\n",
            "7/7 [==============================] - 0s 47ms/step - loss: 1.2003 - accuracy: 0.7051 - val_loss: 0.8526 - val_accuracy: 0.7586\n",
            "Epoch 21/1000\n",
            "7/7 [==============================] - 0s 46ms/step - loss: 1.1443 - accuracy: 0.7189 - val_loss: 0.8142 - val_accuracy: 0.7672\n",
            "Epoch 22/1000\n",
            "7/7 [==============================] - 0s 46ms/step - loss: 1.0760 - accuracy: 0.6959 - val_loss: 0.7830 - val_accuracy: 0.7328\n",
            "Epoch 23/1000\n",
            "7/7 [==============================] - 0s 51ms/step - loss: 1.0882 - accuracy: 0.7327 - val_loss: 0.7755 - val_accuracy: 0.7586\n",
            "Epoch 24/1000\n",
            "7/7 [==============================] - 0s 48ms/step - loss: 0.9638 - accuracy: 0.7558 - val_loss: 0.7874 - val_accuracy: 0.7586\n",
            "Epoch 25/1000\n",
            "7/7 [==============================] - 0s 48ms/step - loss: 0.9262 - accuracy: 0.7742 - val_loss: 0.7494 - val_accuracy: 0.7672\n",
            "Epoch 26/1000\n",
            "7/7 [==============================] - 0s 47ms/step - loss: 1.0141 - accuracy: 0.7327 - val_loss: 0.7540 - val_accuracy: 0.7759\n",
            "Epoch 27/1000\n",
            "7/7 [==============================] - 0s 51ms/step - loss: 0.9183 - accuracy: 0.7650 - val_loss: 0.7453 - val_accuracy: 0.7759\n",
            "Epoch 28/1000\n",
            "7/7 [==============================] - 0s 48ms/step - loss: 0.8467 - accuracy: 0.7834 - val_loss: 0.7084 - val_accuracy: 0.7845\n",
            "Epoch 29/1000\n",
            "7/7 [==============================] - 0s 51ms/step - loss: 0.8769 - accuracy: 0.7419 - val_loss: 0.6729 - val_accuracy: 0.7845\n",
            "Epoch 30/1000\n",
            "7/7 [==============================] - 0s 49ms/step - loss: 0.8453 - accuracy: 0.7465 - val_loss: 0.6706 - val_accuracy: 0.7931\n",
            "Epoch 31/1000\n",
            "7/7 [==============================] - 0s 51ms/step - loss: 0.8097 - accuracy: 0.7788 - val_loss: 0.6707 - val_accuracy: 0.8103\n",
            "Epoch 32/1000\n",
            "7/7 [==============================] - 0s 47ms/step - loss: 0.7758 - accuracy: 0.7834 - val_loss: 0.6750 - val_accuracy: 0.8017\n",
            "Epoch 33/1000\n",
            "7/7 [==============================] - 0s 64ms/step - loss: 0.7154 - accuracy: 0.7880 - val_loss: 0.6509 - val_accuracy: 0.8190\n",
            "Epoch 34/1000\n",
            "7/7 [==============================] - 1s 81ms/step - loss: 0.7924 - accuracy: 0.7558 - val_loss: 0.6661 - val_accuracy: 0.8103\n",
            "Epoch 35/1000\n",
            "7/7 [==============================] - 1s 98ms/step - loss: 0.7747 - accuracy: 0.7834 - val_loss: 0.6592 - val_accuracy: 0.8190\n",
            "Epoch 36/1000\n",
            "7/7 [==============================] - 1s 83ms/step - loss: 0.7453 - accuracy: 0.7880 - val_loss: 0.6492 - val_accuracy: 0.7931\n",
            "Epoch 37/1000\n",
            "7/7 [==============================] - 1s 80ms/step - loss: 0.7037 - accuracy: 0.8018 - val_loss: 0.6186 - val_accuracy: 0.8103\n",
            "Epoch 38/1000\n",
            "7/7 [==============================] - 1s 82ms/step - loss: 0.6524 - accuracy: 0.8203 - val_loss: 0.6434 - val_accuracy: 0.8190\n",
            "Epoch 39/1000\n",
            "7/7 [==============================] - 0s 71ms/step - loss: 0.6664 - accuracy: 0.7926 - val_loss: 0.6254 - val_accuracy: 0.8276\n",
            "Epoch 40/1000\n",
            "7/7 [==============================] - 0s 48ms/step - loss: 0.6480 - accuracy: 0.7926 - val_loss: 0.6315 - val_accuracy: 0.8017\n",
            "Epoch 41/1000\n",
            "7/7 [==============================] - 0s 49ms/step - loss: 0.6367 - accuracy: 0.8249 - val_loss: 0.6222 - val_accuracy: 0.8103\n",
            "Epoch 42/1000\n",
            "7/7 [==============================] - 0s 50ms/step - loss: 0.6122 - accuracy: 0.8111 - val_loss: 0.6364 - val_accuracy: 0.8017\n",
            "Epoch 43/1000\n",
            "7/7 [==============================] - 0s 52ms/step - loss: 0.6363 - accuracy: 0.8157 - val_loss: 0.6349 - val_accuracy: 0.8017\n",
            "Epoch 44/1000\n",
            "7/7 [==============================] - 0s 48ms/step - loss: 0.5983 - accuracy: 0.8203 - val_loss: 0.6327 - val_accuracy: 0.7931\n",
            "Epoch 45/1000\n",
            "7/7 [==============================] - 0s 51ms/step - loss: 0.5821 - accuracy: 0.8203 - val_loss: 0.6172 - val_accuracy: 0.8103\n",
            "Epoch 46/1000\n",
            "7/7 [==============================] - 0s 47ms/step - loss: 0.5915 - accuracy: 0.8065 - val_loss: 0.6371 - val_accuracy: 0.8103\n",
            "Epoch 47/1000\n",
            "7/7 [==============================] - 0s 51ms/step - loss: 0.5657 - accuracy: 0.8525 - val_loss: 0.6214 - val_accuracy: 0.8103\n",
            "Epoch 48/1000\n",
            "7/7 [==============================] - 0s 51ms/step - loss: 0.5953 - accuracy: 0.8111 - val_loss: 0.6149 - val_accuracy: 0.8190\n",
            "Epoch 49/1000\n",
            "7/7 [==============================] - 0s 47ms/step - loss: 0.5859 - accuracy: 0.8295 - val_loss: 0.6201 - val_accuracy: 0.8017\n",
            "Epoch 50/1000\n",
            "7/7 [==============================] - 0s 51ms/step - loss: 0.5792 - accuracy: 0.8111 - val_loss: 0.6136 - val_accuracy: 0.8276\n",
            "Epoch 51/1000\n",
            "7/7 [==============================] - 0s 56ms/step - loss: 0.5188 - accuracy: 0.8295 - val_loss: 0.6059 - val_accuracy: 0.8017\n",
            "Epoch 52/1000\n",
            "7/7 [==============================] - 0s 48ms/step - loss: 0.5540 - accuracy: 0.8249 - val_loss: 0.5835 - val_accuracy: 0.8190\n",
            "Epoch 53/1000\n",
            "7/7 [==============================] - 0s 49ms/step - loss: 0.5460 - accuracy: 0.8111 - val_loss: 0.5755 - val_accuracy: 0.8276\n",
            "Epoch 54/1000\n",
            "7/7 [==============================] - 0s 48ms/step - loss: 0.5249 - accuracy: 0.8203 - val_loss: 0.5878 - val_accuracy: 0.8190\n",
            "Epoch 55/1000\n",
            "7/7 [==============================] - 0s 48ms/step - loss: 0.4944 - accuracy: 0.8249 - val_loss: 0.6012 - val_accuracy: 0.8017\n",
            "Epoch 56/1000\n",
            "7/7 [==============================] - 0s 51ms/step - loss: 0.5305 - accuracy: 0.8203 - val_loss: 0.5936 - val_accuracy: 0.8190\n",
            "Epoch 57/1000\n",
            "7/7 [==============================] - 0s 50ms/step - loss: 0.5014 - accuracy: 0.8295 - val_loss: 0.5997 - val_accuracy: 0.8276\n",
            "Epoch 58/1000\n",
            "7/7 [==============================] - 0s 52ms/step - loss: 0.4640 - accuracy: 0.8479 - val_loss: 0.6012 - val_accuracy: 0.8190\n",
            "Epoch 59/1000\n",
            "7/7 [==============================] - 0s 52ms/step - loss: 0.4881 - accuracy: 0.8433 - val_loss: 0.5881 - val_accuracy: 0.8276\n",
            "Epoch 60/1000\n",
            "7/7 [==============================] - 0s 48ms/step - loss: 0.4757 - accuracy: 0.8571 - val_loss: 0.5823 - val_accuracy: 0.8190\n",
            "Epoch 61/1000\n",
            "7/7 [==============================] - 0s 50ms/step - loss: 0.4852 - accuracy: 0.8525 - val_loss: 0.5904 - val_accuracy: 0.8362\n",
            "Epoch 62/1000\n",
            "7/7 [==============================] - 0s 51ms/step - loss: 0.4865 - accuracy: 0.8433 - val_loss: 0.5966 - val_accuracy: 0.8190\n",
            "Epoch 63/1000\n",
            "7/7 [==============================] - 0s 51ms/step - loss: 0.4763 - accuracy: 0.8249 - val_loss: 0.5903 - val_accuracy: 0.8276\n",
            "Epoch 64/1000\n",
            "7/7 [==============================] - 0s 48ms/step - loss: 0.4391 - accuracy: 0.8433 - val_loss: 0.5896 - val_accuracy: 0.8276\n",
            "Epoch 65/1000\n",
            "7/7 [==============================] - 0s 52ms/step - loss: 0.4503 - accuracy: 0.8525 - val_loss: 0.5976 - val_accuracy: 0.8276\n",
            "Epoch 66/1000\n",
            "7/7 [==============================] - 0s 47ms/step - loss: 0.4059 - accuracy: 0.8618 - val_loss: 0.5926 - val_accuracy: 0.8362\n",
            "Epoch 67/1000\n",
            "7/7 [==============================] - 0s 48ms/step - loss: 0.4395 - accuracy: 0.8341 - val_loss: 0.5884 - val_accuracy: 0.8276\n",
            "Epoch 68/1000\n",
            "7/7 [==============================] - 1s 79ms/step - loss: 0.4328 - accuracy: 0.8618 - val_loss: 0.5977 - val_accuracy: 0.8276\n",
            "Epoch 69/1000\n",
            "7/7 [==============================] - 1s 79ms/step - loss: 0.4395 - accuracy: 0.8157 - val_loss: 0.5900 - val_accuracy: 0.8276\n",
            "Epoch 70/1000\n",
            "7/7 [==============================] - 1s 91ms/step - loss: 0.4379 - accuracy: 0.8618 - val_loss: 0.5907 - val_accuracy: 0.8362\n",
            "Epoch 71/1000\n",
            "7/7 [==============================] - 1s 80ms/step - loss: 0.4077 - accuracy: 0.8664 - val_loss: 0.5773 - val_accuracy: 0.8362\n",
            "Epoch 72/1000\n",
            "7/7 [==============================] - 1s 101ms/step - loss: 0.4145 - accuracy: 0.8756 - val_loss: 0.5777 - val_accuracy: 0.8448\n",
            "Epoch 73/1000\n",
            "7/7 [==============================] - 1s 93ms/step - loss: 0.4335 - accuracy: 0.8341 - val_loss: 0.5865 - val_accuracy: 0.8448\n",
            "Epoch 74/1000\n",
            "7/7 [==============================] - 0s 50ms/step - loss: 0.3759 - accuracy: 0.8756 - val_loss: 0.5951 - val_accuracy: 0.8276\n",
            "Epoch 75/1000\n",
            "7/7 [==============================] - 0s 52ms/step - loss: 0.4344 - accuracy: 0.8618 - val_loss: 0.5999 - val_accuracy: 0.8448\n",
            "Epoch 76/1000\n",
            "7/7 [==============================] - 0s 49ms/step - loss: 0.4056 - accuracy: 0.8756 - val_loss: 0.5569 - val_accuracy: 0.8448\n",
            "Epoch 77/1000\n",
            "7/7 [==============================] - 0s 51ms/step - loss: 0.4394 - accuracy: 0.8341 - val_loss: 0.5590 - val_accuracy: 0.8448\n",
            "Epoch 78/1000\n",
            "7/7 [==============================] - 0s 52ms/step - loss: 0.3817 - accuracy: 0.8618 - val_loss: 0.5856 - val_accuracy: 0.8448\n",
            "Epoch 79/1000\n",
            "7/7 [==============================] - 0s 51ms/step - loss: 0.4169 - accuracy: 0.8479 - val_loss: 0.6011 - val_accuracy: 0.8362\n",
            "Epoch 80/1000\n",
            "7/7 [==============================] - 0s 48ms/step - loss: 0.3631 - accuracy: 0.8710 - val_loss: 0.6044 - val_accuracy: 0.8190\n",
            "Epoch 81/1000\n",
            "7/7 [==============================] - 0s 49ms/step - loss: 0.3929 - accuracy: 0.8341 - val_loss: 0.5929 - val_accuracy: 0.8276\n",
            "Epoch 82/1000\n",
            "7/7 [==============================] - 0s 51ms/step - loss: 0.3712 - accuracy: 0.8710 - val_loss: 0.5893 - val_accuracy: 0.8362\n",
            "Epoch 83/1000\n",
            "7/7 [==============================] - 0s 48ms/step - loss: 0.3654 - accuracy: 0.8571 - val_loss: 0.5916 - val_accuracy: 0.8448\n",
            "Epoch 84/1000\n",
            "7/7 [==============================] - 0s 52ms/step - loss: 0.3256 - accuracy: 0.8894 - val_loss: 0.6098 - val_accuracy: 0.8448\n",
            "Epoch 85/1000\n",
            "7/7 [==============================] - 0s 53ms/step - loss: 0.3473 - accuracy: 0.8618 - val_loss: 0.6052 - val_accuracy: 0.8276\n",
            "Epoch 86/1000\n",
            "7/7 [==============================] - 0s 52ms/step - loss: 0.3997 - accuracy: 0.8664 - val_loss: 0.5888 - val_accuracy: 0.8276\n",
            "Epoch 87/1000\n",
            "7/7 [==============================] - 0s 52ms/step - loss: 0.3431 - accuracy: 0.8894 - val_loss: 0.6028 - val_accuracy: 0.8276\n",
            "Epoch 88/1000\n",
            "7/7 [==============================] - 0s 50ms/step - loss: 0.3266 - accuracy: 0.8618 - val_loss: 0.6155 - val_accuracy: 0.8362\n",
            "Epoch 89/1000\n",
            "7/7 [==============================] - 0s 47ms/step - loss: 0.3554 - accuracy: 0.8571 - val_loss: 0.6210 - val_accuracy: 0.8190\n",
            "Epoch 90/1000\n",
            "7/7 [==============================] - 0s 48ms/step - loss: 0.3330 - accuracy: 0.8802 - val_loss: 0.6152 - val_accuracy: 0.8276\n",
            "Epoch 91/1000\n",
            "7/7 [==============================] - 0s 52ms/step - loss: 0.3659 - accuracy: 0.8571 - val_loss: 0.6072 - val_accuracy: 0.8362\n",
            "Epoch 92/1000\n",
            "7/7 [==============================] - 0s 48ms/step - loss: 0.3196 - accuracy: 0.8710 - val_loss: 0.5886 - val_accuracy: 0.8362\n",
            "Epoch 93/1000\n",
            "7/7 [==============================] - 0s 49ms/step - loss: 0.3577 - accuracy: 0.8664 - val_loss: 0.5857 - val_accuracy: 0.8362\n",
            "Epoch 94/1000\n",
            "7/7 [==============================] - 0s 53ms/step - loss: 0.3729 - accuracy: 0.8433 - val_loss: 0.5898 - val_accuracy: 0.8276\n",
            "Epoch 95/1000\n",
            "7/7 [==============================] - 0s 51ms/step - loss: 0.3146 - accuracy: 0.8756 - val_loss: 0.5855 - val_accuracy: 0.8534\n",
            "Epoch 96/1000\n",
            "7/7 [==============================] - 0s 51ms/step - loss: 0.3491 - accuracy: 0.8756 - val_loss: 0.5948 - val_accuracy: 0.8362\n",
            "Epoch 97/1000\n",
            "7/7 [==============================] - 0s 51ms/step - loss: 0.3519 - accuracy: 0.8433 - val_loss: 0.5828 - val_accuracy: 0.8103\n",
            "Epoch 98/1000\n",
            "7/7 [==============================] - 0s 53ms/step - loss: 0.3612 - accuracy: 0.8479 - val_loss: 0.5668 - val_accuracy: 0.8276\n",
            "Epoch 99/1000\n",
            "7/7 [==============================] - 0s 48ms/step - loss: 0.3218 - accuracy: 0.8848 - val_loss: 0.5734 - val_accuracy: 0.8448\n",
            "Epoch 100/1000\n",
            "7/7 [==============================] - 0s 53ms/step - loss: 0.3190 - accuracy: 0.8710 - val_loss: 0.5736 - val_accuracy: 0.8276\n",
            "Epoch 101/1000\n",
            "7/7 [==============================] - 0s 47ms/step - loss: 0.3132 - accuracy: 0.8894 - val_loss: 0.5700 - val_accuracy: 0.8362\n",
            "Epoch 102/1000\n",
            "7/7 [==============================] - 0s 74ms/step - loss: 0.3198 - accuracy: 0.8802 - val_loss: 0.5829 - val_accuracy: 0.8190\n",
            "Epoch 103/1000\n",
            "7/7 [==============================] - 1s 82ms/step - loss: 0.3488 - accuracy: 0.8664 - val_loss: 0.5661 - val_accuracy: 0.8276\n",
            "Epoch 104/1000\n",
            "7/7 [==============================] - 1s 80ms/step - loss: 0.3285 - accuracy: 0.8525 - val_loss: 0.5595 - val_accuracy: 0.8276\n",
            "Epoch 105/1000\n",
            "7/7 [==============================] - 1s 92ms/step - loss: 0.3015 - accuracy: 0.8756 - val_loss: 0.5722 - val_accuracy: 0.8534\n",
            "Epoch 106/1000\n",
            "7/7 [==============================] - 1s 79ms/step - loss: 0.3181 - accuracy: 0.8848 - val_loss: 0.5678 - val_accuracy: 0.8448\n",
            "Epoch 107/1000\n",
            "7/7 [==============================] - 1s 81ms/step - loss: 0.3422 - accuracy: 0.8664 - val_loss: 0.5782 - val_accuracy: 0.8362\n",
            "Epoch 108/1000\n",
            "7/7 [==============================] - 0s 72ms/step - loss: 0.2972 - accuracy: 0.8710 - val_loss: 0.5830 - val_accuracy: 0.8276\n",
            "Epoch 109/1000\n",
            "7/7 [==============================] - 0s 53ms/step - loss: 0.2829 - accuracy: 0.8940 - val_loss: 0.5710 - val_accuracy: 0.8362\n",
            "Epoch 110/1000\n",
            "7/7 [==============================] - 0s 51ms/step - loss: 0.2984 - accuracy: 0.8802 - val_loss: 0.5732 - val_accuracy: 0.8190\n",
            "Epoch 111/1000\n",
            "7/7 [==============================] - 0s 50ms/step - loss: 0.3185 - accuracy: 0.8710 - val_loss: 0.6017 - val_accuracy: 0.8276\n",
            "Epoch 112/1000\n",
            "7/7 [==============================] - 0s 51ms/step - loss: 0.3098 - accuracy: 0.8848 - val_loss: 0.5985 - val_accuracy: 0.8362\n",
            "Epoch 113/1000\n",
            "7/7 [==============================] - 0s 50ms/step - loss: 0.3316 - accuracy: 0.8618 - val_loss: 0.5845 - val_accuracy: 0.8534\n",
            "Epoch 114/1000\n",
            "7/7 [==============================] - 0s 53ms/step - loss: 0.3322 - accuracy: 0.8802 - val_loss: 0.5923 - val_accuracy: 0.8448\n",
            "Epoch 115/1000\n",
            "7/7 [==============================] - 0s 52ms/step - loss: 0.3310 - accuracy: 0.8756 - val_loss: 0.6022 - val_accuracy: 0.8190\n",
            "Epoch 116/1000\n",
            "7/7 [==============================] - 0s 47ms/step - loss: 0.3368 - accuracy: 0.8571 - val_loss: 0.6070 - val_accuracy: 0.8190\n",
            "Epoch 117/1000\n",
            "7/7 [==============================] - 0s 51ms/step - loss: 0.2761 - accuracy: 0.8848 - val_loss: 0.6130 - val_accuracy: 0.8276\n",
            "Epoch 118/1000\n",
            "7/7 [==============================] - 0s 48ms/step - loss: 0.3226 - accuracy: 0.8848 - val_loss: 0.6184 - val_accuracy: 0.8276\n",
            "Epoch 119/1000\n",
            "7/7 [==============================] - 0s 48ms/step - loss: 0.2887 - accuracy: 0.8848 - val_loss: 0.6115 - val_accuracy: 0.8534\n",
            "Epoch 120/1000\n",
            "7/7 [==============================] - 0s 54ms/step - loss: 0.3004 - accuracy: 0.8986 - val_loss: 0.6102 - val_accuracy: 0.8448\n",
            "Epoch 121/1000\n",
            "7/7 [==============================] - 0s 52ms/step - loss: 0.3298 - accuracy: 0.8710 - val_loss: 0.6144 - val_accuracy: 0.8448\n",
            "Epoch 122/1000\n",
            "7/7 [==============================] - 0s 48ms/step - loss: 0.3114 - accuracy: 0.8894 - val_loss: 0.6145 - val_accuracy: 0.8448\n",
            "Epoch 123/1000\n",
            "7/7 [==============================] - 0s 51ms/step - loss: 0.3011 - accuracy: 0.8848 - val_loss: 0.6092 - val_accuracy: 0.8362\n",
            "Epoch 124/1000\n",
            "7/7 [==============================] - 0s 48ms/step - loss: 0.3139 - accuracy: 0.8664 - val_loss: 0.6054 - val_accuracy: 0.8362\n",
            "Epoch 125/1000\n",
            "7/7 [==============================] - 0s 50ms/step - loss: 0.3338 - accuracy: 0.8618 - val_loss: 0.6009 - val_accuracy: 0.8362\n",
            "Epoch 126/1000\n",
            "7/7 [==============================] - 0s 55ms/step - loss: 0.3058 - accuracy: 0.8848 - val_loss: 0.5921 - val_accuracy: 0.8448\n",
            "Epoch 127/1000\n",
            "7/7 [==============================] - 0s 48ms/step - loss: 0.3011 - accuracy: 0.8571 - val_loss: 0.6123 - val_accuracy: 0.8362\n",
            "Epoch 128/1000\n",
            "7/7 [==============================] - 0s 47ms/step - loss: 0.3122 - accuracy: 0.8802 - val_loss: 0.6368 - val_accuracy: 0.8190\n",
            "Epoch 129/1000\n",
            "7/7 [==============================] - 0s 51ms/step - loss: 0.2991 - accuracy: 0.8756 - val_loss: 0.6316 - val_accuracy: 0.8362\n",
            "Epoch 130/1000\n",
            "7/7 [==============================] - 0s 50ms/step - loss: 0.3032 - accuracy: 0.8618 - val_loss: 0.6113 - val_accuracy: 0.8276\n",
            "Epoch 131/1000\n",
            "7/7 [==============================] - 0s 48ms/step - loss: 0.3006 - accuracy: 0.8848 - val_loss: 0.6148 - val_accuracy: 0.8362\n",
            "Epoch 132/1000\n",
            "7/7 [==============================] - 0s 54ms/step - loss: 0.3121 - accuracy: 0.8618 - val_loss: 0.6232 - val_accuracy: 0.8448\n",
            "Epoch 133/1000\n",
            "7/7 [==============================] - 0s 49ms/step - loss: 0.2829 - accuracy: 0.8802 - val_loss: 0.6123 - val_accuracy: 0.8448\n",
            "Epoch 134/1000\n",
            "7/7 [==============================] - 0s 47ms/step - loss: 0.2673 - accuracy: 0.9032 - val_loss: 0.6167 - val_accuracy: 0.8534\n"
          ]
        }
      ]
    },
    {
      "cell_type": "code",
      "source": [
        "plot_training_history(history)"
      ],
      "metadata": {
        "colab": {
          "base_uri": "https://localhost:8080/",
          "height": 452
        },
        "id": "CYQlO-jCoW9G",
        "outputId": "50be50e1-f38e-497f-e911-a0250083ca6d"
      },
      "execution_count": 34,
      "outputs": [
        {
          "output_type": "display_data",
          "data": {
            "text/plain": [
              "<Figure size 640x480 with 2 Axes>"
            ],
            "image/png": "[encoded data removed]"
          },
          "metadata": {}
        }
      ]
    },
    {
      "cell_type": "markdown",
      "source": [
        "# **Chatbot Testing**"
      ],
      "metadata": {
        "id": "zcjh1z3Y2SKf"
      }
    },
    {
      "cell_type": "code",
      "source": [
        "chatbot_test()"
      ],
      "metadata": {
        "id": "Zi8I7m0qLeCM",
        "colab": {
          "base_uri": "https://localhost:8080/"
        },
        "outputId": "1ec04439-b010-486e-d05f-b7c8b4dd8739"
      },
      "execution_count": 35,
      "outputs": [
        {
          "output_type": "stream",
          "name": "stdout",
          "text": [
            "User: pagi\n",
            "1/1 [==============================] - 4s 4s/step\n",
            "Label: morning\n",
            "Chatbot:  Selamat pagi. Saya harap Anda tidur nyenyak. Bagaimana perasaan Anda hari ini? \n",
            "User: siapa kamu\n",
            "1/1 [==============================] - 0s 49ms/step\n",
            "Label: about\n",
            "Chatbot:  Saya Pandora, Asisten AI Terapi yang dirancang untuk membantu Anda. Ceritakan tentang diri Anda.\n",
            "User: apa yang dapat kamu lakukan\n",
            "1/1 [==============================] - 0s 24ms/step\n",
            "Label: skill\n",
            "Chatbot:  Saya dapat memberikan nasihat umum mengenai kecemasan dan depresi, menjawab pertanyaan terkait kesehatan mental, dan melakukan percakapan sehari-hari. Perlu diingat bahwa saya bukan sebagai pengganti ahli kesehatan mental.\n",
            "User: oh begitu\n",
            "1/1 [==============================] - 0s 35ms/step\n",
            "Label: casual\n",
            "Chatbot:  Ceritakan lebih banyak lagi\n",
            "User: aku ingin belajar tentang kesehatan mental\n",
            "1/1 [==============================] - 0s 26ms/step\n",
            "Label: learn_mental_health\n",
            "Chatbot:  Oh itu sangat bagus. Saya bersedia menjawab apa pun yang saya tahu tentang kesehatan mental.\n",
            "User: berikan fakta menarik mengenai kesehatan mental\n",
            "1/1 [==============================] - 0s 29ms/step\n",
            "Label: mental_health_fact\n",
            "Chatbot:  Depresi adalah penyebab utama kecacatan di seluruh dunia.\n",
            "User: apa itu depresi\n",
            "1/1 [==============================] - 0s 34ms/step\n",
            "Label: fact_3\n",
            "Chatbot:  Gangguan kesehatan mental yang ditandai dengan suasana hati yang tertekan atau kehilangan minat dalam kegiatan, menyebabkan gangguan yang signifikan dalam kehidupan sehari -hari.\n",
            "User: apa perbedaan kesedihan dan depresi\n",
            "1/1 [==============================] - 0s 26ms/step\n",
            "Label: fact_30\n",
            "Chatbot:  Kesedihan merupakan reaksi normal terhadap kehilangan, kekecewaan, masalah, atau situasi sulit lainnya. Merasa sedih dari waktu ke waktu hanyalah bagian lain dari menjadi manusia. Dalam kasus ini, perasaan sedih akan hilang dengan cepat dan Anda dapat menjalani kehidupan sehari-hari. Cara lain untuk mengungkapkan kesedihan adalah dengan merasa sedih, sedih, atau sedih. Seseorang mungkin mengatakan bahwa mereka merasa tertekan, tetapi jika perasaan itu hilang dengan sendirinya dan tidak berdampak besar pada kehidupan, mungkin hal itu tidak terjadi. t penyakit depresi. Depresi adalah penyakit mental yang memengaruhi suasana hati Anda, cara Anda memahami diri sendiri, dan cara Anda memahami serta berhubungan dengan hal-hal di sekitar Anda. Bisa juga dengan nama yang berbeda, seperti depresi klinis, gangguan depresi mayor, atau depresi berat. Depresi bisa muncul tanpa sebab dan berlangsung dalam jangka waktu lama. Ini lebih dari sekedar kesedihan atau suasana hati yang buruk. Orang yang mengalami depresi mungkin merasa tidak berharga atau putus asa. Mereka mungkin merasa bersalah tanpa alasan. Beberapa orang mungkin mengalami depresi sebagai kemarahan atau mudah tersinggung. Mungkin sulit untuk berkonsentrasi atau mengambil keputusan. Kebanyakan orang kehilangan minat pada hal-hal yang dulu mereka sukai dan mungkin mengasingkan diri dari orang lain. Ada juga tanda-tanda fisik depresi, seperti masalah tidur, nafsu makan dan energi, serta rasa sakit atau nyeri yang tidak dapat dijelaskan. Beberapa orang mungkin mengalami pemikiran sulit tentang kematian atau mengakhiri hidup mereka (bunuh diri). Depresi berlangsung lebih dari dua minggu, biasanya tidak hilang dengan sendirinya, dan berdampak pada kehidupan Anda. Ini penyakit yang nyata dan sangat bisa diobati. Penting untuk mencari bantuan jika Anda khawatir tentang depresi.\n",
            "User: Bagaimana saya bisa memiliki support system\n",
            "1/1 [==============================] - 0s 25ms/step\n",
            "Label: fact_22\n",
            "Chatbot:  Banyak orang menganggap dukungan sebaya sebagai alat yang berguna yang dapat membantu pemulihan mereka. Ada berbagai organisasi yang menawarkan kelompok dukungan untuk konsumen, anggota keluarga, dan teman mereka. Beberapa kelompok pendukung dipimpin oleh rekan sejawat, sementara kelompok lainnya mungkin dipimpin oleh ahli kesehatan mental.\n",
            "User: terima kasih atas waktunya\n",
            "1/1 [==============================] - 0s 25ms/step\n",
            "Label: death\n",
            "Chatbot:  Saya turut berbela sungkawa. Saya di sini jika Anda perlu bicara.\n",
            "User: terima kasih\n",
            "1/1 [==============================] - 0s 23ms/step\n",
            "Label: thanks\n",
            "Chatbot:  Saya senang bisa membantu!\n"
          ]
        }
      ]
    }
  ]
}