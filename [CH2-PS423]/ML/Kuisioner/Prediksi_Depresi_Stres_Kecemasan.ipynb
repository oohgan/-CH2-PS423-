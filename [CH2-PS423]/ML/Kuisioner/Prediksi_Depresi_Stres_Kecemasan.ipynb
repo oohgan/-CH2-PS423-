{
  "cells": [
    {
      "cell_type": "code",
      "execution_count": 154,
      "metadata": {
        "id": "EsWyzvWaX3Yb"
      },
      "outputs": [],
      "source": [
        "import pandas as pd\n",
        "import numpy as np\n",
        "import tensorflow as tf\n",
        "import matplotlib.pyplot as plt\n",
        "import seaborn as sns\n",
        "import csv\n",
        "import os\n",
        "import keras\n",
        "\n",
        "from sklearn.model_selection import train_test_split\n",
        "from sklearn.metrics import classification_report, accuracy_score\n",
        "from tensorflow.keras.models import Sequential\n",
        "from tensorflow.keras.layers import Dense, Flatten\n",
        "from tensorflow.keras.optimizers import Adam\n",
        "from tensorflow.keras.utils import plot_model"
      ]
    },
    {
      "cell_type": "markdown",
      "source": [
        "# Model"
      ],
      "metadata": {
        "id": "eSRn5NGMPIms"
      }
    },
    {
      "cell_type": "code",
      "execution_count": 155,
      "metadata": {
        "colab": {
          "base_uri": "https://localhost:8080/"
        },
        "id": "n8BrOLvkYVKb",
        "outputId": "74de2fb0-1ab3-43ff-e559-8a9e3a1101a8"
      },
      "outputs": [
        {
          "output_type": "stream",
          "name": "stdout",
          "text": [
            "      Q3  Q5  Q10  Q13  Q16  Q17  Q21  Q24  Q26  Q31  Q34  Q37  Q38  Q42  \\\n",
            "0      1   3    0    3    3    2    0    3    3    3    2    0    1    3   \n",
            "1      1   3    1    3    2    3    1    1    2    1    1    3    1    1   \n",
            "2      3   3    3    3    3    3    3    3    0    3    3    3    3    3   \n",
            "3      1   2    2    0    1    2    0    0    1    2    3    1    0    1   \n",
            "4      2   3    2    3    2    3    2    1    3    2    3    2    2    2   \n",
            "...   ..  ..  ...  ...  ...  ...  ...  ...  ...  ...  ...  ...  ...  ...   \n",
            "6704   2   2    3    3    2    3    1    1    2    1    3    3    2    2   \n",
            "6705   2   3    1    2    3    3    3    1    1    1    3    2    3    3   \n",
            "6706   2   1    3    3    2    3    3    1    1    0    2    3    3    2   \n",
            "6707   1   3    2    3    2    2    3    1    3    1    2    2    2    3   \n",
            "6708   1   1    1    2    2    3    2    2    0    1    2    2    1    0   \n",
            "\n",
            "      Label  \n",
            "0         3  \n",
            "1         3  \n",
            "2         4  \n",
            "3         2  \n",
            "4         4  \n",
            "...     ...  \n",
            "6704      4  \n",
            "6705      4  \n",
            "6706      4  \n",
            "6707      4  \n",
            "6708      2  \n",
            "\n",
            "[6709 rows x 15 columns]\n"
          ]
        }
      ],
      "source": [
        "depression_dataset = '/content/sample_data/new_depression_dataset.csv'\n",
        "\n",
        "# Read the CSV file into a Pandas DataFrame\n",
        "data = pd.read_csv(depression_dataset)\n",
        "\n",
        "print(data)"
      ]
    },
    {
      "cell_type": "code",
      "execution_count": 156,
      "metadata": {
        "id": "d5dgQYRegaxb",
        "colab": {
          "base_uri": "https://localhost:8080/",
          "height": 206
        },
        "outputId": "78038258-b22b-4929-c864-fdc2a54eeb88"
      },
      "outputs": [
        {
          "output_type": "execute_result",
          "data": {
            "text/plain": [
              "   Q3  Q5  Q10  Q13  Q16  Q17  Q21  Q24  Q26  Q31  Q34  Q37  Q38  Q42  Label\n",
              "0   1   3    0    3    3    2    0    3    3    3    2    0    1    3      3\n",
              "1   1   3    1    3    2    3    1    1    2    1    1    3    1    1      3\n",
              "2   3   3    3    3    3    3    3    3    0    3    3    3    3    3      4\n",
              "3   1   2    2    0    1    2    0    0    1    2    3    1    0    1      2\n",
              "4   2   3    2    3    2    3    2    1    3    2    3    2    2    2      4"
            ],
            "text/html": [
              "\n",
              "  <div id=\"df-93ed7828-be53-4750-b934-f16d31c53a6e\" class=\"colab-df-container\">\n",
              "    <div>\n",
              "<style scoped>\n",
              "    .dataframe tbody tr th:only-of-type {\n",
              "        vertical-align: middle;\n",
              "    }\n",
              "\n",
              "    .dataframe tbody tr th {\n",
              "        vertical-align: top;\n",
              "    }\n",
              "\n",
              "    .dataframe thead th {\n",
              "        text-align: right;\n",
              "    }\n",
              "</style>\n",
              "<table border=\"1\" class=\"dataframe\">\n",
              "  <thead>\n",
              "    <tr style=\"text-align: right;\">\n",
              "      <th></th>\n",
              "      <th>Q3</th>\n",
              "      <th>Q5</th>\n",
              "      <th>Q10</th>\n",
              "      <th>Q13</th>\n",
              "      <th>Q16</th>\n",
              "      <th>Q17</th>\n",
              "      <th>Q21</th>\n",
              "      <th>Q24</th>\n",
              "      <th>Q26</th>\n",
              "      <th>Q31</th>\n",
              "      <th>Q34</th>\n",
              "      <th>Q37</th>\n",
              "      <th>Q38</th>\n",
              "      <th>Q42</th>\n",
              "      <th>Label</th>\n",
              "    </tr>\n",
              "  </thead>\n",
              "  <tbody>\n",
              "    <tr>\n",
              "      <th>0</th>\n",
              "      <td>1</td>\n",
              "      <td>3</td>\n",
              "      <td>0</td>\n",
              "      <td>3</td>\n",
              "      <td>3</td>\n",
              "      <td>2</td>\n",
              "      <td>0</td>\n",
              "      <td>3</td>\n",
              "      <td>3</td>\n",
              "      <td>3</td>\n",
              "      <td>2</td>\n",
              "      <td>0</td>\n",
              "      <td>1</td>\n",
              "      <td>3</td>\n",
              "      <td>3</td>\n",
              "    </tr>\n",
              "    <tr>\n",
              "      <th>1</th>\n",
              "      <td>1</td>\n",
              "      <td>3</td>\n",
              "      <td>1</td>\n",
              "      <td>3</td>\n",
              "      <td>2</td>\n",
              "      <td>3</td>\n",
              "      <td>1</td>\n",
              "      <td>1</td>\n",
              "      <td>2</td>\n",
              "      <td>1</td>\n",
              "      <td>1</td>\n",
              "      <td>3</td>\n",
              "      <td>1</td>\n",
              "      <td>1</td>\n",
              "      <td>3</td>\n",
              "    </tr>\n",
              "    <tr>\n",
              "      <th>2</th>\n",
              "      <td>3</td>\n",
              "      <td>3</td>\n",
              "      <td>3</td>\n",
              "      <td>3</td>\n",
              "      <td>3</td>\n",
              "      <td>3</td>\n",
              "      <td>3</td>\n",
              "      <td>3</td>\n",
              "      <td>0</td>\n",
              "      <td>3</td>\n",
              "      <td>3</td>\n",
              "      <td>3</td>\n",
              "      <td>3</td>\n",
              "      <td>3</td>\n",
              "      <td>4</td>\n",
              "    </tr>\n",
              "    <tr>\n",
              "      <th>3</th>\n",
              "      <td>1</td>\n",
              "      <td>2</td>\n",
              "      <td>2</td>\n",
              "      <td>0</td>\n",
              "      <td>1</td>\n",
              "      <td>2</td>\n",
              "      <td>0</td>\n",
              "      <td>0</td>\n",
              "      <td>1</td>\n",
              "      <td>2</td>\n",
              "      <td>3</td>\n",
              "      <td>1</td>\n",
              "      <td>0</td>\n",
              "      <td>1</td>\n",
              "      <td>2</td>\n",
              "    </tr>\n",
              "    <tr>\n",
              "      <th>4</th>\n",
              "      <td>2</td>\n",
              "      <td>3</td>\n",
              "      <td>2</td>\n",
              "      <td>3</td>\n",
              "      <td>2</td>\n",
              "      <td>3</td>\n",
              "      <td>2</td>\n",
              "      <td>1</td>\n",
              "      <td>3</td>\n",
              "      <td>2</td>\n",
              "      <td>3</td>\n",
              "      <td>2</td>\n",
              "      <td>2</td>\n",
              "      <td>2</td>\n",
              "      <td>4</td>\n",
              "    </tr>\n",
              "  </tbody>\n",
              "</table>\n",
              "</div>\n",
              "    <div class=\"colab-df-buttons\">\n",
              "\n",
              "  <div class=\"colab-df-container\">\n",
              "    <button class=\"colab-df-convert\" onclick=\"convertToInteractive('df-93ed7828-be53-4750-b934-f16d31c53a6e')\"\n",
              "            title=\"Convert this dataframe to an interactive table.\"\n",
              "            style=\"display:none;\">\n",
              "\n",
              "  <svg xmlns=\"http://www.w3.org/2000/svg\" height=\"24px\" viewBox=\"0 -960 960 960\">\n",
              "    <path d=\"M120-120v-720h720v720H120Zm60-500h600v-160H180v160Zm220 220h160v-160H400v160Zm0 220h160v-160H400v160ZM180-400h160v-160H180v160Zm440 0h160v-160H620v160ZM180-180h160v-160H180v160Zm440 0h160v-160H620v160Z\"/>\n",
              "  </svg>\n",
              "    </button>\n",
              "\n",
              "  <style>\n",
              "    .colab-df-container {\n",
              "      display:flex;\n",
              "      gap: 12px;\n",
              "    }\n",
              "\n",
              "    .colab-df-convert {\n",
              "      background-color: #E8F0FE;\n",
              "      border: none;\n",
              "      border-radius: 50%;\n",
              "      cursor: pointer;\n",
              "      display: none;\n",
              "      fill: #1967D2;\n",
              "      height: 32px;\n",
              "      padding: 0 0 0 0;\n",
              "      width: 32px;\n",
              "    }\n",
              "\n",
              "    .colab-df-convert:hover {\n",
              "      background-color: #E2EBFA;\n",
              "      box-shadow: 0px 1px 2px rgba(60, 64, 67, 0.3), 0px 1px 3px 1px rgba(60, 64, 67, 0.15);\n",
              "      fill: #174EA6;\n",
              "    }\n",
              "\n",
              "    .colab-df-buttons div {\n",
              "      margin-bottom: 4px;\n",
              "    }\n",
              "\n",
              "    [theme=dark] .colab-df-convert {\n",
              "      background-color: #3B4455;\n",
              "      fill: #D2E3FC;\n",
              "    }\n",
              "\n",
              "    [theme=dark] .colab-df-convert:hover {\n",
              "      background-color: #434B5C;\n",
              "      box-shadow: 0px 1px 3px 1px rgba(0, 0, 0, 0.15);\n",
              "      filter: drop-shadow(0px 1px 2px rgba(0, 0, 0, 0.3));\n",
              "      fill: #FFFFFF;\n",
              "    }\n",
              "  </style>\n",
              "\n",
              "    <script>\n",
              "      const buttonEl =\n",
              "        document.querySelector('#df-93ed7828-be53-4750-b934-f16d31c53a6e button.colab-df-convert');\n",
              "      buttonEl.style.display =\n",
              "        google.colab.kernel.accessAllowed ? 'block' : 'none';\n",
              "\n",
              "      async function convertToInteractive(key) {\n",
              "        const element = document.querySelector('#df-93ed7828-be53-4750-b934-f16d31c53a6e');\n",
              "        const dataTable =\n",
              "          await google.colab.kernel.invokeFunction('convertToInteractive',\n",
              "                                                    [key], {});\n",
              "        if (!dataTable) return;\n",
              "\n",
              "        const docLinkHtml = 'Like what you see? Visit the ' +\n",
              "          '<a target=\"_blank\" href=https://colab.research.google.com/notebooks/data_table.ipynb>data table notebook</a>'\n",
              "          + ' to learn more about interactive tables.';\n",
              "        element.innerHTML = '';\n",
              "        dataTable['output_type'] = 'display_data';\n",
              "        await google.colab.output.renderOutput(dataTable, element);\n",
              "        const docLink = document.createElement('div');\n",
              "        docLink.innerHTML = docLinkHtml;\n",
              "        element.appendChild(docLink);\n",
              "      }\n",
              "    </script>\n",
              "  </div>\n",
              "\n",
              "\n",
              "<div id=\"df-4cdfd0e5-5160-4159-8311-beaddfe5d736\">\n",
              "  <button class=\"colab-df-quickchart\" onclick=\"quickchart('df-4cdfd0e5-5160-4159-8311-beaddfe5d736')\"\n",
              "            title=\"Suggest charts\"\n",
              "            style=\"display:none;\">\n",
              "\n",
              "<svg xmlns=\"http://www.w3.org/2000/svg\" height=\"24px\"viewBox=\"0 0 24 24\"\n",
              "     width=\"24px\">\n",
              "    <g>\n",
              "        <path d=\"M19 3H5c-1.1 0-2 .9-2 2v14c0 1.1.9 2 2 2h14c1.1 0 2-.9 2-2V5c0-1.1-.9-2-2-2zM9 17H7v-7h2v7zm4 0h-2V7h2v10zm4 0h-2v-4h2v4z\"/>\n",
              "    </g>\n",
              "</svg>\n",
              "  </button>\n",
              "\n",
              "<style>\n",
              "  .colab-df-quickchart {\n",
              "      --bg-color: #E8F0FE;\n",
              "      --fill-color: #1967D2;\n",
              "      --hover-bg-color: #E2EBFA;\n",
              "      --hover-fill-color: #174EA6;\n",
              "      --disabled-fill-color: #AAA;\n",
              "      --disabled-bg-color: #DDD;\n",
              "  }\n",
              "\n",
              "  [theme=dark] .colab-df-quickchart {\n",
              "      --bg-color: #3B4455;\n",
              "      --fill-color: #D2E3FC;\n",
              "      --hover-bg-color: #434B5C;\n",
              "      --hover-fill-color: #FFFFFF;\n",
              "      --disabled-bg-color: #3B4455;\n",
              "      --disabled-fill-color: #666;\n",
              "  }\n",
              "\n",
              "  .colab-df-quickchart {\n",
              "    background-color: var(--bg-color);\n",
              "    border: none;\n",
              "    border-radius: 50%;\n",
              "    cursor: pointer;\n",
              "    display: none;\n",
              "    fill: var(--fill-color);\n",
              "    height: 32px;\n",
              "    padding: 0;\n",
              "    width: 32px;\n",
              "  }\n",
              "\n",
              "  .colab-df-quickchart:hover {\n",
              "    background-color: var(--hover-bg-color);\n",
              "    box-shadow: 0 1px 2px rgba(60, 64, 67, 0.3), 0 1px 3px 1px rgba(60, 64, 67, 0.15);\n",
              "    fill: var(--button-hover-fill-color);\n",
              "  }\n",
              "\n",
              "  .colab-df-quickchart-complete:disabled,\n",
              "  .colab-df-quickchart-complete:disabled:hover {\n",
              "    background-color: var(--disabled-bg-color);\n",
              "    fill: var(--disabled-fill-color);\n",
              "    box-shadow: none;\n",
              "  }\n",
              "\n",
              "  .colab-df-spinner {\n",
              "    border: 2px solid var(--fill-color);\n",
              "    border-color: transparent;\n",
              "    border-bottom-color: var(--fill-color);\n",
              "    animation:\n",
              "      spin 1s steps(1) infinite;\n",
              "  }\n",
              "\n",
              "  @keyframes spin {\n",
              "    0% {\n",
              "      border-color: transparent;\n",
              "      border-bottom-color: var(--fill-color);\n",
              "      border-left-color: var(--fill-color);\n",
              "    }\n",
              "    20% {\n",
              "      border-color: transparent;\n",
              "      border-left-color: var(--fill-color);\n",
              "      border-top-color: var(--fill-color);\n",
              "    }\n",
              "    30% {\n",
              "      border-color: transparent;\n",
              "      border-left-color: var(--fill-color);\n",
              "      border-top-color: var(--fill-color);\n",
              "      border-right-color: var(--fill-color);\n",
              "    }\n",
              "    40% {\n",
              "      border-color: transparent;\n",
              "      border-right-color: var(--fill-color);\n",
              "      border-top-color: var(--fill-color);\n",
              "    }\n",
              "    60% {\n",
              "      border-color: transparent;\n",
              "      border-right-color: var(--fill-color);\n",
              "    }\n",
              "    80% {\n",
              "      border-color: transparent;\n",
              "      border-right-color: var(--fill-color);\n",
              "      border-bottom-color: var(--fill-color);\n",
              "    }\n",
              "    90% {\n",
              "      border-color: transparent;\n",
              "      border-bottom-color: var(--fill-color);\n",
              "    }\n",
              "  }\n",
              "</style>\n",
              "\n",
              "  <script>\n",
              "    async function quickchart(key) {\n",
              "      const quickchartButtonEl =\n",
              "        document.querySelector('#' + key + ' button');\n",
              "      quickchartButtonEl.disabled = true;  // To prevent multiple clicks.\n",
              "      quickchartButtonEl.classList.add('colab-df-spinner');\n",
              "      try {\n",
              "        const charts = await google.colab.kernel.invokeFunction(\n",
              "            'suggestCharts', [key], {});\n",
              "      } catch (error) {\n",
              "        console.error('Error during call to suggestCharts:', error);\n",
              "      }\n",
              "      quickchartButtonEl.classList.remove('colab-df-spinner');\n",
              "      quickchartButtonEl.classList.add('colab-df-quickchart-complete');\n",
              "    }\n",
              "    (() => {\n",
              "      let quickchartButtonEl =\n",
              "        document.querySelector('#df-4cdfd0e5-5160-4159-8311-beaddfe5d736 button');\n",
              "      quickchartButtonEl.style.display =\n",
              "        google.colab.kernel.accessAllowed ? 'block' : 'none';\n",
              "    })();\n",
              "  </script>\n",
              "</div>\n",
              "    </div>\n",
              "  </div>\n"
            ]
          },
          "metadata": {},
          "execution_count": 156
        }
      ],
      "source": [
        "#menampilkan baris-baris awal dari sebuah DataFrame\n",
        "data.head()"
      ]
    },
    {
      "cell_type": "code",
      "execution_count": 157,
      "metadata": {
        "colab": {
          "base_uri": "https://localhost:8080/"
        },
        "id": "cOM3lgdqglNe",
        "outputId": "45cbb7e9-cb55-4d74-a93f-d8388a333232"
      },
      "outputs": [
        {
          "output_type": "stream",
          "name": "stdout",
          "text": [
            "Shape of DataFrame: (6709, 15)\n",
            "Q3       1\n",
            "Q5       3\n",
            "Q10      0\n",
            "Q13      3\n",
            "Q16      3\n",
            "Q17      2\n",
            "Q21      0\n",
            "Q24      3\n",
            "Q26      3\n",
            "Q31      3\n",
            "Q34      2\n",
            "Q37      0\n",
            "Q38      1\n",
            "Q42      3\n",
            "Label    3\n",
            "Name: 0, dtype: int64\n"
          ]
        }
      ],
      "source": [
        "#membaca dan memanipulasi data dalam bentuk DataFrame\n",
        "print('Shape of DataFrame: {}'.format(data.shape))\n",
        "print(data.loc[0])"
      ]
    },
    {
      "cell_type": "code",
      "execution_count": 158,
      "metadata": {
        "colab": {
          "base_uri": "https://localhost:8080/",
          "height": 394
        },
        "id": "ZaNkQoN7iAr5",
        "outputId": "0645929f-f3fc-427b-e122-77393177774f"
      },
      "outputs": [
        {
          "output_type": "execute_result",
          "data": {
            "text/plain": [
              "    Q3  Q5  Q10  Q13  Q16  Q17  Q21  Q24  Q26  Q31  Q34  Q37  Q38  Q42  Label\n",
              "0    1   3    0    3    3    2    0    3    3    3    2    0    1    3      3\n",
              "1    1   3    1    3    2    3    1    1    2    1    1    3    1    1      3\n",
              "2    3   3    3    3    3    3    3    3    0    3    3    3    3    3      4\n",
              "3    1   2    2    0    1    2    0    0    1    2    3    1    0    1      2\n",
              "4    2   3    2    3    2    3    2    1    3    2    3    2    2    2      4\n",
              "5    1   2    1    0    3    1    0    1    0    1    0    1    1    1      1\n",
              "6    1   3    3    1    3    1    3    2    1    3    2    3    3    2      4\n",
              "7    0   2    0    0    0    0    0    0    1    0    0    0    0    1      0\n",
              "8    2   2    2    3    3    2    2    2    3    3    3    3    2    3      4\n",
              "9    3   3    3    3    3    3    3    3    3    3    3    3    3    3      4\n",
              "10   1   2    0    1    2    1    0    2    0    2    1    0    1    1      2"
            ],
            "text/html": [
              "\n",
              "  <div id=\"df-fb6c348e-093f-41e2-baa5-ad55f87e5fc0\" class=\"colab-df-container\">\n",
              "    <div>\n",
              "<style scoped>\n",
              "    .dataframe tbody tr th:only-of-type {\n",
              "        vertical-align: middle;\n",
              "    }\n",
              "\n",
              "    .dataframe tbody tr th {\n",
              "        vertical-align: top;\n",
              "    }\n",
              "\n",
              "    .dataframe thead th {\n",
              "        text-align: right;\n",
              "    }\n",
              "</style>\n",
              "<table border=\"1\" class=\"dataframe\">\n",
              "  <thead>\n",
              "    <tr style=\"text-align: right;\">\n",
              "      <th></th>\n",
              "      <th>Q3</th>\n",
              "      <th>Q5</th>\n",
              "      <th>Q10</th>\n",
              "      <th>Q13</th>\n",
              "      <th>Q16</th>\n",
              "      <th>Q17</th>\n",
              "      <th>Q21</th>\n",
              "      <th>Q24</th>\n",
              "      <th>Q26</th>\n",
              "      <th>Q31</th>\n",
              "      <th>Q34</th>\n",
              "      <th>Q37</th>\n",
              "      <th>Q38</th>\n",
              "      <th>Q42</th>\n",
              "      <th>Label</th>\n",
              "    </tr>\n",
              "  </thead>\n",
              "  <tbody>\n",
              "    <tr>\n",
              "      <th>0</th>\n",
              "      <td>1</td>\n",
              "      <td>3</td>\n",
              "      <td>0</td>\n",
              "      <td>3</td>\n",
              "      <td>3</td>\n",
              "      <td>2</td>\n",
              "      <td>0</td>\n",
              "      <td>3</td>\n",
              "      <td>3</td>\n",
              "      <td>3</td>\n",
              "      <td>2</td>\n",
              "      <td>0</td>\n",
              "      <td>1</td>\n",
              "      <td>3</td>\n",
              "      <td>3</td>\n",
              "    </tr>\n",
              "    <tr>\n",
              "      <th>1</th>\n",
              "      <td>1</td>\n",
              "      <td>3</td>\n",
              "      <td>1</td>\n",
              "      <td>3</td>\n",
              "      <td>2</td>\n",
              "      <td>3</td>\n",
              "      <td>1</td>\n",
              "      <td>1</td>\n",
              "      <td>2</td>\n",
              "      <td>1</td>\n",
              "      <td>1</td>\n",
              "      <td>3</td>\n",
              "      <td>1</td>\n",
              "      <td>1</td>\n",
              "      <td>3</td>\n",
              "    </tr>\n",
              "    <tr>\n",
              "      <th>2</th>\n",
              "      <td>3</td>\n",
              "      <td>3</td>\n",
              "      <td>3</td>\n",
              "      <td>3</td>\n",
              "      <td>3</td>\n",
              "      <td>3</td>\n",
              "      <td>3</td>\n",
              "      <td>3</td>\n",
              "      <td>0</td>\n",
              "      <td>3</td>\n",
              "      <td>3</td>\n",
              "      <td>3</td>\n",
              "      <td>3</td>\n",
              "      <td>3</td>\n",
              "      <td>4</td>\n",
              "    </tr>\n",
              "    <tr>\n",
              "      <th>3</th>\n",
              "      <td>1</td>\n",
              "      <td>2</td>\n",
              "      <td>2</td>\n",
              "      <td>0</td>\n",
              "      <td>1</td>\n",
              "      <td>2</td>\n",
              "      <td>0</td>\n",
              "      <td>0</td>\n",
              "      <td>1</td>\n",
              "      <td>2</td>\n",
              "      <td>3</td>\n",
              "      <td>1</td>\n",
              "      <td>0</td>\n",
              "      <td>1</td>\n",
              "      <td>2</td>\n",
              "    </tr>\n",
              "    <tr>\n",
              "      <th>4</th>\n",
              "      <td>2</td>\n",
              "      <td>3</td>\n",
              "      <td>2</td>\n",
              "      <td>3</td>\n",
              "      <td>2</td>\n",
              "      <td>3</td>\n",
              "      <td>2</td>\n",
              "      <td>1</td>\n",
              "      <td>3</td>\n",
              "      <td>2</td>\n",
              "      <td>3</td>\n",
              "      <td>2</td>\n",
              "      <td>2</td>\n",
              "      <td>2</td>\n",
              "      <td>4</td>\n",
              "    </tr>\n",
              "    <tr>\n",
              "      <th>5</th>\n",
              "      <td>1</td>\n",
              "      <td>2</td>\n",
              "      <td>1</td>\n",
              "      <td>0</td>\n",
              "      <td>3</td>\n",
              "      <td>1</td>\n",
              "      <td>0</td>\n",
              "      <td>1</td>\n",
              "      <td>0</td>\n",
              "      <td>1</td>\n",
              "      <td>0</td>\n",
              "      <td>1</td>\n",
              "      <td>1</td>\n",
              "      <td>1</td>\n",
              "      <td>1</td>\n",
              "    </tr>\n",
              "    <tr>\n",
              "      <th>6</th>\n",
              "      <td>1</td>\n",
              "      <td>3</td>\n",
              "      <td>3</td>\n",
              "      <td>1</td>\n",
              "      <td>3</td>\n",
              "      <td>1</td>\n",
              "      <td>3</td>\n",
              "      <td>2</td>\n",
              "      <td>1</td>\n",
              "      <td>3</td>\n",
              "      <td>2</td>\n",
              "      <td>3</td>\n",
              "      <td>3</td>\n",
              "      <td>2</td>\n",
              "      <td>4</td>\n",
              "    </tr>\n",
              "    <tr>\n",
              "      <th>7</th>\n",
              "      <td>0</td>\n",
              "      <td>2</td>\n",
              "      <td>0</td>\n",
              "      <td>0</td>\n",
              "      <td>0</td>\n",
              "      <td>0</td>\n",
              "      <td>0</td>\n",
              "      <td>0</td>\n",
              "      <td>1</td>\n",
              "      <td>0</td>\n",
              "      <td>0</td>\n",
              "      <td>0</td>\n",
              "      <td>0</td>\n",
              "      <td>1</td>\n",
              "      <td>0</td>\n",
              "    </tr>\n",
              "    <tr>\n",
              "      <th>8</th>\n",
              "      <td>2</td>\n",
              "      <td>2</td>\n",
              "      <td>2</td>\n",
              "      <td>3</td>\n",
              "      <td>3</td>\n",
              "      <td>2</td>\n",
              "      <td>2</td>\n",
              "      <td>2</td>\n",
              "      <td>3</td>\n",
              "      <td>3</td>\n",
              "      <td>3</td>\n",
              "      <td>3</td>\n",
              "      <td>2</td>\n",
              "      <td>3</td>\n",
              "      <td>4</td>\n",
              "    </tr>\n",
              "    <tr>\n",
              "      <th>9</th>\n",
              "      <td>3</td>\n",
              "      <td>3</td>\n",
              "      <td>3</td>\n",
              "      <td>3</td>\n",
              "      <td>3</td>\n",
              "      <td>3</td>\n",
              "      <td>3</td>\n",
              "      <td>3</td>\n",
              "      <td>3</td>\n",
              "      <td>3</td>\n",
              "      <td>3</td>\n",
              "      <td>3</td>\n",
              "      <td>3</td>\n",
              "      <td>3</td>\n",
              "      <td>4</td>\n",
              "    </tr>\n",
              "    <tr>\n",
              "      <th>10</th>\n",
              "      <td>1</td>\n",
              "      <td>2</td>\n",
              "      <td>0</td>\n",
              "      <td>1</td>\n",
              "      <td>2</td>\n",
              "      <td>1</td>\n",
              "      <td>0</td>\n",
              "      <td>2</td>\n",
              "      <td>0</td>\n",
              "      <td>2</td>\n",
              "      <td>1</td>\n",
              "      <td>0</td>\n",
              "      <td>1</td>\n",
              "      <td>1</td>\n",
              "      <td>2</td>\n",
              "    </tr>\n",
              "  </tbody>\n",
              "</table>\n",
              "</div>\n",
              "    <div class=\"colab-df-buttons\">\n",
              "\n",
              "  <div class=\"colab-df-container\">\n",
              "    <button class=\"colab-df-convert\" onclick=\"convertToInteractive('df-fb6c348e-093f-41e2-baa5-ad55f87e5fc0')\"\n",
              "            title=\"Convert this dataframe to an interactive table.\"\n",
              "            style=\"display:none;\">\n",
              "\n",
              "  <svg xmlns=\"http://www.w3.org/2000/svg\" height=\"24px\" viewBox=\"0 -960 960 960\">\n",
              "    <path d=\"M120-120v-720h720v720H120Zm60-500h600v-160H180v160Zm220 220h160v-160H400v160Zm0 220h160v-160H400v160ZM180-400h160v-160H180v160Zm440 0h160v-160H620v160ZM180-180h160v-160H180v160Zm440 0h160v-160H620v160Z\"/>\n",
              "  </svg>\n",
              "    </button>\n",
              "\n",
              "  <style>\n",
              "    .colab-df-container {\n",
              "      display:flex;\n",
              "      gap: 12px;\n",
              "    }\n",
              "\n",
              "    .colab-df-convert {\n",
              "      background-color: #E8F0FE;\n",
              "      border: none;\n",
              "      border-radius: 50%;\n",
              "      cursor: pointer;\n",
              "      display: none;\n",
              "      fill: #1967D2;\n",
              "      height: 32px;\n",
              "      padding: 0 0 0 0;\n",
              "      width: 32px;\n",
              "    }\n",
              "\n",
              "    .colab-df-convert:hover {\n",
              "      background-color: #E2EBFA;\n",
              "      box-shadow: 0px 1px 2px rgba(60, 64, 67, 0.3), 0px 1px 3px 1px rgba(60, 64, 67, 0.15);\n",
              "      fill: #174EA6;\n",
              "    }\n",
              "\n",
              "    .colab-df-buttons div {\n",
              "      margin-bottom: 4px;\n",
              "    }\n",
              "\n",
              "    [theme=dark] .colab-df-convert {\n",
              "      background-color: #3B4455;\n",
              "      fill: #D2E3FC;\n",
              "    }\n",
              "\n",
              "    [theme=dark] .colab-df-convert:hover {\n",
              "      background-color: #434B5C;\n",
              "      box-shadow: 0px 1px 3px 1px rgba(0, 0, 0, 0.15);\n",
              "      filter: drop-shadow(0px 1px 2px rgba(0, 0, 0, 0.3));\n",
              "      fill: #FFFFFF;\n",
              "    }\n",
              "  </style>\n",
              "\n",
              "    <script>\n",
              "      const buttonEl =\n",
              "        document.querySelector('#df-fb6c348e-093f-41e2-baa5-ad55f87e5fc0 button.colab-df-convert');\n",
              "      buttonEl.style.display =\n",
              "        google.colab.kernel.accessAllowed ? 'block' : 'none';\n",
              "\n",
              "      async function convertToInteractive(key) {\n",
              "        const element = document.querySelector('#df-fb6c348e-093f-41e2-baa5-ad55f87e5fc0');\n",
              "        const dataTable =\n",
              "          await google.colab.kernel.invokeFunction('convertToInteractive',\n",
              "                                                    [key], {});\n",
              "        if (!dataTable) return;\n",
              "\n",
              "        const docLinkHtml = 'Like what you see? Visit the ' +\n",
              "          '<a target=\"_blank\" href=https://colab.research.google.com/notebooks/data_table.ipynb>data table notebook</a>'\n",
              "          + ' to learn more about interactive tables.';\n",
              "        element.innerHTML = '';\n",
              "        dataTable['output_type'] = 'display_data';\n",
              "        await google.colab.output.renderOutput(dataTable, element);\n",
              "        const docLink = document.createElement('div');\n",
              "        docLink.innerHTML = docLinkHtml;\n",
              "        element.appendChild(docLink);\n",
              "      }\n",
              "    </script>\n",
              "  </div>\n",
              "\n",
              "\n",
              "<div id=\"df-3925c502-6bc1-47bd-b625-f5f59786bd24\">\n",
              "  <button class=\"colab-df-quickchart\" onclick=\"quickchart('df-3925c502-6bc1-47bd-b625-f5f59786bd24')\"\n",
              "            title=\"Suggest charts\"\n",
              "            style=\"display:none;\">\n",
              "\n",
              "<svg xmlns=\"http://www.w3.org/2000/svg\" height=\"24px\"viewBox=\"0 0 24 24\"\n",
              "     width=\"24px\">\n",
              "    <g>\n",
              "        <path d=\"M19 3H5c-1.1 0-2 .9-2 2v14c0 1.1.9 2 2 2h14c1.1 0 2-.9 2-2V5c0-1.1-.9-2-2-2zM9 17H7v-7h2v7zm4 0h-2V7h2v10zm4 0h-2v-4h2v4z\"/>\n",
              "    </g>\n",
              "</svg>\n",
              "  </button>\n",
              "\n",
              "<style>\n",
              "  .colab-df-quickchart {\n",
              "      --bg-color: #E8F0FE;\n",
              "      --fill-color: #1967D2;\n",
              "      --hover-bg-color: #E2EBFA;\n",
              "      --hover-fill-color: #174EA6;\n",
              "      --disabled-fill-color: #AAA;\n",
              "      --disabled-bg-color: #DDD;\n",
              "  }\n",
              "\n",
              "  [theme=dark] .colab-df-quickchart {\n",
              "      --bg-color: #3B4455;\n",
              "      --fill-color: #D2E3FC;\n",
              "      --hover-bg-color: #434B5C;\n",
              "      --hover-fill-color: #FFFFFF;\n",
              "      --disabled-bg-color: #3B4455;\n",
              "      --disabled-fill-color: #666;\n",
              "  }\n",
              "\n",
              "  .colab-df-quickchart {\n",
              "    background-color: var(--bg-color);\n",
              "    border: none;\n",
              "    border-radius: 50%;\n",
              "    cursor: pointer;\n",
              "    display: none;\n",
              "    fill: var(--fill-color);\n",
              "    height: 32px;\n",
              "    padding: 0;\n",
              "    width: 32px;\n",
              "  }\n",
              "\n",
              "  .colab-df-quickchart:hover {\n",
              "    background-color: var(--hover-bg-color);\n",
              "    box-shadow: 0 1px 2px rgba(60, 64, 67, 0.3), 0 1px 3px 1px rgba(60, 64, 67, 0.15);\n",
              "    fill: var(--button-hover-fill-color);\n",
              "  }\n",
              "\n",
              "  .colab-df-quickchart-complete:disabled,\n",
              "  .colab-df-quickchart-complete:disabled:hover {\n",
              "    background-color: var(--disabled-bg-color);\n",
              "    fill: var(--disabled-fill-color);\n",
              "    box-shadow: none;\n",
              "  }\n",
              "\n",
              "  .colab-df-spinner {\n",
              "    border: 2px solid var(--fill-color);\n",
              "    border-color: transparent;\n",
              "    border-bottom-color: var(--fill-color);\n",
              "    animation:\n",
              "      spin 1s steps(1) infinite;\n",
              "  }\n",
              "\n",
              "  @keyframes spin {\n",
              "    0% {\n",
              "      border-color: transparent;\n",
              "      border-bottom-color: var(--fill-color);\n",
              "      border-left-color: var(--fill-color);\n",
              "    }\n",
              "    20% {\n",
              "      border-color: transparent;\n",
              "      border-left-color: var(--fill-color);\n",
              "      border-top-color: var(--fill-color);\n",
              "    }\n",
              "    30% {\n",
              "      border-color: transparent;\n",
              "      border-left-color: var(--fill-color);\n",
              "      border-top-color: var(--fill-color);\n",
              "      border-right-color: var(--fill-color);\n",
              "    }\n",
              "    40% {\n",
              "      border-color: transparent;\n",
              "      border-right-color: var(--fill-color);\n",
              "      border-top-color: var(--fill-color);\n",
              "    }\n",
              "    60% {\n",
              "      border-color: transparent;\n",
              "      border-right-color: var(--fill-color);\n",
              "    }\n",
              "    80% {\n",
              "      border-color: transparent;\n",
              "      border-right-color: var(--fill-color);\n",
              "      border-bottom-color: var(--fill-color);\n",
              "    }\n",
              "    90% {\n",
              "      border-color: transparent;\n",
              "      border-bottom-color: var(--fill-color);\n",
              "    }\n",
              "  }\n",
              "</style>\n",
              "\n",
              "  <script>\n",
              "    async function quickchart(key) {\n",
              "      const quickchartButtonEl =\n",
              "        document.querySelector('#' + key + ' button');\n",
              "      quickchartButtonEl.disabled = true;  // To prevent multiple clicks.\n",
              "      quickchartButtonEl.classList.add('colab-df-spinner');\n",
              "      try {\n",
              "        const charts = await google.colab.kernel.invokeFunction(\n",
              "            'suggestCharts', [key], {});\n",
              "      } catch (error) {\n",
              "        console.error('Error during call to suggestCharts:', error);\n",
              "      }\n",
              "      quickchartButtonEl.classList.remove('colab-df-spinner');\n",
              "      quickchartButtonEl.classList.add('colab-df-quickchart-complete');\n",
              "    }\n",
              "    (() => {\n",
              "      let quickchartButtonEl =\n",
              "        document.querySelector('#df-3925c502-6bc1-47bd-b625-f5f59786bd24 button');\n",
              "      quickchartButtonEl.style.display =\n",
              "        google.colab.kernel.accessAllowed ? 'block' : 'none';\n",
              "    })();\n",
              "  </script>\n",
              "</div>\n",
              "    </div>\n",
              "  </div>\n"
            ]
          },
          "metadata": {},
          "execution_count": 158
        }
      ],
      "source": [
        "#Menampilkan sepuluh baris pertama dari DataFrame df\n",
        "data.loc[:10]"
      ]
    },
    {
      "cell_type": "code",
      "execution_count": 159,
      "metadata": {
        "colab": {
          "base_uri": "https://localhost:8080/",
          "height": 320
        },
        "id": "0c27kab2i4IW",
        "outputId": "93647c7d-bde1-435d-8623-dbcb4be8bac1"
      },
      "outputs": [
        {
          "output_type": "execute_result",
          "data": {
            "text/plain": [
              "                Q3           Q5          Q10          Q13          Q16  \\\n",
              "count  6709.000000  6709.000000  6709.000000  6709.000000  6709.000000   \n",
              "mean      1.244895     1.595320     1.483828     1.811596     1.531078   \n",
              "std       1.044667     1.083451     1.153505     1.065943     1.124136   \n",
              "min       0.000000     0.000000     0.000000     0.000000     0.000000   \n",
              "25%       0.000000     1.000000     0.000000     1.000000     1.000000   \n",
              "50%       1.000000     2.000000     1.000000     2.000000     1.000000   \n",
              "75%       2.000000     3.000000     3.000000     3.000000     3.000000   \n",
              "max       3.000000     3.000000     3.000000     3.000000     3.000000   \n",
              "\n",
              "               Q17          Q21          Q24          Q26          Q31  \\\n",
              "count  6709.000000  6709.000000  6709.000000  6709.000000  6709.000000   \n",
              "mean      1.633030     1.365777     1.449843     1.678641     1.397675   \n",
              "std       1.162583     1.180894     1.063038     1.066872     1.054635   \n",
              "min       0.000000     0.000000     0.000000     0.000000     0.000000   \n",
              "25%       1.000000     0.000000     1.000000     1.000000     1.000000   \n",
              "50%       2.000000     1.000000     1.000000     2.000000     1.000000   \n",
              "75%       3.000000     3.000000     2.000000     3.000000     2.000000   \n",
              "max       3.000000     3.000000     3.000000     3.000000     3.000000   \n",
              "\n",
              "               Q34          Q37          Q38          Q42        Label  \n",
              "count  6709.000000  6709.000000  6709.000000  6709.000000  6709.000000  \n",
              "mean      1.622149     1.380385     1.404531     1.760322     2.302281  \n",
              "std       1.165440     1.153102     1.199415     1.042665     1.544846  \n",
              "min       0.000000     0.000000     0.000000     0.000000     0.000000  \n",
              "25%       1.000000     0.000000     0.000000     1.000000     1.000000  \n",
              "50%       2.000000     1.000000     1.000000     2.000000     3.000000  \n",
              "75%       3.000000     2.000000     3.000000     3.000000     4.000000  \n",
              "max       3.000000     3.000000     3.000000     3.000000     4.000000  "
            ],
            "text/html": [
              "\n",
              "  <div id=\"df-b6fc653f-2ef4-445a-8b7c-daca5b0efa65\" class=\"colab-df-container\">\n",
              "    <div>\n",
              "<style scoped>\n",
              "    .dataframe tbody tr th:only-of-type {\n",
              "        vertical-align: middle;\n",
              "    }\n",
              "\n",
              "    .dataframe tbody tr th {\n",
              "        vertical-align: top;\n",
              "    }\n",
              "\n",
              "    .dataframe thead th {\n",
              "        text-align: right;\n",
              "    }\n",
              "</style>\n",
              "<table border=\"1\" class=\"dataframe\">\n",
              "  <thead>\n",
              "    <tr style=\"text-align: right;\">\n",
              "      <th></th>\n",
              "      <th>Q3</th>\n",
              "      <th>Q5</th>\n",
              "      <th>Q10</th>\n",
              "      <th>Q13</th>\n",
              "      <th>Q16</th>\n",
              "      <th>Q17</th>\n",
              "      <th>Q21</th>\n",
              "      <th>Q24</th>\n",
              "      <th>Q26</th>\n",
              "      <th>Q31</th>\n",
              "      <th>Q34</th>\n",
              "      <th>Q37</th>\n",
              "      <th>Q38</th>\n",
              "      <th>Q42</th>\n",
              "      <th>Label</th>\n",
              "    </tr>\n",
              "  </thead>\n",
              "  <tbody>\n",
              "    <tr>\n",
              "      <th>count</th>\n",
              "      <td>6709.000000</td>\n",
              "      <td>6709.000000</td>\n",
              "      <td>6709.000000</td>\n",
              "      <td>6709.000000</td>\n",
              "      <td>6709.000000</td>\n",
              "      <td>6709.000000</td>\n",
              "      <td>6709.000000</td>\n",
              "      <td>6709.000000</td>\n",
              "      <td>6709.000000</td>\n",
              "      <td>6709.000000</td>\n",
              "      <td>6709.000000</td>\n",
              "      <td>6709.000000</td>\n",
              "      <td>6709.000000</td>\n",
              "      <td>6709.000000</td>\n",
              "      <td>6709.000000</td>\n",
              "    </tr>\n",
              "    <tr>\n",
              "      <th>mean</th>\n",
              "      <td>1.244895</td>\n",
              "      <td>1.595320</td>\n",
              "      <td>1.483828</td>\n",
              "      <td>1.811596</td>\n",
              "      <td>1.531078</td>\n",
              "      <td>1.633030</td>\n",
              "      <td>1.365777</td>\n",
              "      <td>1.449843</td>\n",
              "      <td>1.678641</td>\n",
              "      <td>1.397675</td>\n",
              "      <td>1.622149</td>\n",
              "      <td>1.380385</td>\n",
              "      <td>1.404531</td>\n",
              "      <td>1.760322</td>\n",
              "      <td>2.302281</td>\n",
              "    </tr>\n",
              "    <tr>\n",
              "      <th>std</th>\n",
              "      <td>1.044667</td>\n",
              "      <td>1.083451</td>\n",
              "      <td>1.153505</td>\n",
              "      <td>1.065943</td>\n",
              "      <td>1.124136</td>\n",
              "      <td>1.162583</td>\n",
              "      <td>1.180894</td>\n",
              "      <td>1.063038</td>\n",
              "      <td>1.066872</td>\n",
              "      <td>1.054635</td>\n",
              "      <td>1.165440</td>\n",
              "      <td>1.153102</td>\n",
              "      <td>1.199415</td>\n",
              "      <td>1.042665</td>\n",
              "      <td>1.544846</td>\n",
              "    </tr>\n",
              "    <tr>\n",
              "      <th>min</th>\n",
              "      <td>0.000000</td>\n",
              "      <td>0.000000</td>\n",
              "      <td>0.000000</td>\n",
              "      <td>0.000000</td>\n",
              "      <td>0.000000</td>\n",
              "      <td>0.000000</td>\n",
              "      <td>0.000000</td>\n",
              "      <td>0.000000</td>\n",
              "      <td>0.000000</td>\n",
              "      <td>0.000000</td>\n",
              "      <td>0.000000</td>\n",
              "      <td>0.000000</td>\n",
              "      <td>0.000000</td>\n",
              "      <td>0.000000</td>\n",
              "      <td>0.000000</td>\n",
              "    </tr>\n",
              "    <tr>\n",
              "      <th>25%</th>\n",
              "      <td>0.000000</td>\n",
              "      <td>1.000000</td>\n",
              "      <td>0.000000</td>\n",
              "      <td>1.000000</td>\n",
              "      <td>1.000000</td>\n",
              "      <td>1.000000</td>\n",
              "      <td>0.000000</td>\n",
              "      <td>1.000000</td>\n",
              "      <td>1.000000</td>\n",
              "      <td>1.000000</td>\n",
              "      <td>1.000000</td>\n",
              "      <td>0.000000</td>\n",
              "      <td>0.000000</td>\n",
              "      <td>1.000000</td>\n",
              "      <td>1.000000</td>\n",
              "    </tr>\n",
              "    <tr>\n",
              "      <th>50%</th>\n",
              "      <td>1.000000</td>\n",
              "      <td>2.000000</td>\n",
              "      <td>1.000000</td>\n",
              "      <td>2.000000</td>\n",
              "      <td>1.000000</td>\n",
              "      <td>2.000000</td>\n",
              "      <td>1.000000</td>\n",
              "      <td>1.000000</td>\n",
              "      <td>2.000000</td>\n",
              "      <td>1.000000</td>\n",
              "      <td>2.000000</td>\n",
              "      <td>1.000000</td>\n",
              "      <td>1.000000</td>\n",
              "      <td>2.000000</td>\n",
              "      <td>3.000000</td>\n",
              "    </tr>\n",
              "    <tr>\n",
              "      <th>75%</th>\n",
              "      <td>2.000000</td>\n",
              "      <td>3.000000</td>\n",
              "      <td>3.000000</td>\n",
              "      <td>3.000000</td>\n",
              "      <td>3.000000</td>\n",
              "      <td>3.000000</td>\n",
              "      <td>3.000000</td>\n",
              "      <td>2.000000</td>\n",
              "      <td>3.000000</td>\n",
              "      <td>2.000000</td>\n",
              "      <td>3.000000</td>\n",
              "      <td>2.000000</td>\n",
              "      <td>3.000000</td>\n",
              "      <td>3.000000</td>\n",
              "      <td>4.000000</td>\n",
              "    </tr>\n",
              "    <tr>\n",
              "      <th>max</th>\n",
              "      <td>3.000000</td>\n",
              "      <td>3.000000</td>\n",
              "      <td>3.000000</td>\n",
              "      <td>3.000000</td>\n",
              "      <td>3.000000</td>\n",
              "      <td>3.000000</td>\n",
              "      <td>3.000000</td>\n",
              "      <td>3.000000</td>\n",
              "      <td>3.000000</td>\n",
              "      <td>3.000000</td>\n",
              "      <td>3.000000</td>\n",
              "      <td>3.000000</td>\n",
              "      <td>3.000000</td>\n",
              "      <td>3.000000</td>\n",
              "      <td>4.000000</td>\n",
              "    </tr>\n",
              "  </tbody>\n",
              "</table>\n",
              "</div>\n",
              "    <div class=\"colab-df-buttons\">\n",
              "\n",
              "  <div class=\"colab-df-container\">\n",
              "    <button class=\"colab-df-convert\" onclick=\"convertToInteractive('df-b6fc653f-2ef4-445a-8b7c-daca5b0efa65')\"\n",
              "            title=\"Convert this dataframe to an interactive table.\"\n",
              "            style=\"display:none;\">\n",
              "\n",
              "  <svg xmlns=\"http://www.w3.org/2000/svg\" height=\"24px\" viewBox=\"0 -960 960 960\">\n",
              "    <path d=\"M120-120v-720h720v720H120Zm60-500h600v-160H180v160Zm220 220h160v-160H400v160Zm0 220h160v-160H400v160ZM180-400h160v-160H180v160Zm440 0h160v-160H620v160ZM180-180h160v-160H180v160Zm440 0h160v-160H620v160Z\"/>\n",
              "  </svg>\n",
              "    </button>\n",
              "\n",
              "  <style>\n",
              "    .colab-df-container {\n",
              "      display:flex;\n",
              "      gap: 12px;\n",
              "    }\n",
              "\n",
              "    .colab-df-convert {\n",
              "      background-color: #E8F0FE;\n",
              "      border: none;\n",
              "      border-radius: 50%;\n",
              "      cursor: pointer;\n",
              "      display: none;\n",
              "      fill: #1967D2;\n",
              "      height: 32px;\n",
              "      padding: 0 0 0 0;\n",
              "      width: 32px;\n",
              "    }\n",
              "\n",
              "    .colab-df-convert:hover {\n",
              "      background-color: #E2EBFA;\n",
              "      box-shadow: 0px 1px 2px rgba(60, 64, 67, 0.3), 0px 1px 3px 1px rgba(60, 64, 67, 0.15);\n",
              "      fill: #174EA6;\n",
              "    }\n",
              "\n",
              "    .colab-df-buttons div {\n",
              "      margin-bottom: 4px;\n",
              "    }\n",
              "\n",
              "    [theme=dark] .colab-df-convert {\n",
              "      background-color: #3B4455;\n",
              "      fill: #D2E3FC;\n",
              "    }\n",
              "\n",
              "    [theme=dark] .colab-df-convert:hover {\n",
              "      background-color: #434B5C;\n",
              "      box-shadow: 0px 1px 3px 1px rgba(0, 0, 0, 0.15);\n",
              "      filter: drop-shadow(0px 1px 2px rgba(0, 0, 0, 0.3));\n",
              "      fill: #FFFFFF;\n",
              "    }\n",
              "  </style>\n",
              "\n",
              "    <script>\n",
              "      const buttonEl =\n",
              "        document.querySelector('#df-b6fc653f-2ef4-445a-8b7c-daca5b0efa65 button.colab-df-convert');\n",
              "      buttonEl.style.display =\n",
              "        google.colab.kernel.accessAllowed ? 'block' : 'none';\n",
              "\n",
              "      async function convertToInteractive(key) {\n",
              "        const element = document.querySelector('#df-b6fc653f-2ef4-445a-8b7c-daca5b0efa65');\n",
              "        const dataTable =\n",
              "          await google.colab.kernel.invokeFunction('convertToInteractive',\n",
              "                                                    [key], {});\n",
              "        if (!dataTable) return;\n",
              "\n",
              "        const docLinkHtml = 'Like what you see? Visit the ' +\n",
              "          '<a target=\"_blank\" href=https://colab.research.google.com/notebooks/data_table.ipynb>data table notebook</a>'\n",
              "          + ' to learn more about interactive tables.';\n",
              "        element.innerHTML = '';\n",
              "        dataTable['output_type'] = 'display_data';\n",
              "        await google.colab.output.renderOutput(dataTable, element);\n",
              "        const docLink = document.createElement('div');\n",
              "        docLink.innerHTML = docLinkHtml;\n",
              "        element.appendChild(docLink);\n",
              "      }\n",
              "    </script>\n",
              "  </div>\n",
              "\n",
              "\n",
              "<div id=\"df-5d12f300-059e-471a-b95c-314a5ffebf88\">\n",
              "  <button class=\"colab-df-quickchart\" onclick=\"quickchart('df-5d12f300-059e-471a-b95c-314a5ffebf88')\"\n",
              "            title=\"Suggest charts\"\n",
              "            style=\"display:none;\">\n",
              "\n",
              "<svg xmlns=\"http://www.w3.org/2000/svg\" height=\"24px\"viewBox=\"0 0 24 24\"\n",
              "     width=\"24px\">\n",
              "    <g>\n",
              "        <path d=\"M19 3H5c-1.1 0-2 .9-2 2v14c0 1.1.9 2 2 2h14c1.1 0 2-.9 2-2V5c0-1.1-.9-2-2-2zM9 17H7v-7h2v7zm4 0h-2V7h2v10zm4 0h-2v-4h2v4z\"/>\n",
              "    </g>\n",
              "</svg>\n",
              "  </button>\n",
              "\n",
              "<style>\n",
              "  .colab-df-quickchart {\n",
              "      --bg-color: #E8F0FE;\n",
              "      --fill-color: #1967D2;\n",
              "      --hover-bg-color: #E2EBFA;\n",
              "      --hover-fill-color: #174EA6;\n",
              "      --disabled-fill-color: #AAA;\n",
              "      --disabled-bg-color: #DDD;\n",
              "  }\n",
              "\n",
              "  [theme=dark] .colab-df-quickchart {\n",
              "      --bg-color: #3B4455;\n",
              "      --fill-color: #D2E3FC;\n",
              "      --hover-bg-color: #434B5C;\n",
              "      --hover-fill-color: #FFFFFF;\n",
              "      --disabled-bg-color: #3B4455;\n",
              "      --disabled-fill-color: #666;\n",
              "  }\n",
              "\n",
              "  .colab-df-quickchart {\n",
              "    background-color: var(--bg-color);\n",
              "    border: none;\n",
              "    border-radius: 50%;\n",
              "    cursor: pointer;\n",
              "    display: none;\n",
              "    fill: var(--fill-color);\n",
              "    height: 32px;\n",
              "    padding: 0;\n",
              "    width: 32px;\n",
              "  }\n",
              "\n",
              "  .colab-df-quickchart:hover {\n",
              "    background-color: var(--hover-bg-color);\n",
              "    box-shadow: 0 1px 2px rgba(60, 64, 67, 0.3), 0 1px 3px 1px rgba(60, 64, 67, 0.15);\n",
              "    fill: var(--button-hover-fill-color);\n",
              "  }\n",
              "\n",
              "  .colab-df-quickchart-complete:disabled,\n",
              "  .colab-df-quickchart-complete:disabled:hover {\n",
              "    background-color: var(--disabled-bg-color);\n",
              "    fill: var(--disabled-fill-color);\n",
              "    box-shadow: none;\n",
              "  }\n",
              "\n",
              "  .colab-df-spinner {\n",
              "    border: 2px solid var(--fill-color);\n",
              "    border-color: transparent;\n",
              "    border-bottom-color: var(--fill-color);\n",
              "    animation:\n",
              "      spin 1s steps(1) infinite;\n",
              "  }\n",
              "\n",
              "  @keyframes spin {\n",
              "    0% {\n",
              "      border-color: transparent;\n",
              "      border-bottom-color: var(--fill-color);\n",
              "      border-left-color: var(--fill-color);\n",
              "    }\n",
              "    20% {\n",
              "      border-color: transparent;\n",
              "      border-left-color: var(--fill-color);\n",
              "      border-top-color: var(--fill-color);\n",
              "    }\n",
              "    30% {\n",
              "      border-color: transparent;\n",
              "      border-left-color: var(--fill-color);\n",
              "      border-top-color: var(--fill-color);\n",
              "      border-right-color: var(--fill-color);\n",
              "    }\n",
              "    40% {\n",
              "      border-color: transparent;\n",
              "      border-right-color: var(--fill-color);\n",
              "      border-top-color: var(--fill-color);\n",
              "    }\n",
              "    60% {\n",
              "      border-color: transparent;\n",
              "      border-right-color: var(--fill-color);\n",
              "    }\n",
              "    80% {\n",
              "      border-color: transparent;\n",
              "      border-right-color: var(--fill-color);\n",
              "      border-bottom-color: var(--fill-color);\n",
              "    }\n",
              "    90% {\n",
              "      border-color: transparent;\n",
              "      border-bottom-color: var(--fill-color);\n",
              "    }\n",
              "  }\n",
              "</style>\n",
              "\n",
              "  <script>\n",
              "    async function quickchart(key) {\n",
              "      const quickchartButtonEl =\n",
              "        document.querySelector('#' + key + ' button');\n",
              "      quickchartButtonEl.disabled = true;  // To prevent multiple clicks.\n",
              "      quickchartButtonEl.classList.add('colab-df-spinner');\n",
              "      try {\n",
              "        const charts = await google.colab.kernel.invokeFunction(\n",
              "            'suggestCharts', [key], {});\n",
              "      } catch (error) {\n",
              "        console.error('Error during call to suggestCharts:', error);\n",
              "      }\n",
              "      quickchartButtonEl.classList.remove('colab-df-spinner');\n",
              "      quickchartButtonEl.classList.add('colab-df-quickchart-complete');\n",
              "    }\n",
              "    (() => {\n",
              "      let quickchartButtonEl =\n",
              "        document.querySelector('#df-5d12f300-059e-471a-b95c-314a5ffebf88 button');\n",
              "      quickchartButtonEl.style.display =\n",
              "        google.colab.kernel.accessAllowed ? 'block' : 'none';\n",
              "    })();\n",
              "  </script>\n",
              "</div>\n",
              "    </div>\n",
              "  </div>\n"
            ]
          },
          "metadata": {},
          "execution_count": 159
        }
      ],
      "source": [
        "#Menampilkan statistik deskriptif dari DataFrame df\n",
        "data.describe()"
      ]
    },
    {
      "cell_type": "code",
      "execution_count": 160,
      "metadata": {
        "colab": {
          "base_uri": "https://localhost:8080/",
          "height": 394
        },
        "id": "8HI1sJLomCQD",
        "outputId": "1279229f-0279-4d37-944b-2bc1ee55c183"
      },
      "outputs": [
        {
          "output_type": "execute_result",
          "data": {
            "text/plain": [
              "    Q3  Q5  Q10  Q13  Q16  Q17  Q21  Q24  Q26  Q31  Q34  Q37  Q38  Q42  Label\n",
              "0    1   3    0    3    3    2    0    3    3    3    2    0    1    3      3\n",
              "1    1   3    1    3    2    3    1    1    2    1    1    3    1    1      3\n",
              "2    3   3    3    3    3    3    3    3    0    3    3    3    3    3      4\n",
              "3    1   2    2    0    1    2    0    0    1    2    3    1    0    1      2\n",
              "4    2   3    2    3    2    3    2    1    3    2    3    2    2    2      4\n",
              "5    1   2    1    0    3    1    0    1    0    1    0    1    1    1      1\n",
              "6    1   3    3    1    3    1    3    2    1    3    2    3    3    2      4\n",
              "7    0   2    0    0    0    0    0    0    1    0    0    0    0    1      0\n",
              "8    2   2    2    3    3    2    2    2    3    3    3    3    2    3      4\n",
              "9    3   3    3    3    3    3    3    3    3    3    3    3    3    3      4\n",
              "10   1   2    0    1    2    1    0    2    0    2    1    0    1    1      2"
            ],
            "text/html": [
              "\n",
              "  <div id=\"df-845fd811-7c6e-4ba8-9fb5-c959cd2fe238\" class=\"colab-df-container\">\n",
              "    <div>\n",
              "<style scoped>\n",
              "    .dataframe tbody tr th:only-of-type {\n",
              "        vertical-align: middle;\n",
              "    }\n",
              "\n",
              "    .dataframe tbody tr th {\n",
              "        vertical-align: top;\n",
              "    }\n",
              "\n",
              "    .dataframe thead th {\n",
              "        text-align: right;\n",
              "    }\n",
              "</style>\n",
              "<table border=\"1\" class=\"dataframe\">\n",
              "  <thead>\n",
              "    <tr style=\"text-align: right;\">\n",
              "      <th></th>\n",
              "      <th>Q3</th>\n",
              "      <th>Q5</th>\n",
              "      <th>Q10</th>\n",
              "      <th>Q13</th>\n",
              "      <th>Q16</th>\n",
              "      <th>Q17</th>\n",
              "      <th>Q21</th>\n",
              "      <th>Q24</th>\n",
              "      <th>Q26</th>\n",
              "      <th>Q31</th>\n",
              "      <th>Q34</th>\n",
              "      <th>Q37</th>\n",
              "      <th>Q38</th>\n",
              "      <th>Q42</th>\n",
              "      <th>Label</th>\n",
              "    </tr>\n",
              "  </thead>\n",
              "  <tbody>\n",
              "    <tr>\n",
              "      <th>0</th>\n",
              "      <td>1</td>\n",
              "      <td>3</td>\n",
              "      <td>0</td>\n",
              "      <td>3</td>\n",
              "      <td>3</td>\n",
              "      <td>2</td>\n",
              "      <td>0</td>\n",
              "      <td>3</td>\n",
              "      <td>3</td>\n",
              "      <td>3</td>\n",
              "      <td>2</td>\n",
              "      <td>0</td>\n",
              "      <td>1</td>\n",
              "      <td>3</td>\n",
              "      <td>3</td>\n",
              "    </tr>\n",
              "    <tr>\n",
              "      <th>1</th>\n",
              "      <td>1</td>\n",
              "      <td>3</td>\n",
              "      <td>1</td>\n",
              "      <td>3</td>\n",
              "      <td>2</td>\n",
              "      <td>3</td>\n",
              "      <td>1</td>\n",
              "      <td>1</td>\n",
              "      <td>2</td>\n",
              "      <td>1</td>\n",
              "      <td>1</td>\n",
              "      <td>3</td>\n",
              "      <td>1</td>\n",
              "      <td>1</td>\n",
              "      <td>3</td>\n",
              "    </tr>\n",
              "    <tr>\n",
              "      <th>2</th>\n",
              "      <td>3</td>\n",
              "      <td>3</td>\n",
              "      <td>3</td>\n",
              "      <td>3</td>\n",
              "      <td>3</td>\n",
              "      <td>3</td>\n",
              "      <td>3</td>\n",
              "      <td>3</td>\n",
              "      <td>0</td>\n",
              "      <td>3</td>\n",
              "      <td>3</td>\n",
              "      <td>3</td>\n",
              "      <td>3</td>\n",
              "      <td>3</td>\n",
              "      <td>4</td>\n",
              "    </tr>\n",
              "    <tr>\n",
              "      <th>3</th>\n",
              "      <td>1</td>\n",
              "      <td>2</td>\n",
              "      <td>2</td>\n",
              "      <td>0</td>\n",
              "      <td>1</td>\n",
              "      <td>2</td>\n",
              "      <td>0</td>\n",
              "      <td>0</td>\n",
              "      <td>1</td>\n",
              "      <td>2</td>\n",
              "      <td>3</td>\n",
              "      <td>1</td>\n",
              "      <td>0</td>\n",
              "      <td>1</td>\n",
              "      <td>2</td>\n",
              "    </tr>\n",
              "    <tr>\n",
              "      <th>4</th>\n",
              "      <td>2</td>\n",
              "      <td>3</td>\n",
              "      <td>2</td>\n",
              "      <td>3</td>\n",
              "      <td>2</td>\n",
              "      <td>3</td>\n",
              "      <td>2</td>\n",
              "      <td>1</td>\n",
              "      <td>3</td>\n",
              "      <td>2</td>\n",
              "      <td>3</td>\n",
              "      <td>2</td>\n",
              "      <td>2</td>\n",
              "      <td>2</td>\n",
              "      <td>4</td>\n",
              "    </tr>\n",
              "    <tr>\n",
              "      <th>5</th>\n",
              "      <td>1</td>\n",
              "      <td>2</td>\n",
              "      <td>1</td>\n",
              "      <td>0</td>\n",
              "      <td>3</td>\n",
              "      <td>1</td>\n",
              "      <td>0</td>\n",
              "      <td>1</td>\n",
              "      <td>0</td>\n",
              "      <td>1</td>\n",
              "      <td>0</td>\n",
              "      <td>1</td>\n",
              "      <td>1</td>\n",
              "      <td>1</td>\n",
              "      <td>1</td>\n",
              "    </tr>\n",
              "    <tr>\n",
              "      <th>6</th>\n",
              "      <td>1</td>\n",
              "      <td>3</td>\n",
              "      <td>3</td>\n",
              "      <td>1</td>\n",
              "      <td>3</td>\n",
              "      <td>1</td>\n",
              "      <td>3</td>\n",
              "      <td>2</td>\n",
              "      <td>1</td>\n",
              "      <td>3</td>\n",
              "      <td>2</td>\n",
              "      <td>3</td>\n",
              "      <td>3</td>\n",
              "      <td>2</td>\n",
              "      <td>4</td>\n",
              "    </tr>\n",
              "    <tr>\n",
              "      <th>7</th>\n",
              "      <td>0</td>\n",
              "      <td>2</td>\n",
              "      <td>0</td>\n",
              "      <td>0</td>\n",
              "      <td>0</td>\n",
              "      <td>0</td>\n",
              "      <td>0</td>\n",
              "      <td>0</td>\n",
              "      <td>1</td>\n",
              "      <td>0</td>\n",
              "      <td>0</td>\n",
              "      <td>0</td>\n",
              "      <td>0</td>\n",
              "      <td>1</td>\n",
              "      <td>0</td>\n",
              "    </tr>\n",
              "    <tr>\n",
              "      <th>8</th>\n",
              "      <td>2</td>\n",
              "      <td>2</td>\n",
              "      <td>2</td>\n",
              "      <td>3</td>\n",
              "      <td>3</td>\n",
              "      <td>2</td>\n",
              "      <td>2</td>\n",
              "      <td>2</td>\n",
              "      <td>3</td>\n",
              "      <td>3</td>\n",
              "      <td>3</td>\n",
              "      <td>3</td>\n",
              "      <td>2</td>\n",
              "      <td>3</td>\n",
              "      <td>4</td>\n",
              "    </tr>\n",
              "    <tr>\n",
              "      <th>9</th>\n",
              "      <td>3</td>\n",
              "      <td>3</td>\n",
              "      <td>3</td>\n",
              "      <td>3</td>\n",
              "      <td>3</td>\n",
              "      <td>3</td>\n",
              "      <td>3</td>\n",
              "      <td>3</td>\n",
              "      <td>3</td>\n",
              "      <td>3</td>\n",
              "      <td>3</td>\n",
              "      <td>3</td>\n",
              "      <td>3</td>\n",
              "      <td>3</td>\n",
              "      <td>4</td>\n",
              "    </tr>\n",
              "    <tr>\n",
              "      <th>10</th>\n",
              "      <td>1</td>\n",
              "      <td>2</td>\n",
              "      <td>0</td>\n",
              "      <td>1</td>\n",
              "      <td>2</td>\n",
              "      <td>1</td>\n",
              "      <td>0</td>\n",
              "      <td>2</td>\n",
              "      <td>0</td>\n",
              "      <td>2</td>\n",
              "      <td>1</td>\n",
              "      <td>0</td>\n",
              "      <td>1</td>\n",
              "      <td>1</td>\n",
              "      <td>2</td>\n",
              "    </tr>\n",
              "  </tbody>\n",
              "</table>\n",
              "</div>\n",
              "    <div class=\"colab-df-buttons\">\n",
              "\n",
              "  <div class=\"colab-df-container\">\n",
              "    <button class=\"colab-df-convert\" onclick=\"convertToInteractive('df-845fd811-7c6e-4ba8-9fb5-c959cd2fe238')\"\n",
              "            title=\"Convert this dataframe to an interactive table.\"\n",
              "            style=\"display:none;\">\n",
              "\n",
              "  <svg xmlns=\"http://www.w3.org/2000/svg\" height=\"24px\" viewBox=\"0 -960 960 960\">\n",
              "    <path d=\"M120-120v-720h720v720H120Zm60-500h600v-160H180v160Zm220 220h160v-160H400v160Zm0 220h160v-160H400v160ZM180-400h160v-160H180v160Zm440 0h160v-160H620v160ZM180-180h160v-160H180v160Zm440 0h160v-160H620v160Z\"/>\n",
              "  </svg>\n",
              "    </button>\n",
              "\n",
              "  <style>\n",
              "    .colab-df-container {\n",
              "      display:flex;\n",
              "      gap: 12px;\n",
              "    }\n",
              "\n",
              "    .colab-df-convert {\n",
              "      background-color: #E8F0FE;\n",
              "      border: none;\n",
              "      border-radius: 50%;\n",
              "      cursor: pointer;\n",
              "      display: none;\n",
              "      fill: #1967D2;\n",
              "      height: 32px;\n",
              "      padding: 0 0 0 0;\n",
              "      width: 32px;\n",
              "    }\n",
              "\n",
              "    .colab-df-convert:hover {\n",
              "      background-color: #E2EBFA;\n",
              "      box-shadow: 0px 1px 2px rgba(60, 64, 67, 0.3), 0px 1px 3px 1px rgba(60, 64, 67, 0.15);\n",
              "      fill: #174EA6;\n",
              "    }\n",
              "\n",
              "    .colab-df-buttons div {\n",
              "      margin-bottom: 4px;\n",
              "    }\n",
              "\n",
              "    [theme=dark] .colab-df-convert {\n",
              "      background-color: #3B4455;\n",
              "      fill: #D2E3FC;\n",
              "    }\n",
              "\n",
              "    [theme=dark] .colab-df-convert:hover {\n",
              "      background-color: #434B5C;\n",
              "      box-shadow: 0px 1px 3px 1px rgba(0, 0, 0, 0.15);\n",
              "      filter: drop-shadow(0px 1px 2px rgba(0, 0, 0, 0.3));\n",
              "      fill: #FFFFFF;\n",
              "    }\n",
              "  </style>\n",
              "\n",
              "    <script>\n",
              "      const buttonEl =\n",
              "        document.querySelector('#df-845fd811-7c6e-4ba8-9fb5-c959cd2fe238 button.colab-df-convert');\n",
              "      buttonEl.style.display =\n",
              "        google.colab.kernel.accessAllowed ? 'block' : 'none';\n",
              "\n",
              "      async function convertToInteractive(key) {\n",
              "        const element = document.querySelector('#df-845fd811-7c6e-4ba8-9fb5-c959cd2fe238');\n",
              "        const dataTable =\n",
              "          await google.colab.kernel.invokeFunction('convertToInteractive',\n",
              "                                                    [key], {});\n",
              "        if (!dataTable) return;\n",
              "\n",
              "        const docLinkHtml = 'Like what you see? Visit the ' +\n",
              "          '<a target=\"_blank\" href=https://colab.research.google.com/notebooks/data_table.ipynb>data table notebook</a>'\n",
              "          + ' to learn more about interactive tables.';\n",
              "        element.innerHTML = '';\n",
              "        dataTable['output_type'] = 'display_data';\n",
              "        await google.colab.output.renderOutput(dataTable, element);\n",
              "        const docLink = document.createElement('div');\n",
              "        docLink.innerHTML = docLinkHtml;\n",
              "        element.appendChild(docLink);\n",
              "      }\n",
              "    </script>\n",
              "  </div>\n",
              "\n",
              "\n",
              "<div id=\"df-aa14bbdd-99a9-4d00-a01c-e3df30c60b15\">\n",
              "  <button class=\"colab-df-quickchart\" onclick=\"quickchart('df-aa14bbdd-99a9-4d00-a01c-e3df30c60b15')\"\n",
              "            title=\"Suggest charts\"\n",
              "            style=\"display:none;\">\n",
              "\n",
              "<svg xmlns=\"http://www.w3.org/2000/svg\" height=\"24px\"viewBox=\"0 0 24 24\"\n",
              "     width=\"24px\">\n",
              "    <g>\n",
              "        <path d=\"M19 3H5c-1.1 0-2 .9-2 2v14c0 1.1.9 2 2 2h14c1.1 0 2-.9 2-2V5c0-1.1-.9-2-2-2zM9 17H7v-7h2v7zm4 0h-2V7h2v10zm4 0h-2v-4h2v4z\"/>\n",
              "    </g>\n",
              "</svg>\n",
              "  </button>\n",
              "\n",
              "<style>\n",
              "  .colab-df-quickchart {\n",
              "      --bg-color: #E8F0FE;\n",
              "      --fill-color: #1967D2;\n",
              "      --hover-bg-color: #E2EBFA;\n",
              "      --hover-fill-color: #174EA6;\n",
              "      --disabled-fill-color: #AAA;\n",
              "      --disabled-bg-color: #DDD;\n",
              "  }\n",
              "\n",
              "  [theme=dark] .colab-df-quickchart {\n",
              "      --bg-color: #3B4455;\n",
              "      --fill-color: #D2E3FC;\n",
              "      --hover-bg-color: #434B5C;\n",
              "      --hover-fill-color: #FFFFFF;\n",
              "      --disabled-bg-color: #3B4455;\n",
              "      --disabled-fill-color: #666;\n",
              "  }\n",
              "\n",
              "  .colab-df-quickchart {\n",
              "    background-color: var(--bg-color);\n",
              "    border: none;\n",
              "    border-radius: 50%;\n",
              "    cursor: pointer;\n",
              "    display: none;\n",
              "    fill: var(--fill-color);\n",
              "    height: 32px;\n",
              "    padding: 0;\n",
              "    width: 32px;\n",
              "  }\n",
              "\n",
              "  .colab-df-quickchart:hover {\n",
              "    background-color: var(--hover-bg-color);\n",
              "    box-shadow: 0 1px 2px rgba(60, 64, 67, 0.3), 0 1px 3px 1px rgba(60, 64, 67, 0.15);\n",
              "    fill: var(--button-hover-fill-color);\n",
              "  }\n",
              "\n",
              "  .colab-df-quickchart-complete:disabled,\n",
              "  .colab-df-quickchart-complete:disabled:hover {\n",
              "    background-color: var(--disabled-bg-color);\n",
              "    fill: var(--disabled-fill-color);\n",
              "    box-shadow: none;\n",
              "  }\n",
              "\n",
              "  .colab-df-spinner {\n",
              "    border: 2px solid var(--fill-color);\n",
              "    border-color: transparent;\n",
              "    border-bottom-color: var(--fill-color);\n",
              "    animation:\n",
              "      spin 1s steps(1) infinite;\n",
              "  }\n",
              "\n",
              "  @keyframes spin {\n",
              "    0% {\n",
              "      border-color: transparent;\n",
              "      border-bottom-color: var(--fill-color);\n",
              "      border-left-color: var(--fill-color);\n",
              "    }\n",
              "    20% {\n",
              "      border-color: transparent;\n",
              "      border-left-color: var(--fill-color);\n",
              "      border-top-color: var(--fill-color);\n",
              "    }\n",
              "    30% {\n",
              "      border-color: transparent;\n",
              "      border-left-color: var(--fill-color);\n",
              "      border-top-color: var(--fill-color);\n",
              "      border-right-color: var(--fill-color);\n",
              "    }\n",
              "    40% {\n",
              "      border-color: transparent;\n",
              "      border-right-color: var(--fill-color);\n",
              "      border-top-color: var(--fill-color);\n",
              "    }\n",
              "    60% {\n",
              "      border-color: transparent;\n",
              "      border-right-color: var(--fill-color);\n",
              "    }\n",
              "    80% {\n",
              "      border-color: transparent;\n",
              "      border-right-color: var(--fill-color);\n",
              "      border-bottom-color: var(--fill-color);\n",
              "    }\n",
              "    90% {\n",
              "      border-color: transparent;\n",
              "      border-bottom-color: var(--fill-color);\n",
              "    }\n",
              "  }\n",
              "</style>\n",
              "\n",
              "  <script>\n",
              "    async function quickchart(key) {\n",
              "      const quickchartButtonEl =\n",
              "        document.querySelector('#' + key + ' button');\n",
              "      quickchartButtonEl.disabled = true;  // To prevent multiple clicks.\n",
              "      quickchartButtonEl.classList.add('colab-df-spinner');\n",
              "      try {\n",
              "        const charts = await google.colab.kernel.invokeFunction(\n",
              "            'suggestCharts', [key], {});\n",
              "      } catch (error) {\n",
              "        console.error('Error during call to suggestCharts:', error);\n",
              "      }\n",
              "      quickchartButtonEl.classList.remove('colab-df-spinner');\n",
              "      quickchartButtonEl.classList.add('colab-df-quickchart-complete');\n",
              "    }\n",
              "    (() => {\n",
              "      let quickchartButtonEl =\n",
              "        document.querySelector('#df-aa14bbdd-99a9-4d00-a01c-e3df30c60b15 button');\n",
              "      quickchartButtonEl.style.display =\n",
              "        google.colab.kernel.accessAllowed ? 'block' : 'none';\n",
              "    })();\n",
              "  </script>\n",
              "</div>\n",
              "    </div>\n",
              "  </div>\n"
            ]
          },
          "metadata": {},
          "execution_count": 160
        }
      ],
      "source": [
        "data.loc[:10]"
      ]
    },
    {
      "cell_type": "code",
      "execution_count": 161,
      "metadata": {
        "id": "Dv3Lk26OxW6J"
      },
      "outputs": [],
      "source": [
        "x = data.drop(columns=[\"Label\"])\n",
        "y = data[\"Label\"]"
      ]
    },
    {
      "cell_type": "code",
      "execution_count": 90,
      "metadata": {
        "id": "qLlfH3pMjPzE"
      },
      "outputs": [],
      "source": [
        "x_train, x_test, y_train, y_test = train_test_split(x, y, test_size=0.2, random_state=42)"
      ]
    },
    {
      "cell_type": "code",
      "execution_count": 91,
      "metadata": {
        "colab": {
          "base_uri": "https://localhost:8080/"
        },
        "id": "jRXDEtxqjP1r",
        "outputId": "126c3a1c-197c-4339-be0c-c5f456b88358"
      },
      "outputs": [
        {
          "output_type": "stream",
          "name": "stdout",
          "text": [
            "Q3     int64\n",
            "Q5     int64\n",
            "Q10    int64\n",
            "Q13    int64\n",
            "Q16    int64\n",
            "Q17    int64\n",
            "Q21    int64\n",
            "Q24    int64\n",
            "Q26    int64\n",
            "Q31    int64\n",
            "Q34    int64\n",
            "Q37    int64\n",
            "Q38    int64\n",
            "Q42    int64\n",
            "dtype: object\n",
            "int64\n"
          ]
        }
      ],
      "source": [
        "print(x_train.dtypes)\n",
        "print(y_train.dtypes)"
      ]
    },
    {
      "cell_type": "code",
      "execution_count": 162,
      "metadata": {
        "colab": {
          "base_uri": "https://localhost:8080/"
        },
        "id": "C0zubarFjP37",
        "outputId": "dee0a0b7-779a-4d71-d8b3-320a4a3387ef"
      },
      "outputs": [
        {
          "output_type": "stream",
          "name": "stdout",
          "text": [
            "X_train shape :  (31820, 14)\n",
            "y_train shape :  (31820,)\n",
            "X_test shape :  (7955, 14)\n",
            "y_test shape :  (7955,)\n"
          ]
        }
      ],
      "source": [
        "print('X_train shape : ',  x_train.shape)\n",
        "print('y_train shape : ',  y_train.shape)\n",
        "print('X_test shape : ',  x_test.shape)\n",
        "print('y_test shape : ',  y_test.shape)"
      ]
    },
    {
      "cell_type": "code",
      "execution_count": 163,
      "metadata": {
        "colab": {
          "base_uri": "https://localhost:8080/"
        },
        "id": "jWl4yazQjP6Y",
        "outputId": "7a269fa2-651e-4857-e8fe-7409c8a45756"
      },
      "outputs": [
        {
          "output_type": "execute_result",
          "data": {
            "text/plain": [
              "23436    0\n",
              "7901     3\n",
              "25718    3\n",
              "16909    3\n",
              "34831    3\n",
              "Name: Label, dtype: int64"
            ]
          },
          "metadata": {},
          "execution_count": 163
        }
      ],
      "source": [
        "y_train.head()"
      ]
    },
    {
      "cell_type": "code",
      "execution_count": 164,
      "metadata": {
        "id": "kAHpp483jP8t"
      },
      "outputs": [],
      "source": [
        "model = keras.models.Sequential([\n",
        "    # Input layer memiliki 15 unit yang sesuai dengan jumlah fitur (ada 15 pertanyaan)\n",
        "    keras.layers.Dense(units=64, input_shape=(14,)),\n",
        "    # Hidden layer memiliki 10 unit dengan fungsi aktivasi relu\n",
        "    keras.layers.Dense(units=10, activation='relu'),\n",
        "    # Output layer memiliki 5 unit dengan fungsi aktivasi softmax, yang sesuai dengan jumlah kelas\n",
        "    keras.layers.Dense(units=5, activation='softmax')\n",
        "])"
      ]
    },
    {
      "cell_type": "code",
      "execution_count": 165,
      "metadata": {
        "id": "Q7yG6-hPjP_L"
      },
      "outputs": [],
      "source": [
        "model.compile(optimizer='adam', loss='sparse_categorical_crossentropy', metrics=['accuracy'])"
      ]
    },
    {
      "cell_type": "code",
      "execution_count": 166,
      "metadata": {
        "colab": {
          "base_uri": "https://localhost:8080/"
        },
        "id": "yzQuaVkojQBw",
        "outputId": "b6e5a460-be3a-4965-beb2-fa6e4c320372"
      },
      "outputs": [
        {
          "output_type": "stream",
          "name": "stdout",
          "text": [
            "Model: \"sequential_10\"\n",
            "_________________________________________________________________\n",
            " Layer (type)                Output Shape              Param #   \n",
            "=================================================================\n",
            " dense_30 (Dense)            (None, 64)                960       \n",
            "                                                                 \n",
            " dense_31 (Dense)            (None, 10)                650       \n",
            "                                                                 \n",
            " dense_32 (Dense)            (None, 5)                 55        \n",
            "                                                                 \n",
            "=================================================================\n",
            "Total params: 1665 (6.50 KB)\n",
            "Trainable params: 1665 (6.50 KB)\n",
            "Non-trainable params: 0 (0.00 Byte)\n",
            "_________________________________________________________________\n"
          ]
        }
      ],
      "source": [
        "model.summary()"
      ]
    },
    {
      "cell_type": "code",
      "source": [
        "print(x_train.shape)"
      ],
      "metadata": {
        "colab": {
          "base_uri": "https://localhost:8080/"
        },
        "id": "zEPLSGFS-GG6",
        "outputId": "ac231f9c-7607-4041-8bb4-8a876e8da70f"
      },
      "execution_count": 167,
      "outputs": [
        {
          "output_type": "stream",
          "name": "stdout",
          "text": [
            "(31820, 14)\n"
          ]
        }
      ]
    },
    {
      "cell_type": "markdown",
      "source": [
        "Fungsi Model"
      ],
      "metadata": {
        "id": "MHVq9r2D5q2q"
      }
    },
    {
      "cell_type": "code",
      "source": [
        "def x_y (data):\n",
        "  x = data.drop(columns=[\"Label\"])\n",
        "  y = data[\"Label\"]\n",
        "  return x, y"
      ],
      "metadata": {
        "id": "BFRoHI5fKcKs"
      },
      "execution_count": 98,
      "outputs": []
    },
    {
      "cell_type": "code",
      "source": [
        "def split_data(X, Y, test_size, random_state):\n",
        "  x_train, x_test, y_train, y_test = train_test_split(x, y, test_size=test_size, random_state=random_state)\n",
        "  return x_train, x_test, y_train, y_test"
      ],
      "metadata": {
        "id": "DKQ_DokU0TMZ"
      },
      "execution_count": 99,
      "outputs": []
    },
    {
      "cell_type": "code",
      "source": [
        "def create_model():\n",
        "  model = keras.models.Sequential([\n",
        "    # Input layer memiliki 15 unit yang sesuai dengan jumlah fitur (ada 15 pertanyaan)\n",
        "    keras.layers.Dense(units=64, input_shape=(14,)),\n",
        "    # Hidden layer memiliki 10 unit dengan fungsi aktivasi relu\n",
        "    keras.layers.Dense(units=10, activation='relu'),\n",
        "    # Output layer memiliki 5 unit dengan fungsi aktivasi softmax, yang sesuai dengan jumlah kelas\n",
        "    keras.layers.Dense(units=5, activation='softmax')\n",
        "  ])\n",
        "  # compile model\n",
        "  model.compile(optimizer='adam', loss='sparse_categorical_crossentropy', metrics=['accuracy'])\n",
        "\n",
        "  # show model summary\n",
        "  model.summary()\n",
        "\n",
        "  return model"
      ],
      "metadata": {
        "id": "K6TuvOgrxci-"
      },
      "execution_count": 100,
      "outputs": []
    },
    {
      "cell_type": "code",
      "source": [
        "def plot_graphs(history, metric):\n",
        "  plt.plot(history.history[metric])\n",
        "  plt.plot(history.history[f'val_{metric}'])\n",
        "  plt.xlabel(\"Epochs\")\n",
        "  plt.ylabel(metric)\n",
        "  plt.legend([metric, f'val_{metric}'])\n",
        "  plt.show()"
      ],
      "metadata": {
        "id": "IOsullPuxsFg"
      },
      "execution_count": 101,
      "outputs": []
    },
    {
      "cell_type": "code",
      "source": [
        "def evaluate_model(x_test, y_test):\n",
        "  evaluation = model.evaluate(x_test, y_test)\n",
        "  print(\"Evaluation Loss:\", evaluation[0])\n",
        "  print(\"Evaluation Accuracy:\", evaluation[1])"
      ],
      "metadata": {
        "id": "xHw2qcF41BR8"
      },
      "execution_count": 102,
      "outputs": []
    },
    {
      "cell_type": "markdown",
      "source": [
        "Depression"
      ],
      "metadata": {
        "id": "33L9njyw5oKU"
      }
    },
    {
      "cell_type": "code",
      "source": [
        "x_train, x_test, y_train, y_test = split_data(x, y, 0.2, 42)"
      ],
      "metadata": {
        "id": "R-m6_-CQ4OnP"
      },
      "execution_count": 103,
      "outputs": []
    },
    {
      "cell_type": "code",
      "source": [
        "model = create_model()\n",
        "history = model.fit(x_train, y_train, epochs=10, batch_size=32, validation_data=(x_test, y_test))"
      ],
      "metadata": {
        "colab": {
          "base_uri": "https://localhost:8080/"
        },
        "id": "1hg_ngxx4agn",
        "outputId": "0f4b91ce-65ee-418f-948d-a58b0bdab9f6"
      },
      "execution_count": 104,
      "outputs": [
        {
          "output_type": "stream",
          "name": "stdout",
          "text": [
            "Model: \"sequential_7\"\n",
            "_________________________________________________________________\n",
            " Layer (type)                Output Shape              Param #   \n",
            "=================================================================\n",
            " dense_21 (Dense)            (None, 64)                960       \n",
            "                                                                 \n",
            " dense_22 (Dense)            (None, 10)                650       \n",
            "                                                                 \n",
            " dense_23 (Dense)            (None, 5)                 55        \n",
            "                                                                 \n",
            "=================================================================\n",
            "Total params: 1665 (6.50 KB)\n",
            "Trainable params: 1665 (6.50 KB)\n",
            "Non-trainable params: 0 (0.00 Byte)\n",
            "_________________________________________________________________\n",
            "Epoch 1/10\n",
            "168/168 [==============================] - 1s 3ms/step - loss: 1.1167 - accuracy: 0.5331 - val_loss: 0.8838 - val_accuracy: 0.6468\n",
            "Epoch 2/10\n",
            "168/168 [==============================] - 0s 2ms/step - loss: 0.7340 - accuracy: 0.7043 - val_loss: 0.5725 - val_accuracy: 0.7735\n",
            "Epoch 3/10\n",
            "168/168 [==============================] - 0s 2ms/step - loss: 0.4935 - accuracy: 0.8388 - val_loss: 0.4062 - val_accuracy: 0.8867\n",
            "Epoch 4/10\n",
            "168/168 [==============================] - 0s 3ms/step - loss: 0.3530 - accuracy: 0.9154 - val_loss: 0.3010 - val_accuracy: 0.9516\n",
            "Epoch 5/10\n",
            "168/168 [==============================] - 0s 2ms/step - loss: 0.2656 - accuracy: 0.9508 - val_loss: 0.2182 - val_accuracy: 0.9776\n",
            "Epoch 6/10\n",
            "168/168 [==============================] - 1s 5ms/step - loss: 0.2102 - accuracy: 0.9631 - val_loss: 0.1754 - val_accuracy: 0.9724\n",
            "Epoch 7/10\n",
            "168/168 [==============================] - 1s 5ms/step - loss: 0.1682 - accuracy: 0.9762 - val_loss: 0.1446 - val_accuracy: 0.9918\n",
            "Epoch 8/10\n",
            "168/168 [==============================] - 1s 5ms/step - loss: 0.1486 - accuracy: 0.9728 - val_loss: 0.1189 - val_accuracy: 0.9851\n",
            "Epoch 9/10\n",
            "168/168 [==============================] - 1s 6ms/step - loss: 0.1279 - accuracy: 0.9789 - val_loss: 0.1011 - val_accuracy: 0.9985\n",
            "Epoch 10/10\n",
            "168/168 [==============================] - 1s 3ms/step - loss: 0.1085 - accuracy: 0.9862 - val_loss: 0.0914 - val_accuracy: 0.9881\n"
          ]
        }
      ]
    },
    {
      "cell_type": "code",
      "source": [
        "plot_graphs(history, \"accuracy\")\n",
        "plot_graphs(history, \"loss\")"
      ],
      "metadata": {
        "colab": {
          "base_uri": "https://localhost:8080/",
          "height": 881
        },
        "id": "5DlUz10p5HqH",
        "outputId": "717a4106-8c3c-4ee5-aa77-93420667ffe4"
      },
      "execution_count": 105,
      "outputs": [
        {
          "output_type": "display_data",
          "data": {
            "text/plain": [
              "<Figure size 640x480 with 1 Axes>"
            ],
            "image/png": "[encoded data removed]"
          },
          "metadata": {}
        },
        {
          "output_type": "display_data",
          "data": {
            "text/plain": [
              "<Figure size 640x480 with 1 Axes>"
            ],
            "image/png": "[encoded data removed]"
          },
          "metadata": {}
        }
      ]
    },
    {
      "cell_type": "code",
      "source": [
        "evaluate_model(x_test, y_test)"
      ],
      "metadata": {
        "colab": {
          "base_uri": "https://localhost:8080/"
        },
        "id": "FcM6QmfL5SON",
        "outputId": "901dd3f4-a47b-4e43-e71c-05b311d24456"
      },
      "execution_count": 106,
      "outputs": [
        {
          "output_type": "stream",
          "name": "stdout",
          "text": [
            "42/42 [==============================] - 0s 2ms/step - loss: 0.0914 - accuracy: 0.9881\n",
            "Evaluation Loss: 0.09140941500663757\n",
            "Evaluation Accuracy: 0.9880775213241577\n"
          ]
        }
      ]
    },
    {
      "cell_type": "markdown",
      "source": [
        "-------------------"
      ],
      "metadata": {
        "id": "697IJyvy5gzp"
      }
    },
    {
      "cell_type": "markdown",
      "source": [
        "Anxiety"
      ],
      "metadata": {
        "id": "gI0UALHlJG2-"
      }
    },
    {
      "cell_type": "code",
      "source": [
        "data = pd.read_csv('/content/sample_data/anxiety_dataset.csv')\n",
        "x, y = x_y(data)\n",
        "x_train, x_test, y_train, y_test = split_data(x, y, 0.2, 42)\n",
        "model = create_model()\n",
        "history = model.fit(x_train, y_train, epochs=10, batch_size=32, validation_data=(x_test, y_test))\n",
        "plot_graphs(history, \"accuracy\")\n",
        "plot_graphs(history, \"loss\")"
      ],
      "metadata": {
        "colab": {
          "base_uri": "https://localhost:8080/",
          "height": 1000
        },
        "id": "p0nSHkN-JIfZ",
        "outputId": "47b57acf-44ec-480e-ff77-7c6523550dcc"
      },
      "execution_count": 107,
      "outputs": [
        {
          "output_type": "stream",
          "name": "stdout",
          "text": [
            "Model: \"sequential_8\"\n",
            "_________________________________________________________________\n",
            " Layer (type)                Output Shape              Param #   \n",
            "=================================================================\n",
            " dense_24 (Dense)            (None, 64)                960       \n",
            "                                                                 \n",
            " dense_25 (Dense)            (None, 10)                650       \n",
            "                                                                 \n",
            " dense_26 (Dense)            (None, 5)                 55        \n",
            "                                                                 \n",
            "=================================================================\n",
            "Total params: 1665 (6.50 KB)\n",
            "Trainable params: 1665 (6.50 KB)\n",
            "Non-trainable params: 0 (0.00 Byte)\n",
            "_________________________________________________________________\n",
            "Epoch 1/10\n",
            "995/995 [==============================] - 4s 3ms/step - loss: 0.5694 - accuracy: 0.8037 - val_loss: 0.1824 - val_accuracy: 0.9654\n",
            "Epoch 2/10\n",
            "995/995 [==============================] - 3s 3ms/step - loss: 0.1235 - accuracy: 0.9843 - val_loss: 0.0767 - val_accuracy: 0.9982\n",
            "Epoch 3/10\n",
            "995/995 [==============================] - 2s 2ms/step - loss: 0.0630 - accuracy: 0.9918 - val_loss: 0.0477 - val_accuracy: 0.9948\n",
            "Epoch 4/10\n",
            "995/995 [==============================] - 2s 2ms/step - loss: 0.0388 - accuracy: 0.9959 - val_loss: 0.0442 - val_accuracy: 0.9902\n",
            "Epoch 5/10\n",
            "995/995 [==============================] - 2s 2ms/step - loss: 0.0258 - accuracy: 0.9976 - val_loss: 0.0484 - val_accuracy: 0.9726\n",
            "Epoch 6/10\n",
            "995/995 [==============================] - 2s 2ms/step - loss: 0.0193 - accuracy: 0.9974 - val_loss: 0.0143 - val_accuracy: 0.9997\n",
            "Epoch 7/10\n",
            "995/995 [==============================] - 3s 3ms/step - loss: 0.0142 - accuracy: 0.9984 - val_loss: 0.0083 - val_accuracy: 1.0000\n",
            "Epoch 8/10\n",
            "995/995 [==============================] - 2s 2ms/step - loss: 0.0138 - accuracy: 0.9973 - val_loss: 0.0245 - val_accuracy: 0.9891\n",
            "Epoch 9/10\n",
            "995/995 [==============================] - 2s 2ms/step - loss: 0.0079 - accuracy: 0.9992 - val_loss: 0.0047 - val_accuracy: 1.0000\n",
            "Epoch 10/10\n",
            "995/995 [==============================] - 2s 3ms/step - loss: 0.0053 - accuracy: 0.9998 - val_loss: 0.0033 - val_accuracy: 1.0000\n"
          ]
        },
        {
          "output_type": "display_data",
          "data": {
            "text/plain": [
              "<Figure size 640x480 with 1 Axes>"
            ],
            "image/png": "[encoded data removed]"
          },
          "metadata": {}
        },
        {
          "output_type": "display_data",
          "data": {
            "text/plain": [
              "<Figure size 640x480 with 1 Axes>"
            ],
            "image/png": "[encoded data removed]"
          },
          "metadata": {}
        }
      ]
    },
    {
      "cell_type": "code",
      "source": [
        "evaluate_model(x_test, y_test)"
      ],
      "metadata": {
        "colab": {
          "base_uri": "https://localhost:8080/"
        },
        "id": "czBXOMX-DnK8",
        "outputId": "45b09e17-c427-435e-da0f-3ef6777ef09b"
      },
      "execution_count": 108,
      "outputs": [
        {
          "output_type": "stream",
          "name": "stdout",
          "text": [
            "249/249 [==============================] - 0s 2ms/step - loss: 0.0033 - accuracy: 1.0000\n",
            "Evaluation Loss: 0.0032705627381801605\n",
            "Evaluation Accuracy: 1.0\n"
          ]
        }
      ]
    },
    {
      "cell_type": "markdown",
      "source": [
        "Stress"
      ],
      "metadata": {
        "id": "D1B5S46bLETB"
      }
    },
    {
      "cell_type": "code",
      "source": [
        "data = pd.read_csv('/content/sample_data/stress_dataset.csv')\n",
        "x, y = x_y(data)\n",
        "x_train, x_test, y_train, y_test = split_data(x, y, 0.2, 42)\n",
        "model = create_model()\n",
        "history = model.fit(x_train, y_train, epochs=10, batch_size=32, validation_data=(x_test, y_test))\n",
        "plot_graphs(history, \"accuracy\")\n",
        "plot_graphs(history, \"loss\")"
      ],
      "metadata": {
        "colab": {
          "base_uri": "https://localhost:8080/",
          "height": 1000
        },
        "id": "a5TPegOLLBHa",
        "outputId": "91e1625d-acab-4f16-88f9-41e8fb371aa5"
      },
      "execution_count": 109,
      "outputs": [
        {
          "output_type": "stream",
          "name": "stdout",
          "text": [
            "Model: \"sequential_9\"\n",
            "_________________________________________________________________\n",
            " Layer (type)                Output Shape              Param #   \n",
            "=================================================================\n",
            " dense_27 (Dense)            (None, 64)                960       \n",
            "                                                                 \n",
            " dense_28 (Dense)            (None, 10)                650       \n",
            "                                                                 \n",
            " dense_29 (Dense)            (None, 5)                 55        \n",
            "                                                                 \n",
            "=================================================================\n",
            "Total params: 1665 (6.50 KB)\n",
            "Trainable params: 1665 (6.50 KB)\n",
            "Non-trainable params: 0 (0.00 Byte)\n",
            "_________________________________________________________________\n",
            "Epoch 1/10\n",
            "995/995 [==============================] - 3s 2ms/step - loss: 0.7629 - accuracy: 0.7317 - val_loss: 0.2598 - val_accuracy: 0.9761\n",
            "Epoch 2/10\n",
            "995/995 [==============================] - 2s 2ms/step - loss: 0.1891 - accuracy: 0.9656 - val_loss: 0.1621 - val_accuracy: 0.9309\n",
            "Epoch 3/10\n",
            "995/995 [==============================] - 3s 3ms/step - loss: 0.1124 - accuracy: 0.9815 - val_loss: 0.0837 - val_accuracy: 0.9967\n",
            "Epoch 4/10\n",
            "995/995 [==============================] - 3s 3ms/step - loss: 0.0828 - accuracy: 0.9843 - val_loss: 0.0615 - val_accuracy: 0.9991\n",
            "Epoch 5/10\n",
            "995/995 [==============================] - 2s 2ms/step - loss: 0.0638 - accuracy: 0.9897 - val_loss: 0.0566 - val_accuracy: 0.9922\n",
            "Epoch 6/10\n",
            "995/995 [==============================] - 2s 2ms/step - loss: 0.0528 - accuracy: 0.9902 - val_loss: 0.0852 - val_accuracy: 0.9702\n",
            "Epoch 7/10\n",
            "995/995 [==============================] - 2s 2ms/step - loss: 0.0463 - accuracy: 0.9897 - val_loss: 0.0367 - val_accuracy: 0.9935\n",
            "Epoch 8/10\n",
            "995/995 [==============================] - 2s 2ms/step - loss: 0.0356 - accuracy: 0.9955 - val_loss: 0.0271 - val_accuracy: 1.0000\n",
            "Epoch 9/10\n",
            "995/995 [==============================] - 3s 3ms/step - loss: 0.0375 - accuracy: 0.9909 - val_loss: 0.0225 - val_accuracy: 1.0000\n",
            "Epoch 10/10\n",
            "995/995 [==============================] - 2s 2ms/step - loss: 0.0301 - accuracy: 0.9942 - val_loss: 0.0228 - val_accuracy: 0.9997\n"
          ]
        },
        {
          "output_type": "display_data",
          "data": {
            "text/plain": [
              "<Figure size 640x480 with 1 Axes>"
            ],
            "image/png": "[encoded data removed]"
          },
          "metadata": {}
        },
        {
          "output_type": "display_data",
          "data": {
            "text/plain": [
              "<Figure size 640x480 with 1 Axes>"
            ],
            "image/png": "[encoded data removed]"
          },
          "metadata": {}
        }
      ]
    },
    {
      "cell_type": "code",
      "execution_count": 110,
      "metadata": {
        "colab": {
          "base_uri": "https://localhost:8080/"
        },
        "id": "1P0tt8wEnlaj",
        "outputId": "e13183a2-5f85-4866-b303-eb038d5b4af8"
      },
      "outputs": [
        {
          "output_type": "stream",
          "name": "stdout",
          "text": [
            "Epoch 1/10\n",
            "995/995 [==============================] - 2s 2ms/step - loss: 0.0313 - accuracy: 0.9917 - val_loss: 0.0203 - val_accuracy: 1.0000\n",
            "Epoch 2/10\n",
            "995/995 [==============================] - 2s 2ms/step - loss: 0.0211 - accuracy: 0.9976 - val_loss: 0.0165 - val_accuracy: 1.0000\n",
            "Epoch 3/10\n",
            "995/995 [==============================] - 2s 2ms/step - loss: 0.0243 - accuracy: 0.9945 - val_loss: 0.0214 - val_accuracy: 0.9953\n",
            "Epoch 4/10\n",
            "995/995 [==============================] - 3s 3ms/step - loss: 0.0183 - accuracy: 0.9974 - val_loss: 0.0234 - val_accuracy: 0.9952\n",
            "Epoch 5/10\n",
            "995/995 [==============================] - 3s 3ms/step - loss: 0.0258 - accuracy: 0.9926 - val_loss: 0.0131 - val_accuracy: 1.0000\n",
            "Epoch 6/10\n",
            "995/995 [==============================] - 2s 2ms/step - loss: 0.0192 - accuracy: 0.9954 - val_loss: 0.0093 - val_accuracy: 1.0000\n",
            "Epoch 7/10\n",
            "995/995 [==============================] - 2s 2ms/step - loss: 0.0148 - accuracy: 0.9976 - val_loss: 0.0278 - val_accuracy: 0.9902\n",
            "Epoch 8/10\n",
            "995/995 [==============================] - 2s 2ms/step - loss: 0.0173 - accuracy: 0.9958 - val_loss: 0.0109 - val_accuracy: 0.9999\n",
            "Epoch 9/10\n",
            "995/995 [==============================] - 3s 3ms/step - loss: 0.0225 - accuracy: 0.9938 - val_loss: 0.0086 - val_accuracy: 1.0000\n",
            "Epoch 10/10\n",
            "995/995 [==============================] - 3s 3ms/step - loss: 0.0135 - accuracy: 0.9975 - val_loss: 0.0060 - val_accuracy: 1.0000\n"
          ]
        }
      ],
      "source": [
        "history = model.fit(x_train, y_train, epochs=10, batch_size=32, validation_data=(x_test, y_test))"
      ]
    },
    {
      "cell_type": "code",
      "execution_count": 111,
      "metadata": {
        "id": "ItEe1X1DnldC",
        "colab": {
          "base_uri": "https://localhost:8080/"
        },
        "outputId": "b133c99d-1405-4ac1-f1f0-a4907cc22928"
      },
      "outputs": [
        {
          "output_type": "stream",
          "name": "stdout",
          "text": [
            "249/249 [==============================] - 0s 2ms/step - loss: 0.0060 - accuracy: 1.0000\n",
            "Evaluation Loss: 0.006026729941368103\n",
            "Evaluation Accuracy: 1.0\n"
          ]
        }
      ],
      "source": [
        "evaluation = model.evaluate(x_test, y_test)\n",
        "print(\"Evaluation Loss:\", evaluation[0])\n",
        "print(\"Evaluation Accuracy:\", evaluation[1])"
      ]
    },
    {
      "cell_type": "code",
      "execution_count": 112,
      "metadata": {
        "id": "M_JOB7YcnlfQ",
        "colab": {
          "base_uri": "https://localhost:8080/",
          "height": 472
        },
        "outputId": "912812ff-b411-4793-db48-54a4a184035c"
      },
      "outputs": [
        {
          "output_type": "display_data",
          "data": {
            "text/plain": [
              "<Figure size 640x480 with 1 Axes>"
            ],
            "image/png": "[encoded data removed]"
          },
          "metadata": {}
        }
      ],
      "source": [
        "# Plot training and validation accuracy\n",
        "plt.plot(history.history['accuracy'])\n",
        "plt.plot(history.history['val_accuracy'])\n",
        "plt.title('Model Accuracy')\n",
        "plt.xlabel('Epoch')\n",
        "plt.ylabel('Accuracy')\n",
        "plt.legend(['Train', 'Validation'], loc='upper left')\n",
        "plt.show()"
      ]
    },
    {
      "cell_type": "code",
      "execution_count": 118,
      "metadata": {
        "id": "wfqNpCsqnlhb",
        "colab": {
          "base_uri": "https://localhost:8080/",
          "height": 472
        },
        "outputId": "d6da4b0b-b889-41fb-8032-44f10e3dc387"
      },
      "outputs": [
        {
          "output_type": "display_data",
          "data": {
            "text/plain": [
              "<Figure size 640x480 with 1 Axes>"
            ],
            "image/png": "[encoded data removed]"
          },
          "metadata": {}
        }
      ],
      "source": [
        "# Plot training and validation loss\n",
        "plt.plot(history.history['loss'])\n",
        "plt.plot(history.history['val_loss'])\n",
        "plt.title('Model Loss')\n",
        "plt.xlabel('Loss')\n",
        "plt.ylabel('Epoch')\n",
        "plt.legend(['Train', 'Validation'], loc='upper left')\n",
        "plt.show()"
      ]
    },
    {
      "cell_type": "code",
      "source": [
        "saved_model_path = \"./model_01.h5\"\n",
        "\n",
        "# YOUR CODE HERE\n",
        "model.save(saved_model_path)"
      ],
      "metadata": {
        "id": "zwZPGXi6Ejg8"
      },
      "execution_count": 119,
      "outputs": []
    },
    {
      "cell_type": "markdown",
      "source": [
        "# Questionare"
      ],
      "metadata": {
        "id": "J2Vng7LHO_kJ"
      }
    },
    {
      "cell_type": "code",
      "source": [
        "def count_score(questions):\n",
        "  user_score = []\n",
        "  for q in questions:\n",
        "    print(q)\n",
        "    user_input = int(input(\"Masukkan range dari 0-3: \"))\n",
        "    user_score.append(user_input)\n",
        "  print(user_score)\n",
        "  return user_score"
      ],
      "metadata": {
        "id": "Tue4jpKt6zIP"
      },
      "execution_count": 116,
      "outputs": []
    },
    {
      "cell_type": "code",
      "source": [
        "def predict_level(score):\n",
        "  x = np.expand_dims(pd.DataFrame(score), axis=0)\n",
        "  prediction = model.predict(x)\n",
        "  index = np.argmax(prediction)\n",
        "  level = ' '\n",
        "  if index == 0:\n",
        "    level = 'Normal'\n",
        "  elif index == 1:\n",
        "    level = 'Mild'\n",
        "  elif index == 2:\n",
        "    level = 'Moderate'\n",
        "  elif index == 3:\n",
        "    level = 'Severe'\n",
        "  elif index == 4:\n",
        "    level = 'Extremely Severe'\n",
        "  return level\n"
      ],
      "metadata": {
        "id": "fiDByOAl_Cc-"
      },
      "execution_count": 60,
      "outputs": []
    },
    {
      "cell_type": "markdown",
      "source": [
        "Depression"
      ],
      "metadata": {
        "id": "4DBVl3fP200W"
      }
    },
    {
      "cell_type": "code",
      "source": [
        "q_depression = [\n",
        "    \"Sepertinya saya tidak merasakan perasaan positif sama sekali.\",\n",
        "    \"Sepertinya saya tidak bisa maju atau berubah.\",\n",
        "    \"Saya merasa tidak ada lagi yang bisa diharapkan.\",\n",
        "    \"Saya merasa sedih dan depresi.\",\n",
        "    \"Saya merasa kehilangan minat pada segala hal.\",\n",
        "    \"Saya merasa Saya tidak berharga sebagai manusia.\",\n",
        "    \"Saya merasa hidup ini tidak berguna.\",\n",
        "    \"Sepertinya saya tidak mendapatkan kesenangan apapun dari apa yang saya.\",\n",
        "    \"Saya merasa sedih.\",\n",
        "    \"Saya tidak bisa merasa antusias terhadap apa pun.\",\n",
        "    \"Saya merasa saya tidak berharga.\",\n",
        "    \"Saya tidak melihat adanya harapan di masa depan.\",\n",
        "    \"Saya merasa hidup ini tidak ada artinya.\",\n",
        "    \"Saya merasa sulit untuk meningkatkan inisiatif dalam melakukan sesuatu.\"\n",
        "]"
      ],
      "metadata": {
        "id": "OT8mWoVikDCh"
      },
      "execution_count": 61,
      "outputs": []
    },
    {
      "cell_type": "code",
      "source": [
        "s_depression = count_score(q_depression)\n",
        "# Menyimpan jawaban ke file CSV\n",
        "data.to_csv(\"jawabandepresi.csv\", index=False)"
      ],
      "metadata": {
        "colab": {
          "base_uri": "https://localhost:8080/"
        },
        "id": "_gG_NtkCvkz4",
        "outputId": "a81f18bb-5ef6-441b-d0a3-ad7fae069937"
      },
      "execution_count": 62,
      "outputs": [
        {
          "output_type": "stream",
          "name": "stdout",
          "text": [
            "Sepertinya saya tidak merasakan perasaan positif sama sekali.\n",
            "Masukkan range dari 0-3: 1\n",
            "Sepertinya saya tidak bisa maju atau berubah.\n",
            "Masukkan range dari 0-3: 1\n",
            "Saya merasa tidak ada lagi yang bisa diharapkan.\n",
            "Masukkan range dari 0-3: 1\n",
            "Saya merasa sedih dan depresi.\n",
            "Masukkan range dari 0-3: 2\n",
            "Saya merasa kehilangan minat pada segala hal.\n",
            "Masukkan range dari 0-3: 2\n",
            "Saya merasa Saya tidak berharga sebagai manusia.\n",
            "Masukkan range dari 0-3: 2\n",
            "Saya merasa hidup ini tidak berguna.\n",
            "Masukkan range dari 0-3: 2\n",
            "Sepertinya saya tidak mendapatkan kesenangan apapun dari apa yang saya.\n",
            "Masukkan range dari 0-3: 3\n",
            "Saya merasa sedih.\n",
            "Masukkan range dari 0-3: 3\n",
            "Saya tidak bisa merasa antusias terhadap apa pun.\n",
            "Masukkan range dari 0-3: 3\n",
            "Saya merasa saya tidak berharga.\n",
            "Masukkan range dari 0-3: 3\n",
            "Saya tidak melihat adanya harapan di masa depan.\n",
            "Masukkan range dari 0-3: 3\n",
            "Saya merasa hidup ini tidak ada artinya.\n",
            "Masukkan range dari 0-3: 3\n",
            "Saya merasa sulit untuk meningkatkan inisiatif dalam melakukan sesuatu.\n",
            "Masukkan range dari 0-3: 2\n",
            "[1, 1, 1, 2, 2, 2, 2, 3, 3, 3, 3, 3, 3, 2]\n"
          ]
        }
      ]
    },
    {
      "cell_type": "code",
      "source": [
        "predict_level(s_depression)\n"
      ],
      "metadata": {
        "colab": {
          "base_uri": "https://localhost:8080/",
          "height": 52
        },
        "id": "WPeyXAZ6p9wv",
        "outputId": "d4b0cfb8-9fac-4a10-96a9-c4aae8d7f35f"
      },
      "execution_count": 63,
      "outputs": [
        {
          "output_type": "stream",
          "name": "stdout",
          "text": [
            "1/1 [==============================] - 0s 87ms/step\n"
          ]
        },
        {
          "output_type": "execute_result",
          "data": {
            "text/plain": [
              "'Severe'"
            ],
            "application/vnd.google.colaboratory.intrinsic+json": {
              "type": "string"
            }
          },
          "metadata": {},
          "execution_count": 63
        }
      ]
    },
    {
      "cell_type": "markdown",
      "source": [
        "Anxiety"
      ],
      "metadata": {
        "id": "rlToy3Wa2xIg"
      }
    },
    {
      "cell_type": "code",
      "source": [
        "q_anxiety = [\n",
        "    \"Saya merasa mulut saya kering.\",\n",
        "    \"Saya mengalami kesulitan bernapas (misalnya napas terlalu cepat dan sesak napas tanpa adanya aktivitas fisik).\",\n",
        "    \"Saya merasa gemetar (misalnya kaki terasa lemas).\",\n",
        "    \"Saya menemukan diri saya dalam situasi yang membuat saya sangat cemas. Saya merasa sangat lega ketika itu berakhir.\",\n",
        "    \"Saya merasa akan pingsan.\",\n",
        "    \"Saya berkeringat banyak (misalnya tangan berkeringat) tanpa adanya suhu tinggi atau aktivitas fisik.\",\n",
        "    \"Saya merasa takut tanpa alasan yang jelas.\",\n",
        "    \"Saya kesulitan menelan.\",\n",
        "    \"Saya menyadari tindakan jantung saya ketika tidak ada aktivitas fisik (misalnya rasa detak jantung meningkat).\",\n",
        "    \"Saya merasa hampir panik.\",\n",
        "    \"Saya takut kalau saya akan diberikan tanggung jawab beberapa tugas sepele tapi asing.\",\n",
        "    \"Saya merasa takut.\",\n",
        "    \"Saya khawatir dengan situasi dimana saya mungkin panik dan mempermalukan diri sendiri.\",\n",
        "    \"Saya mengalami gemetar (misalnya di tangan).\"\n",
        "]"
      ],
      "metadata": {
        "id": "LJBM6eK-23wY"
      },
      "execution_count": 64,
      "outputs": []
    },
    {
      "cell_type": "code",
      "source": [
        "s_anxiety = count_score(q_anxiety)\n",
        "# Menyimpan jawaban ke file CSV\n",
        "data.to_csv(\"jawabanAnxiety.csv\", index=False)"
      ],
      "metadata": {
        "colab": {
          "base_uri": "https://localhost:8080/"
        },
        "id": "mKuCt7zCEMEX",
        "outputId": "85d9da75-5f7b-4151-989c-84e787fba27d"
      },
      "execution_count": 66,
      "outputs": [
        {
          "output_type": "stream",
          "name": "stdout",
          "text": [
            "Saya merasa mulut saya kering.\n",
            "Masukkan range dari 0-3: 1\n",
            "Saya mengalami kesulitan bernapas (misalnya napas terlalu cepat dan sesak napas tanpa adanya aktivitas fisik).\n",
            "Masukkan range dari 0-3: 2\n",
            "Saya merasa gemetar (misalnya kaki terasa lemas).\n",
            "Masukkan range dari 0-3: 2\n",
            "Saya menemukan diri saya dalam situasi yang membuat saya sangat cemas. Saya merasa sangat lega ketika itu berakhir.\n",
            "Masukkan range dari 0-3: 3\n",
            "Saya merasa akan pingsan.\n",
            "Masukkan range dari 0-3: 1\n",
            "Saya berkeringat banyak (misalnya tangan berkeringat) tanpa adanya suhu tinggi atau aktivitas fisik.\n",
            "Masukkan range dari 0-3: 1\n",
            "Saya merasa takut tanpa alasan yang jelas.\n",
            "Masukkan range dari 0-3: 1\n",
            "Saya kesulitan menelan.\n",
            "Masukkan range dari 0-3: 2\n",
            "Saya menyadari tindakan jantung saya ketika tidak ada aktivitas fisik (misalnya rasa detak jantung meningkat).\n",
            "Masukkan range dari 0-3: 2\n",
            "Saya merasa hampir panik.\n",
            "Masukkan range dari 0-3: 1\n",
            "Saya takut kalau saya akan diberikan tanggung jawab beberapa tugas sepele tapi asing.\n",
            "Masukkan range dari 0-3: 2\n",
            "Saya merasa takut.\n",
            "Masukkan range dari 0-3: 3\n",
            "Saya khawatir dengan situasi dimana saya mungkin panik dan mempermalukan diri sendiri.\n",
            "Masukkan range dari 0-3: 2\n",
            "Saya mengalami gemetar (misalnya di tangan).\n",
            "Masukkan range dari 0-3: 1\n",
            "[1, 2, 2, 3, 1, 1, 1, 2, 2, 1, 2, 3, 2, 1]\n"
          ]
        }
      ]
    },
    {
      "cell_type": "code",
      "source": [
        "predict_level(s_anxiety)"
      ],
      "metadata": {
        "colab": {
          "base_uri": "https://localhost:8080/",
          "height": 52
        },
        "id": "R9z07EkQF39O",
        "outputId": "10c6a379-5362-47bf-9de0-130b35686193"
      },
      "execution_count": 67,
      "outputs": [
        {
          "output_type": "stream",
          "name": "stdout",
          "text": [
            "1/1 [==============================] - 0s 20ms/step\n"
          ]
        },
        {
          "output_type": "execute_result",
          "data": {
            "text/plain": [
              "'Moderate'"
            ],
            "application/vnd.google.colaboratory.intrinsic+json": {
              "type": "string"
            }
          },
          "metadata": {},
          "execution_count": 67
        }
      ]
    },
    {
      "cell_type": "markdown",
      "source": [
        "Stress"
      ],
      "metadata": {
        "id": "FoHlMExA5Rld"
      }
    },
    {
      "cell_type": "code",
      "source": [
        "q_stress = [\n",
        "    \"Saya merasa kesal karena hal-hal sepele.\",\n",
        "    \"Saya cenderung bereaksi berlebihan terhadap situasi.\",\n",
        "    \"Saya merasa sulit untuk rileks.\",\n",
        "    \"Saya merasa mudah marah.\",\n",
        "    \"Saya merasa Saya menggunakan banyak energi gugup.\",\n",
        "    \"Saya menjadi tidak sabar ketika saya mengalami keterlambatan dalam hal apa pun (misalnya lift dan lampu lalu lintas yang terlalu lama).\",\n",
        "    \"Saya merasa agak sensitif.\",\n",
        "    \"Saya merasa sulit untuk bersantai.\",\n",
        "    \"Saya merasa sangat mudah tersinggung.\",\n",
        "    \"Saya merasa sulit untuk tenang setelah ada sesuatu yang membuat saya kesal.\",\n",
        "    \"Saya merasa sulit menoleransi interupsi terhadap apa yang sedang saya lakukan.\",\n",
        "    \"Saya berada dalam keadaan tegang.\",\n",
        "    \"Saya tidak toleran terhadap apa pun yang menghalangi saya untuk melanjutkan pekerjaan saya.\",\n",
        "    \"Saya merasa gelisah.\"\n",
        "]"
      ],
      "metadata": {
        "id": "1gao32vF5TcR"
      },
      "execution_count": 68,
      "outputs": []
    },
    {
      "cell_type": "code",
      "source": [
        "stress_score = count_score(q_stress)\n",
        "print(stress_score)\n",
        "# Menyimpan jawaban ke file CSV\n",
        "data.to_csv(\"jawabastress.csv\", index=False)"
      ],
      "metadata": {
        "colab": {
          "base_uri": "https://localhost:8080/"
        },
        "id": "0Ttv_tppOhO4",
        "outputId": "d5022a69-d79c-47cd-e248-b18be74d3e5c"
      },
      "execution_count": 69,
      "outputs": [
        {
          "output_type": "stream",
          "name": "stdout",
          "text": [
            "Saya merasa kesal karena hal-hal sepele.\n",
            "Masukkan range dari 0-3: 1\n",
            "Saya cenderung bereaksi berlebihan terhadap situasi.\n",
            "Masukkan range dari 0-3: 2\n",
            "Saya merasa sulit untuk rileks.\n",
            "Masukkan range dari 0-3: 2\n",
            "Saya merasa mudah marah.\n",
            "Masukkan range dari 0-3: 3\n",
            "Saya merasa Saya menggunakan banyak energi gugup.\n",
            "Masukkan range dari 0-3: 2\n",
            "Saya menjadi tidak sabar ketika saya mengalami keterlambatan dalam hal apa pun (misalnya lift dan lampu lalu lintas yang terlalu lama).\n",
            "Masukkan range dari 0-3: 1\n",
            "Saya merasa agak sensitif.\n",
            "Masukkan range dari 0-3: 2\n",
            "Saya merasa sulit untuk bersantai.\n",
            "Masukkan range dari 0-3: 3\n",
            "Saya merasa sangat mudah tersinggung.\n",
            "Masukkan range dari 0-3: 2\n",
            "Saya merasa sulit untuk tenang setelah ada sesuatu yang membuat saya kesal.\n",
            "Masukkan range dari 0-3: 1\n",
            "Saya merasa sulit menoleransi interupsi terhadap apa yang sedang saya lakukan.\n",
            "Masukkan range dari 0-3: 2\n",
            "Saya berada dalam keadaan tegang.\n",
            "Masukkan range dari 0-3: 3\n",
            "Saya tidak toleran terhadap apa pun yang menghalangi saya untuk melanjutkan pekerjaan saya.\n",
            "Masukkan range dari 0-3: 2\n",
            "Saya merasa gelisah.\n",
            "Masukkan range dari 0-3: 1\n",
            "[1, 2, 2, 3, 2, 1, 2, 3, 2, 1, 2, 3, 2, 1]\n",
            "[1, 2, 2, 3, 2, 1, 2, 3, 2, 1, 2, 3, 2, 1]\n"
          ]
        }
      ]
    },
    {
      "cell_type": "code",
      "source": [
        "predict_level(stress_score)"
      ],
      "metadata": {
        "colab": {
          "base_uri": "https://localhost:8080/",
          "height": 52
        },
        "id": "46ZBmuLwO3mp",
        "outputId": "3c041a1b-4db1-4535-e93e-3463bb959d0c"
      },
      "execution_count": 70,
      "outputs": [
        {
          "output_type": "stream",
          "name": "stdout",
          "text": [
            "1/1 [==============================] - 0s 20ms/step\n"
          ]
        },
        {
          "output_type": "execute_result",
          "data": {
            "text/plain": [
              "'Severe'"
            ],
            "application/vnd.google.colaboratory.intrinsic+json": {
              "type": "string"
            }
          },
          "metadata": {},
          "execution_count": 70
        }
      ]
    },
    {
      "cell_type": "code",
      "source": [
        "from tensorflow.python.saved_model.save import save\n",
        "save_dir = os.path.join(saved_model_path,'/content/TFjs/model_02.h5')\n",
        "\n",
        "model.save(save_dir)"
      ],
      "metadata": {
        "id": "2SAbPBQALISv",
        "colab": {
          "base_uri": "https://localhost:8080/"
        },
        "outputId": "3fb12254-10a3-42a2-e3ec-848d9659d22f"
      },
      "execution_count": 151,
      "outputs": [
        {
          "output_type": "stream",
          "name": "stderr",
          "text": [
            "/usr/local/lib/python3.10/dist-packages/keras/src/engine/training.py:3103: UserWarning: You are saving your model as an HDF5 file via `model.save()`. This file format is considered legacy. We recommend using instead the native Keras format, e.g. `model.save('my_model.keras')`.\n",
            "  saving_api.save_model(\n"
          ]
        }
      ]
    },
    {
      "cell_type": "code",
      "source": [
        "!rm *.bin model.json submission.zip\n",
        "\n",
        "!tensorflowjs_converter --input_format=keras {save_dir} ./"
      ],
      "metadata": {
        "colab": {
          "base_uri": "https://localhost:8080/"
        },
        "id": "RItwaxNt2gRm",
        "outputId": "dc05ef8f-a6dd-4932-8823-ac61dd7ef6ea"
      },
      "execution_count": 152,
      "outputs": [
        {
          "output_type": "stream",
          "name": "stdout",
          "text": [
            "rm: cannot remove 'model.json': No such file or directory\n",
            "rm: cannot remove 'submission.zip': No such file or directory\n",
            "2023-12-17 08:50:07.548620: E external/local_xla/xla/stream_executor/cuda/cuda_dnn.cc:9261] Unable to register cuDNN factory: Attempting to register factory for plugin cuDNN when one has already been registered\n",
            "2023-12-17 08:50:07.548689: E external/local_xla/xla/stream_executor/cuda/cuda_fft.cc:607] Unable to register cuFFT factory: Attempting to register factory for plugin cuFFT when one has already been registered\n",
            "2023-12-17 08:50:07.550072: E external/local_xla/xla/stream_executor/cuda/cuda_blas.cc:1515] Unable to register cuBLAS factory: Attempting to register factory for plugin cuBLAS when one has already been registered\n",
            "2023-12-17 08:50:08.841700: W tensorflow/compiler/tf2tensorrt/utils/py_utils.cc:38] TF-TRT Warning: Could not find TensorRT\n"
          ]
        }
      ]
    },
    {
      "cell_type": "code",
      "source": [
        "!zip Prediksi.zip *.bin model.json"
      ],
      "metadata": {
        "colab": {
          "base_uri": "https://localhost:8080/"
        },
        "id": "D0ONkWADyGkV",
        "outputId": "7955442a-61e9-4224-93df-b9a8e1c42940"
      },
      "execution_count": 153,
      "outputs": [
        {
          "output_type": "stream",
          "name": "stdout",
          "text": [
            "  adding: group1-shard1of1.bin (deflated 7%)\n",
            "  adding: model.json (deflated 75%)\n"
          ]
        }
      ]
    },
    {
      "cell_type": "markdown",
      "source": [
        "--------"
      ],
      "metadata": {
        "id": "CKvqvsTy55Pg"
      }
    }
  ],
  "metadata": {
    "colab": {
      "provenance": []
    },
    "kernelspec": {
      "display_name": "Python 3",
      "name": "python3"
    },
    "language_info": {
      "name": "python"
    }
  },
  "nbformat": 4,
  "nbformat_minor": 0
}